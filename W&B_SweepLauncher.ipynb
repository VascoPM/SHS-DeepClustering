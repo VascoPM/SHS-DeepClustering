{
 "cells": [
  {
   "cell_type": "markdown",
   "id": "799e2b5a-775a-49d6-98af-53d20db4394f",
   "metadata": {},
   "source": [
    "# W&B Sweep Launcher\n",
    "### $Time$ $Series$ $4th$ $Test$\n",
    "\n",
    "$Vasco$ $Mergulhão$ $-$ $March$ $2023$\n",
    "\n",
    "### Version 1:\n",
    " - Applies Weights and Biases Sweeps on Full Sample (i.e., 90k per country).\n",
    " - Imports Custom Functions and Networks\n"
   ]
  },
  {
   "cell_type": "markdown",
   "id": "6f1205a3-bfeb-40f8-9106-b3598695acb6",
   "metadata": {},
   "source": [
    "---\n",
    "# Python Libraries & Custom Functions"
   ]
  },
  {
   "cell_type": "code",
   "execution_count": 1,
   "id": "9120b3d3-e71e-453e-93f4-a9c381aa9acb",
   "metadata": {},
   "outputs": [],
   "source": [
    "# Library scripts\n",
    "from networks import ann_train, fc_n2d, cnn_AE, cnn_ConvEmb, lstm_ae\n",
    "import Transform"
   ]
  },
  {
   "cell_type": "code",
   "execution_count": 2,
   "id": "f50a0cab-db27-40d4-be64-2087fe36b97b",
   "metadata": {},
   "outputs": [],
   "source": [
    "# Standard Libraries\n",
    "import pandas as pd\n",
    "import numpy as np\n",
    "import random\n",
    "import tensorflow as tf\n",
    "from tensorflow import keras\n",
    "from sklearn.model_selection import GroupShuffleSplit\n",
    "import wandb\n",
    "from wandb.keras import WandbCallback"
   ]
  },
  {
   "cell_type": "code",
   "execution_count": 3,
   "id": "9a5dd1e3-056c-4512-acfb-3ce3c13b1e04",
   "metadata": {},
   "outputs": [],
   "source": [
    "# Fixing random seeds to ensure the reproducibility \n",
    "seed = 42\n",
    "tf.random.set_seed(seed)\n",
    "np.random.seed(seed)\n",
    "random.seed(seed)"
   ]
  },
  {
   "cell_type": "markdown",
   "id": "41ea8c2c-b200-4b58-bff9-938f6724c9d8",
   "metadata": {},
   "source": [
    "---\n",
    "# Gradient Checks"
   ]
  },
  {
   "cell_type": "code",
   "execution_count": 4,
   "id": "558484cf-c998-4dbf-8c51-e92e013b67d4",
   "metadata": {},
   "outputs": [
    {
     "name": "stdout",
     "output_type": "stream",
     "text": [
      "No GPUs. On local Machine.\n"
     ]
    }
   ],
   "source": [
    "on_gradient = False\n",
    "# enable memory growth for gpu devices\n",
    "# source: https://stackoverflow.com/a/55541385/8849692\n",
    "gpu_devices = tf.config.experimental.list_physical_devices('GPU')\n",
    "if gpu_devices:\n",
    "    on_gradient = True\n",
    "    for device in gpu_devices:\n",
    "        tf.config.experimental.set_memory_growth(device, True)\n",
    "\n",
    "if on_gradient:\n",
    "    print(\"Num GPUs Available: \", len(tf.config.list_physical_devices('GPU')))\n",
    "    gradient_mountedfiles = ! ls /datasets/s3_bucket #!ls /datasets/kenya-90k-set-1-w90\n",
    "    print(f'Datasets mounted: {gradient_mountedfiles}')\n",
    "else:\n",
    "    print('No GPUs. On local Machine.')\n"
   ]
  },
  {
   "cell_type": "markdown",
   "id": "c6c19390-b3cd-49c5-82dc-b0618be84be2",
   "metadata": {},
   "source": [
    "---\n",
    "# Script Variables"
   ]
  },
  {
   "cell_type": "code",
   "execution_count": 5,
   "id": "b3e07d23-de4a-4f84-8ce5-fcad4e8db1b3",
   "metadata": {},
   "outputs": [],
   "source": [
    "# Defines Dataset for the Sweep\n",
    "dataset_name = 'Kenya_90k_Set_1_w90_pW'\n",
    "# Model Name\n",
    "AE_Model = fc_n2d # Define Model Here\n",
    "# Latent Layer Size\n",
    "latent_layer_size = 25\n",
    "# Number of Sweeps\n",
    "sweep_count = 5"
   ]
  },
  {
   "cell_type": "code",
   "execution_count": 6,
   "id": "6331cad2-e8d7-4beb-878f-d5843aa13123",
   "metadata": {},
   "outputs": [],
   "source": [
    "# First dependables from Script Variables\n",
    "\n",
    "# File name and navigation vars\n",
    "window_cols, window_len = Transform.retrive_window_col_names(dataset_name)\n",
    "if on_gradient == False:\n",
    "    # Uses name to navigate folders\n",
    "    dataset_folder = \"_\".join(dataset_name.split('_')[:-2]) \n",
    "    dataset_location = f'../Data_Storage_Processing/Data/{dataset_folder}/{dataset_name}.csv'\n",
    "    \n",
    "if  on_gradient == True:\n",
    "    dataset_location = f'/datasets/s3_bucket/{dataset_name}.csv'# f'/datasets/kenya-90k-set-1-w90/{dataset_name}.csv'\n",
    "\n",
    "# Model Name and Variables\n",
    "ae_model = AE_Model.model()\n",
    "AE_Model_Name = ae_model.name \n",
    "\n",
    "# Sweep Names and Configurations\n",
    "scaler_dict = {'Orig':'OriginalScale',\n",
    "               'pW':'pWindow',\n",
    "               'G':'Gobal'}\n",
    "dataset_name_base = \"_\".join(dataset_name.split('_')[:-1])\n",
    "scaler_used = dataset_name.split('_')[-1]\n",
    "\n",
    "Project_Name = f'DeepClust--{dataset_name_base}--{scaler_dict[scaler_used]}'\n",
    "Sweep_Config = f'{AE_Model_Name}_sweepconfig'\n"
   ]
  },
  {
   "cell_type": "code",
   "execution_count": 7,
   "id": "403886e9-3f3d-4a87-9389-fc23f24fa10b",
   "metadata": {},
   "outputs": [
    {
     "data": {
      "text/plain": [
       "'FC_N2D_sweepconfig'"
      ]
     },
     "execution_count": 7,
     "metadata": {},
     "output_type": "execute_result"
    }
   ],
   "source": [
    "Sweep_Config"
   ]
  },
  {
   "cell_type": "code",
   "execution_count": 8,
   "id": "2ab6295e-6a69-4481-95d8-b3b12459df3c",
   "metadata": {},
   "outputs": [],
   "source": [
    "sweep_config = AE_Model.sweep_config(name=Sweep_Config, window_len=window_len, latent_layer_size=latent_layer_size)\n",
    "ann_network = AE_Model.model(window_length = window_len, latent_layer_size = latent_layer_size)"
   ]
  },
  {
   "cell_type": "code",
   "execution_count": 9,
   "id": "54c5fda8-275e-4cf8-8c69-c1dd506e093c",
   "metadata": {},
   "outputs": [
    {
     "data": {
      "text/plain": [
       "{'method': 'random',\n",
       " 'name': 'FC_N2D_sweepconfig',\n",
       " 'metric': {'name': 'mse', 'goal': 'minimize'},\n",
       " 'parameters': {'optimizer': {'values': ['nadam']},\n",
       "  'latent_layer_size': {'value': 25},\n",
       "  'epochs': {'value': 100},\n",
       "  'window_length': {'value': 90},\n",
       "  'activation_fn': {'values': ['LeakyReLU']},\n",
       "  'learning_rate': {'distribution': 'log_uniform_values',\n",
       "   'min': 1e-05,\n",
       "   'max': 0.0001},\n",
       "  'batch_size': {'distribution': 'q_log_uniform_values',\n",
       "   'q': 2,\n",
       "   'min': 100,\n",
       "   'max': 300}}}"
      ]
     },
     "execution_count": 9,
     "metadata": {},
     "output_type": "execute_result"
    }
   ],
   "source": [
    "sweep_config"
   ]
  },
  {
   "cell_type": "code",
   "execution_count": 10,
   "id": "6c4a796f-f218-4158-8bc6-6c4ebb90fccb",
   "metadata": {},
   "outputs": [
    {
     "name": "stdout",
     "output_type": "stream",
     "text": [
      "Model: \"FC_N2D\"\n",
      "_________________________________________________________________\n",
      " Layer (type)                Output Shape              Param #   \n",
      "=================================================================\n",
      " Input (InputLayer)          [(None, 90)]              0         \n",
      "                                                                 \n",
      " l1_enc (Dense)              (None, 500)               45500     \n",
      "                                                                 \n",
      " l2_enc (Dense)              (None, 500)               250500    \n",
      "                                                                 \n",
      " l3_enc (Dense)              (None, 2000)              1002000   \n",
      "                                                                 \n",
      " Lantent_Space (Dense)       (None, 25)                50025     \n",
      "                                                                 \n",
      " l1_dec (Dense)              (None, 2000)              52000     \n",
      "                                                                 \n",
      " l2_dec (Dense)              (None, 500)               1000500   \n",
      "                                                                 \n",
      " l3_dec (Dense)              (None, 500)               250500    \n",
      "                                                                 \n",
      " Output (Dense)              (None, 90)                45090     \n",
      "                                                                 \n",
      "=================================================================\n",
      "Total params: 2,696,115\n",
      "Trainable params: 2,696,115\n",
      "Non-trainable params: 0\n",
      "_________________________________________________________________\n"
     ]
    }
   ],
   "source": [
    "ann_network.summary()"
   ]
  },
  {
   "cell_type": "markdown",
   "id": "7ca547fe-2021-407d-8320-d9ec73a568f4",
   "metadata": {},
   "source": [
    "---\n",
    "# Data Imports"
   ]
  },
  {
   "cell_type": "code",
   "execution_count": 11,
   "id": "e4d676bb-96d7-4a9f-aeaf-ef9075048f1a",
   "metadata": {},
   "outputs": [],
   "source": [
    "Data = pd.read_csv(dataset_location)"
   ]
  },
  {
   "cell_type": "code",
   "execution_count": 12,
   "id": "c2e44bea-432d-4334-8680-51ad57b071d3",
   "metadata": {},
   "outputs": [
    {
     "data": {
      "text/html": [
       "<div>\n",
       "<style scoped>\n",
       "    .dataframe tbody tr th:only-of-type {\n",
       "        vertical-align: middle;\n",
       "    }\n",
       "\n",
       "    .dataframe tbody tr th {\n",
       "        vertical-align: top;\n",
       "    }\n",
       "\n",
       "    .dataframe thead th {\n",
       "        text-align: right;\n",
       "    }\n",
       "</style>\n",
       "<table border=\"1\" class=\"dataframe\">\n",
       "  <thead>\n",
       "    <tr style=\"text-align: right;\">\n",
       "      <th></th>\n",
       "      <th>short_ID</th>\n",
       "      <th>window_ID</th>\n",
       "      <th>window_start_date</th>\n",
       "      <th>d1</th>\n",
       "      <th>d2</th>\n",
       "      <th>d3</th>\n",
       "      <th>d4</th>\n",
       "      <th>d5</th>\n",
       "      <th>d6</th>\n",
       "      <th>d7</th>\n",
       "      <th>...</th>\n",
       "      <th>d81</th>\n",
       "      <th>d82</th>\n",
       "      <th>d83</th>\n",
       "      <th>d84</th>\n",
       "      <th>d85</th>\n",
       "      <th>d86</th>\n",
       "      <th>d87</th>\n",
       "      <th>d88</th>\n",
       "      <th>d89</th>\n",
       "      <th>d90</th>\n",
       "    </tr>\n",
       "  </thead>\n",
       "  <tbody>\n",
       "    <tr>\n",
       "      <th>0</th>\n",
       "      <td>127</td>\n",
       "      <td>0</td>\n",
       "      <td>2018-01-20</td>\n",
       "      <td>0.543805</td>\n",
       "      <td>0.503693</td>\n",
       "      <td>0.463580</td>\n",
       "      <td>0.423467</td>\n",
       "      <td>0.383355</td>\n",
       "      <td>0.343242</td>\n",
       "      <td>0.303129</td>\n",
       "      <td>...</td>\n",
       "      <td>0.906409</td>\n",
       "      <td>0.904819</td>\n",
       "      <td>0.864707</td>\n",
       "      <td>0.786444</td>\n",
       "      <td>0.784481</td>\n",
       "      <td>0.706456</td>\n",
       "      <td>0.666459</td>\n",
       "      <td>0.626384</td>\n",
       "      <td>0.586360</td>\n",
       "      <td>0.583918</td>\n",
       "    </tr>\n",
       "    <tr>\n",
       "      <th>1</th>\n",
       "      <td>127</td>\n",
       "      <td>1</td>\n",
       "      <td>2018-04-20</td>\n",
       "      <td>0.525359</td>\n",
       "      <td>0.522565</td>\n",
       "      <td>0.480950</td>\n",
       "      <td>0.439334</td>\n",
       "      <td>0.397718</td>\n",
       "      <td>0.317612</td>\n",
       "      <td>0.314487</td>\n",
       "      <td>...</td>\n",
       "      <td>1.019053</td>\n",
       "      <td>0.977438</td>\n",
       "      <td>0.935822</td>\n",
       "      <td>0.894206</td>\n",
       "      <td>0.852591</td>\n",
       "      <td>0.810975</td>\n",
       "      <td>0.769359</td>\n",
       "      <td>0.727744</td>\n",
       "      <td>0.686128</td>\n",
       "      <td>0.644512</td>\n",
       "    </tr>\n",
       "    <tr>\n",
       "      <th>2</th>\n",
       "      <td>127</td>\n",
       "      <td>2</td>\n",
       "      <td>2018-07-19</td>\n",
       "      <td>0.651208</td>\n",
       "      <td>0.606258</td>\n",
       "      <td>0.561307</td>\n",
       "      <td>0.516357</td>\n",
       "      <td>0.471407</td>\n",
       "      <td>0.426456</td>\n",
       "      <td>0.381506</td>\n",
       "      <td>...</td>\n",
       "      <td>1.013146</td>\n",
       "      <td>0.968196</td>\n",
       "      <td>0.923246</td>\n",
       "      <td>0.878295</td>\n",
       "      <td>0.833345</td>\n",
       "      <td>0.788395</td>\n",
       "      <td>0.743444</td>\n",
       "      <td>0.698494</td>\n",
       "      <td>0.653543</td>\n",
       "      <td>0.608593</td>\n",
       "    </tr>\n",
       "    <tr>\n",
       "      <th>3</th>\n",
       "      <td>127</td>\n",
       "      <td>3</td>\n",
       "      <td>2018-10-17</td>\n",
       "      <td>0.594276</td>\n",
       "      <td>0.546883</td>\n",
       "      <td>0.499489</td>\n",
       "      <td>0.452096</td>\n",
       "      <td>0.404703</td>\n",
       "      <td>0.357309</td>\n",
       "      <td>0.309916</td>\n",
       "      <td>...</td>\n",
       "      <td>0.499489</td>\n",
       "      <td>0.452096</td>\n",
       "      <td>0.404703</td>\n",
       "      <td>0.357309</td>\n",
       "      <td>0.309916</td>\n",
       "      <td>0.262522</td>\n",
       "      <td>0.215129</td>\n",
       "      <td>0.167736</td>\n",
       "      <td>0.120342</td>\n",
       "      <td>0.072949</td>\n",
       "    </tr>\n",
       "    <tr>\n",
       "      <th>4</th>\n",
       "      <td>127</td>\n",
       "      <td>4</td>\n",
       "      <td>2019-01-15</td>\n",
       "      <td>0.953922</td>\n",
       "      <td>0.853922</td>\n",
       "      <td>0.753922</td>\n",
       "      <td>0.653922</td>\n",
       "      <td>0.553922</td>\n",
       "      <td>0.453922</td>\n",
       "      <td>0.353922</td>\n",
       "      <td>...</td>\n",
       "      <td>0.453922</td>\n",
       "      <td>0.353922</td>\n",
       "      <td>0.253922</td>\n",
       "      <td>0.153922</td>\n",
       "      <td>0.753922</td>\n",
       "      <td>0.653922</td>\n",
       "      <td>0.553922</td>\n",
       "      <td>0.453922</td>\n",
       "      <td>0.353922</td>\n",
       "      <td>2.000000</td>\n",
       "    </tr>\n",
       "  </tbody>\n",
       "</table>\n",
       "<p>5 rows × 93 columns</p>\n",
       "</div>"
      ],
      "text/plain": [
       "   short_ID  window_ID window_start_date        d1        d2        d3  \\\n",
       "0       127          0        2018-01-20  0.543805  0.503693  0.463580   \n",
       "1       127          1        2018-04-20  0.525359  0.522565  0.480950   \n",
       "2       127          2        2018-07-19  0.651208  0.606258  0.561307   \n",
       "3       127          3        2018-10-17  0.594276  0.546883  0.499489   \n",
       "4       127          4        2019-01-15  0.953922  0.853922  0.753922   \n",
       "\n",
       "         d4        d5        d6        d7  ...       d81       d82       d83  \\\n",
       "0  0.423467  0.383355  0.343242  0.303129  ...  0.906409  0.904819  0.864707   \n",
       "1  0.439334  0.397718  0.317612  0.314487  ...  1.019053  0.977438  0.935822   \n",
       "2  0.516357  0.471407  0.426456  0.381506  ...  1.013146  0.968196  0.923246   \n",
       "3  0.452096  0.404703  0.357309  0.309916  ...  0.499489  0.452096  0.404703   \n",
       "4  0.653922  0.553922  0.453922  0.353922  ...  0.453922  0.353922  0.253922   \n",
       "\n",
       "        d84       d85       d86       d87       d88       d89       d90  \n",
       "0  0.786444  0.784481  0.706456  0.666459  0.626384  0.586360  0.583918  \n",
       "1  0.894206  0.852591  0.810975  0.769359  0.727744  0.686128  0.644512  \n",
       "2  0.878295  0.833345  0.788395  0.743444  0.698494  0.653543  0.608593  \n",
       "3  0.357309  0.309916  0.262522  0.215129  0.167736  0.120342  0.072949  \n",
       "4  0.153922  0.753922  0.653922  0.553922  0.453922  0.353922  2.000000  \n",
       "\n",
       "[5 rows x 93 columns]"
      ]
     },
     "execution_count": 12,
     "metadata": {},
     "output_type": "execute_result"
    }
   ],
   "source": [
    "Data.head()"
   ]
  },
  {
   "cell_type": "markdown",
   "id": "a1a22afd-629e-4f1b-94ef-1bb5ea216b97",
   "metadata": {
    "tags": []
   },
   "source": [
    "---\n",
    "# Pre-Processing"
   ]
  },
  {
   "cell_type": "markdown",
   "id": "9f32c5ba-c5cd-429f-83b1-04802f37c7aa",
   "metadata": {},
   "source": [
    "---\n",
    "## Train-Validation Split"
   ]
  },
  {
   "cell_type": "markdown",
   "id": "266dcfe8-1780-4bd3-846e-13f729b710ee",
   "metadata": {},
   "source": [
    "### Dimitrios Sphatis Suggestion\n",
    "Make sure not to have same IDs in test(valid) and train sets.<br>\n",
    "This will reduce test accuracy, but increase generability. "
   ]
  },
  {
   "cell_type": "code",
   "execution_count": 13,
   "id": "afbda3a2-beee-4395-b343-329b3d722a6c",
   "metadata": {},
   "outputs": [],
   "source": [
    "#As Dimitrios use:\n",
    "#https://stackoverflow.com/questions/44007496/random-sampling-with-pandas-data-frame-disjoint-groups\n",
    "# Initialize the GroupShuffleSplit.\n",
    "gss = GroupShuffleSplit(n_splits=1, test_size=0.1, random_state= seed)\n",
    "\n",
    "# Get the indexers for the split.\n",
    "idxTrain, idxTest = next(gss.split(Data, groups=Data.short_ID))\n",
    "\n",
    "# Get the split DataFrames.\n",
    "TrainData, ValidData = Data.iloc[idxTrain], Data.iloc[idxTest]\n",
    "\n",
    "# Ensuring the Valid and Train IDs are seperate \n",
    "assert len(set(TrainData['short_ID'].unique()).intersection(set(ValidData['short_ID'].unique()))) == 0\n",
    "\n",
    "# Converting to Numpy Array\n",
    "x_train, x_valid = TrainData[window_cols].to_numpy(), ValidData[window_cols].to_numpy()"
   ]
  },
  {
   "cell_type": "code",
   "execution_count": 14,
   "id": "9fe373fa-c589-484a-979f-7bb8f0a2674f",
   "metadata": {},
   "outputs": [
    {
     "data": {
      "text/plain": [
       "(741695, 90)"
      ]
     },
     "execution_count": 14,
     "metadata": {},
     "output_type": "execute_result"
    }
   ],
   "source": [
    "x_train.shape"
   ]
  },
  {
   "cell_type": "code",
   "execution_count": 15,
   "id": "47bfebc9-d9d1-44df-959d-946e3afdaf83",
   "metadata": {},
   "outputs": [
    {
     "data": {
      "text/plain": [
       "(82967, 90)"
      ]
     },
     "execution_count": 15,
     "metadata": {},
     "output_type": "execute_result"
    }
   ],
   "source": [
    "x_valid.shape"
   ]
  },
  {
   "cell_type": "markdown",
   "id": "e72bc06f-26b7-4bc1-9200-b5a7b65a8e1e",
   "metadata": {
    "tags": []
   },
   "source": [
    "---\n",
    "---\n",
    "# WandB Sweep Log in\n",
    "https://github.com/wandb/examples/blob/master/colabs/keras/Keras_param_opti_using_sweeps.ipynb\n"
   ]
  },
  {
   "cell_type": "code",
   "execution_count": 16,
   "id": "f2e3e110-cecc-4b2e-ad62-a72a0932aa42",
   "metadata": {},
   "outputs": [
    {
     "name": "stderr",
     "output_type": "stream",
     "text": [
      "\u001b[34m\u001b[1mwandb\u001b[0m: Currently logged in as: \u001b[33mvasco-mergulhao\u001b[0m (\u001b[33mvasco-phd\u001b[0m). Use \u001b[1m`wandb login --relogin`\u001b[0m to force relogin\n"
     ]
    },
    {
     "data": {
      "text/plain": [
       "True"
      ]
     },
     "execution_count": 16,
     "metadata": {},
     "output_type": "execute_result"
    }
   ],
   "source": [
    "wandb.login()"
   ]
  },
  {
   "cell_type": "markdown",
   "id": "ba57bc94-c803-41bc-a1a8-c8b3be884590",
   "metadata": {},
   "source": [
    "# Sweep & Train Functions"
   ]
  },
  {
   "cell_type": "code",
   "execution_count": 17,
   "id": "596c3d61-c6f1-42a8-847f-a81cc5e73e47",
   "metadata": {},
   "outputs": [],
   "source": [
    "def train(model, batch_size= 32, epochs= 100, lr=0.001, optimizer='nadam'):  \n",
    "    \n",
    "    tf.keras.backend.clear_session()\n",
    "    model.compile(loss=\"mse\", \n",
    "                  optimizer=ann_train.get_optimizer(lr, optimizer), \n",
    "                  metrics=[\"mse\", tf.keras.metrics.MeanAbsoluteError()])\n",
    "\n",
    "    early_stopping_cb = tf.keras.callbacks.EarlyStopping(patience=10, restore_best_weights=True)\n",
    "    lr_scheduler_cb = keras.callbacks.ReduceLROnPlateau(factor=0.5, patience=5)\n",
    "    # lr_scheduler_cb = keras.callbacks.LearningRateScheduler(ann_train.exponential_decay(lr, steps=20))\n",
    "\n",
    "    model.fit(x_train, \n",
    "              x_train, \n",
    "              batch_size=batch_size, \n",
    "              epochs=epochs, \n",
    "              validation_data=(x_valid, x_valid), \n",
    "              callbacks=[WandbCallback(), early_stopping_cb, lr_scheduler_cb])\n",
    "    \n",
    "    "
   ]
  },
  {
   "cell_type": "code",
   "execution_count": 18,
   "id": "77e4713a-6b32-4bc1-8afd-4f93c9bd73a3",
   "metadata": {},
   "outputs": [],
   "source": [
    "def sweep_train(config_defaults=None):\n",
    "    # Initialize wandb with a sample project name\n",
    "    with wandb.init(config=config_defaults):  # this gets over-written in the Sweep\n",
    "\n",
    "        # Specify the other hyperparameters to the configuration\n",
    "        wandb.config.architecture_name = AE_Model_Name\n",
    "        wandb.config.dataset_name = dataset_name\n",
    "        ann_network = AE_Model.model(window_length = wandb.config.window_length,\n",
    "                                  latent_layer_size = wandb.config.latent_layer_size,\n",
    "                                  activation_fn = wandb.config.activation_fn)\n",
    "        train(ann_network, \n",
    "              wandb.config.batch_size, \n",
    "              wandb.config.epochs,\n",
    "              wandb.config.learning_rate,\n",
    "              wandb.config.optimizer)\n",
    " \n"
   ]
  },
  {
   "cell_type": "markdown",
   "id": "e75e2102-26fb-4e24-978e-856983cbf259",
   "metadata": {},
   "source": [
    "---\n",
    "---\n",
    "# Run Sweep"
   ]
  },
  {
   "cell_type": "code",
   "execution_count": 19,
   "id": "be1f0f15-f71d-4da8-8319-4104432b20f0",
   "metadata": {},
   "outputs": [
    {
     "name": "stdout",
     "output_type": "stream",
     "text": [
      "Create sweep with ID: w1ohw6vt\n",
      "Sweep URL: https://wandb.ai/vasco-phd/DeepClust--Kenya_90k_Set_1_w90--pWindow/sweeps/w1ohw6vt\n"
     ]
    }
   ],
   "source": [
    "sweep_id = wandb.sweep(sweep_config, project = Project_Name)"
   ]
  },
  {
   "cell_type": "code",
   "execution_count": 20,
   "id": "5417746c-6cc3-4e07-9b8a-b8b9293d7017",
   "metadata": {
    "tags": []
   },
   "outputs": [
    {
     "name": "stderr",
     "output_type": "stream",
     "text": [
      "\u001b[34m\u001b[1mwandb\u001b[0m: Agent Starting Run: b2mbg7nt with config:\n",
      "\u001b[34m\u001b[1mwandb\u001b[0m: \tactivation_fn: LeakyReLU\n",
      "\u001b[34m\u001b[1mwandb\u001b[0m: \tbatch_size: 180\n",
      "\u001b[34m\u001b[1mwandb\u001b[0m: \tepochs: 100\n",
      "\u001b[34m\u001b[1mwandb\u001b[0m: \tlatent_layer_size: 25\n",
      "\u001b[34m\u001b[1mwandb\u001b[0m: \tlearning_rate: 1.1295759251618729e-05\n",
      "\u001b[34m\u001b[1mwandb\u001b[0m: \toptimizer: nadam\n",
      "\u001b[34m\u001b[1mwandb\u001b[0m: \twindow_length: 90\n"
     ]
    },
    {
     "data": {
      "text/html": [
       "wandb version 0.14.0 is available!  To upgrade, please run:\n",
       " $ pip install wandb --upgrade"
      ],
      "text/plain": [
       "<IPython.core.display.HTML object>"
      ]
     },
     "metadata": {},
     "output_type": "display_data"
    },
    {
     "data": {
      "text/html": [
       "Tracking run with wandb version 0.13.6"
      ],
      "text/plain": [
       "<IPython.core.display.HTML object>"
      ]
     },
     "metadata": {},
     "output_type": "display_data"
    },
    {
     "data": {
      "text/html": [
       "Run data is saved locally in <code>C:\\Users\\ucesvpm\\OneDrive - University College London\\PhD Project\\Data Analytics\\Time Series Clustering\\Time Series Clustering\\SHS-DeepClustering\\wandb\\run-20230331_162357-b2mbg7nt</code>"
      ],
      "text/plain": [
       "<IPython.core.display.HTML object>"
      ]
     },
     "metadata": {},
     "output_type": "display_data"
    },
    {
     "data": {
      "text/html": [
       "Syncing run <strong><a href=\"https://wandb.ai/vasco-phd/DeepClust--Kenya_90k_Set_1_w90--pWindow/runs/b2mbg7nt\" target=\"_blank\">restful-sweep-1</a></strong> to <a href=\"https://wandb.ai/vasco-phd/DeepClust--Kenya_90k_Set_1_w90--pWindow\" target=\"_blank\">Weights & Biases</a> (<a href=\"https://wandb.me/run\" target=\"_blank\">docs</a>)<br/>Sweep page:  <a href=\"https://wandb.ai/vasco-phd/DeepClust--Kenya_90k_Set_1_w90--pWindow/sweeps/w1ohw6vt\" target=\"_blank\">https://wandb.ai/vasco-phd/DeepClust--Kenya_90k_Set_1_w90--pWindow/sweeps/w1ohw6vt</a>"
      ],
      "text/plain": [
       "<IPython.core.display.HTML object>"
      ]
     },
     "metadata": {},
     "output_type": "display_data"
    },
    {
     "name": "stderr",
     "output_type": "stream",
     "text": [
      "\u001b[34m\u001b[1mwandb\u001b[0m: \u001b[33mWARNING\u001b[0m The save_model argument by default saves the model in the HDF5 format that cannot save custom objects like subclassed models and custom layers. This behavior will be deprecated in a future release in favor of the SavedModel format. Meanwhile, the HDF5 model is saved as W&B files and the SavedModel as W&B Artifacts.\n"
     ]
    },
    {
     "name": "stdout",
     "output_type": "stream",
     "text": [
      "Epoch 1/100\n",
      "4121/4121 [==============================] - ETA: 0s - loss: 5206.9805 - mse: 5206.9805 - mean_absolute_error: 1.3844"
     ]
    },
    {
     "name": "stderr",
     "output_type": "stream",
     "text": [
      "WARNING:absl:Function `_wrapped_model` contains input name(s) Input with unsupported characters which will be renamed to input in the SavedModel.\n",
      "WARNING:absl:Found untraced functions such as leaky_re_lu_layer_call_fn, leaky_re_lu_layer_call_and_return_conditional_losses, leaky_re_lu_1_layer_call_fn, leaky_re_lu_1_layer_call_and_return_conditional_losses, leaky_re_lu_2_layer_call_fn while saving (showing 5 of 12). These functions will not be directly callable after loading.\n"
     ]
    },
    {
     "name": "stdout",
     "output_type": "stream",
     "text": [
      "INFO:tensorflow:Assets written to: C:\\Users\\ucesvpm\\OneDrive - University College London\\PhD Project\\Data Analytics\\Time Series Clustering\\Time Series Clustering\\SHS-DeepClustering\\wandb\\run-20230331_162357-b2mbg7nt\\files\\model-best\\assets\n"
     ]
    },
    {
     "name": "stderr",
     "output_type": "stream",
     "text": [
      "INFO:tensorflow:Assets written to: C:\\Users\\ucesvpm\\OneDrive - University College London\\PhD Project\\Data Analytics\\Time Series Clustering\\Time Series Clustering\\SHS-DeepClustering\\wandb\\run-20230331_162357-b2mbg7nt\\files\\model-best\\assets\n",
      "\u001b[34m\u001b[1mwandb\u001b[0m: Adding directory to artifact (C:\\Users\\ucesvpm\\OneDrive - University College London\\PhD Project\\Data Analytics\\Time Series Clustering\\Time Series Clustering\\SHS-DeepClustering\\wandb\\run-20230331_162357-b2mbg7nt\\files\\model-best)... Done. 0.3s\n"
     ]
    },
    {
     "name": "stdout",
     "output_type": "stream",
     "text": [
      "4121/4121 [==============================] - 123s 29ms/step - loss: 5206.9805 - mse: 5206.9805 - mean_absolute_error: 1.3844 - val_loss: 6902.6494 - val_mse: 6902.6494 - val_mean_absolute_error: 1.5121 - lr: 1.1296e-05\n",
      "Epoch 2/100\n",
      "4121/4121 [==============================] - ETA: 0s - loss: 2570.3584 - mse: 2570.3584 - mean_absolute_error: 1.2735"
     ]
    },
    {
     "name": "stderr",
     "output_type": "stream",
     "text": [
      "WARNING:absl:Function `_wrapped_model` contains input name(s) Input with unsupported characters which will be renamed to input in the SavedModel.\n",
      "WARNING:absl:Found untraced functions such as leaky_re_lu_layer_call_fn, leaky_re_lu_layer_call_and_return_conditional_losses, leaky_re_lu_1_layer_call_fn, leaky_re_lu_1_layer_call_and_return_conditional_losses, leaky_re_lu_2_layer_call_fn while saving (showing 5 of 12). These functions will not be directly callable after loading.\n"
     ]
    },
    {
     "name": "stdout",
     "output_type": "stream",
     "text": [
      "INFO:tensorflow:Assets written to: C:\\Users\\ucesvpm\\OneDrive - University College London\\PhD Project\\Data Analytics\\Time Series Clustering\\Time Series Clustering\\SHS-DeepClustering\\wandb\\run-20230331_162357-b2mbg7nt\\files\\model-best\\assets\n"
     ]
    },
    {
     "name": "stderr",
     "output_type": "stream",
     "text": [
      "INFO:tensorflow:Assets written to: C:\\Users\\ucesvpm\\OneDrive - University College London\\PhD Project\\Data Analytics\\Time Series Clustering\\Time Series Clustering\\SHS-DeepClustering\\wandb\\run-20230331_162357-b2mbg7nt\\files\\model-best\\assets\n",
      "\u001b[34m\u001b[1mwandb\u001b[0m: Adding directory to artifact (C:\\Users\\ucesvpm\\OneDrive - University College London\\PhD Project\\Data Analytics\\Time Series Clustering\\Time Series Clustering\\SHS-DeepClustering\\wandb\\run-20230331_162357-b2mbg7nt\\files\\model-best)... Done. 0.3s\n"
     ]
    },
    {
     "name": "stdout",
     "output_type": "stream",
     "text": [
      "4121/4121 [==============================] - 155s 38ms/step - loss: 2570.3584 - mse: 2570.3584 - mean_absolute_error: 1.2735 - val_loss: 6889.1929 - val_mse: 6889.1929 - val_mean_absolute_error: 1.4526 - lr: 1.1296e-05\n",
      "Epoch 3/100\n",
      "4121/4121 [==============================] - 150s 36ms/step - loss: 2515.1665 - mse: 2515.1665 - mean_absolute_error: 1.2312 - val_loss: 9626.6602 - val_mse: 9626.6602 - val_mean_absolute_error: 1.5039 - lr: 1.1296e-05\n",
      "Epoch 4/100\n",
      "4121/4121 [==============================] - 142s 35ms/step - loss: 2219.6860 - mse: 2219.6865 - mean_absolute_error: 1.1937 - val_loss: 7615.0220 - val_mse: 7615.0220 - val_mean_absolute_error: 1.3854 - lr: 1.1296e-05\n",
      "Epoch 5/100\n",
      "4121/4121 [==============================] - ETA: 0s - loss: 2225.0156 - mse: 2225.0156 - mean_absolute_error: 1.1404"
     ]
    },
    {
     "name": "stderr",
     "output_type": "stream",
     "text": [
      "WARNING:absl:Function `_wrapped_model` contains input name(s) Input with unsupported characters which will be renamed to input in the SavedModel.\n",
      "WARNING:absl:Found untraced functions such as leaky_re_lu_layer_call_fn, leaky_re_lu_layer_call_and_return_conditional_losses, leaky_re_lu_1_layer_call_fn, leaky_re_lu_1_layer_call_and_return_conditional_losses, leaky_re_lu_2_layer_call_fn while saving (showing 5 of 12). These functions will not be directly callable after loading.\n"
     ]
    },
    {
     "name": "stdout",
     "output_type": "stream",
     "text": [
      "INFO:tensorflow:Assets written to: C:\\Users\\ucesvpm\\OneDrive - University College London\\PhD Project\\Data Analytics\\Time Series Clustering\\Time Series Clustering\\SHS-DeepClustering\\wandb\\run-20230331_162357-b2mbg7nt\\files\\model-best\\assets\n"
     ]
    },
    {
     "name": "stderr",
     "output_type": "stream",
     "text": [
      "INFO:tensorflow:Assets written to: C:\\Users\\ucesvpm\\OneDrive - University College London\\PhD Project\\Data Analytics\\Time Series Clustering\\Time Series Clustering\\SHS-DeepClustering\\wandb\\run-20230331_162357-b2mbg7nt\\files\\model-best\\assets\n",
      "\u001b[34m\u001b[1mwandb\u001b[0m: Adding directory to artifact (C:\\Users\\ucesvpm\\OneDrive - University College London\\PhD Project\\Data Analytics\\Time Series Clustering\\Time Series Clustering\\SHS-DeepClustering\\wandb\\run-20230331_162357-b2mbg7nt\\files\\model-best)... Done. 0.3s\n"
     ]
    },
    {
     "name": "stdout",
     "output_type": "stream",
     "text": [
      "4121/4121 [==============================] - 166s 40ms/step - loss: 2225.0156 - mse: 2225.0156 - mean_absolute_error: 1.1404 - val_loss: 6174.8940 - val_mse: 6174.8940 - val_mean_absolute_error: 1.3028 - lr: 1.1296e-05\n",
      "Epoch 6/100\n",
      "4120/4121 [============================>.] - ETA: 0s - loss: 2104.1492 - mse: 2104.1492 - mean_absolute_error: 1.1343"
     ]
    },
    {
     "name": "stderr",
     "output_type": "stream",
     "text": [
      "WARNING:absl:Function `_wrapped_model` contains input name(s) Input with unsupported characters which will be renamed to input in the SavedModel.\n",
      "WARNING:absl:Found untraced functions such as leaky_re_lu_layer_call_fn, leaky_re_lu_layer_call_and_return_conditional_losses, leaky_re_lu_1_layer_call_fn, leaky_re_lu_1_layer_call_and_return_conditional_losses, leaky_re_lu_2_layer_call_fn while saving (showing 5 of 12). These functions will not be directly callable after loading.\n"
     ]
    },
    {
     "name": "stdout",
     "output_type": "stream",
     "text": [
      "INFO:tensorflow:Assets written to: C:\\Users\\ucesvpm\\OneDrive - University College London\\PhD Project\\Data Analytics\\Time Series Clustering\\Time Series Clustering\\SHS-DeepClustering\\wandb\\run-20230331_162357-b2mbg7nt\\files\\model-best\\assets\n"
     ]
    },
    {
     "name": "stderr",
     "output_type": "stream",
     "text": [
      "INFO:tensorflow:Assets written to: C:\\Users\\ucesvpm\\OneDrive - University College London\\PhD Project\\Data Analytics\\Time Series Clustering\\Time Series Clustering\\SHS-DeepClustering\\wandb\\run-20230331_162357-b2mbg7nt\\files\\model-best\\assets\n",
      "\u001b[34m\u001b[1mwandb\u001b[0m: Adding directory to artifact (C:\\Users\\ucesvpm\\OneDrive - University College London\\PhD Project\\Data Analytics\\Time Series Clustering\\Time Series Clustering\\SHS-DeepClustering\\wandb\\run-20230331_162357-b2mbg7nt\\files\\model-best)... Done. 0.3s\n"
     ]
    },
    {
     "name": "stdout",
     "output_type": "stream",
     "text": [
      "4121/4121 [==============================] - 159s 39ms/step - loss: 2103.8799 - mse: 2103.8799 - mean_absolute_error: 1.1343 - val_loss: 6006.4688 - val_mse: 6006.4688 - val_mean_absolute_error: 1.3123 - lr: 1.1296e-05\n",
      "Epoch 7/100\n",
      "2457/4121 [================>.............] - ETA: 1:01 - loss: 2724.4731 - mse: 2724.4731 - mean_absolute_error: 1.1443"
     ]
    },
    {
     "data": {
      "text/html": [
       "Waiting for W&B process to finish... <strong style=\"color:red\">(failed 1).</strong> Press Ctrl-C to abort syncing."
      ],
      "text/plain": [
       "<IPython.core.display.HTML object>"
      ]
     },
     "metadata": {},
     "output_type": "display_data"
    },
    {
     "data": {
      "text/html": [
       "<style>\n",
       "    table.wandb td:nth-child(1) { padding: 0 10px; text-align: left ; width: auto;} td:nth-child(2) {text-align: left ; width: 100%}\n",
       "    .wandb-row { display: flex; flex-direction: row; flex-wrap: wrap; justify-content: flex-start; width: 100% }\n",
       "    .wandb-col { display: flex; flex-direction: column; flex-basis: 100%; flex: 1; padding: 10px; }\n",
       "    </style>\n",
       "<div class=\"wandb-row\"><div class=\"wandb-col\"><h3>Run history:</h3><br/><table class=\"wandb\"><tr><td>epoch</td><td>▁▂▄▅▇█</td></tr><tr><td>loss</td><td>█▂▂▁▁▁</td></tr><tr><td>mean_absolute_error</td><td>█▅▄▃▁▁</td></tr><tr><td>mse</td><td>█▂▂▁▁▁</td></tr><tr><td>val_loss</td><td>▃▃█▄▁▁</td></tr><tr><td>val_mean_absolute_error</td><td>█▆█▄▁▁</td></tr><tr><td>val_mse</td><td>▃▃█▄▁▁</td></tr></table><br/></div><div class=\"wandb-col\"><h3>Run summary:</h3><br/><table class=\"wandb\"><tr><td>best_epoch</td><td>5</td></tr><tr><td>best_val_loss</td><td>6006.46875</td></tr><tr><td>epoch</td><td>5</td></tr><tr><td>loss</td><td>2103.87988</td></tr><tr><td>mean_absolute_error</td><td>1.1343</td></tr><tr><td>mse</td><td>2103.87988</td></tr><tr><td>val_loss</td><td>6006.46875</td></tr><tr><td>val_mean_absolute_error</td><td>1.31232</td></tr><tr><td>val_mse</td><td>6006.46875</td></tr></table><br/></div></div>"
      ],
      "text/plain": [
       "<IPython.core.display.HTML object>"
      ]
     },
     "metadata": {},
     "output_type": "display_data"
    },
    {
     "data": {
      "text/html": [
       "Synced <strong style=\"color:#cdcd00\">restful-sweep-1</strong>: <a href=\"https://wandb.ai/vasco-phd/DeepClust--Kenya_90k_Set_1_w90--pWindow/runs/b2mbg7nt\" target=\"_blank\">https://wandb.ai/vasco-phd/DeepClust--Kenya_90k_Set_1_w90--pWindow/runs/b2mbg7nt</a><br/>Synced 6 W&B file(s), 1 media file(s), 13 artifact file(s) and 1 other file(s)"
      ],
      "text/plain": [
       "<IPython.core.display.HTML object>"
      ]
     },
     "metadata": {},
     "output_type": "display_data"
    },
    {
     "data": {
      "text/html": [
       "Find logs at: <code>.\\wandb\\run-20230331_162357-b2mbg7nt\\logs</code>"
      ],
      "text/plain": [
       "<IPython.core.display.HTML object>"
      ]
     },
     "metadata": {},
     "output_type": "display_data"
    }
   ],
   "source": [
    "wandb.agent(sweep_id, function=sweep_train, count= sweep_count)"
   ]
  },
  {
   "cell_type": "code",
   "execution_count": 21,
   "id": "432abfaa-0e16-401c-8c4b-26bed42d3854",
   "metadata": {
    "tags": []
   },
   "outputs": [],
   "source": [
    "wandb.finish()"
   ]
  },
  {
   "cell_type": "code",
   "execution_count": null,
   "id": "626a5f08-f935-40d6-8f41-1be669af23b9",
   "metadata": {},
   "outputs": [],
   "source": []
  }
 ],
 "metadata": {
  "kernelspec": {
   "display_name": "Python 3 (ipykernel)",
   "language": "python",
   "name": "python3"
  },
  "language_info": {
   "codemirror_mode": {
    "name": "ipython",
    "version": 3
   },
   "file_extension": ".py",
   "mimetype": "text/x-python",
   "name": "python",
   "nbconvert_exporter": "python",
   "pygments_lexer": "ipython3",
   "version": "3.9.15"
  }
 },
 "nbformat": 4,
 "nbformat_minor": 5
}
