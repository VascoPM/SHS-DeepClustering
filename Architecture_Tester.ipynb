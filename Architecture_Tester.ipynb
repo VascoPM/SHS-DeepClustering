{
 "cells": [
  {
   "cell_type": "code",
   "execution_count": 1,
   "id": "8a0a7f52-518d-459a-93cb-04444f8ef5d7",
   "metadata": {},
   "outputs": [],
   "source": [
    "from networks import cnn_AE\n",
    "AE = cnn_AE"
   ]
  },
  {
   "cell_type": "code",
   "execution_count": 2,
   "id": "73f0d189-7428-4932-935e-ec9992e8d9cc",
   "metadata": {},
   "outputs": [],
   "source": [
    "import tensorflow as tf\n",
    "from tensorflow import keras"
   ]
  },
  {
   "cell_type": "code",
   "execution_count": 3,
   "id": "828d7d93-c4b2-4131-8bdd-62d758a4808b",
   "metadata": {},
   "outputs": [],
   "source": [
    "ann_network = AE.model(window_length = 90, latent_layer_size = 25)\n"
   ]
  },
  {
   "cell_type": "code",
   "execution_count": 4,
   "id": "4163c7fa-417e-4fe9-97f9-b08b99933b04",
   "metadata": {},
   "outputs": [
    {
     "name": "stdout",
     "output_type": "stream",
     "text": [
      "Model: \"model\"\n",
      "_________________________________________________________________\n",
      " Layer (type)                Output Shape              Param #   \n",
      "=================================================================\n",
      " input_1 (InputLayer)        [(None, 90, 1)]           0         \n",
      "                                                                 \n",
      " conv1d (Conv1D)             (None, 90, 6)             36        \n",
      "                                                                 \n",
      " batch_normalization (BatchN  (None, 90, 6)            24        \n",
      " ormalization)                                                   \n",
      "                                                                 \n",
      " activation_1 (Activation)   (None, 90, 6)             0         \n",
      "                                                                 \n",
      " max_pooling1d (MaxPooling1D  (None, 30, 6)            0         \n",
      " )                                                               \n",
      "                                                                 \n",
      " conv1d_1 (Conv1D)           (None, 30, 16)            304       \n",
      "                                                                 \n",
      " batch_normalization_1 (Batc  (None, 30, 16)           64        \n",
      " hNormalization)                                                 \n",
      "                                                                 \n",
      " activation_3 (Activation)   (None, 30, 16)            0         \n",
      "                                                                 \n",
      " max_pooling1d_1 (MaxPooling  (None, 10, 16)           0         \n",
      " 1D)                                                             \n",
      "                                                                 \n",
      " conv1d_2 (Conv1D)           (None, 10, 60)            2940      \n",
      "                                                                 \n",
      " batch_normalization_2 (Batc  (None, 10, 60)           240       \n",
      " hNormalization)                                                 \n",
      "                                                                 \n",
      " activation_5 (Activation)   (None, 10, 60)            0         \n",
      "                                                                 \n",
      " max_pooling1d_2 (MaxPooling  (None, 5, 60)            0         \n",
      " 1D)                                                             \n",
      "                                                                 \n",
      " flatten (Flatten)           (None, 300)               0         \n",
      "                                                                 \n",
      " dense (Dense)               (None, 25)                7525      \n",
      "                                                                 \n",
      " dense_1 (Dense)             (None, 300)               7800      \n",
      "                                                                 \n",
      " reshape (Reshape)           (None, 5, 60)             0         \n",
      "                                                                 \n",
      " conv1d_transpose (Conv1DTra  (None, 10, 60)           10860     \n",
      " nspose)                                                         \n",
      "                                                                 \n",
      " batch_normalization_3 (Batc  (None, 10, 60)           240       \n",
      " hNormalization)                                                 \n",
      "                                                                 \n",
      " activation_7 (Activation)   (None, 10, 60)            0         \n",
      "                                                                 \n",
      " conv1d_transpose_1 (Conv1DT  (None, 30, 16)           2896      \n",
      " ranspose)                                                       \n",
      "                                                                 \n",
      " batch_normalization_4 (Batc  (None, 30, 16)           64        \n",
      " hNormalization)                                                 \n",
      "                                                                 \n",
      " activation_9 (Activation)   (None, 30, 16)            0         \n",
      "                                                                 \n",
      " conv1d_transpose_2 (Conv1DT  (None, 90, 6)            486       \n",
      " ranspose)                                                       \n",
      "                                                                 \n",
      " batch_normalization_5 (Batc  (None, 90, 6)            24        \n",
      " hNormalization)                                                 \n",
      "                                                                 \n",
      " activation_11 (Activation)  (None, 90, 6)             0         \n",
      "                                                                 \n",
      " conv1d_transpose_3 (Conv1DT  (None, 90, 1)            31        \n",
      " ranspose)                                                       \n",
      "                                                                 \n",
      "=================================================================\n",
      "Total params: 33,534\n",
      "Trainable params: 33,206\n",
      "Non-trainable params: 328\n",
      "_________________________________________________________________\n"
     ]
    }
   ],
   "source": [
    "ann_network.summary()"
   ]
  },
  {
   "cell_type": "code",
   "execution_count": null,
   "id": "8007e223-0a97-495c-b112-3f51cb049a20",
   "metadata": {},
   "outputs": [],
   "source": []
  }
 ],
 "metadata": {
  "kernelspec": {
   "display_name": "Python 3 (ipykernel)",
   "language": "python",
   "name": "python3"
  },
  "language_info": {
   "codemirror_mode": {
    "name": "ipython",
    "version": 3
   },
   "file_extension": ".py",
   "mimetype": "text/x-python",
   "name": "python",
   "nbconvert_exporter": "python",
   "pygments_lexer": "ipython3",
   "version": "3.9.15"
  }
 },
 "nbformat": 4,
 "nbformat_minor": 5
}
