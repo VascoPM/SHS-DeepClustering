{
 "cells": [
  {
   "cell_type": "code",
   "execution_count": 14,
   "id": "8a0a7f52-518d-459a-93cb-04444f8ef5d7",
   "metadata": {},
   "outputs": [],
   "source": [
    "from networks import lstm_ae, cnn_AE, cnn_ConvEmb, fc_n2d\n",
    "AE = fc_n2d"
   ]
  },
  {
   "cell_type": "code",
   "execution_count": 15,
   "id": "828d7d93-c4b2-4131-8bdd-62d758a4808b",
   "metadata": {},
   "outputs": [],
   "source": [
    "ann_network = AE.model()\n"
   ]
  },
  {
   "cell_type": "code",
   "execution_count": 16,
   "id": "4163c7fa-417e-4fe9-97f9-b08b99933b04",
   "metadata": {},
   "outputs": [
    {
     "name": "stdout",
     "output_type": "stream",
     "text": [
      "Model: \"FC_N2D\"\n",
      "_________________________________________________________________\n",
      " Layer (type)                Output Shape              Param #   \n",
      "=================================================================\n",
      " Input (InputLayer)          [(None, 90)]              0         \n",
      "                                                                 \n",
      " l1_enc (Dense)              (None, 500)               45500     \n",
      "                                                                 \n",
      " l2_enc (Dense)              (None, 500)               250500    \n",
      "                                                                 \n",
      " l3_enc (Dense)              (None, 2000)              1002000   \n",
      "                                                                 \n",
      " Lantent_Space (Dense)       (None, 25)                50025     \n",
      "                                                                 \n",
      " l1_dec (Dense)              (None, 2000)              52000     \n",
      "                                                                 \n",
      " l2_dec (Dense)              (None, 500)               1000500   \n",
      "                                                                 \n",
      " l3_dec (Dense)              (None, 500)               250500    \n",
      "                                                                 \n",
      " Output (Dense)              (None, 90)                45090     \n",
      "                                                                 \n",
      "=================================================================\n",
      "Total params: 2,696,115\n",
      "Trainable params: 2,696,115\n",
      "Non-trainable params: 0\n",
      "_________________________________________________________________\n"
     ]
    }
   ],
   "source": [
    "ann_network.summary()"
   ]
  },
  {
   "cell_type": "code",
   "execution_count": 13,
   "id": "8007e223-0a97-495c-b112-3f51cb049a20",
   "metadata": {},
   "outputs": [
    {
     "data": {
      "text/plain": [
       "'CNN_ConvEmb'"
      ]
     },
     "execution_count": 13,
     "metadata": {},
     "output_type": "execute_result"
    }
   ],
   "source": [
    "ann_network.name"
   ]
  },
  {
   "cell_type": "code",
   "execution_count": null,
   "id": "0aee6431-d4da-421e-8e29-39a1e35c8c75",
   "metadata": {},
   "outputs": [],
   "source": []
  }
 ],
 "metadata": {
  "kernelspec": {
   "display_name": "Python 3 (ipykernel)",
   "language": "python",
   "name": "python3"
  },
  "language_info": {
   "codemirror_mode": {
    "name": "ipython",
    "version": 3
   },
   "file_extension": ".py",
   "mimetype": "text/x-python",
   "name": "python",
   "nbconvert_exporter": "python",
   "pygments_lexer": "ipython3",
   "version": "3.9.15"
  }
 },
 "nbformat": 4,
 "nbformat_minor": 5
}
