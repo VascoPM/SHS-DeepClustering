{
 "cells": [
  {
   "cell_type": "code",
   "execution_count": 1,
   "id": "8a0a7f52-518d-459a-93cb-04444f8ef5d7",
   "metadata": {},
   "outputs": [],
   "source": [
    "from networks import lstm_ae, cnn_AE, cnn_ConvEmb, fc_n2d, cnn_DCEC\n",
    "AE = cnn_DCEC"
   ]
  },
  {
   "cell_type": "code",
   "execution_count": 2,
   "id": "73f0d189-7428-4932-935e-ec9992e8d9cc",
   "metadata": {},
   "outputs": [],
   "source": [
    "import tensorflow as tf\n",
    "from tensorflow import keras"
   ]
  },
  {
   "cell_type": "code",
   "execution_count": 3,
   "id": "828d7d93-c4b2-4131-8bdd-62d758a4808b",
   "metadata": {},
   "outputs": [],
   "source": [
    "ann_network = AE.model()\n"
   ]
  },
  {
   "cell_type": "code",
   "execution_count": 4,
   "id": "4163c7fa-417e-4fe9-97f9-b08b99933b04",
   "metadata": {},
   "outputs": [
    {
     "name": "stdout",
     "output_type": "stream",
     "text": [
      "Model: \"CNN_DCEC\"\n",
      "_________________________________________________________________\n",
      " Layer (type)                Output Shape              Param #   \n",
      "=================================================================\n",
      " Input (InputLayer)          [(None, 90, 1)]           0         \n",
      "                                                                 \n",
      " Conv_1_enc (Conv1D)         (None, 90, 32)            192       \n",
      "                                                                 \n",
      " Conv_2_enc (Conv1D)         (None, 30, 64)            10304     \n",
      "                                                                 \n",
      " Conv_3_enc (Conv1D)         (None, 10, 128)           24704     \n",
      "                                                                 \n",
      " Reshape_Flat_Enc (Flatten)  (None, 1280)              0         \n",
      "                                                                 \n",
      " Latent_Space (Dense)        (None, 25)                32025     \n",
      "                                                                 \n",
      " Reshape_Widen_Dec (Dense)   (None, 1280)              33280     \n",
      "                                                                 \n",
      " Reshape_Conv_Dec (Reshape)  (None, 10, 128)           0         \n",
      "                                                                 \n",
      " Conv_1_dec (Conv1DTranspose  (None, 30, 64)           24640     \n",
      " )                                                               \n",
      "                                                                 \n",
      " Conv_2_dec (Conv1DTranspose  (None, 90, 32)           10272     \n",
      " )                                                               \n",
      "                                                                 \n",
      " Output (Conv1DTranspose)    (None, 90, 1)             161       \n",
      "                                                                 \n",
      "=================================================================\n",
      "Total params: 135,578\n",
      "Trainable params: 135,578\n",
      "Non-trainable params: 0\n",
      "_________________________________________________________________\n"
     ]
    }
   ],
   "source": [
    "ann_network.summary()"
   ]
  },
  {
   "cell_type": "code",
   "execution_count": 5,
   "id": "8007e223-0a97-495c-b112-3f51cb049a20",
   "metadata": {},
   "outputs": [
    {
     "data": {
      "text/plain": [
       "'CNN_DCEC'"
      ]
     },
     "execution_count": 5,
     "metadata": {},
     "output_type": "execute_result"
    }
   ],
   "source": [
    "ann_network.name"
   ]
  },
  {
   "cell_type": "code",
   "execution_count": null,
   "id": "0aee6431-d4da-421e-8e29-39a1e35c8c75",
   "metadata": {},
   "outputs": [],
   "source": []
  }
 ],
 "metadata": {
  "kernelspec": {
   "display_name": "Python 3 (ipykernel)",
   "language": "python",
   "name": "python3"
  },
  "language_info": {
   "codemirror_mode": {
    "name": "ipython",
    "version": 3
   },
   "file_extension": ".py",
   "mimetype": "text/x-python",
   "name": "python",
   "nbconvert_exporter": "python",
   "pygments_lexer": "ipython3",
   "version": "3.9.15"
  }
 },
 "nbformat": 4,
 "nbformat_minor": 5
}
