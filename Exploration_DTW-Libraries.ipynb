{
 "cells": [
  {
   "cell_type": "code",
   "execution_count": 1,
   "id": "063f8d91-0220-41f8-b62d-c11078ac3954",
   "metadata": {},
   "outputs": [],
   "source": [
    "from tslearn.metrics import cdist_dtw as ts_dtw\n",
    "from tslearn.metrics import cdist_soft_dtw as ts_soft_dtw\n",
    "from sktime.dists_kernels import DtwDist as sk_dtw\n",
    "from dtaidistance import dtw as dtai_dtw"
   ]
  },
  {
   "cell_type": "code",
   "execution_count": 2,
   "id": "12b418ac-245b-4f56-aa00-759887751ffa",
   "metadata": {},
   "outputs": [],
   "source": [
    "import pandas as pd\n",
    "import polars as pl\n",
    "import numpy as np\n",
    "import time\n",
    "import matplotlib.pyplot as plt\n",
    "import Transform"
   ]
  },
  {
   "cell_type": "markdown",
   "id": "db308fda-4ace-4c28-aa7c-22b99c9e2723",
   "metadata": {},
   "source": [
    "https://www.sktime.net/en/latest/api_reference/auto_generated/sktime.distances.dtw_distance.html  \n",
    "https://tslearn.readthedocs.io/en/stable/gen_modules/metrics/tslearn.metrics.dtw.html  \n",
    "https://dtaidistance.readthedocs.io/en/latest/usage/dtw.html#dtw-between-multiple-time-series"
   ]
  },
  {
   "cell_type": "code",
   "execution_count": 3,
   "id": "6061778d-b555-4837-bcaf-e49e8b4ee39c",
   "metadata": {},
   "outputs": [],
   "source": [
    "dataset_name = 'Kenya_90k_Set_1_w90_pW'\n",
    "dataset_folder = \"_\".join(dataset_name.split('_')[:-2]) \n",
    "dataset_location = f'../Data_Storage_Processing/Data/{dataset_folder}/{dataset_name}.csv'\n",
    "window_cols, window_len = Transform.retrive_window_col_names(dataset_name)"
   ]
  },
  {
   "cell_type": "code",
   "execution_count": 4,
   "id": "a93558cf-5d4e-414f-ab88-c25302395c0d",
   "metadata": {},
   "outputs": [
    {
     "name": "stdout",
     "output_type": "stream",
     "text": [
      "Polars Time: 0.76[s]\n"
     ]
    }
   ],
   "source": [
    "sub_sample = 100\n",
    "start_time = time.time()\n",
    "df = pl.read_csv(dataset_location).sample(n=sub_sample).to_pandas()\n",
    "data = df[window_cols].values\n",
    "print(f'Polars Time: {np.round(time.time() - start_time,2)}[s]')  "
   ]
  },
  {
   "cell_type": "markdown",
   "id": "10c52034-4017-4e34-aad2-b78de71c25d7",
   "metadata": {},
   "source": [
    "---\n",
    "# tslearn "
   ]
  },
  {
   "cell_type": "code",
   "execution_count": 5,
   "id": "891c0f01-77f0-4df3-b04f-73e0bebfd41a",
   "metadata": {},
   "outputs": [
    {
     "name": "stdout",
     "output_type": "stream",
     "text": [
      "tslearn Time: 1.11[s]\n"
     ]
    }
   ],
   "source": [
    "start_time = time.time()\n",
    "ts_dist = ts_dtw(data.reshape(-1, window_len, 1))\n",
    "print(f'tslearn Time: {np.round(time.time() - start_time,2)}[s]')  "
   ]
  },
  {
   "cell_type": "code",
   "execution_count": 6,
   "id": "81e77195-4c3e-4d10-a5cd-e74737d0732d",
   "metadata": {},
   "outputs": [
    {
     "data": {
      "text/plain": [
       "(100, 100)"
      ]
     },
     "execution_count": 6,
     "metadata": {},
     "output_type": "execute_result"
    }
   ],
   "source": [
    "ts_dist.shape"
   ]
  },
  {
   "cell_type": "markdown",
   "id": "61ee4294-a21d-4680-a52f-ce467528499f",
   "metadata": {},
   "source": [
    "## Window = 5"
   ]
  },
  {
   "cell_type": "code",
   "execution_count": 7,
   "id": "0561ef4e-e9e8-427c-94be-586769c65a2c",
   "metadata": {},
   "outputs": [
    {
     "name": "stdout",
     "output_type": "stream",
     "text": [
      "tslearn (w=5) Time: 0.44[s]\n"
     ]
    }
   ],
   "source": [
    "start_time = time.time()\n",
    "ts_dist_w5 = ts_dtw(data.reshape(-1, window_len, 1), global_constraint = 'sakoe_chiba', sakoe_chiba_radius = 5)\n",
    "print(f'tslearn (w=5) Time: {np.round(time.time() - start_time,2)}[s]')  "
   ]
  },
  {
   "cell_type": "code",
   "execution_count": 8,
   "id": "ea2afa64-a6ee-4105-8c65-1e7179c0b0cc",
   "metadata": {},
   "outputs": [
    {
     "data": {
      "text/plain": [
       "(100, 100)"
      ]
     },
     "execution_count": 8,
     "metadata": {},
     "output_type": "execute_result"
    }
   ],
   "source": [
    "ts_dist_w5.shape"
   ]
  },
  {
   "cell_type": "code",
   "execution_count": 9,
   "id": "107c76eb-275d-47bf-9422-3e8ac3600e36",
   "metadata": {},
   "outputs": [
    {
     "data": {
      "text/plain": [
       "57.34005560359631"
      ]
     },
     "execution_count": 9,
     "metadata": {},
     "output_type": "execute_result"
    }
   ],
   "source": [
    "abs((ts_dist - ts_dist_w5)).max()"
   ]
  },
  {
   "cell_type": "markdown",
   "id": "ff0b63ee-47b3-462f-a9fd-2ae91236bf25",
   "metadata": {},
   "source": [
    "\n",
    "## soft-dtw"
   ]
  },
  {
   "cell_type": "code",
   "execution_count": 10,
   "id": "3c5521b2-5243-4cf6-b6de-73e0a2e4811d",
   "metadata": {},
   "outputs": [
    {
     "name": "stdout",
     "output_type": "stream",
     "text": [
      "tslearn Time: 2.91[s]\n"
     ]
    }
   ],
   "source": [
    "start_time = time.time()\n",
    "ts_soft_dist = ts_soft_dtw(data.reshape(-1, window_len, 1))\n",
    "print(f'tslearn Time: {np.round(time.time() - start_time,2)}[s]')  "
   ]
  },
  {
   "cell_type": "code",
   "execution_count": 11,
   "id": "3e5d9060-51dd-41c9-8860-202d48c8170d",
   "metadata": {},
   "outputs": [
    {
     "data": {
      "text/plain": [
       "7204.618503175454"
      ]
     },
     "execution_count": 11,
     "metadata": {},
     "output_type": "execute_result"
    }
   ],
   "source": [
    "abs((ts_dist - ts_soft_dist)).max()"
   ]
  },
  {
   "cell_type": "markdown",
   "id": "9bfbefd6-1734-493e-a0ba-0ffc0329329b",
   "metadata": {},
   "source": [
    "---\n",
    "# sktime"
   ]
  },
  {
   "cell_type": "markdown",
   "id": "38f14357-1b6f-4fdc-aef6-cd2c19585542",
   "metadata": {},
   "source": [
    "> ***Note***:  \n",
    "sktime has special data types.  \n",
    "To use <code>np.arrays</code>, then use *numpy3D*.  \n",
    "This expectes <code>np.shape = (instances, variables, time points)</code>  \n",
    "See: https://github.com/sktime/sktime/blob/main/examples/AA_datatypes_and_datasets.ipynb] Section 1.2.2"
   ]
  },
  {
   "cell_type": "code",
   "execution_count": 12,
   "id": "2965e5cd-d642-4585-81d0-854778790f76",
   "metadata": {},
   "outputs": [
    {
     "name": "stdout",
     "output_type": "stream",
     "text": [
      "sktime Time: 0.34[s]\n"
     ]
    }
   ],
   "source": [
    "start_time = time.time()\n",
    "sk_dist = sk_dtw().transform(X = data.reshape(-1, 1, window_len))\n",
    "print(f'sktime Time: {np.round(time.time() - start_time,2)}[s]')  "
   ]
  },
  {
   "cell_type": "code",
   "execution_count": 13,
   "id": "0fe2a02e-5bb5-4edb-813b-925f3aaabfcd",
   "metadata": {},
   "outputs": [
    {
     "data": {
      "text/plain": [
       "(100, 100)"
      ]
     },
     "execution_count": 13,
     "metadata": {},
     "output_type": "execute_result"
    }
   ],
   "source": [
    "sk_dist.shape"
   ]
  },
  {
   "cell_type": "code",
   "execution_count": 14,
   "id": "a76b0e17-549b-4ea8-9eac-62de6a4cf4fc",
   "metadata": {},
   "outputs": [
    {
     "data": {
      "text/plain": [
       "7204.618503175454"
      ]
     },
     "execution_count": 14,
     "metadata": {},
     "output_type": "execute_result"
    }
   ],
   "source": [
    "abs((ts_dist - sk_dist)).max()"
   ]
  },
  {
   "cell_type": "markdown",
   "id": "d5ea648c-40fd-4a94-9c6e-88001332623f",
   "metadata": {},
   "source": [
    "## Window = 5"
   ]
  },
  {
   "cell_type": "code",
   "execution_count": 15,
   "id": "a99b8e92-1cf4-4597-b2d4-f7aece296a22",
   "metadata": {},
   "outputs": [
    {
     "name": "stdout",
     "output_type": "stream",
     "text": [
      "sktime Time: 0.29[s]\n"
     ]
    }
   ],
   "source": [
    "start_time = time.time()\n",
    "sk_dist = sk_dtw(window=float(.5)).transform(X = data.reshape(-1, 1, window_len))\n",
    "print(f'sktime Time: {np.round(time.time() - start_time,2)}[s]')  "
   ]
  },
  {
   "cell_type": "markdown",
   "id": "91678d82-cb68-4462-b9b2-a1d1757542a4",
   "metadata": {},
   "source": [
    "---\n",
    "# DTAIDistance\n",
    "https://dtaidistance.readthedocs.io/en/latest/usage/dtw.html#dtw-between-multiple-time-series"
   ]
  },
  {
   "cell_type": "code",
   "execution_count": 16,
   "id": "6919938f-0130-4865-8305-f21f9bc91aac",
   "metadata": {},
   "outputs": [
    {
     "name": "stdout",
     "output_type": "stream",
     "text": [
      "dtai Time: 0.05[s]\n"
     ]
    }
   ],
   "source": [
    "start_time = time.time()\n",
    "dtai_dist = np.array(dtai_dtw.distance_matrix_fast(data, compact=False))\n",
    "print(f'dtai Time: {np.round(time.time() - start_time,2)}[s]')  "
   ]
  },
  {
   "cell_type": "code",
   "execution_count": 17,
   "id": "91a0987d-d572-45a9-83ba-768ea006391b",
   "metadata": {},
   "outputs": [
    {
     "name": "stdout",
     "output_type": "stream",
     "text": [
      "dtai_large Time: 4.68[s]\n"
     ]
    }
   ],
   "source": [
    "df_large = pl.read_csv(dataset_location).sample(n=1000).to_pandas()\n",
    "data_large = df_large[window_cols].values\n",
    "start_time = time.time()\n",
    "dtai_dist_large = np.array(dtai_dtw.distance_matrix_fast(data_large, compact=False))\n",
    "print(f'dtai_large Time: {np.round(time.time() - start_time,2)}[s]')  "
   ]
  },
  {
   "cell_type": "code",
   "execution_count": 18,
   "id": "2cc96efc-8d75-4114-b5b7-0f6a5485c023",
   "metadata": {},
   "outputs": [
    {
     "data": {
      "text/plain": [
       "(100, 100)"
      ]
     },
     "execution_count": 18,
     "metadata": {},
     "output_type": "execute_result"
    }
   ],
   "source": [
    "dtai_dist.shape"
   ]
  },
  {
   "cell_type": "code",
   "execution_count": 19,
   "id": "8befb690-2d25-4f69-9e50-34cc110e1509",
   "metadata": {},
   "outputs": [
    {
     "data": {
      "text/plain": [
       "0.0"
      ]
     },
     "execution_count": 19,
     "metadata": {},
     "output_type": "execute_result"
    }
   ],
   "source": [
    "abs((ts_dist - dtai_dist)).max()"
   ]
  },
  {
   "cell_type": "code",
   "execution_count": 20,
   "id": "fd4849d6-6ef6-4f8b-be2c-9eca399e584c",
   "metadata": {},
   "outputs": [
    {
     "data": {
      "text/plain": [
       "7204.618503175454"
      ]
     },
     "execution_count": 20,
     "metadata": {},
     "output_type": "execute_result"
    }
   ],
   "source": [
    "abs((sk_dist - dtai_dist)).max()"
   ]
  },
  {
   "cell_type": "markdown",
   "id": "25b15b8c-633c-48ba-92da-db8e561bd061",
   "metadata": {},
   "source": [
    "## Window = 5"
   ]
  },
  {
   "cell_type": "code",
   "execution_count": 21,
   "id": "294ecf4e-d8a6-4192-b00e-864d91b7e480",
   "metadata": {},
   "outputs": [
    {
     "name": "stdout",
     "output_type": "stream",
     "text": [
      "dtai (w=5) Time: 0.01[s]\n"
     ]
    }
   ],
   "source": [
    "start_time = time.time()\n",
    "dtai_dist = np.array(dtai_dtw.distance_matrix_fast(data, compact=False, window=5))\n",
    "print(f'dtai (w=5) Time: {np.round(time.time() - start_time,2)}[s]')  "
   ]
  },
  {
   "cell_type": "markdown",
   "id": "2a676447-4b21-448b-81ce-c6a95f8dc5b6",
   "metadata": {},
   "source": [
    "---\n",
    "# Speed Test"
   ]
  },
  {
   "cell_type": "code",
   "execution_count": 23,
   "id": "a94c38a5-9bd6-4615-9a53-cf58343576f1",
   "metadata": {},
   "outputs": [
    {
     "name": "stdout",
     "output_type": "stream",
     "text": [
      "processing: 200\r"
     ]
    },
    {
     "data": {
      "text/plain": [
       "Text(0, 0.5, 'seconds')"
      ]
     },
     "execution_count": 23,
     "metadata": {},
     "output_type": "execute_result"
    },
    {
     "data": {
      "image/png": "[encoded data removed]",
      "text/plain": [
       "<Figure size 640x480 with 1 Axes>"
      ]
     },
     "metadata": {},
     "output_type": "display_data"
    }
   ],
   "source": [
    "ts_times = []\n",
    "ts_soft_times = []\n",
    "sk_times = []\n",
    "dtai_times = []\n",
    "for i in range(10, 210, 10):\n",
    "    print(f'processing: {i}' , end='\\r')\n",
    "    df = pl.read_csv(dataset_location).sample(n=i).to_pandas()\n",
    "    data = df[window_cols].values\n",
    "\n",
    "    # ts\n",
    "    # print('ts')\n",
    "    start_time = time.time()\n",
    "    _ = ts_dtw(data.reshape(-1, window_len, 1))\n",
    "    ts_times.append(time.time() - start_time)\n",
    "    \n",
    "    # print('ts_soft')\n",
    "    # ts_soft\n",
    "    start_time = time.time()\n",
    "    _ = ts_soft_dtw(data.reshape(-1, window_len, 1))\n",
    "    ts_soft_times.append(time.time() - start_time)    \n",
    "    \n",
    "    # print('sk')\n",
    "    # sk\n",
    "    start_time = time.time()\n",
    "    _ = sk_dtw().transform(X = data.reshape(-1, 1, window_len))\n",
    "    sk_times.append(time.time() - start_time)\n",
    "    \n",
    "    # print('dtai')\n",
    "    # dtai\n",
    "    start_time = time.time()\n",
    "    dtai_dist = np.array(dtai_dtw.distance_matrix_fast(data, compact=False))\n",
    "    dtai_times.append(time.time() - start_time)  \n",
    "    \n",
    "times = pd.DataFrame()\n",
    "times['sample_size'] = list(range(10, 210, 10))\n",
    "times['tslearn'] = ts_times\n",
    "times['tslearn_soft-DTW'] = ts_soft_times\n",
    "times['sktime'] = sk_times\n",
    "times['DTAIDistance'] = dtai_times    \n",
    "\n",
    "ax = times.plot.line(x='sample_size')\n",
    "ax.set_ylabel('seconds')"
   ]
  },
  {
   "cell_type": "code",
   "execution_count": 24,
   "id": "a46898ac-5189-4be4-bc04-b13ba863a51d",
   "metadata": {
    "tags": []
   },
   "outputs": [
    {
     "name": "stdout",
     "output_type": "stream",
     "text": [
      "processing: 500\r"
     ]
    },
    {
     "data": {
      "text/plain": [
       "Text(0, 0.5, 'seconds')"
      ]
     },
     "execution_count": 24,
     "metadata": {},
     "output_type": "execute_result"
    },
    {
     "data": {
      "image/png": "[encoded data removed]",
      "text/plain": [
       "<Figure size 640x480 with 1 Axes>"
      ]
     },
     "metadata": {},
     "output_type": "display_data"
    }
   ],
   "source": [
    "ts_times = []\n",
    "sk_times = []\n",
    "dtai_times = []\n",
    "for i in range(200, 550, 50):\n",
    "    print(f'processing: {i}' , end='\\r')\n",
    "\n",
    "    df = pl.read_csv(dataset_location).sample(n=i).to_pandas()\n",
    "    data = df[window_cols].values\n",
    "\n",
    "    # ts\n",
    "    # print('ts')\n",
    "    start_time = time.time()\n",
    "    _ = ts_dtw(data.reshape(-1, window_len, 1))\n",
    "    ts_times.append(time.time() - start_time)\n",
    "    \n",
    "    # print('sk')\n",
    "    # sk\n",
    "    start_time = time.time()\n",
    "    _ = sk_dtw().transform(X = data.reshape(-1, 1, window_len))\n",
    "    sk_times.append(time.time() - start_time)\n",
    "    \n",
    "    # print('dtai')\n",
    "    # dtai\n",
    "    start_time = time.time()\n",
    "    dtai_dist = np.array(dtai_dtw.distance_matrix_fast(data, compact=False))\n",
    "    dtai_times.append(time.time() - start_time)   \n",
    "    \n",
    "times = pd.DataFrame()\n",
    "times['sample_size'] = list(range(200, 550, 50))\n",
    "times['tslearn'] = ts_times\n",
    "times['sktime'] = sk_times\n",
    "times['DTAIDistance'] = dtai_times    \n",
    "\n",
    "ax = times.plot.line(x='sample_size')\n",
    "ax.set_ylabel('seconds')"
   ]
  },
  {
   "cell_type": "markdown",
   "id": "b5bf560c-68f2-4548-b06a-8bbbafe4eb9a",
   "metadata": {},
   "source": [
    "## Window = 5"
   ]
  },
  {
   "cell_type": "code",
   "execution_count": 25,
   "id": "20df36fe-59a7-4eb8-b4ce-0f0329465553",
   "metadata": {},
   "outputs": [
    {
     "name": "stdout",
     "output_type": "stream",
     "text": [
      "processing: 500\r"
     ]
    },
    {
     "data": {
      "text/plain": [
       "Text(0, 0.5, 'seconds')"
      ]
     },
     "execution_count": 25,
     "metadata": {},
     "output_type": "execute_result"
    },
    {
     "data": {
      "image/png": "[encoded data removed]",
      "text/plain": [
       "<Figure size 640x480 with 1 Axes>"
      ]
     },
     "metadata": {},
     "output_type": "display_data"
    }
   ],
   "source": [
    "ts_times = []\n",
    "sk_times = []\n",
    "dtai_times = []\n",
    "for i in range(50, 550, 50):\n",
    "    print(f'processing: {i}' , end='\\r')\n",
    "    df = pl.read_csv(dataset_location).sample(n=i).to_pandas()\n",
    "    data = df[window_cols].values\n",
    "\n",
    "    # ts\n",
    "    # print('ts')\n",
    "    start_time = time.time()\n",
    "    _ = ts_dtw(data.reshape(-1, window_len, 1), global_constraint = 'sakoe_chiba', sakoe_chiba_radius = 5)\n",
    "    ts_times.append(time.time() - start_time)\n",
    "    \n",
    "    # print('sk')\n",
    "    # sk\n",
    "    start_time = time.time()\n",
    "    _ = sk_dtw(window=float(.05)).transform(X = data.reshape(-1, 1, window_len))\n",
    "    sk_times.append(time.time() - start_time)\n",
    "    \n",
    "    # print('dtai')\n",
    "    # dtai\n",
    "    start_time = time.time()\n",
    "    _ = np.array(dtai_dtw.distance_matrix_fast(data, compact=False, window=5))\n",
    "    dtai_times.append(time.time() - start_time)   \n",
    "    \n",
    "times = pd.DataFrame()\n",
    "times['sample_size'] = list(range(50, 550, 50))\n",
    "times['tslearn'] = ts_times\n",
    "times['sktime'] = sk_times\n",
    "times['DTAIDistance'] = dtai_times    \n",
    "\n",
    "ax = times.plot.line(x='sample_size')\n",
    "ax.set_ylabel('seconds')"
   ]
  },
  {
   "cell_type": "code",
   "execution_count": null,
   "id": "8e7dc44f-6cf4-45e0-b1b3-3cbd8666e232",
   "metadata": {},
   "outputs": [],
   "source": []
  }
 ],
 "metadata": {
  "kernelspec": {
   "display_name": "Python 3 (ipykernel)",
   "language": "python",
   "name": "python3"
  },
  "language_info": {
   "codemirror_mode": {
    "name": "ipython",
    "version": 3
   },
   "file_extension": ".py",
   "mimetype": "text/x-python",
   "name": "python",
   "nbconvert_exporter": "python",
   "pygments_lexer": "ipython3",
   "version": "3.9.15"
  }
 },
 "nbformat": 4,
 "nbformat_minor": 5
}
