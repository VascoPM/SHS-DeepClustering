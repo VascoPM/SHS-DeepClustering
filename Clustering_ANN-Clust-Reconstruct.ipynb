{
 "cells": [
  {
   "cell_type": "markdown",
   "id": "24a40a92-afe1-4cc1-9412-9a18fdac6c1d",
   "metadata": {},
   "source": [
    "# Clustering Solution Generator\n",
    "### $Time$ $Series$ $4th$ $Test$\n",
    "\n",
    "$Vasco$ $Mergulhão$ $-$ $April$ $2023$\n",
    "\n",
    "### Version 1:\n",
    "This script loads a model and outputs a CSV ready to be analysed on the Dashboard"
   ]
  },
  {
   "cell_type": "code",
   "execution_count": 85,
   "id": "5f75a73b-02c6-4cc7-86e5-b97cebb2ea0c",
   "metadata": {},
   "outputs": [],
   "source": [
    "import os  \n",
    "\n",
    "import pandas as pd\n",
    "import numpy as np\n",
    "import matplotlib.pyplot as plt\n",
    "from itertools import groupby\n",
    "from datetime import timedelta, date\n",
    "import plotly.graph_objects as go\n",
    "import scipy\n",
    "import math\n",
    "from sklearn.cluster import KMeans\n",
    "\n",
    "import random\n",
    "\n",
    "import time\n",
    "import datetime\n",
    "\n",
    "import umap # UMAP library is responsible for ipywidgets warning!\n",
    "\n",
    "import tensorflow as tf\n",
    "from tensorflow import keras\n",
    "from keras import models\n",
    "\n",
    "import wandb\n",
    "from wandb.keras import WandbCallback\n",
    "\n",
    "import Transform"
   ]
  },
  {
   "cell_type": "code",
   "execution_count": 2,
   "id": "e1ddf4cb-7e90-4bf3-95dc-08d2ed0710c5",
   "metadata": {},
   "outputs": [],
   "source": [
    "# Set Random Seeds\n",
    "os.environ['TF_CUDNN_DETERMINISTIC'] = '1'\n",
    "random.seed(42)\n",
    "np.random.seed(42)\n",
    "tf.random.set_seed(42)"
   ]
  },
  {
   "cell_type": "markdown",
   "id": "f608df01-2742-4595-9579-731e32617de3",
   "metadata": {},
   "source": [
    "---\n",
    "# Script Variables"
   ]
  },
  {
   "cell_type": "code",
   "execution_count": 79,
   "id": "3abc4438-3888-4999-bbbd-b8cbcbc5fc6d",
   "metadata": {},
   "outputs": [],
   "source": [
    "# MANUAL INPUTS\n",
    "# MAKE SURE THEY ARE CORRECT\n",
    "# Everything else is automated\n",
    "dataset_name = 'Kenya_90k_Set_1_w90_pW'\n",
    "Model_Name = 'LSTM_AE' # Options: FC_N2D, LSTM_AE, CNN_AE, CNN_ConvEmb\n",
    "solution_name = 'efficient-sweep-2:v49'\n",
    "\n",
    "# This loads model by name.\n",
    "# Identify the best model by navigating the WandB Sweeps page.\n",
    "# Find link to best model (and version)  in Artifacts -> Usage, and copy directory.\n",
    "# .pb format is only accepted by Tensorflow, NOT Keras.\n",
    "##############################################################################\n",
    "\n"
   ]
  },
  {
   "cell_type": "code",
   "execution_count": 80,
   "id": "b2415bb2-576d-431f-9e79-6055d3424bf8",
   "metadata": {},
   "outputs": [],
   "source": [
    "# Uses name to navigate folders\n",
    "window_cols, window_len = Transform.retrive_window_col_names(dataset_name)\n",
    "dataset_folder = \"_\".join(dataset_name.split('_')[:-2]) \n",
    "dataset_location = f'../Data_Storage_Processing/Data/{dataset_folder}/{dataset_name}.csv'\n",
    "\n",
    "\n",
    "# Project Name\n",
    "scaler_dict = {'Orig':'OriginalScale',\n",
    "               'pW':'pWindow',\n",
    "               'G':'Gobal'}\n",
    "dataset_name_base = \"_\".join(dataset_name.split('_')[:-1])\n",
    "scaler_used = dataset_name.split('_')[-1]\n",
    "\n",
    "Project_Name = f'DeepClust--{dataset_name_base}--{scaler_dict[scaler_used]}'"
   ]
  },
  {
   "cell_type": "markdown",
   "id": "03c2eda3-3535-4a55-b4b7-87a86570baa2",
   "metadata": {
    "tags": []
   },
   "source": [
    "---\n",
    "# Data Imports"
   ]
  },
  {
   "cell_type": "code",
   "execution_count": 75,
   "id": "0a1cc872-de0e-48b7-b201-9d554065c6b8",
   "metadata": {},
   "outputs": [],
   "source": [
    "Data = pd.read_csv(dataset_location)"
   ]
  },
  {
   "cell_type": "code",
   "execution_count": 76,
   "id": "206a7a76-b4cd-4ac2-bbf5-9735e2649c09",
   "metadata": {},
   "outputs": [
    {
     "data": {
      "text/html": [
       "<div>\n",
       "<style scoped>\n",
       "    .dataframe tbody tr th:only-of-type {\n",
       "        vertical-align: middle;\n",
       "    }\n",
       "\n",
       "    .dataframe tbody tr th {\n",
       "        vertical-align: top;\n",
       "    }\n",
       "\n",
       "    .dataframe thead th {\n",
       "        text-align: right;\n",
       "    }\n",
       "</style>\n",
       "<table border=\"1\" class=\"dataframe\">\n",
       "  <thead>\n",
       "    <tr style=\"text-align: right;\">\n",
       "      <th></th>\n",
       "      <th>short_ID</th>\n",
       "      <th>window_ID</th>\n",
       "      <th>window_start_date</th>\n",
       "      <th>d1</th>\n",
       "      <th>d2</th>\n",
       "      <th>d3</th>\n",
       "      <th>d4</th>\n",
       "      <th>d5</th>\n",
       "      <th>d6</th>\n",
       "      <th>d7</th>\n",
       "      <th>...</th>\n",
       "      <th>d81</th>\n",
       "      <th>d82</th>\n",
       "      <th>d83</th>\n",
       "      <th>d84</th>\n",
       "      <th>d85</th>\n",
       "      <th>d86</th>\n",
       "      <th>d87</th>\n",
       "      <th>d88</th>\n",
       "      <th>d89</th>\n",
       "      <th>d90</th>\n",
       "    </tr>\n",
       "  </thead>\n",
       "  <tbody>\n",
       "    <tr>\n",
       "      <th>0</th>\n",
       "      <td>127</td>\n",
       "      <td>0</td>\n",
       "      <td>2018-01-20</td>\n",
       "      <td>0.543805</td>\n",
       "      <td>0.503693</td>\n",
       "      <td>0.463580</td>\n",
       "      <td>0.423467</td>\n",
       "      <td>0.383355</td>\n",
       "      <td>0.343242</td>\n",
       "      <td>0.303129</td>\n",
       "      <td>...</td>\n",
       "      <td>0.906409</td>\n",
       "      <td>0.904819</td>\n",
       "      <td>0.864707</td>\n",
       "      <td>0.786444</td>\n",
       "      <td>0.784481</td>\n",
       "      <td>0.706456</td>\n",
       "      <td>0.666459</td>\n",
       "      <td>0.626384</td>\n",
       "      <td>0.586360</td>\n",
       "      <td>0.583918</td>\n",
       "    </tr>\n",
       "    <tr>\n",
       "      <th>1</th>\n",
       "      <td>127</td>\n",
       "      <td>1</td>\n",
       "      <td>2018-04-20</td>\n",
       "      <td>0.525359</td>\n",
       "      <td>0.522565</td>\n",
       "      <td>0.480950</td>\n",
       "      <td>0.439334</td>\n",
       "      <td>0.397718</td>\n",
       "      <td>0.317612</td>\n",
       "      <td>0.314487</td>\n",
       "      <td>...</td>\n",
       "      <td>1.019053</td>\n",
       "      <td>0.977438</td>\n",
       "      <td>0.935822</td>\n",
       "      <td>0.894206</td>\n",
       "      <td>0.852591</td>\n",
       "      <td>0.810975</td>\n",
       "      <td>0.769359</td>\n",
       "      <td>0.727744</td>\n",
       "      <td>0.686128</td>\n",
       "      <td>0.644512</td>\n",
       "    </tr>\n",
       "    <tr>\n",
       "      <th>2</th>\n",
       "      <td>127</td>\n",
       "      <td>2</td>\n",
       "      <td>2018-07-19</td>\n",
       "      <td>0.651208</td>\n",
       "      <td>0.606258</td>\n",
       "      <td>0.561307</td>\n",
       "      <td>0.516357</td>\n",
       "      <td>0.471407</td>\n",
       "      <td>0.426456</td>\n",
       "      <td>0.381506</td>\n",
       "      <td>...</td>\n",
       "      <td>1.013146</td>\n",
       "      <td>0.968196</td>\n",
       "      <td>0.923246</td>\n",
       "      <td>0.878295</td>\n",
       "      <td>0.833345</td>\n",
       "      <td>0.788395</td>\n",
       "      <td>0.743444</td>\n",
       "      <td>0.698494</td>\n",
       "      <td>0.653543</td>\n",
       "      <td>0.608593</td>\n",
       "    </tr>\n",
       "    <tr>\n",
       "      <th>3</th>\n",
       "      <td>127</td>\n",
       "      <td>3</td>\n",
       "      <td>2018-10-17</td>\n",
       "      <td>0.594276</td>\n",
       "      <td>0.546883</td>\n",
       "      <td>0.499489</td>\n",
       "      <td>0.452096</td>\n",
       "      <td>0.404703</td>\n",
       "      <td>0.357309</td>\n",
       "      <td>0.309916</td>\n",
       "      <td>...</td>\n",
       "      <td>0.499489</td>\n",
       "      <td>0.452096</td>\n",
       "      <td>0.404703</td>\n",
       "      <td>0.357309</td>\n",
       "      <td>0.309916</td>\n",
       "      <td>0.262522</td>\n",
       "      <td>0.215129</td>\n",
       "      <td>0.167736</td>\n",
       "      <td>0.120342</td>\n",
       "      <td>0.072949</td>\n",
       "    </tr>\n",
       "    <tr>\n",
       "      <th>4</th>\n",
       "      <td>127</td>\n",
       "      <td>4</td>\n",
       "      <td>2019-01-15</td>\n",
       "      <td>0.953922</td>\n",
       "      <td>0.853922</td>\n",
       "      <td>0.753922</td>\n",
       "      <td>0.653922</td>\n",
       "      <td>0.553922</td>\n",
       "      <td>0.453922</td>\n",
       "      <td>0.353922</td>\n",
       "      <td>...</td>\n",
       "      <td>0.453922</td>\n",
       "      <td>0.353922</td>\n",
       "      <td>0.253922</td>\n",
       "      <td>0.153922</td>\n",
       "      <td>0.753922</td>\n",
       "      <td>0.653922</td>\n",
       "      <td>0.553922</td>\n",
       "      <td>0.453922</td>\n",
       "      <td>0.353922</td>\n",
       "      <td>2.000000</td>\n",
       "    </tr>\n",
       "  </tbody>\n",
       "</table>\n",
       "<p>5 rows × 93 columns</p>\n",
       "</div>"
      ],
      "text/plain": [
       "   short_ID  window_ID window_start_date        d1        d2        d3  \\\n",
       "0       127          0        2018-01-20  0.543805  0.503693  0.463580   \n",
       "1       127          1        2018-04-20  0.525359  0.522565  0.480950   \n",
       "2       127          2        2018-07-19  0.651208  0.606258  0.561307   \n",
       "3       127          3        2018-10-17  0.594276  0.546883  0.499489   \n",
       "4       127          4        2019-01-15  0.953922  0.853922  0.753922   \n",
       "\n",
       "         d4        d5        d6        d7  ...       d81       d82       d83  \\\n",
       "0  0.423467  0.383355  0.343242  0.303129  ...  0.906409  0.904819  0.864707   \n",
       "1  0.439334  0.397718  0.317612  0.314487  ...  1.019053  0.977438  0.935822   \n",
       "2  0.516357  0.471407  0.426456  0.381506  ...  1.013146  0.968196  0.923246   \n",
       "3  0.452096  0.404703  0.357309  0.309916  ...  0.499489  0.452096  0.404703   \n",
       "4  0.653922  0.553922  0.453922  0.353922  ...  0.453922  0.353922  0.253922   \n",
       "\n",
       "        d84       d85       d86       d87       d88       d89       d90  \n",
       "0  0.786444  0.784481  0.706456  0.666459  0.626384  0.586360  0.583918  \n",
       "1  0.894206  0.852591  0.810975  0.769359  0.727744  0.686128  0.644512  \n",
       "2  0.878295  0.833345  0.788395  0.743444  0.698494  0.653543  0.608593  \n",
       "3  0.357309  0.309916  0.262522  0.215129  0.167736  0.120342  0.072949  \n",
       "4  0.153922  0.753922  0.653922  0.553922  0.453922  0.353922  2.000000  \n",
       "\n",
       "[5 rows x 93 columns]"
      ]
     },
     "execution_count": 76,
     "metadata": {},
     "output_type": "execute_result"
    }
   ],
   "source": [
    "Data.head()"
   ]
  },
  {
   "cell_type": "markdown",
   "id": "1f73cc33-99f0-4f75-9591-4c8383566bf7",
   "metadata": {},
   "source": [
    "## Reshaping Data"
   ]
  },
  {
   "cell_type": "code",
   "execution_count": 81,
   "id": "104f3a32-06bb-49d3-8613-59e5bda5da9f",
   "metadata": {},
   "outputs": [],
   "source": [
    "if Model_Name == 'FC_N2D':\n",
    "    predict_data =  Data[window_cols].to_numpy()\n",
    "else:\n",
    "    predict_data =  Data[window_cols].to_numpy().reshape(-1, window_len, 1)"
   ]
  },
  {
   "cell_type": "code",
   "execution_count": 82,
   "id": "543b9260-d5ee-414c-9dea-81ddb5360106",
   "metadata": {},
   "outputs": [
    {
     "data": {
      "text/plain": [
       "(824662, 90, 1)"
      ]
     },
     "execution_count": 82,
     "metadata": {},
     "output_type": "execute_result"
    }
   ],
   "source": [
    "predict_data.shape"
   ]
  },
  {
   "cell_type": "markdown",
   "id": "e9418b97-d49a-4f38-96ec-cdb821c173a9",
   "metadata": {},
   "source": [
    "---\n",
    "---\n",
    "# Loading Model"
   ]
  },
  {
   "cell_type": "code",
   "execution_count": 12,
   "id": "c4d07c57-4cf1-45b2-84ab-27abf8f8f1bf",
   "metadata": {
    "tags": []
   },
   "outputs": [
    {
     "name": "stderr",
     "output_type": "stream",
     "text": [
      "\u001b[34m\u001b[1mwandb\u001b[0m: Currently logged in as: \u001b[33mvasco-mergulhao\u001b[0m (\u001b[33mvasco-phd\u001b[0m). Use \u001b[1m`wandb login --relogin`\u001b[0m to force relogin\n"
     ]
    },
    {
     "data": {
      "text/html": [
       "wandb version 0.14.0 is available!  To upgrade, please run:\n",
       " $ pip install wandb --upgrade"
      ],
      "text/plain": [
       "<IPython.core.display.HTML object>"
      ]
     },
     "metadata": {},
     "output_type": "display_data"
    },
    {
     "data": {
      "text/html": [
       "Tracking run with wandb version 0.13.6"
      ],
      "text/plain": [
       "<IPython.core.display.HTML object>"
      ]
     },
     "metadata": {},
     "output_type": "display_data"
    },
    {
     "data": {
      "text/html": [
       "Run data is saved locally in <code>C:\\Users\\ucesvpm\\OneDrive - University College London\\PhD Project\\Data Analytics\\Time Series Clustering\\Time Series Clustering\\SHS-DeepClustering\\wandb\\run-20230404_115224-35tx5wdj</code>"
      ],
      "text/plain": [
       "<IPython.core.display.HTML object>"
      ]
     },
     "metadata": {},
     "output_type": "display_data"
    },
    {
     "data": {
      "text/html": [
       "Syncing run <strong><a href=\"https://wandb.ai/vasco-phd/SHS-DeepClustering/runs/35tx5wdj\" target=\"_blank\">autumn-forest-1</a></strong> to <a href=\"https://wandb.ai/vasco-phd/SHS-DeepClustering\" target=\"_blank\">Weights & Biases</a> (<a href=\"https://wandb.me/run\" target=\"_blank\">docs</a>)<br/>"
      ],
      "text/plain": [
       "<IPython.core.display.HTML object>"
      ]
     },
     "metadata": {},
     "output_type": "display_data"
    },
    {
     "name": "stderr",
     "output_type": "stream",
     "text": [
      "\u001b[34m\u001b[1mwandb\u001b[0m:   4 of 4 files downloaded.  \n"
     ]
    },
    {
     "data": {
      "text/html": [
       "Waiting for W&B process to finish... <strong style=\"color:green\">(success).</strong>"
      ],
      "text/plain": [
       "<IPython.core.display.HTML object>"
      ]
     },
     "metadata": {},
     "output_type": "display_data"
    },
    {
     "data": {
      "text/html": [
       "Synced <strong style=\"color:#cdcd00\">autumn-forest-1</strong>: <a href=\"https://wandb.ai/vasco-phd/SHS-DeepClustering/runs/35tx5wdj\" target=\"_blank\">https://wandb.ai/vasco-phd/SHS-DeepClustering/runs/35tx5wdj</a><br/>Synced 6 W&B file(s), 0 media file(s), 0 artifact file(s) and 0 other file(s)"
      ],
      "text/plain": [
       "<IPython.core.display.HTML object>"
      ]
     },
     "metadata": {},
     "output_type": "display_data"
    },
    {
     "data": {
      "text/html": [
       "Find logs at: <code>.\\wandb\\run-20230404_115224-35tx5wdj\\logs</code>"
      ],
      "text/plain": [
       "<IPython.core.display.HTML object>"
      ]
     },
     "metadata": {},
     "output_type": "display_data"
    }
   ],
   "source": [
    "run = wandb.init()\n",
    "model_artifact = run.use_artifact(f'vasco-phd/{Project_Name}/model-{solution_name}', type='model')\n",
    "model_dir = model_artifact.download()\n",
    "# local_model_dir = 'C:/Users/ucesvpm/OneDrive - University College London/PhD Project/Data Analytics/Time Series Clustering/Second Test/wandb/run-20221213_173041-jc918077'\n",
    "loaded_autoencoder = tf.keras.models.load_model(model_dir)\n",
    "run.finish()"
   ]
  },
  {
   "cell_type": "code",
   "execution_count": 49,
   "id": "44ca30ce-2541-4971-8c2c-a98bad403084",
   "metadata": {},
   "outputs": [
    {
     "name": "stdout",
     "output_type": "stream",
     "text": [
      "Model: \"LSTM_AE\"\n",
      "_________________________________________________________________\n",
      " Layer (type)                Output Shape              Param #   \n",
      "=================================================================\n",
      " input_1 (InputLayer)        [(None, 90, 1)]           0         \n",
      "                                                                 \n",
      " Encoder (LSTM)              (None, 90, 100)           40800     \n",
      "                                                                 \n",
      " Lantent_Space (LSTM)        (None, 25)                12600     \n",
      "                                                                 \n",
      " Reshape_Embeding (RepeatVec  (None, 90, 25)           0         \n",
      " tor)                                                            \n",
      "                                                                 \n",
      " Decoder_1 (LSTM)            (None, 90, 25)            5100      \n",
      "                                                                 \n",
      " Decoder_2 (LSTM)            (None, 90, 100)           50400     \n",
      "                                                                 \n",
      " Reshape_Output (TimeDistrib  (None, 90, 1)            101       \n",
      " uted)                                                           \n",
      "                                                                 \n",
      "=================================================================\n",
      "Total params: 109,001\n",
      "Trainable params: 109,001\n",
      "Non-trainable params: 0\n",
      "_________________________________________________________________\n"
     ]
    }
   ],
   "source": [
    "loaded_autoencoder.summary()"
   ]
  },
  {
   "cell_type": "code",
   "execution_count": 84,
   "id": "117e45ed-f95a-4018-b31b-bcc0f3adb914",
   "metadata": {},
   "outputs": [
    {
     "name": "stdout",
     "output_type": "stream",
     "text": [
      "Model: \"LSTM_AE_encoder\"\n",
      "_________________________________________________________________\n",
      " Layer (type)                Output Shape              Param #   \n",
      "=================================================================\n",
      " input_1 (InputLayer)        [(None, 90, 1)]           0         \n",
      "                                                                 \n",
      " Encoder (LSTM)              (None, 90, 100)           40800     \n",
      "                                                                 \n",
      " Lantent_Space (LSTM)        (None, 25)                12600     \n",
      "                                                                 \n",
      "=================================================================\n",
      "Total params: 53,400\n",
      "Trainable params: 53,400\n",
      "Non-trainable params: 0\n",
      "_________________________________________________________________\n"
     ]
    }
   ],
   "source": [
    "# bottleneck model\n",
    "encoder_output = loaded_autoencoder.get_layer('Lantent_Space').output\n",
    "encoder = models.Model(inputs = loaded_autoencoder.input, outputs = encoder_output, name = f'{Model_Name}_encoder')\n",
    "encoder.summary()"
   ]
  },
  {
   "cell_type": "markdown",
   "id": "a72b5def-8995-4d4e-a178-bcd08fe39219",
   "metadata": {
    "tags": []
   },
   "source": [
    "---\n",
    "#  Reconstruction Error"
   ]
  },
  {
   "cell_type": "code",
   "execution_count": 95,
   "id": "4743c1fd-8128-490c-8514-2b413dc75b7e",
   "metadata": {},
   "outputs": [
    {
     "name": "stdout",
     "output_type": "stream",
     "text": [
      "25771/25771 [==============================] - 1702s 66ms/step\n"
     ]
    }
   ],
   "source": [
    "# Calculates the RModelontruction Profiles (Predictions)\n",
    "reconstruct_data = loaded_autoencoder.predict(predict_data)"
   ]
  },
  {
   "cell_type": "code",
   "execution_count": 105,
   "id": "9b6522ca-0ad5-48c6-a2ad-562277ae0a85",
   "metadata": {},
   "outputs": [],
   "source": [
    "# Saves the Reconstructect windows\n",
    "df_reconstruct = Data[['short_ID', 'window_ID']].copy(deep=True)\n",
    "if Model_Name == 'FC_N2D':\n",
    "    df_reconstruct[window_cols] = reconstruct_data\n",
    "else:\n",
    "    df_reconstruct[window_cols] = reconstruct_data.reshape(-1, window_len)"
   ]
  },
  {
   "cell_type": "code",
   "execution_count": 112,
   "id": "2cbaaa0b-93da-4881-a626-6ed9ca304582",
   "metadata": {},
   "outputs": [],
   "source": [
    "# Calculating MSE per window\n",
    "MSE = tf.keras.losses.MeanSquaredError(reduction='none')\n",
    "if Model_Name == 'FC_N2D':\n",
    "    MSE_values = MSE(predict_data, reconstruct_data).numpy()\n",
    "else:\n",
    "    MSE_values = MSE(predict_data.reshape(-1, window_len), reconstruct_data.reshape(-1, window_len)).numpy()\n",
    "#Adding to reconstructed dataframe\n",
    "df_reconstruct.insert(loc=2, column='MSE', value=MSE_values)"
   ]
  },
  {
   "cell_type": "code",
   "execution_count": 113,
   "id": "e15733b3-8802-45f4-86cc-873fb6f48f03",
   "metadata": {},
   "outputs": [
    {
     "data": {
      "text/html": [
       "<div>\n",
       "<style scoped>\n",
       "    .dataframe tbody tr th:only-of-type {\n",
       "        vertical-align: middle;\n",
       "    }\n",
       "\n",
       "    .dataframe tbody tr th {\n",
       "        vertical-align: top;\n",
       "    }\n",
       "\n",
       "    .dataframe thead th {\n",
       "        text-align: right;\n",
       "    }\n",
       "</style>\n",
       "<table border=\"1\" class=\"dataframe\">\n",
       "  <thead>\n",
       "    <tr style=\"text-align: right;\">\n",
       "      <th></th>\n",
       "      <th>short_ID</th>\n",
       "      <th>window_ID</th>\n",
       "      <th>MSE</th>\n",
       "      <th>d1</th>\n",
       "      <th>d2</th>\n",
       "      <th>d3</th>\n",
       "      <th>d4</th>\n",
       "      <th>d5</th>\n",
       "      <th>d6</th>\n",
       "      <th>d7</th>\n",
       "      <th>...</th>\n",
       "      <th>d81</th>\n",
       "      <th>d82</th>\n",
       "      <th>d83</th>\n",
       "      <th>d84</th>\n",
       "      <th>d85</th>\n",
       "      <th>d86</th>\n",
       "      <th>d87</th>\n",
       "      <th>d88</th>\n",
       "      <th>d89</th>\n",
       "      <th>d90</th>\n",
       "    </tr>\n",
       "  </thead>\n",
       "  <tbody>\n",
       "    <tr>\n",
       "      <th>0</th>\n",
       "      <td>127</td>\n",
       "      <td>0</td>\n",
       "      <td>0.036224</td>\n",
       "      <td>0.551866</td>\n",
       "      <td>0.511525</td>\n",
       "      <td>0.418921</td>\n",
       "      <td>0.393570</td>\n",
       "      <td>0.376943</td>\n",
       "      <td>0.354484</td>\n",
       "      <td>0.342850</td>\n",
       "      <td>...</td>\n",
       "      <td>0.918718</td>\n",
       "      <td>0.906462</td>\n",
       "      <td>0.890662</td>\n",
       "      <td>0.858993</td>\n",
       "      <td>0.806989</td>\n",
       "      <td>0.740205</td>\n",
       "      <td>0.668449</td>\n",
       "      <td>0.601423</td>\n",
       "      <td>0.551958</td>\n",
       "      <td>0.541089</td>\n",
       "    </tr>\n",
       "    <tr>\n",
       "      <th>1</th>\n",
       "      <td>127</td>\n",
       "      <td>1</td>\n",
       "      <td>0.001781</td>\n",
       "      <td>0.511137</td>\n",
       "      <td>0.535627</td>\n",
       "      <td>0.456171</td>\n",
       "      <td>0.430780</td>\n",
       "      <td>0.399154</td>\n",
       "      <td>0.356051</td>\n",
       "      <td>0.327404</td>\n",
       "      <td>...</td>\n",
       "      <td>1.020759</td>\n",
       "      <td>0.995790</td>\n",
       "      <td>0.969248</td>\n",
       "      <td>0.935301</td>\n",
       "      <td>0.888822</td>\n",
       "      <td>0.829687</td>\n",
       "      <td>0.764942</td>\n",
       "      <td>0.704779</td>\n",
       "      <td>0.660446</td>\n",
       "      <td>0.643842</td>\n",
       "    </tr>\n",
       "    <tr>\n",
       "      <th>2</th>\n",
       "      <td>127</td>\n",
       "      <td>2</td>\n",
       "      <td>0.008751</td>\n",
       "      <td>0.540324</td>\n",
       "      <td>0.648341</td>\n",
       "      <td>0.572467</td>\n",
       "      <td>0.494882</td>\n",
       "      <td>0.453017</td>\n",
       "      <td>0.394184</td>\n",
       "      <td>0.348231</td>\n",
       "      <td>...</td>\n",
       "      <td>0.935303</td>\n",
       "      <td>0.903605</td>\n",
       "      <td>0.875646</td>\n",
       "      <td>0.850747</td>\n",
       "      <td>0.823421</td>\n",
       "      <td>0.788953</td>\n",
       "      <td>0.749272</td>\n",
       "      <td>0.711617</td>\n",
       "      <td>0.685288</td>\n",
       "      <td>0.679950</td>\n",
       "    </tr>\n",
       "    <tr>\n",
       "      <th>3</th>\n",
       "      <td>127</td>\n",
       "      <td>3</td>\n",
       "      <td>0.003819</td>\n",
       "      <td>0.503273</td>\n",
       "      <td>0.541258</td>\n",
       "      <td>0.460892</td>\n",
       "      <td>0.437429</td>\n",
       "      <td>0.392647</td>\n",
       "      <td>0.366842</td>\n",
       "      <td>0.359645</td>\n",
       "      <td>...</td>\n",
       "      <td>0.443012</td>\n",
       "      <td>0.411199</td>\n",
       "      <td>0.390286</td>\n",
       "      <td>0.376721</td>\n",
       "      <td>0.359625</td>\n",
       "      <td>0.327530</td>\n",
       "      <td>0.277821</td>\n",
       "      <td>0.214182</td>\n",
       "      <td>0.147162</td>\n",
       "      <td>0.123559</td>\n",
       "    </tr>\n",
       "    <tr>\n",
       "      <th>4</th>\n",
       "      <td>127</td>\n",
       "      <td>4</td>\n",
       "      <td>0.057101</td>\n",
       "      <td>1.141542</td>\n",
       "      <td>0.830329</td>\n",
       "      <td>0.652757</td>\n",
       "      <td>0.551421</td>\n",
       "      <td>0.494866</td>\n",
       "      <td>0.487153</td>\n",
       "      <td>0.502427</td>\n",
       "      <td>...</td>\n",
       "      <td>0.576964</td>\n",
       "      <td>0.515441</td>\n",
       "      <td>0.453450</td>\n",
       "      <td>0.377552</td>\n",
       "      <td>0.284933</td>\n",
       "      <td>0.226393</td>\n",
       "      <td>0.501658</td>\n",
       "      <td>1.006430</td>\n",
       "      <td>0.971729</td>\n",
       "      <td>0.888564</td>\n",
       "    </tr>\n",
       "  </tbody>\n",
       "</table>\n",
       "<p>5 rows × 93 columns</p>\n",
       "</div>"
      ],
      "text/plain": [
       "   short_ID  window_ID       MSE        d1        d2        d3        d4  \\\n",
       "0       127          0  0.036224  0.551866  0.511525  0.418921  0.393570   \n",
       "1       127          1  0.001781  0.511137  0.535627  0.456171  0.430780   \n",
       "2       127          2  0.008751  0.540324  0.648341  0.572467  0.494882   \n",
       "3       127          3  0.003819  0.503273  0.541258  0.460892  0.437429   \n",
       "4       127          4  0.057101  1.141542  0.830329  0.652757  0.551421   \n",
       "\n",
       "         d5        d6        d7  ...       d81       d82       d83       d84  \\\n",
       "0  0.376943  0.354484  0.342850  ...  0.918718  0.906462  0.890662  0.858993   \n",
       "1  0.399154  0.356051  0.327404  ...  1.020759  0.995790  0.969248  0.935301   \n",
       "2  0.453017  0.394184  0.348231  ...  0.935303  0.903605  0.875646  0.850747   \n",
       "3  0.392647  0.366842  0.359645  ...  0.443012  0.411199  0.390286  0.376721   \n",
       "4  0.494866  0.487153  0.502427  ...  0.576964  0.515441  0.453450  0.377552   \n",
       "\n",
       "        d85       d86       d87       d88       d89       d90  \n",
       "0  0.806989  0.740205  0.668449  0.601423  0.551958  0.541089  \n",
       "1  0.888822  0.829687  0.764942  0.704779  0.660446  0.643842  \n",
       "2  0.823421  0.788953  0.749272  0.711617  0.685288  0.679950  \n",
       "3  0.359625  0.327530  0.277821  0.214182  0.147162  0.123559  \n",
       "4  0.284933  0.226393  0.501658  1.006430  0.971729  0.888564  \n",
       "\n",
       "[5 rows x 93 columns]"
      ]
     },
     "execution_count": 113,
     "metadata": {},
     "output_type": "execute_result"
    }
   ],
   "source": [
    "df_reconstruct.head()"
   ]
  },
  {
   "cell_type": "markdown",
   "id": "28a859f9-18b0-4f90-9a5d-360802f37eda",
   "metadata": {},
   "source": [
    "---\n",
    "---\n",
    "# 2D UMAP"
   ]
  },
  {
   "cell_type": "code",
   "execution_count": 86,
   "id": "5ed34355-0a57-401c-9f2b-a5a162c199b8",
   "metadata": {},
   "outputs": [],
   "source": [
    "def UMAP_funct (data, dims = 2, mode = 'visualisation'):\n",
    "    # this function allows you to switch from the settings optimazed from visualisation to clustering more easily\n",
    "    start_time = time.time()\n",
    "    if mode == 'visualisation':\n",
    "        print(f'Processing UMAP {dims}D-Viz')\n",
    "        umap_array = umap.UMAP(random_state=42, n_components = dims).fit_transform(data)\n",
    "        print(f'Time: {np.round(time.time() - start_time,2)}[s]') \n",
    "        \n",
    "        return umap_array\n",
    "    \n",
    "    elif mode == 'clustering':\n",
    "        \n",
    "        print(f'Processing UMAP {dims}D-Clust')\n",
    "        # Settings from https://umap-learn.readthedocs.io/en/latest/clustering.html\n",
    "        # General idea is larger n_neighbors to capture wider relationships, and smaller min_dist to keep points closer (better for density alg)\n",
    "        umap_array = umap.UMAP(random_state=42,\n",
    "                               n_components = dims,\n",
    "                               n_neighbors=30,\n",
    "                               min_dist=0.0\n",
    "                              ).fit_transform(data)\n",
    "        \n",
    "        print(f'Time: {np.round(time.time() - start_time,2)}[s]') \n",
    "        \n",
    "        return umap_array\n",
    "    else:\n",
    "        print(f'UMAP mode {mode} NOT recognized.')"
   ]
  },
  {
   "cell_type": "code",
   "execution_count": 68,
   "id": "c8f54084-28ca-4b22-87d9-9b117dc7fc88",
   "metadata": {},
   "outputs": [
    {
     "name": "stdout",
     "output_type": "stream",
     "text": [
      "25771/25771 [==============================] - 466s 18ms/step\n"
     ]
    }
   ],
   "source": [
    "# Calculating Latent Space Projection\n",
    "encoded_data = encoder.predict(predict_data)"
   ]
  },
  {
   "cell_type": "code",
   "execution_count": 90,
   "id": "000a69b1-60e5-4ed4-b98c-27688ff7f562",
   "metadata": {},
   "outputs": [],
   "source": [
    " # encoded_data = encoded_data.numpy()\n",
    "df_encoded = pd.DataFrame(encoded_data)"
   ]
  },
  {
   "cell_type": "code",
   "execution_count": 88,
   "id": "25ae8362-0a05-4d87-b80d-fb9ac4cacbaf",
   "metadata": {},
   "outputs": [
    {
     "name": "stdout",
     "output_type": "stream",
     "text": [
      "Processing UMAP 2D-Viz\n",
      "Time: 1336.47[s]\n"
     ]
    }
   ],
   "source": [
    "#Calcs UMAP for Visual Purposes  \n",
    "v_2D_umap = UMAP_funct (encoded_data, dims = 2, mode = 'visualisation')"
   ]
  },
  {
   "cell_type": "code",
   "execution_count": 116,
   "id": "823344cf-5015-4b13-8343-cfc24ca1f07c",
   "metadata": {},
   "outputs": [],
   "source": [
    "# Creates DF for Clustering Solutions\n",
    "df_sols  = Data.copy(deep=True)\n",
    "df_sols.drop(window_cols, axis=1, inplace=True)"
   ]
  },
  {
   "cell_type": "code",
   "execution_count": 117,
   "id": "10524f88-ffc1-4731-90c8-c9e0244c9346",
   "metadata": {},
   "outputs": [],
   "source": [
    "#Adds Dims to Dataframes\n",
    "df_sols['UMAP_V1'] = v_2D_umap[:, 0]\n",
    "df_sols['UMAP_V2'] = v_2D_umap[:, 1]\n",
    "\n",
    "df_reconstruct.insert(loc=2, column='UMAP_V2', value=v_2D_umap[:, 1])\n",
    "df_reconstruct.insert(loc=2, column='UMAP_V1', value=v_2D_umap[:, 0])"
   ]
  },
  {
   "cell_type": "markdown",
   "id": "6203ec7d-1b21-4dd1-a187-c4c8ef2ec5bf",
   "metadata": {},
   "source": [
    "---\n",
    "---\n",
    "# Clustering Solutions"
   ]
  },
  {
   "cell_type": "markdown",
   "id": "2902f83d-f4a4-4e9f-822b-7e53864822a1",
   "metadata": {},
   "source": [
    "### kMeans"
   ]
  },
  {
   "cell_type": "code",
   "execution_count": 118,
   "id": "df10e435-bd8a-449a-bb6f-7162f36bcaab",
   "metadata": {},
   "outputs": [],
   "source": [
    "def kMeans_cluster(Encoded_Data, UMAP_mode = False):\n",
    "    # Uses kMeans on encoded dataset.\n",
    "    # UMAP_mode uses N2D-paper recomendation of UMAP encoded data to where k = Dims.\n",
    "    # Of course, if latent size is smaller or equal to k, then no UMAP needed.\n",
    "    \n",
    "    # Output DF, only has solution columns\n",
    "    df = pd.DataFrame()\n",
    "    start_time = time.time()\n",
    "    if UMAP_mode == True:\n",
    "        print('Clustering on UMAP of Encoded Space')\n",
    "        for k in range(2, 11):\n",
    "            if k < latent_layer_size:\n",
    "                # UMAPing to macthed k=dims with cluster friendly settings\n",
    "                clust_umap = UMAP_funct (Encoded_Data, dims = k, mode = 'clustering')\n",
    "                print(f'Processing kMeans for k={k}\\n')\n",
    "                partition = KMeans(n_clusters=k, random_state=42).fit(clust_umap)\n",
    "                \n",
    "                col_name = f'kMeans_k={k}'\n",
    "                df[col_name] = partition.labels_ + 1\n",
    "\n",
    "            else:\n",
    "                print(f'k={k} is >= to Latent Space:{latent_layer_size}')\n",
    "                print(f'Processing kMeans for k={k}')\n",
    "                partition = KMeans(n_clusters=k, random_state=42).fit(Encoded_Data)\n",
    "                \n",
    "                col_name = f'kMeans_k={k}'\n",
    "                df[col_name] = partition.labels_ + 1\n",
    "                \n",
    "    # Case with no UMAPing            \n",
    "    else:\n",
    "        print('Clustering on Encoded Space')\n",
    "    \n",
    "        # k-Means per se\n",
    "        kmeans = [KMeans(n_clusters=k, random_state=42).fit(Encoded_Data)\n",
    "                  for k in range(2, 11)]\n",
    "\n",
    "        for partition in kmeans:\n",
    "            cluster_k = partition.labels_.max() + 1\n",
    "            col_name = f'kMeans_k={cluster_k}'\n",
    "            df[col_name] = partition.labels_ + 1\n",
    "        \n",
    "    \n",
    "    print(f'Total Time: {np.round(time.time() - start_time,2)}[s]')         \n",
    "    return df"
   ]
  },
  {
   "cell_type": "code",
   "execution_count": 119,
   "id": "ffb4857d-465c-44b5-85c8-0bcbf7ac1e3c",
   "metadata": {},
   "outputs": [
    {
     "name": "stdout",
     "output_type": "stream",
     "text": [
      "Clustering on Encoded Space\n",
      "Total Time: 115.7[s]\n"
     ]
    }
   ],
   "source": [
    "kMeans_sols = kMeans_cluster(df_encoded, UMAP_mode = False)"
   ]
  },
  {
   "cell_type": "code",
   "execution_count": 120,
   "id": "265d6469-b83d-43fe-aa01-03ac76e68bf8",
   "metadata": {},
   "outputs": [],
   "source": [
    "df_sols = pd.concat([df_sols, kMeans_sols], axis=1)"
   ]
  },
  {
   "cell_type": "markdown",
   "id": "ba0adf88-8a5d-42fc-bf5e-400d1c001f6d",
   "metadata": {},
   "source": [
    "### HDBSCAN\n",
    "TBC"
   ]
  },
  {
   "cell_type": "markdown",
   "id": "e79a6361-ae14-425a-89ba-6867df31e7c4",
   "metadata": {},
   "source": [
    "---\n",
    "---\n",
    "# Saving Outputs"
   ]
  },
  {
   "cell_type": "markdown",
   "id": "77bac7b0-22fe-4934-80fd-e5d40ff020a9",
   "metadata": {},
   "source": [
    "### Clustering Solutions"
   ]
  },
  {
   "cell_type": "code",
   "execution_count": 121,
   "id": "23b38f58-0dbf-4b66-88e0-f0d11937e99e",
   "metadata": {},
   "outputs": [
    {
     "data": {
      "text/html": [
       "<div>\n",
       "<style scoped>\n",
       "    .dataframe tbody tr th:only-of-type {\n",
       "        vertical-align: middle;\n",
       "    }\n",
       "\n",
       "    .dataframe tbody tr th {\n",
       "        vertical-align: top;\n",
       "    }\n",
       "\n",
       "    .dataframe thead th {\n",
       "        text-align: right;\n",
       "    }\n",
       "</style>\n",
       "<table border=\"1\" class=\"dataframe\">\n",
       "  <thead>\n",
       "    <tr style=\"text-align: right;\">\n",
       "      <th></th>\n",
       "      <th>short_ID</th>\n",
       "      <th>window_ID</th>\n",
       "      <th>window_start_date</th>\n",
       "      <th>UMAP_V1</th>\n",
       "      <th>UMAP_V2</th>\n",
       "      <th>kMeans_k=2</th>\n",
       "      <th>kMeans_k=3</th>\n",
       "      <th>kMeans_k=4</th>\n",
       "      <th>kMeans_k=5</th>\n",
       "      <th>kMeans_k=6</th>\n",
       "      <th>kMeans_k=7</th>\n",
       "      <th>kMeans_k=8</th>\n",
       "      <th>kMeans_k=9</th>\n",
       "      <th>kMeans_k=10</th>\n",
       "    </tr>\n",
       "  </thead>\n",
       "  <tbody>\n",
       "    <tr>\n",
       "      <th>0</th>\n",
       "      <td>127</td>\n",
       "      <td>0</td>\n",
       "      <td>2018-01-20</td>\n",
       "      <td>-1.518637</td>\n",
       "      <td>3.296972</td>\n",
       "      <td>1</td>\n",
       "      <td>3</td>\n",
       "      <td>1</td>\n",
       "      <td>1</td>\n",
       "      <td>4</td>\n",
       "      <td>1</td>\n",
       "      <td>6</td>\n",
       "      <td>7</td>\n",
       "      <td>1</td>\n",
       "    </tr>\n",
       "    <tr>\n",
       "      <th>1</th>\n",
       "      <td>127</td>\n",
       "      <td>1</td>\n",
       "      <td>2018-04-20</td>\n",
       "      <td>-1.484561</td>\n",
       "      <td>3.080095</td>\n",
       "      <td>1</td>\n",
       "      <td>3</td>\n",
       "      <td>1</td>\n",
       "      <td>1</td>\n",
       "      <td>4</td>\n",
       "      <td>1</td>\n",
       "      <td>6</td>\n",
       "      <td>7</td>\n",
       "      <td>1</td>\n",
       "    </tr>\n",
       "    <tr>\n",
       "      <th>2</th>\n",
       "      <td>127</td>\n",
       "      <td>2</td>\n",
       "      <td>2018-07-19</td>\n",
       "      <td>-0.214835</td>\n",
       "      <td>3.931988</td>\n",
       "      <td>1</td>\n",
       "      <td>3</td>\n",
       "      <td>1</td>\n",
       "      <td>1</td>\n",
       "      <td>4</td>\n",
       "      <td>1</td>\n",
       "      <td>6</td>\n",
       "      <td>7</td>\n",
       "      <td>1</td>\n",
       "    </tr>\n",
       "    <tr>\n",
       "      <th>3</th>\n",
       "      <td>127</td>\n",
       "      <td>3</td>\n",
       "      <td>2018-10-17</td>\n",
       "      <td>-0.444263</td>\n",
       "      <td>3.664465</td>\n",
       "      <td>1</td>\n",
       "      <td>3</td>\n",
       "      <td>1</td>\n",
       "      <td>1</td>\n",
       "      <td>4</td>\n",
       "      <td>1</td>\n",
       "      <td>6</td>\n",
       "      <td>7</td>\n",
       "      <td>1</td>\n",
       "    </tr>\n",
       "    <tr>\n",
       "      <th>4</th>\n",
       "      <td>127</td>\n",
       "      <td>4</td>\n",
       "      <td>2019-01-15</td>\n",
       "      <td>-0.634308</td>\n",
       "      <td>4.234664</td>\n",
       "      <td>1</td>\n",
       "      <td>3</td>\n",
       "      <td>1</td>\n",
       "      <td>1</td>\n",
       "      <td>4</td>\n",
       "      <td>1</td>\n",
       "      <td>6</td>\n",
       "      <td>7</td>\n",
       "      <td>1</td>\n",
       "    </tr>\n",
       "  </tbody>\n",
       "</table>\n",
       "</div>"
      ],
      "text/plain": [
       "   short_ID  window_ID window_start_date   UMAP_V1   UMAP_V2  kMeans_k=2  \\\n",
       "0       127          0        2018-01-20 -1.518637  3.296972           1   \n",
       "1       127          1        2018-04-20 -1.484561  3.080095           1   \n",
       "2       127          2        2018-07-19 -0.214835  3.931988           1   \n",
       "3       127          3        2018-10-17 -0.444263  3.664465           1   \n",
       "4       127          4        2019-01-15 -0.634308  4.234664           1   \n",
       "\n",
       "   kMeans_k=3  kMeans_k=4  kMeans_k=5  kMeans_k=6  kMeans_k=7  kMeans_k=8  \\\n",
       "0           3           1           1           4           1           6   \n",
       "1           3           1           1           4           1           6   \n",
       "2           3           1           1           4           1           6   \n",
       "3           3           1           1           4           1           6   \n",
       "4           3           1           1           4           1           6   \n",
       "\n",
       "   kMeans_k=9  kMeans_k=10  \n",
       "0           7            1  \n",
       "1           7            1  \n",
       "2           7            1  \n",
       "3           7            1  \n",
       "4           7            1  "
      ]
     },
     "execution_count": 121,
     "metadata": {},
     "output_type": "execute_result"
    }
   ],
   "source": [
    "df_sols.head()"
   ]
  },
  {
   "cell_type": "code",
   "execution_count": 134,
   "id": "e5071ec6-efb1-4235-8f4b-c6407677510f",
   "metadata": {},
   "outputs": [],
   "source": [
    "os.makedirs(f'../ModelResults/Clustering/{dataset_name}', exist_ok=True)  \n",
    "solution_fileName = solution_name.replace(\":\", \"-\" ).replace(\"-\", \"_\" )\n",
    "solution_fileName = f'{Model_Name}-{solution_fileName}.csv'\n",
    "df_sols.to_csv(f'../ModelResults/Clustering/{dataset_name}/{solution_fileName}', index=False)  \n"
   ]
  },
  {
   "cell_type": "code",
   "execution_count": 141,
   "id": "538ede6c-d6da-4566-b451-9f77f537266b",
   "metadata": {},
   "outputs": [
    {
     "data": {
      "text/plain": [
       "'LSTM_AE-efficient_sweep_2_v49.csv'"
      ]
     },
     "execution_count": 141,
     "metadata": {},
     "output_type": "execute_result"
    },
    {
     "name": "stderr",
     "output_type": "stream",
     "text": [
      "\u001b[34m\u001b[1mwandb\u001b[0m: While tearing down the service manager. The following error has occured: [WinError 10054] An existing connection was forcibly closed by the remote host\n"
     ]
    }
   ],
   "source": [
    "solution_fileName"
   ]
  },
  {
   "cell_type": "markdown",
   "id": "a4bffb3d-7db9-4de9-b451-ea42169bf376",
   "metadata": {},
   "source": [
    "### Auto-Encoder Recontruction"
   ]
  },
  {
   "cell_type": "code",
   "execution_count": 135,
   "id": "2b53873a-6281-4334-a967-5cc36411ae82",
   "metadata": {},
   "outputs": [
    {
     "data": {
      "text/html": [
       "<div>\n",
       "<style scoped>\n",
       "    .dataframe tbody tr th:only-of-type {\n",
       "        vertical-align: middle;\n",
       "    }\n",
       "\n",
       "    .dataframe tbody tr th {\n",
       "        vertical-align: top;\n",
       "    }\n",
       "\n",
       "    .dataframe thead th {\n",
       "        text-align: right;\n",
       "    }\n",
       "</style>\n",
       "<table border=\"1\" class=\"dataframe\">\n",
       "  <thead>\n",
       "    <tr style=\"text-align: right;\">\n",
       "      <th></th>\n",
       "      <th>short_ID</th>\n",
       "      <th>window_ID</th>\n",
       "      <th>UMAP_V1</th>\n",
       "      <th>UMAP_V2</th>\n",
       "      <th>MSE</th>\n",
       "      <th>d1</th>\n",
       "      <th>d2</th>\n",
       "      <th>d3</th>\n",
       "      <th>d4</th>\n",
       "      <th>d5</th>\n",
       "      <th>...</th>\n",
       "      <th>d81</th>\n",
       "      <th>d82</th>\n",
       "      <th>d83</th>\n",
       "      <th>d84</th>\n",
       "      <th>d85</th>\n",
       "      <th>d86</th>\n",
       "      <th>d87</th>\n",
       "      <th>d88</th>\n",
       "      <th>d89</th>\n",
       "      <th>d90</th>\n",
       "    </tr>\n",
       "  </thead>\n",
       "  <tbody>\n",
       "    <tr>\n",
       "      <th>0</th>\n",
       "      <td>127</td>\n",
       "      <td>0</td>\n",
       "      <td>-1.518637</td>\n",
       "      <td>3.296972</td>\n",
       "      <td>0.036224</td>\n",
       "      <td>0.551866</td>\n",
       "      <td>0.511525</td>\n",
       "      <td>0.418921</td>\n",
       "      <td>0.393570</td>\n",
       "      <td>0.376943</td>\n",
       "      <td>...</td>\n",
       "      <td>0.918718</td>\n",
       "      <td>0.906462</td>\n",
       "      <td>0.890662</td>\n",
       "      <td>0.858993</td>\n",
       "      <td>0.806989</td>\n",
       "      <td>0.740205</td>\n",
       "      <td>0.668449</td>\n",
       "      <td>0.601423</td>\n",
       "      <td>0.551958</td>\n",
       "      <td>0.541089</td>\n",
       "    </tr>\n",
       "    <tr>\n",
       "      <th>1</th>\n",
       "      <td>127</td>\n",
       "      <td>1</td>\n",
       "      <td>-1.484561</td>\n",
       "      <td>3.080095</td>\n",
       "      <td>0.001781</td>\n",
       "      <td>0.511137</td>\n",
       "      <td>0.535627</td>\n",
       "      <td>0.456171</td>\n",
       "      <td>0.430780</td>\n",
       "      <td>0.399154</td>\n",
       "      <td>...</td>\n",
       "      <td>1.020759</td>\n",
       "      <td>0.995790</td>\n",
       "      <td>0.969248</td>\n",
       "      <td>0.935301</td>\n",
       "      <td>0.888822</td>\n",
       "      <td>0.829687</td>\n",
       "      <td>0.764942</td>\n",
       "      <td>0.704779</td>\n",
       "      <td>0.660446</td>\n",
       "      <td>0.643842</td>\n",
       "    </tr>\n",
       "    <tr>\n",
       "      <th>2</th>\n",
       "      <td>127</td>\n",
       "      <td>2</td>\n",
       "      <td>-0.214835</td>\n",
       "      <td>3.931988</td>\n",
       "      <td>0.008751</td>\n",
       "      <td>0.540324</td>\n",
       "      <td>0.648341</td>\n",
       "      <td>0.572467</td>\n",
       "      <td>0.494882</td>\n",
       "      <td>0.453017</td>\n",
       "      <td>...</td>\n",
       "      <td>0.935303</td>\n",
       "      <td>0.903605</td>\n",
       "      <td>0.875646</td>\n",
       "      <td>0.850747</td>\n",
       "      <td>0.823421</td>\n",
       "      <td>0.788953</td>\n",
       "      <td>0.749272</td>\n",
       "      <td>0.711617</td>\n",
       "      <td>0.685288</td>\n",
       "      <td>0.679950</td>\n",
       "    </tr>\n",
       "    <tr>\n",
       "      <th>3</th>\n",
       "      <td>127</td>\n",
       "      <td>3</td>\n",
       "      <td>-0.444263</td>\n",
       "      <td>3.664465</td>\n",
       "      <td>0.003819</td>\n",
       "      <td>0.503273</td>\n",
       "      <td>0.541258</td>\n",
       "      <td>0.460892</td>\n",
       "      <td>0.437429</td>\n",
       "      <td>0.392647</td>\n",
       "      <td>...</td>\n",
       "      <td>0.443012</td>\n",
       "      <td>0.411199</td>\n",
       "      <td>0.390286</td>\n",
       "      <td>0.376721</td>\n",
       "      <td>0.359625</td>\n",
       "      <td>0.327530</td>\n",
       "      <td>0.277821</td>\n",
       "      <td>0.214182</td>\n",
       "      <td>0.147162</td>\n",
       "      <td>0.123559</td>\n",
       "    </tr>\n",
       "    <tr>\n",
       "      <th>4</th>\n",
       "      <td>127</td>\n",
       "      <td>4</td>\n",
       "      <td>-0.634308</td>\n",
       "      <td>4.234664</td>\n",
       "      <td>0.057101</td>\n",
       "      <td>1.141542</td>\n",
       "      <td>0.830329</td>\n",
       "      <td>0.652757</td>\n",
       "      <td>0.551421</td>\n",
       "      <td>0.494866</td>\n",
       "      <td>...</td>\n",
       "      <td>0.576964</td>\n",
       "      <td>0.515441</td>\n",
       "      <td>0.453450</td>\n",
       "      <td>0.377552</td>\n",
       "      <td>0.284933</td>\n",
       "      <td>0.226393</td>\n",
       "      <td>0.501658</td>\n",
       "      <td>1.006430</td>\n",
       "      <td>0.971729</td>\n",
       "      <td>0.888564</td>\n",
       "    </tr>\n",
       "  </tbody>\n",
       "</table>\n",
       "<p>5 rows × 95 columns</p>\n",
       "</div>"
      ],
      "text/plain": [
       "   short_ID  window_ID   UMAP_V1   UMAP_V2       MSE        d1        d2  \\\n",
       "0       127          0 -1.518637  3.296972  0.036224  0.551866  0.511525   \n",
       "1       127          1 -1.484561  3.080095  0.001781  0.511137  0.535627   \n",
       "2       127          2 -0.214835  3.931988  0.008751  0.540324  0.648341   \n",
       "3       127          3 -0.444263  3.664465  0.003819  0.503273  0.541258   \n",
       "4       127          4 -0.634308  4.234664  0.057101  1.141542  0.830329   \n",
       "\n",
       "         d3        d4        d5  ...       d81       d82       d83       d84  \\\n",
       "0  0.418921  0.393570  0.376943  ...  0.918718  0.906462  0.890662  0.858993   \n",
       "1  0.456171  0.430780  0.399154  ...  1.020759  0.995790  0.969248  0.935301   \n",
       "2  0.572467  0.494882  0.453017  ...  0.935303  0.903605  0.875646  0.850747   \n",
       "3  0.460892  0.437429  0.392647  ...  0.443012  0.411199  0.390286  0.376721   \n",
       "4  0.652757  0.551421  0.494866  ...  0.576964  0.515441  0.453450  0.377552   \n",
       "\n",
       "        d85       d86       d87       d88       d89       d90  \n",
       "0  0.806989  0.740205  0.668449  0.601423  0.551958  0.541089  \n",
       "1  0.888822  0.829687  0.764942  0.704779  0.660446  0.643842  \n",
       "2  0.823421  0.788953  0.749272  0.711617  0.685288  0.679950  \n",
       "3  0.359625  0.327530  0.277821  0.214182  0.147162  0.123559  \n",
       "4  0.284933  0.226393  0.501658  1.006430  0.971729  0.888564  \n",
       "\n",
       "[5 rows x 95 columns]"
      ]
     },
     "execution_count": 135,
     "metadata": {},
     "output_type": "execute_result"
    }
   ],
   "source": [
    "df_reconstruct.head()"
   ]
  },
  {
   "cell_type": "code",
   "execution_count": 136,
   "id": "ef96b56f-1f3f-4535-aa51-f22ed342cad3",
   "metadata": {},
   "outputs": [],
   "source": [
    "os.makedirs(f'../ModelResults/AE_Reconstruction/{dataset_name}', exist_ok=True)  \n",
    "df_reconstruct.to_csv(f'../ModelResults/AE_Reconstruction/{dataset_name}/{solution_fileName}', index=False)  "
   ]
  }
 ],
 "metadata": {
  "kernelspec": {
   "display_name": "Python 3 (ipykernel)",
   "language": "python",
   "name": "python3"
  },
  "language_info": {
   "codemirror_mode": {
    "name": "ipython",
    "version": 3
   },
   "file_extension": ".py",
   "mimetype": "text/x-python",
   "name": "python",
   "nbconvert_exporter": "python",
   "pygments_lexer": "ipython3",
   "version": "3.9.15"
  }
 },
 "nbformat": 4,
 "nbformat_minor": 5
}
