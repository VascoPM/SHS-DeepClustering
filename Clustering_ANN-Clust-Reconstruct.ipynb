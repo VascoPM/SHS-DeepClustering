{
 "cells": [
  {
   "cell_type": "markdown",
   "id": "24a40a92-afe1-4cc1-9412-9a18fdac6c1d",
   "metadata": {},
   "source": [
    "# Clustering Solution Generator\n",
    "### $Time$ $Series$ $4th$ $Test$\n",
    "\n",
    "$Vasco$ $Mergulhão$ $-$ $April$ $2023$\n",
    "\n",
    "### Version 1:\n",
    "This script loads a model and outputs a CSV ready to be analysed on the Dashboard"
   ]
  },
  {
   "cell_type": "code",
   "execution_count": 1,
   "id": "560e52d0-9d8d-401f-a769-f3d1830381ff",
   "metadata": {},
   "outputs": [],
   "source": [
    "import os"
   ]
  },
  {
   "cell_type": "code",
   "execution_count": 2,
   "id": "27938784-0e34-4c5b-9f35-ad90c55a1adc",
   "metadata": {},
   "outputs": [],
   "source": [
    "on_gradient = False\n",
    "directory = os.getcwd()\n",
    "if directory == '/notebooks':\n",
    "    on_gradient = True"
   ]
  },
  {
   "cell_type": "code",
   "execution_count": 3,
   "id": "5b19405d-b3ef-4e89-8c2e-81ecf8644391",
   "metadata": {},
   "outputs": [],
   "source": [
    "if on_gradient == False:\n",
    "    os.environ[\"OMP_NUM_THREADS\"] = \"4\"\n",
    "os.environ['TF_CUDNN_DETERMINISTIC'] = '1'"
   ]
  },
  {
   "cell_type": "code",
   "execution_count": 4,
   "id": "c968c540-ab16-4c93-8077-a7b180fd9f51",
   "metadata": {},
   "outputs": [
    {
     "name": "stderr",
     "output_type": "stream",
     "text": [
      "C:\\Users\\ucesvpm\\Anaconda3\\envs\\TensorFlow_PhD\\lib\\site-packages\\tqdm\\auto.py:21: TqdmWarning: IProgress not found. Please update jupyter and ipywidgets. See https://ipywidgets.readthedocs.io/en/stable/user_install.html\n",
      "  from .autonotebook import tqdm as notebook_tqdm\n"
     ]
    }
   ],
   "source": [
    "if on_gradient == False:\n",
    "    import plotly.express as px\n",
    "    import plotly.graph_objects as go\n",
    "    import umap\n",
    "    from umap.umap_ import nearest_neighbors    \n",
    "\n",
    "import numpy as np\n",
    "import pandas as pd\n",
    "import matplotlib.pyplot as plt\n",
    "import time\n",
    "import random\n",
    "from sklearn.cluster import KMeans\n",
    "import Transform\n",
    "import tensorflow as tf\n",
    "from tensorflow import keras\n",
    "from keras import models\n",
    "import wandb\n",
    "from wandb.keras import WandbCallback"
   ]
  },
  {
   "cell_type": "code",
   "execution_count": 5,
   "id": "a79f3b39-b437-4e20-962c-cc7a4c13378e",
   "metadata": {},
   "outputs": [],
   "source": [
    "# Set Random Seeds\n",
    "np.random.seed(42)\n",
    "tf.random.set_seed(42)\n",
    "random.seed(42)"
   ]
  },
  {
   "cell_type": "markdown",
   "id": "ba0ea227-ce0d-4e44-b5d7-cdb9840f0d8b",
   "metadata": {},
   "source": [
    "---\n",
    "# Script Variables"
   ]
  },
  {
   "cell_type": "code",
   "execution_count": 6,
   "id": "9f4dd73f-4e47-4f4c-88c0-e62531930d4b",
   "metadata": {},
   "outputs": [],
   "source": [
    "dataset_name = 'Kenya_90k_Set_1_w90_pW'\n",
    "Model_Name = 'LSTM_AE' # Options: FC_N2D, LSTM_AE, CNN_AE, CNN_ConvEmb\n",
    "solution_name = 'efficient-sweep-2:v49'\n",
    "max_num_clusters = 25"
   ]
  },
  {
   "cell_type": "markdown",
   "id": "eea1dabc-4768-48c2-bcb6-3878b3ee9e8b",
   "metadata": {},
   "source": [
    "### Other dependabels"
   ]
  },
  {
   "cell_type": "code",
   "execution_count": 7,
   "id": "51ef015b-78e4-484b-a4e8-b99a55482217",
   "metadata": {},
   "outputs": [],
   "source": [
    "# Uses name to navigate folders\n",
    "if on_gradient == False:\n",
    "    dataset_folder = \"_\".join(dataset_name.split('_')[:-2]) \n",
    "    dataset_location = f'../Data_Storage_Processing/Data/{dataset_folder}/{dataset_name}.csv'\n",
    "else:\n",
    "    gradient_mountedfiles = ! ls /storage/data_w90 #! ls /datasets/s3_bucket #!ls /datasets/kenya-90k-set-1-w90\n",
    "    print(f'Datasets mounted: {gradient_mountedfiles}')\n",
    "    dataset_location = f'/storage/data_w90/{dataset_name}.csv' # f'/datasets/s3_bucket/{dataset_name}.csv'"
   ]
  },
  {
   "cell_type": "code",
   "execution_count": 8,
   "id": "55a3e975-176a-42d7-99c0-c51cc170a3f6",
   "metadata": {},
   "outputs": [],
   "source": [
    "window_cols, window_len = Transform.retrive_window_col_names(dataset_name)\n",
    "# Project Name\n",
    "scaler_dict = {'Orig':'OriginalScale',\n",
    "               'pW':'pWindow',\n",
    "               'G':'Gobal'}\n",
    "dataset_name_base = \"_\".join(dataset_name.split('_')[:-1])\n",
    "scaler_used = dataset_name.split('_')[-1]\n",
    "\n",
    "Project_Name = f'DeepClust--{dataset_name_base}--{scaler_dict[scaler_used]}'"
   ]
  },
  {
   "cell_type": "markdown",
   "id": "989ec192-5f12-4316-8c8a-8285c283d9c1",
   "metadata": {},
   "source": [
    "---\n",
    "# Data Imports"
   ]
  },
  {
   "cell_type": "code",
   "execution_count": null,
   "id": "c920c8cf-14cf-4497-957e-abf48e943172",
   "metadata": {},
   "outputs": [],
   "source": [
    "print(f'Loading: {dataset_name}')"
   ]
  },
  {
   "cell_type": "code",
   "execution_count": 9,
   "id": "202fb6c4-ddbc-4fb7-8bf7-a9c2a7184893",
   "metadata": {},
   "outputs": [],
   "source": [
    "Data = pd.read_csv(dataset_location)"
   ]
  },
  {
   "cell_type": "code",
   "execution_count": 11,
   "id": "3b3855df-fd8e-480a-a530-7dab2f1465a6",
   "metadata": {},
   "outputs": [],
   "source": [
    "data = Data[window_cols].values"
   ]
  },
  {
   "cell_type": "code",
   "execution_count": 12,
   "id": "a8307552-3448-4ed2-b013-fd68e40f7c3c",
   "metadata": {},
   "outputs": [
    {
     "data": {
      "text/html": [
       "<div>\n",
       "<style scoped>\n",
       "    .dataframe tbody tr th:only-of-type {\n",
       "        vertical-align: middle;\n",
       "    }\n",
       "\n",
       "    .dataframe tbody tr th {\n",
       "        vertical-align: top;\n",
       "    }\n",
       "\n",
       "    .dataframe thead th {\n",
       "        text-align: right;\n",
       "    }\n",
       "</style>\n",
       "<table border=\"1\" class=\"dataframe\">\n",
       "  <thead>\n",
       "    <tr style=\"text-align: right;\">\n",
       "      <th></th>\n",
       "      <th>short_ID</th>\n",
       "      <th>window_ID</th>\n",
       "      <th>window_start_date</th>\n",
       "      <th>d1</th>\n",
       "      <th>d2</th>\n",
       "      <th>d3</th>\n",
       "      <th>d4</th>\n",
       "      <th>d5</th>\n",
       "      <th>d6</th>\n",
       "      <th>d7</th>\n",
       "      <th>...</th>\n",
       "      <th>d81</th>\n",
       "      <th>d82</th>\n",
       "      <th>d83</th>\n",
       "      <th>d84</th>\n",
       "      <th>d85</th>\n",
       "      <th>d86</th>\n",
       "      <th>d87</th>\n",
       "      <th>d88</th>\n",
       "      <th>d89</th>\n",
       "      <th>d90</th>\n",
       "    </tr>\n",
       "  </thead>\n",
       "  <tbody>\n",
       "    <tr>\n",
       "      <th>0</th>\n",
       "      <td>127</td>\n",
       "      <td>0</td>\n",
       "      <td>2018-01-20</td>\n",
       "      <td>0.543805</td>\n",
       "      <td>0.503693</td>\n",
       "      <td>0.463580</td>\n",
       "      <td>0.423467</td>\n",
       "      <td>0.383355</td>\n",
       "      <td>0.343242</td>\n",
       "      <td>0.303129</td>\n",
       "      <td>...</td>\n",
       "      <td>0.906409</td>\n",
       "      <td>0.904819</td>\n",
       "      <td>0.864707</td>\n",
       "      <td>0.786444</td>\n",
       "      <td>0.784481</td>\n",
       "      <td>0.706456</td>\n",
       "      <td>0.666459</td>\n",
       "      <td>0.626384</td>\n",
       "      <td>0.586360</td>\n",
       "      <td>0.583918</td>\n",
       "    </tr>\n",
       "    <tr>\n",
       "      <th>1</th>\n",
       "      <td>127</td>\n",
       "      <td>1</td>\n",
       "      <td>2018-04-20</td>\n",
       "      <td>0.525359</td>\n",
       "      <td>0.522565</td>\n",
       "      <td>0.480950</td>\n",
       "      <td>0.439334</td>\n",
       "      <td>0.397718</td>\n",
       "      <td>0.317612</td>\n",
       "      <td>0.314487</td>\n",
       "      <td>...</td>\n",
       "      <td>1.019053</td>\n",
       "      <td>0.977438</td>\n",
       "      <td>0.935822</td>\n",
       "      <td>0.894206</td>\n",
       "      <td>0.852591</td>\n",
       "      <td>0.810975</td>\n",
       "      <td>0.769359</td>\n",
       "      <td>0.727744</td>\n",
       "      <td>0.686128</td>\n",
       "      <td>0.644512</td>\n",
       "    </tr>\n",
       "    <tr>\n",
       "      <th>2</th>\n",
       "      <td>127</td>\n",
       "      <td>2</td>\n",
       "      <td>2018-07-19</td>\n",
       "      <td>0.651208</td>\n",
       "      <td>0.606258</td>\n",
       "      <td>0.561307</td>\n",
       "      <td>0.516357</td>\n",
       "      <td>0.471407</td>\n",
       "      <td>0.426456</td>\n",
       "      <td>0.381506</td>\n",
       "      <td>...</td>\n",
       "      <td>1.013146</td>\n",
       "      <td>0.968196</td>\n",
       "      <td>0.923246</td>\n",
       "      <td>0.878295</td>\n",
       "      <td>0.833345</td>\n",
       "      <td>0.788395</td>\n",
       "      <td>0.743444</td>\n",
       "      <td>0.698494</td>\n",
       "      <td>0.653543</td>\n",
       "      <td>0.608593</td>\n",
       "    </tr>\n",
       "    <tr>\n",
       "      <th>3</th>\n",
       "      <td>127</td>\n",
       "      <td>3</td>\n",
       "      <td>2018-10-17</td>\n",
       "      <td>0.594276</td>\n",
       "      <td>0.546883</td>\n",
       "      <td>0.499489</td>\n",
       "      <td>0.452096</td>\n",
       "      <td>0.404703</td>\n",
       "      <td>0.357309</td>\n",
       "      <td>0.309916</td>\n",
       "      <td>...</td>\n",
       "      <td>0.499489</td>\n",
       "      <td>0.452096</td>\n",
       "      <td>0.404703</td>\n",
       "      <td>0.357309</td>\n",
       "      <td>0.309916</td>\n",
       "      <td>0.262522</td>\n",
       "      <td>0.215129</td>\n",
       "      <td>0.167736</td>\n",
       "      <td>0.120342</td>\n",
       "      <td>0.072949</td>\n",
       "    </tr>\n",
       "    <tr>\n",
       "      <th>4</th>\n",
       "      <td>127</td>\n",
       "      <td>4</td>\n",
       "      <td>2019-01-15</td>\n",
       "      <td>0.953922</td>\n",
       "      <td>0.853922</td>\n",
       "      <td>0.753922</td>\n",
       "      <td>0.653922</td>\n",
       "      <td>0.553922</td>\n",
       "      <td>0.453922</td>\n",
       "      <td>0.353922</td>\n",
       "      <td>...</td>\n",
       "      <td>0.453922</td>\n",
       "      <td>0.353922</td>\n",
       "      <td>0.253922</td>\n",
       "      <td>0.153922</td>\n",
       "      <td>0.753922</td>\n",
       "      <td>0.653922</td>\n",
       "      <td>0.553922</td>\n",
       "      <td>0.453922</td>\n",
       "      <td>0.353922</td>\n",
       "      <td>2.000000</td>\n",
       "    </tr>\n",
       "  </tbody>\n",
       "</table>\n",
       "<p>5 rows × 93 columns</p>\n",
       "</div>"
      ],
      "text/plain": [
       "   short_ID  window_ID window_start_date        d1        d2        d3  \\\n",
       "0       127          0        2018-01-20  0.543805  0.503693  0.463580   \n",
       "1       127          1        2018-04-20  0.525359  0.522565  0.480950   \n",
       "2       127          2        2018-07-19  0.651208  0.606258  0.561307   \n",
       "3       127          3        2018-10-17  0.594276  0.546883  0.499489   \n",
       "4       127          4        2019-01-15  0.953922  0.853922  0.753922   \n",
       "\n",
       "         d4        d5        d6        d7  ...       d81       d82       d83  \\\n",
       "0  0.423467  0.383355  0.343242  0.303129  ...  0.906409  0.904819  0.864707   \n",
       "1  0.439334  0.397718  0.317612  0.314487  ...  1.019053  0.977438  0.935822   \n",
       "2  0.516357  0.471407  0.426456  0.381506  ...  1.013146  0.968196  0.923246   \n",
       "3  0.452096  0.404703  0.357309  0.309916  ...  0.499489  0.452096  0.404703   \n",
       "4  0.653922  0.553922  0.453922  0.353922  ...  0.453922  0.353922  0.253922   \n",
       "\n",
       "        d84       d85       d86       d87       d88       d89       d90  \n",
       "0  0.786444  0.784481  0.706456  0.666459  0.626384  0.586360  0.583918  \n",
       "1  0.894206  0.852591  0.810975  0.769359  0.727744  0.686128  0.644512  \n",
       "2  0.878295  0.833345  0.788395  0.743444  0.698494  0.653543  0.608593  \n",
       "3  0.357309  0.309916  0.262522  0.215129  0.167736  0.120342  0.072949  \n",
       "4  0.153922  0.753922  0.653922  0.553922  0.453922  0.353922  2.000000  \n",
       "\n",
       "[5 rows x 93 columns]"
      ]
     },
     "execution_count": 12,
     "metadata": {},
     "output_type": "execute_result"
    }
   ],
   "source": [
    "Data.head()"
   ]
  },
  {
   "cell_type": "markdown",
   "id": "1f73cc33-99f0-4f75-9591-4c8383566bf7",
   "metadata": {},
   "source": [
    "## Reshaping Data"
   ]
  },
  {
   "cell_type": "code",
   "execution_count": 13,
   "id": "104f3a32-06bb-49d3-8613-59e5bda5da9f",
   "metadata": {},
   "outputs": [],
   "source": [
    "if Model_Name == 'FC_N2D':\n",
    "    predict_data =  Data[window_cols].to_numpy()\n",
    "else:\n",
    "    predict_data =  Data[window_cols].to_numpy().reshape(-1, window_len, 1)"
   ]
  },
  {
   "cell_type": "code",
   "execution_count": 14,
   "id": "543b9260-d5ee-414c-9dea-81ddb5360106",
   "metadata": {},
   "outputs": [
    {
     "data": {
      "text/plain": [
       "(1000, 90, 1)"
      ]
     },
     "execution_count": 14,
     "metadata": {},
     "output_type": "execute_result"
    }
   ],
   "source": [
    "predict_data.shape"
   ]
  },
  {
   "cell_type": "markdown",
   "id": "7ed71b25-6da3-4221-b2ee-7b45ce0b95dc",
   "metadata": {},
   "source": [
    "---\n",
    "# Problematic Libraries"
   ]
  },
  {
   "cell_type": "code",
   "execution_count": 15,
   "id": "5f0531a7-5fd5-419f-9ce1-4b613cae31be",
   "metadata": {},
   "outputs": [],
   "source": [
    "if on_gradient == True:\n",
    "    ! pip install plotly\n",
    "    ! pip install umap-learn\n",
    "    \n",
    "    import plotly.express as px\n",
    "    import plotly.graph_objects as go\n",
    "    import umap\n",
    "    from umap.umap_ import nearest_neighbors    "
   ]
  },
  {
   "cell_type": "markdown",
   "id": "b19fd753-db73-4854-a3c5-966210a35348",
   "metadata": {
    "tags": []
   },
   "source": [
    "---\n",
    "---\n",
    "# 2D UMAP"
   ]
  },
  {
   "cell_type": "code",
   "execution_count": 16,
   "id": "df448184-cbb7-4d24-af99-332814dd847f",
   "metadata": {},
   "outputs": [
    {
     "name": "stdout",
     "output_type": "stream",
     "text": [
      "Precomp Time: 16.73[s]\n"
     ]
    }
   ],
   "source": [
    "start_knn_time = time.time()\n",
    "knn_orig_precomp = nearest_neighbors(data,\n",
    "                              n_neighbors=30,\n",
    "                              metric=\"euclidean\",\n",
    "                              metric_kwds=None,\n",
    "                              angular=False,\n",
    "                              random_state=42)\n",
    "\n",
    "print(f'Precomp Time: {np.round(time.time() - start_knn_time,2)}[s]')  "
   ]
  },
  {
   "cell_type": "code",
   "execution_count": 17,
   "id": "5c875a85-ce08-487f-b972-e933d0d21782",
   "metadata": {},
   "outputs": [
    {
     "name": "stderr",
     "output_type": "stream",
     "text": [
      "C:\\Users\\ucesvpm\\Anaconda3\\envs\\TensorFlow_PhD\\lib\\site-packages\\umap\\umap_.py:1956: UserWarning: precomputed_knn is meant for large datasets. Since your data is small, precomputed_knn will be ignored and the k-nn will be computed normally.\n",
      "  warn(\n"
     ]
    },
    {
     "name": "stdout",
     "output_type": "stream",
     "text": [
      "Total Time: 11.8[s]\n"
     ]
    }
   ],
   "source": [
    "start_time = time.time()\n",
    "umap_viz_model = umap.UMAP(random_state=42,\n",
    "                           n_neighbors=15,\n",
    "                           min_dist= 0.1,\n",
    "                           n_components = 2,\n",
    "                           precomputed_knn= knn_orig_precomp,\n",
    "                          ).fit(data)\n",
    "\n",
    "v_2D_umap = umap_viz_model.transform(data)\n",
    "\n",
    "print(f'Total Time: {np.round(time.time() - start_time,2)}[s]')  \n"
   ]
  },
  {
   "cell_type": "markdown",
   "id": "e9418b97-d49a-4f38-96ec-cdb821c173a9",
   "metadata": {},
   "source": [
    "---\n",
    "---\n",
    "# Loading Model"
   ]
  },
  {
   "cell_type": "code",
   "execution_count": null,
   "id": "f50e6db1-c2e6-439c-8ed9-939f8c372595",
   "metadata": {},
   "outputs": [],
   "source": [
    "if on_gradient == True:\n",
    "    ! wandb login e49307d53bc0175b5c9fb4390513b397046819ea"
   ]
  },
  {
   "cell_type": "code",
   "execution_count": 18,
   "id": "c4d07c57-4cf1-45b2-84ab-27abf8f8f1bf",
   "metadata": {
    "tags": []
   },
   "outputs": [
    {
     "name": "stderr",
     "output_type": "stream",
     "text": [
      "\u001b[34m\u001b[1mwandb\u001b[0m: Currently logged in as: \u001b[33mvasco-mergulhao\u001b[0m (\u001b[33mvasco-phd\u001b[0m). Use \u001b[1m`wandb login --relogin`\u001b[0m to force relogin\n"
     ]
    },
    {
     "data": {
      "text/html": [
       "wandb version 0.14.1 is available!  To upgrade, please run:\n",
       " $ pip install wandb --upgrade"
      ],
      "text/plain": [
       "<IPython.core.display.HTML object>"
      ]
     },
     "metadata": {},
     "output_type": "display_data"
    },
    {
     "data": {
      "text/html": [
       "Tracking run with wandb version 0.13.6"
      ],
      "text/plain": [
       "<IPython.core.display.HTML object>"
      ]
     },
     "metadata": {},
     "output_type": "display_data"
    },
    {
     "data": {
      "text/html": [
       "Run data is saved locally in <code>C:\\Users\\ucesvpm\\OneDrive - University College London\\PhD Project\\Data Analytics\\Time Series Clustering\\Time Series Clustering\\SHS-DeepClustering\\wandb\\run-20230407_165632-jx9ttulu</code>"
      ],
      "text/plain": [
       "<IPython.core.display.HTML object>"
      ]
     },
     "metadata": {},
     "output_type": "display_data"
    },
    {
     "data": {
      "text/html": [
       "Syncing run <strong><a href=\"https://wandb.ai/vasco-phd/SHS-DeepClustering/runs/jx9ttulu\" target=\"_blank\">daily-glade-6</a></strong> to <a href=\"https://wandb.ai/vasco-phd/SHS-DeepClustering\" target=\"_blank\">Weights & Biases</a> (<a href=\"https://wandb.me/run\" target=\"_blank\">docs</a>)<br/>"
      ],
      "text/plain": [
       "<IPython.core.display.HTML object>"
      ]
     },
     "metadata": {},
     "output_type": "display_data"
    },
    {
     "name": "stderr",
     "output_type": "stream",
     "text": [
      "\u001b[34m\u001b[1mwandb\u001b[0m:   4 of 4 files downloaded.  \n"
     ]
    },
    {
     "data": {
      "text/html": [
       "Waiting for W&B process to finish... <strong style=\"color:green\">(success).</strong>"
      ],
      "text/plain": [
       "<IPython.core.display.HTML object>"
      ]
     },
     "metadata": {},
     "output_type": "display_data"
    },
    {
     "data": {
      "text/html": [
       "Synced <strong style=\"color:#cdcd00\">daily-glade-6</strong>: <a href=\"https://wandb.ai/vasco-phd/SHS-DeepClustering/runs/jx9ttulu\" target=\"_blank\">https://wandb.ai/vasco-phd/SHS-DeepClustering/runs/jx9ttulu</a><br/>Synced 6 W&B file(s), 0 media file(s), 0 artifact file(s) and 0 other file(s)"
      ],
      "text/plain": [
       "<IPython.core.display.HTML object>"
      ]
     },
     "metadata": {},
     "output_type": "display_data"
    },
    {
     "data": {
      "text/html": [
       "Find logs at: <code>.\\wandb\\run-20230407_165632-jx9ttulu\\logs</code>"
      ],
      "text/plain": [
       "<IPython.core.display.HTML object>"
      ]
     },
     "metadata": {},
     "output_type": "display_data"
    }
   ],
   "source": [
    "run = wandb.init()\n",
    "model_artifact = run.use_artifact(f'vasco-phd/{Project_Name}/model-{solution_name}', type='model')\n",
    "model_dir = model_artifact.download()\n",
    "# local_model_dir = 'C:/Users/ucesvpm/OneDrive - University College London/PhD Project/Data Analytics/Time Series Clustering/Second Test/wandb/run-20221213_173041-jc918077'\n",
    "loaded_autoencoder = tf.keras.models.load_model(model_dir)\n",
    "run.finish()"
   ]
  },
  {
   "cell_type": "code",
   "execution_count": 19,
   "id": "44ca30ce-2541-4971-8c2c-a98bad403084",
   "metadata": {},
   "outputs": [
    {
     "name": "stdout",
     "output_type": "stream",
     "text": [
      "Model: \"LSTM_AE\"\n",
      "_________________________________________________________________\n",
      " Layer (type)                Output Shape              Param #   \n",
      "=================================================================\n",
      " input_1 (InputLayer)        [(None, 90, 1)]           0         \n",
      "                                                                 \n",
      " Encoder (LSTM)              (None, 90, 100)           40800     \n",
      "                                                                 \n",
      " Lantent_Space (LSTM)        (None, 25)                12600     \n",
      "                                                                 \n",
      " Reshape_Embeding (RepeatVec  (None, 90, 25)           0         \n",
      " tor)                                                            \n",
      "                                                                 \n",
      " Decoder_1 (LSTM)            (None, 90, 25)            5100      \n",
      "                                                                 \n",
      " Decoder_2 (LSTM)            (None, 90, 100)           50400     \n",
      "                                                                 \n",
      " Reshape_Output (TimeDistrib  (None, 90, 1)            101       \n",
      " uted)                                                           \n",
      "                                                                 \n",
      "=================================================================\n",
      "Total params: 109,001\n",
      "Trainable params: 109,001\n",
      "Non-trainable params: 0\n",
      "_________________________________________________________________\n"
     ]
    }
   ],
   "source": [
    "loaded_autoencoder.summary()"
   ]
  },
  {
   "cell_type": "code",
   "execution_count": 20,
   "id": "117e45ed-f95a-4018-b31b-bcc0f3adb914",
   "metadata": {},
   "outputs": [
    {
     "name": "stdout",
     "output_type": "stream",
     "text": [
      "Model: \"LSTM_AE_encoder\"\n",
      "_________________________________________________________________\n",
      " Layer (type)                Output Shape              Param #   \n",
      "=================================================================\n",
      " input_1 (InputLayer)        [(None, 90, 1)]           0         \n",
      "                                                                 \n",
      " Encoder (LSTM)              (None, 90, 100)           40800     \n",
      "                                                                 \n",
      " Lantent_Space (LSTM)        (None, 25)                12600     \n",
      "                                                                 \n",
      "=================================================================\n",
      "Total params: 53,400\n",
      "Trainable params: 53,400\n",
      "Non-trainable params: 0\n",
      "_________________________________________________________________\n"
     ]
    }
   ],
   "source": [
    "# bottleneck model\n",
    "encoder_output = loaded_autoencoder.get_layer('Latent_Space').output\n",
    "encoder = models.Model(inputs = loaded_autoencoder.input, outputs = encoder_output, name = f'{Model_Name}_encoder')\n",
    "encoder.summary()"
   ]
  },
  {
   "cell_type": "markdown",
   "id": "c072ef8f-0032-4215-a400-d1ba68d9fbe6",
   "metadata": {},
   "source": [
    "---\n",
    "# Saving Encoder"
   ]
  },
  {
   "cell_type": "code",
   "execution_count": 21,
   "id": "549440bb-6cb4-4943-9044-4d00d0b1e1dd",
   "metadata": {},
   "outputs": [],
   "source": [
    "solution_fileName = solution_name.replace(\":\", \"-\" ).replace(\"-\", \"_\" )\n",
    "Encoder_Name = f'{Model_Name}-{solution_fileName}'\n",
    "# encoder.save(f'SavedModels/{Encoder_Name}')"
   ]
  },
  {
   "cell_type": "markdown",
   "id": "a72b5def-8995-4d4e-a178-bcd08fe39219",
   "metadata": {
    "tags": []
   },
   "source": [
    "---\n",
    "#  Reconstruction Error"
   ]
  },
  {
   "cell_type": "code",
   "execution_count": 22,
   "id": "4743c1fd-8128-490c-8514-2b413dc75b7e",
   "metadata": {},
   "outputs": [
    {
     "name": "stdout",
     "output_type": "stream",
     "text": [
      "32/32 [==============================] - 3s 26ms/step\n"
     ]
    }
   ],
   "source": [
    "# Calculates the RModelontruction Profiles (Predictions)\n",
    "reconstruct_data = loaded_autoencoder.predict(predict_data)"
   ]
  },
  {
   "cell_type": "code",
   "execution_count": 23,
   "id": "9b6522ca-0ad5-48c6-a2ad-562277ae0a85",
   "metadata": {},
   "outputs": [],
   "source": [
    "# Saves the Reconstructect windows\n",
    "df_reconstruct = Data[['short_ID', 'window_ID']].copy(deep=True)\n",
    "if Model_Name == 'FC_N2D':\n",
    "    df_reconstruct[window_cols] = reconstruct_data\n",
    "else:\n",
    "    df_reconstruct[window_cols] = reconstruct_data.reshape(-1, window_len)"
   ]
  },
  {
   "cell_type": "code",
   "execution_count": 24,
   "id": "2cbaaa0b-93da-4881-a626-6ed9ca304582",
   "metadata": {},
   "outputs": [],
   "source": [
    "# Calculating MSE per window\n",
    "MSE = tf.keras.losses.MeanSquaredError(reduction='none')\n",
    "if Model_Name == 'FC_N2D':\n",
    "    MSE_values = MSE(predict_data, reconstruct_data).numpy()\n",
    "else:\n",
    "    MSE_values = MSE(predict_data.reshape(-1, window_len), reconstruct_data.reshape(-1, window_len)).numpy()\n",
    "#Adding to reconstructed dataframe\n",
    "df_reconstruct.insert(loc=2, column='MSE', value=MSE_values)"
   ]
  },
  {
   "cell_type": "code",
   "execution_count": 25,
   "id": "e15733b3-8802-45f4-86cc-873fb6f48f03",
   "metadata": {},
   "outputs": [
    {
     "data": {
      "text/html": [
       "<div>\n",
       "<style scoped>\n",
       "    .dataframe tbody tr th:only-of-type {\n",
       "        vertical-align: middle;\n",
       "    }\n",
       "\n",
       "    .dataframe tbody tr th {\n",
       "        vertical-align: top;\n",
       "    }\n",
       "\n",
       "    .dataframe thead th {\n",
       "        text-align: right;\n",
       "    }\n",
       "</style>\n",
       "<table border=\"1\" class=\"dataframe\">\n",
       "  <thead>\n",
       "    <tr style=\"text-align: right;\">\n",
       "      <th></th>\n",
       "      <th>short_ID</th>\n",
       "      <th>window_ID</th>\n",
       "      <th>MSE</th>\n",
       "      <th>d1</th>\n",
       "      <th>d2</th>\n",
       "      <th>d3</th>\n",
       "      <th>d4</th>\n",
       "      <th>d5</th>\n",
       "      <th>d6</th>\n",
       "      <th>d7</th>\n",
       "      <th>...</th>\n",
       "      <th>d81</th>\n",
       "      <th>d82</th>\n",
       "      <th>d83</th>\n",
       "      <th>d84</th>\n",
       "      <th>d85</th>\n",
       "      <th>d86</th>\n",
       "      <th>d87</th>\n",
       "      <th>d88</th>\n",
       "      <th>d89</th>\n",
       "      <th>d90</th>\n",
       "    </tr>\n",
       "  </thead>\n",
       "  <tbody>\n",
       "    <tr>\n",
       "      <th>0</th>\n",
       "      <td>127</td>\n",
       "      <td>0</td>\n",
       "      <td>0.036224</td>\n",
       "      <td>0.551866</td>\n",
       "      <td>0.511525</td>\n",
       "      <td>0.418921</td>\n",
       "      <td>0.393570</td>\n",
       "      <td>0.376943</td>\n",
       "      <td>0.354484</td>\n",
       "      <td>0.342850</td>\n",
       "      <td>...</td>\n",
       "      <td>0.918718</td>\n",
       "      <td>0.906462</td>\n",
       "      <td>0.890662</td>\n",
       "      <td>0.858993</td>\n",
       "      <td>0.806989</td>\n",
       "      <td>0.740205</td>\n",
       "      <td>0.668449</td>\n",
       "      <td>0.601423</td>\n",
       "      <td>0.551958</td>\n",
       "      <td>0.541089</td>\n",
       "    </tr>\n",
       "    <tr>\n",
       "      <th>1</th>\n",
       "      <td>127</td>\n",
       "      <td>1</td>\n",
       "      <td>0.001781</td>\n",
       "      <td>0.511137</td>\n",
       "      <td>0.535627</td>\n",
       "      <td>0.456171</td>\n",
       "      <td>0.430780</td>\n",
       "      <td>0.399154</td>\n",
       "      <td>0.356051</td>\n",
       "      <td>0.327404</td>\n",
       "      <td>...</td>\n",
       "      <td>1.020759</td>\n",
       "      <td>0.995790</td>\n",
       "      <td>0.969248</td>\n",
       "      <td>0.935301</td>\n",
       "      <td>0.888822</td>\n",
       "      <td>0.829687</td>\n",
       "      <td>0.764942</td>\n",
       "      <td>0.704779</td>\n",
       "      <td>0.660446</td>\n",
       "      <td>0.643842</td>\n",
       "    </tr>\n",
       "    <tr>\n",
       "      <th>2</th>\n",
       "      <td>127</td>\n",
       "      <td>2</td>\n",
       "      <td>0.008751</td>\n",
       "      <td>0.540324</td>\n",
       "      <td>0.648341</td>\n",
       "      <td>0.572467</td>\n",
       "      <td>0.494882</td>\n",
       "      <td>0.453017</td>\n",
       "      <td>0.394184</td>\n",
       "      <td>0.348231</td>\n",
       "      <td>...</td>\n",
       "      <td>0.935303</td>\n",
       "      <td>0.903605</td>\n",
       "      <td>0.875646</td>\n",
       "      <td>0.850747</td>\n",
       "      <td>0.823421</td>\n",
       "      <td>0.788953</td>\n",
       "      <td>0.749272</td>\n",
       "      <td>0.711617</td>\n",
       "      <td>0.685288</td>\n",
       "      <td>0.679950</td>\n",
       "    </tr>\n",
       "    <tr>\n",
       "      <th>3</th>\n",
       "      <td>127</td>\n",
       "      <td>3</td>\n",
       "      <td>0.003819</td>\n",
       "      <td>0.503273</td>\n",
       "      <td>0.541258</td>\n",
       "      <td>0.460892</td>\n",
       "      <td>0.437429</td>\n",
       "      <td>0.392647</td>\n",
       "      <td>0.366842</td>\n",
       "      <td>0.359645</td>\n",
       "      <td>...</td>\n",
       "      <td>0.443012</td>\n",
       "      <td>0.411199</td>\n",
       "      <td>0.390286</td>\n",
       "      <td>0.376721</td>\n",
       "      <td>0.359625</td>\n",
       "      <td>0.327530</td>\n",
       "      <td>0.277821</td>\n",
       "      <td>0.214182</td>\n",
       "      <td>0.147162</td>\n",
       "      <td>0.123559</td>\n",
       "    </tr>\n",
       "    <tr>\n",
       "      <th>4</th>\n",
       "      <td>127</td>\n",
       "      <td>4</td>\n",
       "      <td>0.057101</td>\n",
       "      <td>1.141542</td>\n",
       "      <td>0.830329</td>\n",
       "      <td>0.652757</td>\n",
       "      <td>0.551421</td>\n",
       "      <td>0.494866</td>\n",
       "      <td>0.487153</td>\n",
       "      <td>0.502427</td>\n",
       "      <td>...</td>\n",
       "      <td>0.576964</td>\n",
       "      <td>0.515441</td>\n",
       "      <td>0.453450</td>\n",
       "      <td>0.377552</td>\n",
       "      <td>0.284933</td>\n",
       "      <td>0.226393</td>\n",
       "      <td>0.501658</td>\n",
       "      <td>1.006430</td>\n",
       "      <td>0.971729</td>\n",
       "      <td>0.888564</td>\n",
       "    </tr>\n",
       "  </tbody>\n",
       "</table>\n",
       "<p>5 rows × 93 columns</p>\n",
       "</div>"
      ],
      "text/plain": [
       "   short_ID  window_ID       MSE        d1        d2        d3        d4  \\\n",
       "0       127          0  0.036224  0.551866  0.511525  0.418921  0.393570   \n",
       "1       127          1  0.001781  0.511137  0.535627  0.456171  0.430780   \n",
       "2       127          2  0.008751  0.540324  0.648341  0.572467  0.494882   \n",
       "3       127          3  0.003819  0.503273  0.541258  0.460892  0.437429   \n",
       "4       127          4  0.057101  1.141542  0.830329  0.652757  0.551421   \n",
       "\n",
       "         d5        d6        d7  ...       d81       d82       d83       d84  \\\n",
       "0  0.376943  0.354484  0.342850  ...  0.918718  0.906462  0.890662  0.858993   \n",
       "1  0.399154  0.356051  0.327404  ...  1.020759  0.995790  0.969248  0.935301   \n",
       "2  0.453017  0.394184  0.348231  ...  0.935303  0.903605  0.875646  0.850747   \n",
       "3  0.392647  0.366842  0.359645  ...  0.443012  0.411199  0.390286  0.376721   \n",
       "4  0.494866  0.487153  0.502427  ...  0.576964  0.515441  0.453450  0.377552   \n",
       "\n",
       "        d85       d86       d87       d88       d89       d90  \n",
       "0  0.806989  0.740205  0.668449  0.601423  0.551958  0.541089  \n",
       "1  0.888822  0.829687  0.764942  0.704779  0.660446  0.643842  \n",
       "2  0.823421  0.788953  0.749272  0.711617  0.685288  0.679950  \n",
       "3  0.359625  0.327530  0.277821  0.214182  0.147162  0.123559  \n",
       "4  0.284933  0.226393  0.501658  1.006430  0.971729  0.888564  \n",
       "\n",
       "[5 rows x 93 columns]"
      ]
     },
     "execution_count": 25,
     "metadata": {},
     "output_type": "execute_result"
    }
   ],
   "source": [
    "df_reconstruct.head()"
   ]
  },
  {
   "cell_type": "code",
   "execution_count": 26,
   "id": "c8f54084-28ca-4b22-87d9-9b117dc7fc88",
   "metadata": {},
   "outputs": [
    {
     "name": "stdout",
     "output_type": "stream",
     "text": [
      "32/32 [==============================] - 1s 14ms/step\n"
     ]
    }
   ],
   "source": [
    "# Calculating Latent Space Projection\n",
    "encoded_data = encoder.predict(predict_data)"
   ]
  },
  {
   "cell_type": "code",
   "execution_count": 27,
   "id": "000a69b1-60e5-4ed4-b98c-27688ff7f562",
   "metadata": {},
   "outputs": [],
   "source": [
    "# encoded_data = encoded_data.numpy()\n",
    "# df_encoded = pd.DataFrame(encoded_data)"
   ]
  },
  {
   "cell_type": "code",
   "execution_count": 28,
   "id": "10524f88-ffc1-4731-90c8-c9e0244c9346",
   "metadata": {},
   "outputs": [],
   "source": [
    "#Adds UMAP viz Dims to Dataframes\n",
    "df_reconstruct.insert(loc=2, column='UMAP_V2', value=v_2D_umap[:, 1])\n",
    "df_reconstruct.insert(loc=2, column='UMAP_V1', value=v_2D_umap[:, 0])"
   ]
  },
  {
   "cell_type": "markdown",
   "id": "6203ec7d-1b21-4dd1-a187-c4c8ef2ec5bf",
   "metadata": {},
   "source": [
    "---\n",
    "---\n",
    "# Clustering Solutions"
   ]
  },
  {
   "cell_type": "code",
   "execution_count": 29,
   "id": "823344cf-5015-4b13-8343-cfc24ca1f07c",
   "metadata": {},
   "outputs": [],
   "source": [
    "# Creates DF for Clustering Solutions\n",
    "df_sols  = Data.copy(deep=True)\n",
    "df_sols.drop(window_cols, axis=1, inplace=True)"
   ]
  },
  {
   "cell_type": "code",
   "execution_count": 30,
   "id": "db0bf90d-e3f0-477c-b31d-63466c1adf19",
   "metadata": {},
   "outputs": [],
   "source": [
    "#Adds UMAP viz Dims to Dataframes\n",
    "df_sols['UMAP_V1'] = v_2D_umap[:, 0]\n",
    "df_sols['UMAP_V2'] = v_2D_umap[:, 1]"
   ]
  },
  {
   "cell_type": "markdown",
   "id": "2902f83d-f4a4-4e9f-822b-7e53864822a1",
   "metadata": {},
   "source": [
    "### kMeans"
   ]
  },
  {
   "cell_type": "code",
   "execution_count": null,
   "id": "e4d00a24-84ad-4e07-b61a-60174274d131",
   "metadata": {},
   "outputs": [],
   "source": [
    "if Model_Name == 'CNN_ConvEmb':\n",
    "    latent_size = loaded_autoencoder.get_layer('Latent_Space').output_shape[-1]\n",
    "    encoded_data = encoded_data.reshape(-1, latent_size)\n",
    "encoded_data.shape"
   ]
  },
  {
   "cell_type": "code",
   "execution_count": 31,
   "id": "075be628-d68e-4885-aed8-ddfe49f34a49",
   "metadata": {},
   "outputs": [
    {
     "name": "stdout",
     "output_type": "stream",
     "text": [
      "Clustering on Encoded Space\n",
      "\n",
      "Processing kMeans for k=2\n",
      "Time: 0.3[s]\n",
      "\n",
      "Processing kMeans for k=3\n",
      "Time: 0.23[s]\n",
      "\n",
      "Processing kMeans for k=4\n",
      "Time: 0.24[s]\n",
      "\n",
      "Processing kMeans for k=5\n",
      "Time: 0.24[s]\n",
      "\n",
      "Processing kMeans for k=6\n",
      "Time: 0.25[s]\n",
      "\n",
      "Processing kMeans for k=7\n",
      "Time: 0.27[s]\n",
      "\n",
      "Processing kMeans for k=8\n",
      "Time: 0.29[s]\n",
      "\n",
      "Processing kMeans for k=9\n",
      "Time: 0.3[s]\n",
      "\n",
      "Processing kMeans for k=10\n",
      "Time: 0.52[s]\n",
      "\n",
      "Processing kMeans for k=11\n",
      "Time: 0.48[s]\n",
      "\n",
      "Processing kMeans for k=12\n",
      "Time: 0.67[s]\n",
      "\n",
      "Processing kMeans for k=13\n",
      "Time: 0.42[s]\n",
      "\n",
      "Processing kMeans for k=14\n",
      "Time: 0.62[s]\n",
      "\n",
      "Processing kMeans for k=15\n",
      "Time: 0.52[s]\n",
      "\n",
      "Processing kMeans for k=16\n",
      "Time: 0.56[s]\n",
      "\n",
      "Processing kMeans for k=17\n",
      "Time: 0.69[s]\n",
      "\n",
      "Processing kMeans for k=18\n",
      "Time: 0.62[s]\n",
      "\n",
      "Processing kMeans for k=19\n",
      "Time: 0.59[s]\n",
      "\n",
      "Processing kMeans for k=20\n",
      "Time: 0.75[s]\n",
      "\n",
      "Processing kMeans for k=21\n",
      "Time: 0.66[s]\n",
      "\n",
      "Processing kMeans for k=22\n",
      "Time: 0.62[s]\n",
      "\n",
      "Processing kMeans for k=23\n",
      "Time: 0.59[s]\n",
      "\n",
      "Processing kMeans for k=24\n",
      "Time: 0.88[s]\n",
      "\n",
      "Processing kMeans for k=25\n",
      "Time: 0.54[s]\n",
      "\n",
      "Total Time: 11.87[s]\n"
     ]
    }
   ],
   "source": [
    "print('Clustering on Encoded Space\\n')\n",
    "start_total_time = time.time()\n",
    "clust_sol_cols = []\n",
    "for k in range(2, max_num_clusters + 1):\n",
    "    # UMAPing to macthed k=dims with cluster friendly settings\n",
    "    start_ind_sol_time = time.time()\n",
    "    print(f'Processing kMeans for k={k}')\n",
    "    partition = KMeans(n_clusters=k, random_state=42).fit(encoded_data)\n",
    "    sol_name = f'kMeans_k{k}'\n",
    "    clust_sol_cols.append(sol_name)\n",
    "    df_sols[sol_name] = partition.labels_ + 1\n",
    "    print(f'Time: {np.round(time.time() - start_ind_sol_time,2)}[s]\\n')  \n",
    "\n",
    "print(f'Total Time: {np.round(time.time() - start_total_time,2)}[s]')  "
   ]
  },
  {
   "cell_type": "code",
   "execution_count": 32,
   "id": "604c3a43-a77c-4e92-8bce-cb7c91e612c8",
   "metadata": {},
   "outputs": [
    {
     "data": {
      "text/html": [
       "<div>\n",
       "<style scoped>\n",
       "    .dataframe tbody tr th:only-of-type {\n",
       "        vertical-align: middle;\n",
       "    }\n",
       "\n",
       "    .dataframe tbody tr th {\n",
       "        vertical-align: top;\n",
       "    }\n",
       "\n",
       "    .dataframe thead th {\n",
       "        text-align: right;\n",
       "    }\n",
       "</style>\n",
       "<table border=\"1\" class=\"dataframe\">\n",
       "  <thead>\n",
       "    <tr style=\"text-align: right;\">\n",
       "      <th></th>\n",
       "      <th>short_ID</th>\n",
       "      <th>window_ID</th>\n",
       "      <th>window_start_date</th>\n",
       "      <th>UMAP_V1</th>\n",
       "      <th>UMAP_V2</th>\n",
       "      <th>kMeans_k2</th>\n",
       "      <th>kMeans_k3</th>\n",
       "      <th>kMeans_k4</th>\n",
       "      <th>kMeans_k5</th>\n",
       "      <th>kMeans_k6</th>\n",
       "      <th>...</th>\n",
       "      <th>kMeans_k16</th>\n",
       "      <th>kMeans_k17</th>\n",
       "      <th>kMeans_k18</th>\n",
       "      <th>kMeans_k19</th>\n",
       "      <th>kMeans_k20</th>\n",
       "      <th>kMeans_k21</th>\n",
       "      <th>kMeans_k22</th>\n",
       "      <th>kMeans_k23</th>\n",
       "      <th>kMeans_k24</th>\n",
       "      <th>kMeans_k25</th>\n",
       "    </tr>\n",
       "  </thead>\n",
       "  <tbody>\n",
       "    <tr>\n",
       "      <th>0</th>\n",
       "      <td>127</td>\n",
       "      <td>0</td>\n",
       "      <td>2018-01-20</td>\n",
       "      <td>14.730165</td>\n",
       "      <td>14.922711</td>\n",
       "      <td>1</td>\n",
       "      <td>3</td>\n",
       "      <td>1</td>\n",
       "      <td>4</td>\n",
       "      <td>6</td>\n",
       "      <td>...</td>\n",
       "      <td>2</td>\n",
       "      <td>1</td>\n",
       "      <td>10</td>\n",
       "      <td>6</td>\n",
       "      <td>9</td>\n",
       "      <td>11</td>\n",
       "      <td>21</td>\n",
       "      <td>6</td>\n",
       "      <td>15</td>\n",
       "      <td>11</td>\n",
       "    </tr>\n",
       "    <tr>\n",
       "      <th>1</th>\n",
       "      <td>127</td>\n",
       "      <td>1</td>\n",
       "      <td>2018-04-20</td>\n",
       "      <td>14.456367</td>\n",
       "      <td>15.064330</td>\n",
       "      <td>1</td>\n",
       "      <td>3</td>\n",
       "      <td>1</td>\n",
       "      <td>4</td>\n",
       "      <td>6</td>\n",
       "      <td>...</td>\n",
       "      <td>2</td>\n",
       "      <td>1</td>\n",
       "      <td>10</td>\n",
       "      <td>6</td>\n",
       "      <td>9</td>\n",
       "      <td>11</td>\n",
       "      <td>21</td>\n",
       "      <td>6</td>\n",
       "      <td>15</td>\n",
       "      <td>11</td>\n",
       "    </tr>\n",
       "    <tr>\n",
       "      <th>2</th>\n",
       "      <td>127</td>\n",
       "      <td>2</td>\n",
       "      <td>2018-07-19</td>\n",
       "      <td>14.490791</td>\n",
       "      <td>14.844275</td>\n",
       "      <td>1</td>\n",
       "      <td>3</td>\n",
       "      <td>1</td>\n",
       "      <td>4</td>\n",
       "      <td>6</td>\n",
       "      <td>...</td>\n",
       "      <td>9</td>\n",
       "      <td>13</td>\n",
       "      <td>13</td>\n",
       "      <td>10</td>\n",
       "      <td>1</td>\n",
       "      <td>15</td>\n",
       "      <td>14</td>\n",
       "      <td>17</td>\n",
       "      <td>12</td>\n",
       "      <td>17</td>\n",
       "    </tr>\n",
       "    <tr>\n",
       "      <th>3</th>\n",
       "      <td>127</td>\n",
       "      <td>3</td>\n",
       "      <td>2018-10-17</td>\n",
       "      <td>13.377369</td>\n",
       "      <td>15.922905</td>\n",
       "      <td>1</td>\n",
       "      <td>3</td>\n",
       "      <td>1</td>\n",
       "      <td>4</td>\n",
       "      <td>6</td>\n",
       "      <td>...</td>\n",
       "      <td>2</td>\n",
       "      <td>10</td>\n",
       "      <td>1</td>\n",
       "      <td>15</td>\n",
       "      <td>14</td>\n",
       "      <td>5</td>\n",
       "      <td>21</td>\n",
       "      <td>18</td>\n",
       "      <td>15</td>\n",
       "      <td>21</td>\n",
       "    </tr>\n",
       "    <tr>\n",
       "      <th>4</th>\n",
       "      <td>127</td>\n",
       "      <td>4</td>\n",
       "      <td>2019-01-15</td>\n",
       "      <td>14.862516</td>\n",
       "      <td>16.851736</td>\n",
       "      <td>1</td>\n",
       "      <td>3</td>\n",
       "      <td>1</td>\n",
       "      <td>4</td>\n",
       "      <td>6</td>\n",
       "      <td>...</td>\n",
       "      <td>9</td>\n",
       "      <td>13</td>\n",
       "      <td>16</td>\n",
       "      <td>1</td>\n",
       "      <td>10</td>\n",
       "      <td>15</td>\n",
       "      <td>14</td>\n",
       "      <td>17</td>\n",
       "      <td>10</td>\n",
       "      <td>15</td>\n",
       "    </tr>\n",
       "  </tbody>\n",
       "</table>\n",
       "<p>5 rows × 29 columns</p>\n",
       "</div>"
      ],
      "text/plain": [
       "   short_ID  window_ID window_start_date    UMAP_V1    UMAP_V2  kMeans_k2  \\\n",
       "0       127          0        2018-01-20  14.730165  14.922711          1   \n",
       "1       127          1        2018-04-20  14.456367  15.064330          1   \n",
       "2       127          2        2018-07-19  14.490791  14.844275          1   \n",
       "3       127          3        2018-10-17  13.377369  15.922905          1   \n",
       "4       127          4        2019-01-15  14.862516  16.851736          1   \n",
       "\n",
       "   kMeans_k3  kMeans_k4  kMeans_k5  kMeans_k6  ...  kMeans_k16  kMeans_k17  \\\n",
       "0          3          1          4          6  ...           2           1   \n",
       "1          3          1          4          6  ...           2           1   \n",
       "2          3          1          4          6  ...           9          13   \n",
       "3          3          1          4          6  ...           2          10   \n",
       "4          3          1          4          6  ...           9          13   \n",
       "\n",
       "   kMeans_k18  kMeans_k19  kMeans_k20  kMeans_k21  kMeans_k22  kMeans_k23  \\\n",
       "0          10           6           9          11          21           6   \n",
       "1          10           6           9          11          21           6   \n",
       "2          13          10           1          15          14          17   \n",
       "3           1          15          14           5          21          18   \n",
       "4          16           1          10          15          14          17   \n",
       "\n",
       "   kMeans_k24  kMeans_k25  \n",
       "0          15          11  \n",
       "1          15          11  \n",
       "2          12          17  \n",
       "3          15          21  \n",
       "4          10          15  \n",
       "\n",
       "[5 rows x 29 columns]"
      ]
     },
     "execution_count": 32,
     "metadata": {},
     "output_type": "execute_result"
    }
   ],
   "source": [
    "df_sols.head()"
   ]
  },
  {
   "cell_type": "markdown",
   "id": "d0c19b57-5497-435c-8f70-0f18c080df3e",
   "metadata": {},
   "source": [
    "### KUMAP"
   ]
  },
  {
   "cell_type": "code",
   "execution_count": 33,
   "id": "566c6523-f95e-45fa-98e9-8baac15bdda9",
   "metadata": {},
   "outputs": [
    {
     "name": "stdout",
     "output_type": "stream",
     "text": [
      "Precomp Time: 1.27[s]\n"
     ]
    }
   ],
   "source": [
    "start_knn_time = time.time()\n",
    "knn_encoded_precomp = nearest_neighbors(encoded_data,\n",
    "                              n_neighbors=30,\n",
    "                              metric=\"euclidean\",\n",
    "                              metric_kwds=None,\n",
    "                              angular=False,\n",
    "                              random_state=42)\n",
    "\n",
    "print(f'Precomp Time: {np.round(time.time() - start_knn_time,2)}[s]')  "
   ]
  },
  {
   "cell_type": "code",
   "execution_count": 34,
   "id": "1533221d-1ee6-4f91-9d23-d242eb3b0182",
   "metadata": {},
   "outputs": [
    {
     "name": "stdout",
     "output_type": "stream",
     "text": [
      "Clustering on UMAP'ed Encoded Space\n",
      "\n",
      "Processing for k=2\n",
      "Working UMAP\n"
     ]
    },
    {
     "name": "stderr",
     "output_type": "stream",
     "text": [
      "C:\\Users\\ucesvpm\\Anaconda3\\envs\\TensorFlow_PhD\\lib\\site-packages\\umap\\umap_.py:1956: UserWarning: precomputed_knn is meant for large datasets. Since your data is small, precomputed_knn will be ignored and the k-nn will be computed normally.\n",
      "  warn(\n"
     ]
    },
    {
     "name": "stdout",
     "output_type": "stream",
     "text": [
      "Time: 6.86[s]\n",
      "Working kMeans\n",
      "Time: 0.28[s]\n",
      "\n",
      "Processing for k=3\n",
      "Working UMAP\n"
     ]
    },
    {
     "name": "stderr",
     "output_type": "stream",
     "text": [
      "C:\\Users\\ucesvpm\\Anaconda3\\envs\\TensorFlow_PhD\\lib\\site-packages\\umap\\umap_.py:1956: UserWarning: precomputed_knn is meant for large datasets. Since your data is small, precomputed_knn will be ignored and the k-nn will be computed normally.\n",
      "  warn(\n"
     ]
    },
    {
     "name": "stdout",
     "output_type": "stream",
     "text": [
      "Time: 5.87[s]\n",
      "Working kMeans\n",
      "Time: 0.23[s]\n",
      "\n",
      "Processing for k=4\n",
      "Working UMAP\n"
     ]
    },
    {
     "name": "stderr",
     "output_type": "stream",
     "text": [
      "C:\\Users\\ucesvpm\\Anaconda3\\envs\\TensorFlow_PhD\\lib\\site-packages\\umap\\umap_.py:1956: UserWarning: precomputed_knn is meant for large datasets. Since your data is small, precomputed_knn will be ignored and the k-nn will be computed normally.\n",
      "  warn(\n"
     ]
    },
    {
     "name": "stdout",
     "output_type": "stream",
     "text": [
      "Time: 5.86[s]\n",
      "Working kMeans\n",
      "Time: 0.3[s]\n",
      "\n",
      "Processing for k=5\n",
      "Working UMAP\n"
     ]
    },
    {
     "name": "stderr",
     "output_type": "stream",
     "text": [
      "C:\\Users\\ucesvpm\\Anaconda3\\envs\\TensorFlow_PhD\\lib\\site-packages\\umap\\umap_.py:1956: UserWarning: precomputed_knn is meant for large datasets. Since your data is small, precomputed_knn will be ignored and the k-nn will be computed normally.\n",
      "  warn(\n"
     ]
    },
    {
     "name": "stdout",
     "output_type": "stream",
     "text": [
      "Time: 6.79[s]\n",
      "Working kMeans\n",
      "Time: 0.33[s]\n",
      "\n",
      "Processing for k=6\n",
      "Working UMAP\n"
     ]
    },
    {
     "name": "stderr",
     "output_type": "stream",
     "text": [
      "C:\\Users\\ucesvpm\\Anaconda3\\envs\\TensorFlow_PhD\\lib\\site-packages\\umap\\umap_.py:1956: UserWarning: precomputed_knn is meant for large datasets. Since your data is small, precomputed_knn will be ignored and the k-nn will be computed normally.\n",
      "  warn(\n"
     ]
    },
    {
     "name": "stdout",
     "output_type": "stream",
     "text": [
      "Time: 6.59[s]\n",
      "Working kMeans\n",
      "Time: 0.27[s]\n",
      "\n",
      "Processing for k=7\n",
      "Working UMAP\n"
     ]
    },
    {
     "name": "stderr",
     "output_type": "stream",
     "text": [
      "C:\\Users\\ucesvpm\\Anaconda3\\envs\\TensorFlow_PhD\\lib\\site-packages\\umap\\umap_.py:1956: UserWarning: precomputed_knn is meant for large datasets. Since your data is small, precomputed_knn will be ignored and the k-nn will be computed normally.\n",
      "  warn(\n"
     ]
    },
    {
     "name": "stdout",
     "output_type": "stream",
     "text": [
      "Time: 5.84[s]\n",
      "Working kMeans\n",
      "Time: 0.26[s]\n",
      "\n",
      "Processing for k=8\n",
      "Working UMAP\n"
     ]
    },
    {
     "name": "stderr",
     "output_type": "stream",
     "text": [
      "C:\\Users\\ucesvpm\\Anaconda3\\envs\\TensorFlow_PhD\\lib\\site-packages\\umap\\umap_.py:1956: UserWarning: precomputed_knn is meant for large datasets. Since your data is small, precomputed_knn will be ignored and the k-nn will be computed normally.\n",
      "  warn(\n"
     ]
    },
    {
     "name": "stdout",
     "output_type": "stream",
     "text": [
      "Time: 6.72[s]\n",
      "Working kMeans\n",
      "Time: 0.24[s]\n",
      "\n",
      "Processing for k=9\n",
      "Working UMAP\n"
     ]
    },
    {
     "name": "stderr",
     "output_type": "stream",
     "text": [
      "C:\\Users\\ucesvpm\\Anaconda3\\envs\\TensorFlow_PhD\\lib\\site-packages\\umap\\umap_.py:1956: UserWarning: precomputed_knn is meant for large datasets. Since your data is small, precomputed_knn will be ignored and the k-nn will be computed normally.\n",
      "  warn(\n"
     ]
    },
    {
     "name": "stdout",
     "output_type": "stream",
     "text": [
      "Time: 6.46[s]\n",
      "Working kMeans\n",
      "Time: 0.28[s]\n",
      "\n",
      "Processing for k=10\n",
      "Working UMAP\n"
     ]
    },
    {
     "name": "stderr",
     "output_type": "stream",
     "text": [
      "C:\\Users\\ucesvpm\\Anaconda3\\envs\\TensorFlow_PhD\\lib\\site-packages\\umap\\umap_.py:1956: UserWarning: precomputed_knn is meant for large datasets. Since your data is small, precomputed_knn will be ignored and the k-nn will be computed normally.\n",
      "  warn(\n"
     ]
    },
    {
     "name": "stdout",
     "output_type": "stream",
     "text": [
      "Time: 6.93[s]\n",
      "Working kMeans\n",
      "Time: 0.3[s]\n",
      "\n",
      "Processing for k=11\n",
      "Working UMAP\n"
     ]
    },
    {
     "name": "stderr",
     "output_type": "stream",
     "text": [
      "C:\\Users\\ucesvpm\\Anaconda3\\envs\\TensorFlow_PhD\\lib\\site-packages\\umap\\umap_.py:1956: UserWarning: precomputed_knn is meant for large datasets. Since your data is small, precomputed_knn will be ignored and the k-nn will be computed normally.\n",
      "  warn(\n"
     ]
    },
    {
     "name": "stdout",
     "output_type": "stream",
     "text": [
      "Time: 6.8[s]\n",
      "Working kMeans\n",
      "Time: 0.33[s]\n",
      "\n",
      "Processing for k=12\n",
      "Working UMAP\n"
     ]
    },
    {
     "name": "stderr",
     "output_type": "stream",
     "text": [
      "C:\\Users\\ucesvpm\\Anaconda3\\envs\\TensorFlow_PhD\\lib\\site-packages\\umap\\umap_.py:1956: UserWarning: precomputed_knn is meant for large datasets. Since your data is small, precomputed_knn will be ignored and the k-nn will be computed normally.\n",
      "  warn(\n"
     ]
    },
    {
     "name": "stdout",
     "output_type": "stream",
     "text": [
      "Time: 7.65[s]\n",
      "Working kMeans\n",
      "Time: 0.28[s]\n",
      "\n",
      "Processing for k=13\n",
      "Working UMAP\n"
     ]
    },
    {
     "name": "stderr",
     "output_type": "stream",
     "text": [
      "C:\\Users\\ucesvpm\\Anaconda3\\envs\\TensorFlow_PhD\\lib\\site-packages\\umap\\umap_.py:1956: UserWarning: precomputed_knn is meant for large datasets. Since your data is small, precomputed_knn will be ignored and the k-nn will be computed normally.\n",
      "  warn(\n"
     ]
    },
    {
     "name": "stdout",
     "output_type": "stream",
     "text": [
      "Time: 7.09[s]\n",
      "Working kMeans\n",
      "Time: 0.32[s]\n",
      "\n",
      "Processing for k=14\n",
      "Working UMAP\n"
     ]
    },
    {
     "name": "stderr",
     "output_type": "stream",
     "text": [
      "C:\\Users\\ucesvpm\\Anaconda3\\envs\\TensorFlow_PhD\\lib\\site-packages\\umap\\umap_.py:1956: UserWarning: precomputed_knn is meant for large datasets. Since your data is small, precomputed_knn will be ignored and the k-nn will be computed normally.\n",
      "  warn(\n"
     ]
    },
    {
     "name": "stdout",
     "output_type": "stream",
     "text": [
      "Time: 8.06[s]\n",
      "Working kMeans\n",
      "Time: 0.3[s]\n",
      "\n",
      "Processing for k=15\n",
      "Working UMAP\n"
     ]
    },
    {
     "name": "stderr",
     "output_type": "stream",
     "text": [
      "C:\\Users\\ucesvpm\\Anaconda3\\envs\\TensorFlow_PhD\\lib\\site-packages\\umap\\umap_.py:1956: UserWarning: precomputed_knn is meant for large datasets. Since your data is small, precomputed_knn will be ignored and the k-nn will be computed normally.\n",
      "  warn(\n"
     ]
    },
    {
     "name": "stdout",
     "output_type": "stream",
     "text": [
      "Time: 7.66[s]\n",
      "Working kMeans\n",
      "Time: 0.31[s]\n",
      "\n",
      "Processing for k=16\n",
      "Working UMAP\n"
     ]
    },
    {
     "name": "stderr",
     "output_type": "stream",
     "text": [
      "C:\\Users\\ucesvpm\\Anaconda3\\envs\\TensorFlow_PhD\\lib\\site-packages\\umap\\umap_.py:1956: UserWarning: precomputed_knn is meant for large datasets. Since your data is small, precomputed_knn will be ignored and the k-nn will be computed normally.\n",
      "  warn(\n"
     ]
    },
    {
     "name": "stdout",
     "output_type": "stream",
     "text": [
      "Time: 8.3[s]\n",
      "Working kMeans\n",
      "Time: 0.31[s]\n",
      "\n",
      "Processing for k=17\n",
      "Working UMAP\n"
     ]
    },
    {
     "name": "stderr",
     "output_type": "stream",
     "text": [
      "C:\\Users\\ucesvpm\\Anaconda3\\envs\\TensorFlow_PhD\\lib\\site-packages\\umap\\umap_.py:1956: UserWarning: precomputed_knn is meant for large datasets. Since your data is small, precomputed_knn will be ignored and the k-nn will be computed normally.\n",
      "  warn(\n"
     ]
    },
    {
     "name": "stdout",
     "output_type": "stream",
     "text": [
      "Time: 9.47[s]\n",
      "Working kMeans\n",
      "Time: 0.26[s]\n",
      "\n",
      "Processing for k=18\n",
      "Working UMAP\n"
     ]
    },
    {
     "name": "stderr",
     "output_type": "stream",
     "text": [
      "C:\\Users\\ucesvpm\\Anaconda3\\envs\\TensorFlow_PhD\\lib\\site-packages\\umap\\umap_.py:1956: UserWarning: precomputed_knn is meant for large datasets. Since your data is small, precomputed_knn will be ignored and the k-nn will be computed normally.\n",
      "  warn(\n"
     ]
    },
    {
     "name": "stdout",
     "output_type": "stream",
     "text": [
      "Time: 8.82[s]\n",
      "Working kMeans\n",
      "Time: 0.28[s]\n",
      "\n",
      "Processing for k=19\n",
      "Working UMAP\n"
     ]
    },
    {
     "name": "stderr",
     "output_type": "stream",
     "text": [
      "C:\\Users\\ucesvpm\\Anaconda3\\envs\\TensorFlow_PhD\\lib\\site-packages\\umap\\umap_.py:1956: UserWarning: precomputed_knn is meant for large datasets. Since your data is small, precomputed_knn will be ignored and the k-nn will be computed normally.\n",
      "  warn(\n"
     ]
    },
    {
     "name": "stdout",
     "output_type": "stream",
     "text": [
      "Time: 8.22[s]\n",
      "Working kMeans\n",
      "Time: 0.31[s]\n",
      "\n",
      "Processing for k=20\n",
      "Working UMAP\n"
     ]
    },
    {
     "name": "stderr",
     "output_type": "stream",
     "text": [
      "C:\\Users\\ucesvpm\\Anaconda3\\envs\\TensorFlow_PhD\\lib\\site-packages\\umap\\umap_.py:1956: UserWarning: precomputed_knn is meant for large datasets. Since your data is small, precomputed_knn will be ignored and the k-nn will be computed normally.\n",
      "  warn(\n"
     ]
    },
    {
     "name": "stdout",
     "output_type": "stream",
     "text": [
      "Time: 8.72[s]\n",
      "Working kMeans\n",
      "Time: 0.28[s]\n",
      "\n",
      "Processing for k=21\n",
      "Working UMAP\n"
     ]
    },
    {
     "name": "stderr",
     "output_type": "stream",
     "text": [
      "C:\\Users\\ucesvpm\\Anaconda3\\envs\\TensorFlow_PhD\\lib\\site-packages\\umap\\umap_.py:1956: UserWarning: precomputed_knn is meant for large datasets. Since your data is small, precomputed_knn will be ignored and the k-nn will be computed normally.\n",
      "  warn(\n"
     ]
    },
    {
     "name": "stdout",
     "output_type": "stream",
     "text": [
      "Time: 8.5[s]\n",
      "Working kMeans\n",
      "Time: 0.3[s]\n",
      "\n",
      "Processing for k=22\n",
      "Working UMAP\n"
     ]
    },
    {
     "name": "stderr",
     "output_type": "stream",
     "text": [
      "C:\\Users\\ucesvpm\\Anaconda3\\envs\\TensorFlow_PhD\\lib\\site-packages\\umap\\umap_.py:1956: UserWarning: precomputed_knn is meant for large datasets. Since your data is small, precomputed_knn will be ignored and the k-nn will be computed normally.\n",
      "  warn(\n"
     ]
    },
    {
     "name": "stdout",
     "output_type": "stream",
     "text": [
      "Time: 9.77[s]\n",
      "Working kMeans\n",
      "Time: 0.29[s]\n",
      "\n",
      "Processing for k=23\n",
      "Working UMAP\n"
     ]
    },
    {
     "name": "stderr",
     "output_type": "stream",
     "text": [
      "C:\\Users\\ucesvpm\\Anaconda3\\envs\\TensorFlow_PhD\\lib\\site-packages\\umap\\umap_.py:1956: UserWarning: precomputed_knn is meant for large datasets. Since your data is small, precomputed_knn will be ignored and the k-nn will be computed normally.\n",
      "  warn(\n"
     ]
    },
    {
     "name": "stdout",
     "output_type": "stream",
     "text": [
      "Time: 9.9[s]\n",
      "Working kMeans\n",
      "Time: 0.3[s]\n",
      "\n",
      "Processing for k=24\n",
      "Working UMAP\n"
     ]
    },
    {
     "name": "stderr",
     "output_type": "stream",
     "text": [
      "C:\\Users\\ucesvpm\\Anaconda3\\envs\\TensorFlow_PhD\\lib\\site-packages\\umap\\umap_.py:1956: UserWarning: precomputed_knn is meant for large datasets. Since your data is small, precomputed_knn will be ignored and the k-nn will be computed normally.\n",
      "  warn(\n"
     ]
    },
    {
     "name": "stdout",
     "output_type": "stream",
     "text": [
      "Time: 9.87[s]\n",
      "Working kMeans\n",
      "Time: 0.31[s]\n",
      "\n",
      "Processing for k=25\n",
      "Working UMAP\n"
     ]
    },
    {
     "name": "stderr",
     "output_type": "stream",
     "text": [
      "C:\\Users\\ucesvpm\\Anaconda3\\envs\\TensorFlow_PhD\\lib\\site-packages\\umap\\umap_.py:1956: UserWarning: precomputed_knn is meant for large datasets. Since your data is small, precomputed_knn will be ignored and the k-nn will be computed normally.\n",
      "  warn(\n"
     ]
    },
    {
     "name": "stdout",
     "output_type": "stream",
     "text": [
      "Time: 9.55[s]\n",
      "Working kMeans\n",
      "Time: 0.31[s]\n",
      "\n",
      "Total Time: 193.32[s]\n"
     ]
    }
   ],
   "source": [
    "print(\"Clustering on UMAP'ed Encoded Space\\n\")\n",
    "start_total_time = time.time()\n",
    "for k in range(2, max_num_clusters + 1):\n",
    "    print(f'Processing for k={k}')\n",
    "    # UMAPing to macthed k=dims with cluster friendly settings\n",
    "    start_ind_UMAP_time = time.time()\n",
    "    print(f'Working UMAP')\n",
    "    # Settings from https://umap-learn.readthedocs.io/en/latest/clustering.html\n",
    "    # General idea is larger n_neighbors to capture wider relationships, and smaller min_dist to keep points closer (better for density alg)   \n",
    "    umap_clust_model = umap.UMAP(random_state=42,\n",
    "                           n_neighbors=30,\n",
    "                           min_dist= 0,\n",
    "                           n_components = k,\n",
    "                           precomputed_knn= knn_encoded_precomp,\n",
    "                          ).fit(encoded_data)\n",
    "    clust_umap = umap_clust_model.transform(encoded_data)\n",
    "    \n",
    "    print(f'Time: {np.round(time.time() - start_ind_UMAP_time,2)}[s]')\n",
    "    \n",
    "    start_ind_sol_time = time.time()\n",
    "    print(f'Working kMeans')\n",
    "    partition = KMeans(n_clusters=k, random_state=42).fit(clust_umap)\n",
    "    sol_name = f'KUMAP_k{k}'\n",
    "    clust_sol_cols.append(sol_name)\n",
    "    df_sols[sol_name] = partition.labels_ + 1\n",
    "    print(f'Time: {np.round(time.time() - start_ind_sol_time,2)}[s]\\n')  \n",
    "\n",
    "print(f'Total Time: {np.round(time.time() - start_total_time,2)}[s]')        "
   ]
  },
  {
   "cell_type": "code",
   "execution_count": 35,
   "id": "218d8e1a-8575-4846-ad1d-36c818291a4a",
   "metadata": {},
   "outputs": [
    {
     "data": {
      "text/html": [
       "<div>\n",
       "<style scoped>\n",
       "    .dataframe tbody tr th:only-of-type {\n",
       "        vertical-align: middle;\n",
       "    }\n",
       "\n",
       "    .dataframe tbody tr th {\n",
       "        vertical-align: top;\n",
       "    }\n",
       "\n",
       "    .dataframe thead th {\n",
       "        text-align: right;\n",
       "    }\n",
       "</style>\n",
       "<table border=\"1\" class=\"dataframe\">\n",
       "  <thead>\n",
       "    <tr style=\"text-align: right;\">\n",
       "      <th></th>\n",
       "      <th>short_ID</th>\n",
       "      <th>window_ID</th>\n",
       "      <th>window_start_date</th>\n",
       "      <th>UMAP_V1</th>\n",
       "      <th>UMAP_V2</th>\n",
       "      <th>kMeans_k2</th>\n",
       "      <th>kMeans_k3</th>\n",
       "      <th>kMeans_k4</th>\n",
       "      <th>kMeans_k5</th>\n",
       "      <th>kMeans_k6</th>\n",
       "      <th>...</th>\n",
       "      <th>KUMAP_k16</th>\n",
       "      <th>KUMAP_k17</th>\n",
       "      <th>KUMAP_k18</th>\n",
       "      <th>KUMAP_k19</th>\n",
       "      <th>KUMAP_k20</th>\n",
       "      <th>KUMAP_k21</th>\n",
       "      <th>KUMAP_k22</th>\n",
       "      <th>KUMAP_k23</th>\n",
       "      <th>KUMAP_k24</th>\n",
       "      <th>KUMAP_k25</th>\n",
       "    </tr>\n",
       "  </thead>\n",
       "  <tbody>\n",
       "    <tr>\n",
       "      <th>0</th>\n",
       "      <td>127</td>\n",
       "      <td>0</td>\n",
       "      <td>2018-01-20</td>\n",
       "      <td>14.730165</td>\n",
       "      <td>14.922711</td>\n",
       "      <td>1</td>\n",
       "      <td>3</td>\n",
       "      <td>1</td>\n",
       "      <td>4</td>\n",
       "      <td>6</td>\n",
       "      <td>...</td>\n",
       "      <td>3</td>\n",
       "      <td>4</td>\n",
       "      <td>13</td>\n",
       "      <td>14</td>\n",
       "      <td>6</td>\n",
       "      <td>13</td>\n",
       "      <td>9</td>\n",
       "      <td>7</td>\n",
       "      <td>11</td>\n",
       "      <td>18</td>\n",
       "    </tr>\n",
       "    <tr>\n",
       "      <th>1</th>\n",
       "      <td>127</td>\n",
       "      <td>1</td>\n",
       "      <td>2018-04-20</td>\n",
       "      <td>14.456367</td>\n",
       "      <td>15.064330</td>\n",
       "      <td>1</td>\n",
       "      <td>3</td>\n",
       "      <td>1</td>\n",
       "      <td>4</td>\n",
       "      <td>6</td>\n",
       "      <td>...</td>\n",
       "      <td>3</td>\n",
       "      <td>4</td>\n",
       "      <td>13</td>\n",
       "      <td>14</td>\n",
       "      <td>6</td>\n",
       "      <td>13</td>\n",
       "      <td>9</td>\n",
       "      <td>7</td>\n",
       "      <td>11</td>\n",
       "      <td>18</td>\n",
       "    </tr>\n",
       "    <tr>\n",
       "      <th>2</th>\n",
       "      <td>127</td>\n",
       "      <td>2</td>\n",
       "      <td>2018-07-19</td>\n",
       "      <td>14.490791</td>\n",
       "      <td>14.844275</td>\n",
       "      <td>1</td>\n",
       "      <td>3</td>\n",
       "      <td>1</td>\n",
       "      <td>4</td>\n",
       "      <td>6</td>\n",
       "      <td>...</td>\n",
       "      <td>16</td>\n",
       "      <td>13</td>\n",
       "      <td>3</td>\n",
       "      <td>3</td>\n",
       "      <td>3</td>\n",
       "      <td>8</td>\n",
       "      <td>17</td>\n",
       "      <td>12</td>\n",
       "      <td>18</td>\n",
       "      <td>12</td>\n",
       "    </tr>\n",
       "    <tr>\n",
       "      <th>3</th>\n",
       "      <td>127</td>\n",
       "      <td>3</td>\n",
       "      <td>2018-10-17</td>\n",
       "      <td>13.377369</td>\n",
       "      <td>15.922905</td>\n",
       "      <td>1</td>\n",
       "      <td>3</td>\n",
       "      <td>1</td>\n",
       "      <td>4</td>\n",
       "      <td>6</td>\n",
       "      <td>...</td>\n",
       "      <td>16</td>\n",
       "      <td>10</td>\n",
       "      <td>14</td>\n",
       "      <td>15</td>\n",
       "      <td>5</td>\n",
       "      <td>15</td>\n",
       "      <td>17</td>\n",
       "      <td>17</td>\n",
       "      <td>15</td>\n",
       "      <td>10</td>\n",
       "    </tr>\n",
       "    <tr>\n",
       "      <th>4</th>\n",
       "      <td>127</td>\n",
       "      <td>4</td>\n",
       "      <td>2019-01-15</td>\n",
       "      <td>14.862516</td>\n",
       "      <td>16.851736</td>\n",
       "      <td>1</td>\n",
       "      <td>3</td>\n",
       "      <td>1</td>\n",
       "      <td>4</td>\n",
       "      <td>6</td>\n",
       "      <td>...</td>\n",
       "      <td>16</td>\n",
       "      <td>10</td>\n",
       "      <td>14</td>\n",
       "      <td>15</td>\n",
       "      <td>5</td>\n",
       "      <td>15</td>\n",
       "      <td>17</td>\n",
       "      <td>17</td>\n",
       "      <td>15</td>\n",
       "      <td>10</td>\n",
       "    </tr>\n",
       "  </tbody>\n",
       "</table>\n",
       "<p>5 rows × 53 columns</p>\n",
       "</div>"
      ],
      "text/plain": [
       "   short_ID  window_ID window_start_date    UMAP_V1    UMAP_V2  kMeans_k2  \\\n",
       "0       127          0        2018-01-20  14.730165  14.922711          1   \n",
       "1       127          1        2018-04-20  14.456367  15.064330          1   \n",
       "2       127          2        2018-07-19  14.490791  14.844275          1   \n",
       "3       127          3        2018-10-17  13.377369  15.922905          1   \n",
       "4       127          4        2019-01-15  14.862516  16.851736          1   \n",
       "\n",
       "   kMeans_k3  kMeans_k4  kMeans_k5  kMeans_k6  ...  KUMAP_k16  KUMAP_k17  \\\n",
       "0          3          1          4          6  ...          3          4   \n",
       "1          3          1          4          6  ...          3          4   \n",
       "2          3          1          4          6  ...         16         13   \n",
       "3          3          1          4          6  ...         16         10   \n",
       "4          3          1          4          6  ...         16         10   \n",
       "\n",
       "   KUMAP_k18  KUMAP_k19  KUMAP_k20  KUMAP_k21  KUMAP_k22  KUMAP_k23  \\\n",
       "0         13         14          6         13          9          7   \n",
       "1         13         14          6         13          9          7   \n",
       "2          3          3          3          8         17         12   \n",
       "3         14         15          5         15         17         17   \n",
       "4         14         15          5         15         17         17   \n",
       "\n",
       "   KUMAP_k24  KUMAP_k25  \n",
       "0         11         18  \n",
       "1         11         18  \n",
       "2         18         12  \n",
       "3         15         10  \n",
       "4         15         10  \n",
       "\n",
       "[5 rows x 53 columns]"
      ]
     },
     "execution_count": 35,
     "metadata": {},
     "output_type": "execute_result"
    }
   ],
   "source": [
    "df_sols.head()"
   ]
  },
  {
   "cell_type": "markdown",
   "id": "e865e221-200b-4167-b858-b5ae3f128a77",
   "metadata": {},
   "source": [
    "## kMeans Centroids"
   ]
  },
  {
   "cell_type": "markdown",
   "id": "a965b1d6-53e2-412d-bf50-5c1336039737",
   "metadata": {},
   "source": [
    "> ***Note***:  \n",
    "> These are calculated **a posteriori**.  \n",
    "> Because the definition of centroid is the mean of all points, for an Eucledian space.  \n",
    "> Plus, with the several inverse transformations, there is a lot of error amplification potential if <code>kmeans.cluster_centers_</code> is used."
   ]
  },
  {
   "cell_type": "code",
   "execution_count": 36,
   "id": "d02ad4ce-3383-4edb-8d3f-d4b5d8d4a6f7",
   "metadata": {},
   "outputs": [],
   "source": [
    "df_centroids = pd.DataFrame()\n",
    "    \n",
    "centroids = []\n",
    "sol_names = []\n",
    "for clust_sol in clust_sol_cols:\n",
    "    n_clusters = df_sols[clust_sol].max()\n",
    "\n",
    "    for c in range(1, n_clusters +1):\n",
    "        clust_idx = df_sols[df_sols[clust_sol] == c].index\n",
    "        centroid = Data[window_cols].iloc[clust_idx].mean()\n",
    "        centroids.append(centroid)\n",
    "\n",
    "        sol_name = clust_sol + f'-c{c}'\n",
    "        sol_names.append(sol_name)\n",
    "\n",
    "df_centroids['Clust_Sols'] = sol_names\n",
    "df_centroids[window_cols] = centroids"
   ]
  },
  {
   "cell_type": "code",
   "execution_count": 50,
   "id": "fea012eb-a90e-415a-8785-2ec51c536bf0",
   "metadata": {},
   "outputs": [
    {
     "data": {
      "application/vnd.plotly.v1+json": {
       "config": {
        "plotlyServerURL": "https://plot.ly"
       },
       "data": [
        {
         "hovertemplate": "Clust_Sols=KUMAP_k10-c1<br>day=%{x}<br>value=%{y}<extra></extra>",
         "legendgroup": "KUMAP_k10-c1",
         "line": {
          "color": "#636efa",
          "dash": "solid"
         },
         "marker": {
          "symbol": "circle"
         },
         "mode": "lines",
         "name": "KUMAP_k10-c1",
         "orientation": "v",
         "showlegend": true,
         "type": "scatter",
         "visible": true,
         "x": [
          "d1",
          "d2",
          "d3",
          "d4",
          "d5",
          "d6",
          "d7",
          "d8",
          "d9",
          "d10",
          "d11",
          "d12",
          "d13",
          "d14",
          "d15",
          "d16",
          "d17",
          "d18",
          "d19",
          "d20",
          "d21",
          "d22",
          "d23",
          "d24",
          "d25",
          "d26",
          "d27",
          "d28",
          "d29",
          "d30",
          "d31",
          "d32",
          "d33",
          "d34",
          "d35",
          "d36",
          "d37",
          "d38",
          "d39",
          "d40",
          "d41",
          "d42",
          "d43",
          "d44",
          "d45",
          "d46",
          "d47",
          "d48",
          "d49",
          "d50",
          "d51",
          "d52",
          "d53",
          "d54",
          "d55",
          "d56",
          "d57",
          "d58",
          "d59",
          "d60",
          "d61",
          "d62",
          "d63",
          "d64",
          "d65",
          "d66",
          "d67",
          "d68",
          "d69",
          "d70",
          "d71",
          "d72",
          "d73",
          "d74",
          "d75",
          "d76",
          "d77",
          "d78",
          "d79",
          "d80",
          "d81",
          "d82",
          "d83",
          "d84",
          "d85",
          "d86",
          "d87",
          "d88",
          "d89",
          "d90"
         ],
         "xaxis": "x",
         "y": [
          0.3112730894478747,
          0.4037986205016334,
          0.40486144425032894,
          0.42647182516119847,
          0.4267295986707668,
          0.38130685184325613,
          0.25191430205726534,
          0.3330564087697985,
          0.3237332463769633,
          0.3261657461427047,
          0.2637736729950021,
          0.25493763311258455,
          0.26615243569826597,
          0.239812455322106,
          0.29171085641968403,
          0.29409044324537814,
          0.33944194680135326,
          0.29096350071162336,
          0.39014841374117615,
          0.39774283577033476,
          0.3733786693040572,
          0.47898039344503873,
          0.3817018590702854,
          0.4133501823383725,
          0.43334792672171885,
          0.43547960917403233,
          0.39593514109230293,
          0.4433526276864357,
          0.3657344087629499,
          0.3848911508491247,
          0.35384802211777344,
          0.2874641116300657,
          0.293858259180479,
          0.34370475168916276,
          0.29474930586141224,
          0.21327086746803467,
          0.24042929892158435,
          0.28306136147476013,
          0.24532394938661226,
          0.3005499219140247,
          0.41890132917881717,
          0.41457555729215506,
          0.40322084079133785,
          0.443595588399472,
          0.38301148227621223,
          0.3968128821437537,
          0.4401632364829774,
          0.4676866505627575,
          0.4523173726331996,
          0.4671133891567977,
          0.4040106198723444,
          0.35491528303906117,
          0.3570247473782184,
          0.3061995667281218,
          0.2476163570653004,
          0.3446122250050674,
          0.34304866338015844,
          0.313193731593025,
          0.3118293072758643,
          0.39838910931224825,
          0.4232068239923806,
          0.48643835491680154,
          0.4519732188463432,
          0.4642356170321408,
          0.48024117620430434,
          0.4798172723946541,
          0.3983692317924326,
          0.42164953790029625,
          0.3807773973966998,
          0.39736546798837835,
          0.34468772705589473,
          0.32320142992009426,
          0.2916541642190969,
          0.3701163102011483,
          0.3463609257840966,
          0.3671238201194196,
          0.40605927783693024,
          0.4254180528929349,
          0.3801072578797768,
          0.4620567395728943,
          0.34595407935194156,
          0.326095299639862,
          0.34811434457601304,
          0.4025164237254576,
          0.39335022861061136,
          0.3695509449343504,
          0.3552331833943927,
          0.3313487910164571,
          0.3281143096643474,
          0.3364036079677381
         ],
         "yaxis": "y"
        },
        {
         "hovertemplate": "Clust_Sols=KUMAP_k10-c2<br>day=%{x}<br>value=%{y}<extra></extra>",
         "legendgroup": "KUMAP_k10-c2",
         "line": {
          "color": "#EF553B",
          "dash": "solid"
         },
         "marker": {
          "symbol": "circle"
         },
         "mode": "lines",
         "name": "KUMAP_k10-c2",
         "orientation": "v",
         "showlegend": true,
         "type": "scatter",
         "visible": true,
         "x": [
          "d1",
          "d2",
          "d3",
          "d4",
          "d5",
          "d6",
          "d7",
          "d8",
          "d9",
          "d10",
          "d11",
          "d12",
          "d13",
          "d14",
          "d15",
          "d16",
          "d17",
          "d18",
          "d19",
          "d20",
          "d21",
          "d22",
          "d23",
          "d24",
          "d25",
          "d26",
          "d27",
          "d28",
          "d29",
          "d30",
          "d31",
          "d32",
          "d33",
          "d34",
          "d35",
          "d36",
          "d37",
          "d38",
          "d39",
          "d40",
          "d41",
          "d42",
          "d43",
          "d44",
          "d45",
          "d46",
          "d47",
          "d48",
          "d49",
          "d50",
          "d51",
          "d52",
          "d53",
          "d54",
          "d55",
          "d56",
          "d57",
          "d58",
          "d59",
          "d60",
          "d61",
          "d62",
          "d63",
          "d64",
          "d65",
          "d66",
          "d67",
          "d68",
          "d69",
          "d70",
          "d71",
          "d72",
          "d73",
          "d74",
          "d75",
          "d76",
          "d77",
          "d78",
          "d79",
          "d80",
          "d81",
          "d82",
          "d83",
          "d84",
          "d85",
          "d86",
          "d87",
          "d88",
          "d89",
          "d90"
         ],
         "xaxis": "x",
         "y": [
          -7,
          -7,
          -7,
          -7,
          -7,
          -7,
          -7,
          -7,
          -7,
          -7,
          -7,
          -7,
          -7,
          -7,
          -7,
          -7,
          -7,
          -7,
          -7,
          -7,
          -7,
          -7,
          -7,
          -7,
          -7,
          -7,
          -7,
          -7,
          -7,
          -7,
          -7,
          -7,
          -7,
          -7,
          -7,
          -7,
          -7,
          -7,
          -7,
          -7,
          -7,
          -7,
          -7,
          -7,
          -7,
          -7,
          -7,
          -7,
          -7,
          -7,
          -7,
          -7,
          -7,
          -7,
          -7,
          -7,
          -7,
          -7,
          -7,
          -7,
          -7,
          -7,
          -7,
          -7,
          -7,
          -7,
          -7,
          -7,
          -7,
          -7,
          -7,
          -7,
          -7,
          -7,
          -7,
          -7,
          -7,
          -7,
          -7,
          -7,
          -7,
          -7,
          -7,
          -7,
          -7,
          -7,
          -7,
          -7,
          -7,
          -7
         ],
         "yaxis": "y"
        },
        {
         "hovertemplate": "Clust_Sols=KUMAP_k10-c3<br>day=%{x}<br>value=%{y}<extra></extra>",
         "legendgroup": "KUMAP_k10-c3",
         "line": {
          "color": "#00cc96",
          "dash": "solid"
         },
         "marker": {
          "symbol": "circle"
         },
         "mode": "lines",
         "name": "KUMAP_k10-c3",
         "orientation": "v",
         "showlegend": true,
         "type": "scatter",
         "visible": true,
         "x": [
          "d1",
          "d2",
          "d3",
          "d4",
          "d5",
          "d6",
          "d7",
          "d8",
          "d9",
          "d10",
          "d11",
          "d12",
          "d13",
          "d14",
          "d15",
          "d16",
          "d17",
          "d18",
          "d19",
          "d20",
          "d21",
          "d22",
          "d23",
          "d24",
          "d25",
          "d26",
          "d27",
          "d28",
          "d29",
          "d30",
          "d31",
          "d32",
          "d33",
          "d34",
          "d35",
          "d36",
          "d37",
          "d38",
          "d39",
          "d40",
          "d41",
          "d42",
          "d43",
          "d44",
          "d45",
          "d46",
          "d47",
          "d48",
          "d49",
          "d50",
          "d51",
          "d52",
          "d53",
          "d54",
          "d55",
          "d56",
          "d57",
          "d58",
          "d59",
          "d60",
          "d61",
          "d62",
          "d63",
          "d64",
          "d65",
          "d66",
          "d67",
          "d68",
          "d69",
          "d70",
          "d71",
          "d72",
          "d73",
          "d74",
          "d75",
          "d76",
          "d77",
          "d78",
          "d79",
          "d80",
          "d81",
          "d82",
          "d83",
          "d84",
          "d85",
          "d86",
          "d87",
          "d88",
          "d89",
          "d90"
         ],
         "xaxis": "x",
         "y": [
          -0.1664028903940502,
          -0.1664317276711218,
          -0.18401301317787705,
          -0.1608871577573092,
          -0.14548767120508257,
          -0.15093698563746258,
          -0.1664001066226454,
          -0.21052147615594602,
          -0.1888933248133743,
          -0.19750714011169848,
          -0.21881066514452713,
          -0.2348596472999798,
          -0.2436423803280103,
          -0.1627647583826712,
          -0.16634870941807847,
          -0.19019805594695607,
          -0.20441621886957273,
          -0.23305907048777127,
          -0.22364108589893947,
          -0.25155082457259925,
          -0.24387870909697307,
          -0.24455550209695118,
          -0.22060104858122997,
          -0.24937283993455733,
          -0.26358306805177373,
          -0.22393898338981577,
          -0.22330252698140818,
          -0.2031079662758783,
          -0.22208814331707957,
          -0.2582931401108033,
          -0.2834756032358576,
          -0.29982531725517847,
          -0.3020933239023528,
          -0.28888466287604714,
          -0.3070468579332849,
          -0.31938210248357274,
          -0.27085144524585,
          -0.2720126744742627,
          -0.2923127904692986,
          -0.2999876630218138,
          -0.29649649490887914,
          -0.2955273718147763,
          -0.29573372304249207,
          -0.22480014459583714,
          -0.23034318456792852,
          -0.25882345098316556,
          -0.23077339960275564,
          -0.20651111006009604,
          -0.22233516428544162,
          -0.17867115870290412,
          -0.1940387239106615,
          -0.21277722841363567,
          -0.21952989151931612,
          -0.2517537682893709,
          -0.2596723543975976,
          -0.27412200669922065,
          -0.2751525802916011,
          -0.3066881839434736,
          -0.2984000726862895,
          -0.3411550824925428,
          -0.33067146521390356,
          -0.30335514936755575,
          -0.3178888223447579,
          -0.33620579591572647,
          -0.2745940945296663,
          -0.24910093534393715,
          -0.24634816753746513,
          -0.29201921170176814,
          -0.2967828436801865,
          -0.31783326947560414,
          -0.35398443514640004,
          -0.3389702610694783,
          -0.3784915720405614,
          -0.40688463398441127,
          -0.4162581819202507,
          -0.40233947117054125,
          -0.409522384697725,
          -0.4451492998588947,
          -0.48250236912822486,
          -0.4652319323269679,
          -0.4408885570818263,
          -0.40349037304067775,
          -0.4124699679930021,
          -0.3875213357069151,
          -0.39225170624979616,
          -0.369409698972535,
          -0.35123454984672203,
          -0.3346578988547855,
          -0.36158403666542915,
          -0.35990316713163606
         ],
         "yaxis": "y"
        },
        {
         "hovertemplate": "Clust_Sols=KUMAP_k10-c4<br>day=%{x}<br>value=%{y}<extra></extra>",
         "legendgroup": "KUMAP_k10-c4",
         "line": {
          "color": "#ab63fa",
          "dash": "solid"
         },
         "marker": {
          "symbol": "circle"
         },
         "mode": "lines",
         "name": "KUMAP_k10-c4",
         "orientation": "v",
         "showlegend": true,
         "type": "scatter",
         "visible": true,
         "x": [
          "d1",
          "d2",
          "d3",
          "d4",
          "d5",
          "d6",
          "d7",
          "d8",
          "d9",
          "d10",
          "d11",
          "d12",
          "d13",
          "d14",
          "d15",
          "d16",
          "d17",
          "d18",
          "d19",
          "d20",
          "d21",
          "d22",
          "d23",
          "d24",
          "d25",
          "d26",
          "d27",
          "d28",
          "d29",
          "d30",
          "d31",
          "d32",
          "d33",
          "d34",
          "d35",
          "d36",
          "d37",
          "d38",
          "d39",
          "d40",
          "d41",
          "d42",
          "d43",
          "d44",
          "d45",
          "d46",
          "d47",
          "d48",
          "d49",
          "d50",
          "d51",
          "d52",
          "d53",
          "d54",
          "d55",
          "d56",
          "d57",
          "d58",
          "d59",
          "d60",
          "d61",
          "d62",
          "d63",
          "d64",
          "d65",
          "d66",
          "d67",
          "d68",
          "d69",
          "d70",
          "d71",
          "d72",
          "d73",
          "d74",
          "d75",
          "d76",
          "d77",
          "d78",
          "d79",
          "d80",
          "d81",
          "d82",
          "d83",
          "d84",
          "d85",
          "d86",
          "d87",
          "d88",
          "d89",
          "d90"
         ],
         "xaxis": "x",
         "y": [
          1.082861216361571,
          1.1776183796988187,
          1.1052993513838762,
          1.0331525916446411,
          1.0292356644290193,
          1.0288103734730345,
          0.9570343314460501,
          1.0255634274305085,
          1.035160896207039,
          1.0628494845748337,
          0.998694468910164,
          0.8629108489705735,
          0.8711836870181092,
          0.7807013732369037,
          0.9546858130314265,
          0.8955167360856082,
          0.9950999995827868,
          0.9825230494477971,
          0.9511703182622057,
          0.9581365016345034,
          0.978608969191664,
          0.9785280440929703,
          1.01801833390619,
          0.9811972054235819,
          0.9271904002062592,
          0.8999064986613192,
          0.971869015891561,
          0.9688377270882824,
          1.0291412630255952,
          0.9490987053320323,
          0.959800318211612,
          0.9091587894759279,
          0.8606050753816561,
          0.9076997006165347,
          0.9005826218368411,
          0.9555093826454168,
          0.9145746633260892,
          0.9270596542229719,
          0.9537927071707906,
          0.8929431953335668,
          0.8326193164058787,
          0.8470081459415758,
          0.8326380787680282,
          0.8390671828519456,
          0.8141687817883506,
          0.8065886440405134,
          0.7928789354122385,
          0.8186504772462281,
          0.8044910912163029,
          0.8093524491325432,
          0.8443623953129827,
          0.854175495490431,
          0.8270333454985799,
          0.7703765082112435,
          0.7757617218290023,
          0.7570496626789668,
          0.748866413713737,
          0.8191884371313388,
          0.8200457373686709,
          0.8108286206043418,
          0.774399854219273,
          0.8361677860178613,
          0.8093531594103831,
          0.785763170932876,
          0.8402607021011892,
          0.8419760712098261,
          0.82132059248905,
          0.8362096894314272,
          0.7740631226775392,
          0.8841516964085365,
          0.8332920578857642,
          0.8961787599277264,
          0.8143638151901074,
          0.781694819919759,
          0.7882223983873615,
          0.7957341803547149,
          0.8066115447069779,
          0.7863710448973847,
          0.7438600545580514,
          0.8792576611204472,
          0.8737063878844181,
          0.8302159547839854,
          0.8579553749096358,
          0.7504766399697651,
          0.8482721136811228,
          0.747574663192967,
          0.773693071386294,
          0.8257800110897687,
          0.8024111122831405,
          0.8067433397157706
         ],
         "yaxis": "y"
        },
        {
         "hovertemplate": "Clust_Sols=KUMAP_k10-c5<br>day=%{x}<br>value=%{y}<extra></extra>",
         "legendgroup": "KUMAP_k10-c5",
         "line": {
          "color": "#FFA15A",
          "dash": "solid"
         },
         "marker": {
          "symbol": "circle"
         },
         "mode": "lines",
         "name": "KUMAP_k10-c5",
         "orientation": "v",
         "showlegend": true,
         "type": "scatter",
         "visible": true,
         "x": [
          "d1",
          "d2",
          "d3",
          "d4",
          "d5",
          "d6",
          "d7",
          "d8",
          "d9",
          "d10",
          "d11",
          "d12",
          "d13",
          "d14",
          "d15",
          "d16",
          "d17",
          "d18",
          "d19",
          "d20",
          "d21",
          "d22",
          "d23",
          "d24",
          "d25",
          "d26",
          "d27",
          "d28",
          "d29",
          "d30",
          "d31",
          "d32",
          "d33",
          "d34",
          "d35",
          "d36",
          "d37",
          "d38",
          "d39",
          "d40",
          "d41",
          "d42",
          "d43",
          "d44",
          "d45",
          "d46",
          "d47",
          "d48",
          "d49",
          "d50",
          "d51",
          "d52",
          "d53",
          "d54",
          "d55",
          "d56",
          "d57",
          "d58",
          "d59",
          "d60",
          "d61",
          "d62",
          "d63",
          "d64",
          "d65",
          "d66",
          "d67",
          "d68",
          "d69",
          "d70",
          "d71",
          "d72",
          "d73",
          "d74",
          "d75",
          "d76",
          "d77",
          "d78",
          "d79",
          "d80",
          "d81",
          "d82",
          "d83",
          "d84",
          "d85",
          "d86",
          "d87",
          "d88",
          "d89",
          "d90"
         ],
         "xaxis": "x",
         "y": [
          0.05894995480384282,
          0.06096549416851829,
          0.033657655227947524,
          0.08524080896052405,
          0.09223707764036893,
          0.04936114410681627,
          0.07321656697314333,
          0.06645048590591655,
          0.09255656125391572,
          0.12426792826731069,
          0.16750999583587045,
          0.13241098545668809,
          0.09504406728297332,
          0.1401759213600004,
          0.12822206838860495,
          0.1396385081524444,
          0.1111018758922049,
          0.11738861601206173,
          0.08262817831219187,
          0.08090451499689547,
          0.09250720130334446,
          0.044947590113338404,
          0.027574217493765055,
          0.026502890314144475,
          0.013567288673136429,
          0.045661929332578906,
          0.027380747973855247,
          -0.003275329016124818,
          -0.04932444791429681,
          -0.005915275035635879,
          0.038526653107546584,
          0.06002515742543533,
          0.05458999934113908,
          0.024622984518984516,
          0.008231019190003802,
          0.049725011826154006,
          0.07889929107565621,
          0.08860153375568683,
          0.08067596039137938,
          0.05615956294202204,
          0.05583959106480693,
          0.07169578662545556,
          0.10649791191553735,
          0.0561886933094217,
          0.11315840721052849,
          0.08931716567616174,
          -0.007369950954035695,
          0.03437628541073823,
          0.046641250328617066,
          0.013503902565626167,
          0.08726039009070038,
          0.0906133865304103,
          0.06554161629793331,
          0.05391061535526289,
          0.12558439752225534,
          0.11908626511920063,
          0.11921012098356491,
          0.12937619899176284,
          0.12777502119541523,
          0.12446409437952995,
          0.059156292420585996,
          0.0038843819393155608,
          -0.03856917605599895,
          -0.11818298609646409,
          -0.10410259706784762,
          -0.039419858168595376,
          -0.0335210595269608,
          0.009400961364671952,
          -0.01921807266181534,
          -0.008803847127212118,
          0.10918356311245342,
          0.1551109803782002,
          0.1480795207029068,
          0.174183008842864,
          0.18406518826832974,
          0.09258579457775025,
          0.09387445306149643,
          0.10600771985597714,
          0.18475857250942457,
          0.13192217067705464,
          0.10015113999832644,
          0.18950761049721232,
          0.12671295931323726,
          0.097433236630717,
          0.08992925630006134,
          0.12122248008377541,
          0.1098804192743716,
          0.08421779732898946,
          0.05986601469474442,
          0.08480040121110669
         ],
         "yaxis": "y"
        },
        {
         "hovertemplate": "Clust_Sols=KUMAP_k10-c6<br>day=%{x}<br>value=%{y}<extra></extra>",
         "legendgroup": "KUMAP_k10-c6",
         "line": {
          "color": "#19d3f3",
          "dash": "solid"
         },
         "marker": {
          "symbol": "circle"
         },
         "mode": "lines",
         "name": "KUMAP_k10-c6",
         "orientation": "v",
         "showlegend": true,
         "type": "scatter",
         "visible": true,
         "x": [
          "d1",
          "d2",
          "d3",
          "d4",
          "d5",
          "d6",
          "d7",
          "d8",
          "d9",
          "d10",
          "d11",
          "d12",
          "d13",
          "d14",
          "d15",
          "d16",
          "d17",
          "d18",
          "d19",
          "d20",
          "d21",
          "d22",
          "d23",
          "d24",
          "d25",
          "d26",
          "d27",
          "d28",
          "d29",
          "d30",
          "d31",
          "d32",
          "d33",
          "d34",
          "d35",
          "d36",
          "d37",
          "d38",
          "d39",
          "d40",
          "d41",
          "d42",
          "d43",
          "d44",
          "d45",
          "d46",
          "d47",
          "d48",
          "d49",
          "d50",
          "d51",
          "d52",
          "d53",
          "d54",
          "d55",
          "d56",
          "d57",
          "d58",
          "d59",
          "d60",
          "d61",
          "d62",
          "d63",
          "d64",
          "d65",
          "d66",
          "d67",
          "d68",
          "d69",
          "d70",
          "d71",
          "d72",
          "d73",
          "d74",
          "d75",
          "d76",
          "d77",
          "d78",
          "d79",
          "d80",
          "d81",
          "d82",
          "d83",
          "d84",
          "d85",
          "d86",
          "d87",
          "d88",
          "d89",
          "d90"
         ],
         "xaxis": "x",
         "y": [
          0.7653952046355794,
          0.7849582509052878,
          0.7793854070540921,
          0.7807328058868939,
          0.7789296062548673,
          0.7475431655317989,
          0.7061097968097008,
          0.6861211854568625,
          0.6703542026162433,
          0.6481093372922023,
          0.6230714246319076,
          0.5877670706787471,
          0.5504999612814845,
          0.5163398225032342,
          0.47935112052806156,
          0.43564753096989395,
          0.4215893715785141,
          0.4063453894095283,
          0.384073684219418,
          0.42243622758539934,
          0.4326233682372298,
          0.43610860820784986,
          0.408808055344629,
          0.4367431911545723,
          0.4642492865770196,
          0.593972950795318,
          0.6541604919468532,
          0.6612319680426132,
          0.6846113051244325,
          0.7186260768340862,
          0.7707675710006681,
          0.7871844010380915,
          0.8064660066445924,
          0.8400954935594784,
          0.7924192422932902,
          0.7977764632400631,
          0.7862172755507753,
          0.7585500017225044,
          0.7212734440813748,
          0.6956524986656362,
          0.6815886550390818,
          0.643268589532658,
          0.6657959754453466,
          0.6252537274925672,
          0.555373460962973,
          0.5267524583000124,
          0.49045184873382053,
          0.455719300544588,
          0.416573467638427,
          0.40064127822460677,
          0.38110373824835253,
          0.34921848392052235,
          0.32896013464051965,
          0.35411037549092184,
          0.3805349530452747,
          0.4312265683065081,
          0.4734682125679642,
          0.5005004969406109,
          0.5792297146437702,
          0.631974830536238,
          0.6798042814700193,
          0.8012267544269627,
          0.808664501094453,
          0.7988146359439086,
          0.825490841222706,
          0.8321402135190901,
          0.8521093009077418,
          0.8468894149172846,
          0.8101768566440681,
          0.779068815809263,
          0.742501753450827,
          0.7163881184035451,
          0.692546477685952,
          0.6574191136718927,
          0.6392775730959631,
          0.5965709305539948,
          0.5676657245424463,
          0.5341153439905364,
          0.5230314924193279,
          0.5144925879370824,
          0.4957409045630182,
          0.5111942896175664,
          0.4836196291934302,
          0.47747571628922225,
          0.4651299310201397,
          0.4564781813080172,
          0.5019487116456172,
          0.5425520098421337,
          0.5349473312012595,
          0.5761914136205994
         ],
         "yaxis": "y"
        },
        {
         "hovertemplate": "Clust_Sols=KUMAP_k10-c7<br>day=%{x}<br>value=%{y}<extra></extra>",
         "legendgroup": "KUMAP_k10-c7",
         "line": {
          "color": "#FF6692",
          "dash": "solid"
         },
         "marker": {
          "symbol": "circle"
         },
         "mode": "lines",
         "name": "KUMAP_k10-c7",
         "orientation": "v",
         "showlegend": true,
         "type": "scatter",
         "visible": true,
         "x": [
          "d1",
          "d2",
          "d3",
          "d4",
          "d5",
          "d6",
          "d7",
          "d8",
          "d9",
          "d10",
          "d11",
          "d12",
          "d13",
          "d14",
          "d15",
          "d16",
          "d17",
          "d18",
          "d19",
          "d20",
          "d21",
          "d22",
          "d23",
          "d24",
          "d25",
          "d26",
          "d27",
          "d28",
          "d29",
          "d30",
          "d31",
          "d32",
          "d33",
          "d34",
          "d35",
          "d36",
          "d37",
          "d38",
          "d39",
          "d40",
          "d41",
          "d42",
          "d43",
          "d44",
          "d45",
          "d46",
          "d47",
          "d48",
          "d49",
          "d50",
          "d51",
          "d52",
          "d53",
          "d54",
          "d55",
          "d56",
          "d57",
          "d58",
          "d59",
          "d60",
          "d61",
          "d62",
          "d63",
          "d64",
          "d65",
          "d66",
          "d67",
          "d68",
          "d69",
          "d70",
          "d71",
          "d72",
          "d73",
          "d74",
          "d75",
          "d76",
          "d77",
          "d78",
          "d79",
          "d80",
          "d81",
          "d82",
          "d83",
          "d84",
          "d85",
          "d86",
          "d87",
          "d88",
          "d89",
          "d90"
         ],
         "xaxis": "x",
         "y": [
          0.6271713597643147,
          0.6193502616075885,
          0.5589248394868673,
          0.574502174393883,
          0.5862684617586551,
          0.5852363069397932,
          0.5701060538599899,
          0.6678951115985101,
          0.6276611078353374,
          0.6194709928744756,
          0.5822628470149851,
          0.6137634065936826,
          0.6211150281453554,
          0.5762369580173146,
          0.5458933141577712,
          0.5021774510007984,
          0.46651464905688617,
          0.5243940614001996,
          0.45276323841326127,
          0.5041606633778267,
          0.4371028171331783,
          0.46730478525902386,
          0.5414927897302295,
          0.49042288943246687,
          0.5715790695080967,
          0.6703827612704031,
          0.6568257938604138,
          0.528283822623723,
          0.6097363622770048,
          0.6167040688449568,
          0.5897257321758992,
          0.6673792986646904,
          0.5326195361135525,
          0.5277198001418862,
          0.38150409723112877,
          0.5158309638791883,
          0.5321106756818949,
          0.6063108644955617,
          0.5682195381599733,
          0.5172123087692047,
          0.5161168922308923,
          0.46481817604346376,
          0.3354969833463554,
          0.5188856510514192,
          0.5037700678174518,
          0.50074496344393,
          0.6367881092506306,
          0.6126653728521707,
          0.6116048729396021,
          0.5929218127049097,
          0.6650352241273947,
          0.582347874023323,
          0.6102528731421708,
          0.5564927861810218,
          0.6523743899503495,
          0.631400254031877,
          0.5725405995872357,
          0.4857050970694582,
          0.4499502085375402,
          0.5074830154139334,
          0.3823085150469895,
          0.551001201684748,
          0.5742643280196688,
          0.3783397227972282,
          0.528067424503906,
          0.5602821042387685,
          0.6337380209362602,
          0.5248690761769355,
          0.5436984038873441,
          0.5677870705163655,
          0.6176111660022633,
          0.6141848285625022,
          0.5198011519825847,
          0.5725210234041771,
          0.563799196189299,
          0.6140599040920188,
          0.5019478060621703,
          0.5209313757877595,
          0.6304098633248036,
          0.5910347628517406,
          0.5771309089384864,
          0.523825650994916,
          0.5616212689119702,
          0.5943611088048872,
          0.6328637588833477,
          0.5830344315036837,
          0.6403639192679269,
          0.5372830890146958,
          0.5667758976861375,
          0.43736250868667825
         ],
         "yaxis": "y"
        },
        {
         "hovertemplate": "Clust_Sols=KUMAP_k10-c8<br>day=%{x}<br>value=%{y}<extra></extra>",
         "legendgroup": "KUMAP_k10-c8",
         "line": {
          "color": "#B6E880",
          "dash": "solid"
         },
         "marker": {
          "symbol": "circle"
         },
         "mode": "lines",
         "name": "KUMAP_k10-c8",
         "orientation": "v",
         "showlegend": true,
         "type": "scatter",
         "visible": true,
         "x": [
          "d1",
          "d2",
          "d3",
          "d4",
          "d5",
          "d6",
          "d7",
          "d8",
          "d9",
          "d10",
          "d11",
          "d12",
          "d13",
          "d14",
          "d15",
          "d16",
          "d17",
          "d18",
          "d19",
          "d20",
          "d21",
          "d22",
          "d23",
          "d24",
          "d25",
          "d26",
          "d27",
          "d28",
          "d29",
          "d30",
          "d31",
          "d32",
          "d33",
          "d34",
          "d35",
          "d36",
          "d37",
          "d38",
          "d39",
          "d40",
          "d41",
          "d42",
          "d43",
          "d44",
          "d45",
          "d46",
          "d47",
          "d48",
          "d49",
          "d50",
          "d51",
          "d52",
          "d53",
          "d54",
          "d55",
          "d56",
          "d57",
          "d58",
          "d59",
          "d60",
          "d61",
          "d62",
          "d63",
          "d64",
          "d65",
          "d66",
          "d67",
          "d68",
          "d69",
          "d70",
          "d71",
          "d72",
          "d73",
          "d74",
          "d75",
          "d76",
          "d77",
          "d78",
          "d79",
          "d80",
          "d81",
          "d82",
          "d83",
          "d84",
          "d85",
          "d86",
          "d87",
          "d88",
          "d89",
          "d90"
         ],
         "xaxis": "x",
         "y": [
          0.5355305448392066,
          0.4630932064643597,
          0.44041942385339605,
          0.4553888874293052,
          0.44908133439287473,
          0.4030160683083176,
          0.4191812718722069,
          0.4986346166313705,
          0.4305416079365379,
          0.43251891415908933,
          0.4969718705962846,
          0.4932726392291352,
          0.5009359305974405,
          0.5306282967546783,
          0.5285549143399659,
          0.5520191079383835,
          0.54424852063255,
          0.4699794152291573,
          0.5200882201003201,
          0.5025316522826744,
          0.46891637256217933,
          0.4463084241904595,
          0.2999135175916715,
          0.3651392100873578,
          0.3448947699689096,
          0.33542771644448305,
          0.13219522806306885,
          0.21408216488927917,
          0.21598663973929552,
          0.41783247915328436,
          0.575454006896838,
          0.6062601764752964,
          0.5452844446784444,
          0.5456318775028174,
          0.6409267625544961,
          0.6356411430429171,
          0.6374259970729326,
          0.6005805375548827,
          0.5846460825278517,
          0.5406879788278625,
          0.5140257295298682,
          0.534139784570981,
          0.493645009772058,
          0.43818612371931215,
          0.5087280279201292,
          0.4991617039410699,
          0.4400622362234332,
          0.45608372789934687,
          0.4240718588652292,
          0.5081709011631138,
          0.5164496778974496,
          0.5079376227550471,
          0.48346758483512875,
          0.5350487689941942,
          0.42924841173079964,
          0.36620013084642455,
          0.45294965306214896,
          0.4537352079242298,
          0.47436061975924815,
          0.5114240291423809,
          0.5359848699556549,
          0.4957915408677083,
          0.48160867509756755,
          0.5141010588461763,
          0.49780187416284716,
          0.5053510556626654,
          0.4981861941887488,
          0.5279565227705179,
          0.46875901279294263,
          0.4494571361200278,
          0.4624960435809205,
          0.47798314808231523,
          0.5321266349584737,
          0.541382467968628,
          0.4861947903098177,
          0.4182083762254723,
          0.37100896101640485,
          0.3651635203702511,
          0.4189637250535122,
          0.45653478541174797,
          0.42457838812354315,
          0.39920337377595455,
          0.3881165298222005,
          0.44458891958812863,
          0.4984105392467643,
          0.5075808519153252,
          0.5145287011936399,
          0.5146243805618785,
          0.442174746612017,
          0.46071296269503614
         ],
         "yaxis": "y"
        },
        {
         "hovertemplate": "Clust_Sols=KUMAP_k10-c9<br>day=%{x}<br>value=%{y}<extra></extra>",
         "legendgroup": "KUMAP_k10-c9",
         "line": {
          "color": "#FF97FF",
          "dash": "solid"
         },
         "marker": {
          "symbol": "circle"
         },
         "mode": "lines",
         "name": "KUMAP_k10-c9",
         "orientation": "v",
         "showlegend": true,
         "type": "scatter",
         "visible": true,
         "x": [
          "d1",
          "d2",
          "d3",
          "d4",
          "d5",
          "d6",
          "d7",
          "d8",
          "d9",
          "d10",
          "d11",
          "d12",
          "d13",
          "d14",
          "d15",
          "d16",
          "d17",
          "d18",
          "d19",
          "d20",
          "d21",
          "d22",
          "d23",
          "d24",
          "d25",
          "d26",
          "d27",
          "d28",
          "d29",
          "d30",
          "d31",
          "d32",
          "d33",
          "d34",
          "d35",
          "d36",
          "d37",
          "d38",
          "d39",
          "d40",
          "d41",
          "d42",
          "d43",
          "d44",
          "d45",
          "d46",
          "d47",
          "d48",
          "d49",
          "d50",
          "d51",
          "d52",
          "d53",
          "d54",
          "d55",
          "d56",
          "d57",
          "d58",
          "d59",
          "d60",
          "d61",
          "d62",
          "d63",
          "d64",
          "d65",
          "d66",
          "d67",
          "d68",
          "d69",
          "d70",
          "d71",
          "d72",
          "d73",
          "d74",
          "d75",
          "d76",
          "d77",
          "d78",
          "d79",
          "d80",
          "d81",
          "d82",
          "d83",
          "d84",
          "d85",
          "d86",
          "d87",
          "d88",
          "d89",
          "d90"
         ],
         "xaxis": "x",
         "y": [
          -4.315424189814815,
          -4.365424189814815,
          -4.339589120370371,
          -4.006331018518519,
          -4.848046875,
          -5.34800925925926,
          -6.166704282407407,
          -6.55,
          -6.55,
          -6.567056134259259,
          -6.167056134259259,
          -6.564548611111111,
          -6.614548611111111,
          -7,
          -7,
          -7,
          -7,
          -6.55,
          -6.585185185185185,
          -6.635185185185184,
          -7,
          -7,
          -6.55,
          -6.55,
          -6.55,
          -6.55,
          -6.55,
          -6.580854166666667,
          -6.630854166666666,
          -7,
          -7,
          -7,
          -6.55,
          -6.562738425925926,
          -6.612738425925926,
          -7,
          -6.55,
          -6.55,
          -6.602171575856987,
          -6.602171575856987,
          -7,
          -7,
          -7,
          -7,
          -7,
          -7,
          -6.1,
          -6.114182291666667,
          -5.714182291666667,
          -5.714182291666667,
          -5.264182291666667,
          -5.675586805555556,
          -5.325586805555555,
          -6.125068865740741,
          -5.340603306668364,
          -5.678565972222222,
          -5.728565972222222,
          -6.1,
          -6.1,
          -6.1,
          -5.666168981481482,
          -5.266168981481481,
          -5.713721889544026,
          -5.65,
          -5.6684195601851854,
          -5.29912962962963,
          -5.749179398148148,
          -6.168469328703703,
          -6.55,
          -6.613122493142758,
          -7,
          -7,
          -7,
          -7,
          -7,
          -7,
          -7,
          -7,
          -7,
          -7,
          -7,
          -7,
          -7,
          -7,
          -7,
          -7,
          -7,
          -7,
          -6.55,
          -6.1
         ],
         "yaxis": "y"
        },
        {
         "hovertemplate": "Clust_Sols=KUMAP_k10-c10<br>day=%{x}<br>value=%{y}<extra></extra>",
         "legendgroup": "KUMAP_k10-c10",
         "line": {
          "color": "#FECB52",
          "dash": "solid"
         },
         "marker": {
          "symbol": "circle"
         },
         "mode": "lines",
         "name": "KUMAP_k10-c10",
         "orientation": "v",
         "showlegend": true,
         "type": "scatter",
         "visible": true,
         "x": [
          "d1",
          "d2",
          "d3",
          "d4",
          "d5",
          "d6",
          "d7",
          "d8",
          "d9",
          "d10",
          "d11",
          "d12",
          "d13",
          "d14",
          "d15",
          "d16",
          "d17",
          "d18",
          "d19",
          "d20",
          "d21",
          "d22",
          "d23",
          "d24",
          "d25",
          "d26",
          "d27",
          "d28",
          "d29",
          "d30",
          "d31",
          "d32",
          "d33",
          "d34",
          "d35",
          "d36",
          "d37",
          "d38",
          "d39",
          "d40",
          "d41",
          "d42",
          "d43",
          "d44",
          "d45",
          "d46",
          "d47",
          "d48",
          "d49",
          "d50",
          "d51",
          "d52",
          "d53",
          "d54",
          "d55",
          "d56",
          "d57",
          "d58",
          "d59",
          "d60",
          "d61",
          "d62",
          "d63",
          "d64",
          "d65",
          "d66",
          "d67",
          "d68",
          "d69",
          "d70",
          "d71",
          "d72",
          "d73",
          "d74",
          "d75",
          "d76",
          "d77",
          "d78",
          "d79",
          "d80",
          "d81",
          "d82",
          "d83",
          "d84",
          "d85",
          "d86",
          "d87",
          "d88",
          "d89",
          "d90"
         ],
         "xaxis": "x",
         "y": [
          0.6126639929486003,
          0.5983603374200269,
          0.6055270753613935,
          0.5792332909696775,
          0.5408367762275555,
          0.5498396090423122,
          0.5226643703990747,
          0.4972416730517139,
          0.4815541330855892,
          0.4799487568778598,
          0.4747575846282147,
          0.5062600795820511,
          0.548464386093368,
          0.5563619816329742,
          0.5477841210485195,
          0.525547646866969,
          0.5115588619782164,
          0.4849887149288585,
          0.4938414863862754,
          0.48347736006510444,
          0.4938979894465477,
          0.4931106898414754,
          0.4719502864300284,
          0.4476736746422044,
          0.41887157661996294,
          0.43220424558448556,
          0.40734104759039996,
          0.3902295736384931,
          0.3763857984892345,
          0.3600405186707515,
          0.3373967015905145,
          0.31409878278131426,
          0.296456701443327,
          0.29968947965212145,
          0.2784290109134317,
          0.25070595183581873,
          0.25154551469428166,
          0.27783466722694367,
          0.26365124756193653,
          0.29035962633874507,
          0.33029300435009157,
          0.35069699621422856,
          0.32788162456338715,
          0.38613594290439074,
          0.39238421886345465,
          0.35571324780523716,
          0.36237774725009664,
          0.42700077855259894,
          0.46612348007210563,
          0.4460703253083514,
          0.4327114507013054,
          0.4746192174288911,
          0.44348791557649075,
          0.4319733196445745,
          0.4332153790033462,
          0.4068441802106591,
          0.42014878892126245,
          0.3871850316850586,
          0.37830445307796967,
          0.3685009595097008,
          0.353379632855443,
          0.3589868265419469,
          0.3385406423342633,
          0.33583357629384836,
          0.3299648555434893,
          0.3121523755910346,
          0.28268791379495817,
          0.2480675280065986,
          0.259820211638249,
          0.29747115083291936,
          0.2975417689056109,
          0.3137675658774688,
          0.31219537181871404,
          0.3488546548564738,
          0.32657477616192376,
          0.3039190642702688,
          0.28225455603137667,
          0.29328146327568366,
          0.3015703861734209,
          0.34069316565875646,
          0.31905954352482346,
          0.3262220952736599,
          0.32246062495623284,
          0.3169460380253095,
          0.29212242964193597,
          0.3061723049488428,
          0.28846327270230204,
          0.30426359625226634,
          0.3195668045061143,
          0.3360891427002404
         ],
         "yaxis": "y"
        }
       ],
       "layout": {
        "autosize": true,
        "legend": {
         "title": {
          "text": "Clust_Sols"
         },
         "tracegroupgap": 0
        },
        "margin": {
         "b": 20,
         "l": 20,
         "r": 20,
         "t": 30
        },
        "template": {
         "data": {
          "bar": [
           {
            "error_x": {
             "color": "#2a3f5f"
            },
            "error_y": {
             "color": "#2a3f5f"
            },
            "marker": {
             "line": {
              "color": "#E5ECF6",
              "width": 0.5
             },
             "pattern": {
              "fillmode": "overlay",
              "size": 10,
              "solidity": 0.2
             }
            },
            "type": "bar"
           }
          ],
          "barpolar": [
           {
            "marker": {
             "line": {
              "color": "#E5ECF6",
              "width": 0.5
             },
             "pattern": {
              "fillmode": "overlay",
              "size": 10,
              "solidity": 0.2
             }
            },
            "type": "barpolar"
           }
          ],
          "carpet": [
           {
            "aaxis": {
             "endlinecolor": "#2a3f5f",
             "gridcolor": "white",
             "linecolor": "white",
             "minorgridcolor": "white",
             "startlinecolor": "#2a3f5f"
            },
            "baxis": {
             "endlinecolor": "#2a3f5f",
             "gridcolor": "white",
             "linecolor": "white",
             "minorgridcolor": "white",
             "startlinecolor": "#2a3f5f"
            },
            "type": "carpet"
           }
          ],
          "choropleth": [
           {
            "colorbar": {
             "outlinewidth": 0,
             "ticks": ""
            },
            "type": "choropleth"
           }
          ],
          "contour": [
           {
            "colorbar": {
             "outlinewidth": 0,
             "ticks": ""
            },
            "colorscale": [
             [
              0,
              "#0d0887"
             ],
             [
              0.1111111111111111,
              "#46039f"
             ],
             [
              0.2222222222222222,
              "#7201a8"
             ],
             [
              0.3333333333333333,
              "#9c179e"
             ],
             [
              0.4444444444444444,
              "#bd3786"
             ],
             [
              0.5555555555555556,
              "#d8576b"
             ],
             [
              0.6666666666666666,
              "#ed7953"
             ],
             [
              0.7777777777777778,
              "#fb9f3a"
             ],
             [
              0.8888888888888888,
              "#fdca26"
             ],
             [
              1,
              "#f0f921"
             ]
            ],
            "type": "contour"
           }
          ],
          "contourcarpet": [
           {
            "colorbar": {
             "outlinewidth": 0,
             "ticks": ""
            },
            "type": "contourcarpet"
           }
          ],
          "heatmap": [
           {
            "colorbar": {
             "outlinewidth": 0,
             "ticks": ""
            },
            "colorscale": [
             [
              0,
              "#0d0887"
             ],
             [
              0.1111111111111111,
              "#46039f"
             ],
             [
              0.2222222222222222,
              "#7201a8"
             ],
             [
              0.3333333333333333,
              "#9c179e"
             ],
             [
              0.4444444444444444,
              "#bd3786"
             ],
             [
              0.5555555555555556,
              "#d8576b"
             ],
             [
              0.6666666666666666,
              "#ed7953"
             ],
             [
              0.7777777777777778,
              "#fb9f3a"
             ],
             [
              0.8888888888888888,
              "#fdca26"
             ],
             [
              1,
              "#f0f921"
             ]
            ],
            "type": "heatmap"
           }
          ],
          "heatmapgl": [
           {
            "colorbar": {
             "outlinewidth": 0,
             "ticks": ""
            },
            "colorscale": [
             [
              0,
              "#0d0887"
             ],
             [
              0.1111111111111111,
              "#46039f"
             ],
             [
              0.2222222222222222,
              "#7201a8"
             ],
             [
              0.3333333333333333,
              "#9c179e"
             ],
             [
              0.4444444444444444,
              "#bd3786"
             ],
             [
              0.5555555555555556,
              "#d8576b"
             ],
             [
              0.6666666666666666,
              "#ed7953"
             ],
             [
              0.7777777777777778,
              "#fb9f3a"
             ],
             [
              0.8888888888888888,
              "#fdca26"
             ],
             [
              1,
              "#f0f921"
             ]
            ],
            "type": "heatmapgl"
           }
          ],
          "histogram": [
           {
            "marker": {
             "pattern": {
              "fillmode": "overlay",
              "size": 10,
              "solidity": 0.2
             }
            },
            "type": "histogram"
           }
          ],
          "histogram2d": [
           {
            "colorbar": {
             "outlinewidth": 0,
             "ticks": ""
            },
            "colorscale": [
             [
              0,
              "#0d0887"
             ],
             [
              0.1111111111111111,
              "#46039f"
             ],
             [
              0.2222222222222222,
              "#7201a8"
             ],
             [
              0.3333333333333333,
              "#9c179e"
             ],
             [
              0.4444444444444444,
              "#bd3786"
             ],
             [
              0.5555555555555556,
              "#d8576b"
             ],
             [
              0.6666666666666666,
              "#ed7953"
             ],
             [
              0.7777777777777778,
              "#fb9f3a"
             ],
             [
              0.8888888888888888,
              "#fdca26"
             ],
             [
              1,
              "#f0f921"
             ]
            ],
            "type": "histogram2d"
           }
          ],
          "histogram2dcontour": [
           {
            "colorbar": {
             "outlinewidth": 0,
             "ticks": ""
            },
            "colorscale": [
             [
              0,
              "#0d0887"
             ],
             [
              0.1111111111111111,
              "#46039f"
             ],
             [
              0.2222222222222222,
              "#7201a8"
             ],
             [
              0.3333333333333333,
              "#9c179e"
             ],
             [
              0.4444444444444444,
              "#bd3786"
             ],
             [
              0.5555555555555556,
              "#d8576b"
             ],
             [
              0.6666666666666666,
              "#ed7953"
             ],
             [
              0.7777777777777778,
              "#fb9f3a"
             ],
             [
              0.8888888888888888,
              "#fdca26"
             ],
             [
              1,
              "#f0f921"
             ]
            ],
            "type": "histogram2dcontour"
           }
          ],
          "mesh3d": [
           {
            "colorbar": {
             "outlinewidth": 0,
             "ticks": ""
            },
            "type": "mesh3d"
           }
          ],
          "parcoords": [
           {
            "line": {
             "colorbar": {
              "outlinewidth": 0,
              "ticks": ""
             }
            },
            "type": "parcoords"
           }
          ],
          "pie": [
           {
            "automargin": true,
            "type": "pie"
           }
          ],
          "scatter": [
           {
            "fillpattern": {
             "fillmode": "overlay",
             "size": 10,
             "solidity": 0.2
            },
            "type": "scatter"
           }
          ],
          "scatter3d": [
           {
            "line": {
             "colorbar": {
              "outlinewidth": 0,
              "ticks": ""
             }
            },
            "marker": {
             "colorbar": {
              "outlinewidth": 0,
              "ticks": ""
             }
            },
            "type": "scatter3d"
           }
          ],
          "scattercarpet": [
           {
            "marker": {
             "colorbar": {
              "outlinewidth": 0,
              "ticks": ""
             }
            },
            "type": "scattercarpet"
           }
          ],
          "scattergeo": [
           {
            "marker": {
             "colorbar": {
              "outlinewidth": 0,
              "ticks": ""
             }
            },
            "type": "scattergeo"
           }
          ],
          "scattergl": [
           {
            "marker": {
             "colorbar": {
              "outlinewidth": 0,
              "ticks": ""
             }
            },
            "type": "scattergl"
           }
          ],
          "scattermapbox": [
           {
            "marker": {
             "colorbar": {
              "outlinewidth": 0,
              "ticks": ""
             }
            },
            "type": "scattermapbox"
           }
          ],
          "scatterpolar": [
           {
            "marker": {
             "colorbar": {
              "outlinewidth": 0,
              "ticks": ""
             }
            },
            "type": "scatterpolar"
           }
          ],
          "scatterpolargl": [
           {
            "marker": {
             "colorbar": {
              "outlinewidth": 0,
              "ticks": ""
             }
            },
            "type": "scatterpolargl"
           }
          ],
          "scatterternary": [
           {
            "marker": {
             "colorbar": {
              "outlinewidth": 0,
              "ticks": ""
             }
            },
            "type": "scatterternary"
           }
          ],
          "surface": [
           {
            "colorbar": {
             "outlinewidth": 0,
             "ticks": ""
            },
            "colorscale": [
             [
              0,
              "#0d0887"
             ],
             [
              0.1111111111111111,
              "#46039f"
             ],
             [
              0.2222222222222222,
              "#7201a8"
             ],
             [
              0.3333333333333333,
              "#9c179e"
             ],
             [
              0.4444444444444444,
              "#bd3786"
             ],
             [
              0.5555555555555556,
              "#d8576b"
             ],
             [
              0.6666666666666666,
              "#ed7953"
             ],
             [
              0.7777777777777778,
              "#fb9f3a"
             ],
             [
              0.8888888888888888,
              "#fdca26"
             ],
             [
              1,
              "#f0f921"
             ]
            ],
            "type": "surface"
           }
          ],
          "table": [
           {
            "cells": {
             "fill": {
              "color": "#EBF0F8"
             },
             "line": {
              "color": "white"
             }
            },
            "header": {
             "fill": {
              "color": "#C8D4E3"
             },
             "line": {
              "color": "white"
             }
            },
            "type": "table"
           }
          ]
         },
         "layout": {
          "annotationdefaults": {
           "arrowcolor": "#2a3f5f",
           "arrowhead": 0,
           "arrowwidth": 1
          },
          "autotypenumbers": "strict",
          "coloraxis": {
           "colorbar": {
            "outlinewidth": 0,
            "ticks": ""
           }
          },
          "colorscale": {
           "diverging": [
            [
             0,
             "#8e0152"
            ],
            [
             0.1,
             "#c51b7d"
            ],
            [
             0.2,
             "#de77ae"
            ],
            [
             0.3,
             "#f1b6da"
            ],
            [
             0.4,
             "#fde0ef"
            ],
            [
             0.5,
             "#f7f7f7"
            ],
            [
             0.6,
             "#e6f5d0"
            ],
            [
             0.7,
             "#b8e186"
            ],
            [
             0.8,
             "#7fbc41"
            ],
            [
             0.9,
             "#4d9221"
            ],
            [
             1,
             "#276419"
            ]
           ],
           "sequential": [
            [
             0,
             "#0d0887"
            ],
            [
             0.1111111111111111,
             "#46039f"
            ],
            [
             0.2222222222222222,
             "#7201a8"
            ],
            [
             0.3333333333333333,
             "#9c179e"
            ],
            [
             0.4444444444444444,
             "#bd3786"
            ],
            [
             0.5555555555555556,
             "#d8576b"
            ],
            [
             0.6666666666666666,
             "#ed7953"
            ],
            [
             0.7777777777777778,
             "#fb9f3a"
            ],
            [
             0.8888888888888888,
             "#fdca26"
            ],
            [
             1,
             "#f0f921"
            ]
           ],
           "sequentialminus": [
            [
             0,
             "#0d0887"
            ],
            [
             0.1111111111111111,
             "#46039f"
            ],
            [
             0.2222222222222222,
             "#7201a8"
            ],
            [
             0.3333333333333333,
             "#9c179e"
            ],
            [
             0.4444444444444444,
             "#bd3786"
            ],
            [
             0.5555555555555556,
             "#d8576b"
            ],
            [
             0.6666666666666666,
             "#ed7953"
            ],
            [
             0.7777777777777778,
             "#fb9f3a"
            ],
            [
             0.8888888888888888,
             "#fdca26"
            ],
            [
             1,
             "#f0f921"
            ]
           ]
          },
          "colorway": [
           "#636efa",
           "#EF553B",
           "#00cc96",
           "#ab63fa",
           "#FFA15A",
           "#19d3f3",
           "#FF6692",
           "#B6E880",
           "#FF97FF",
           "#FECB52"
          ],
          "font": {
           "color": "#2a3f5f"
          },
          "geo": {
           "bgcolor": "white",
           "lakecolor": "white",
           "landcolor": "#E5ECF6",
           "showlakes": true,
           "showland": true,
           "subunitcolor": "white"
          },
          "hoverlabel": {
           "align": "left"
          },
          "hovermode": "closest",
          "mapbox": {
           "style": "light"
          },
          "paper_bgcolor": "white",
          "plot_bgcolor": "#E5ECF6",
          "polar": {
           "angularaxis": {
            "gridcolor": "white",
            "linecolor": "white",
            "ticks": ""
           },
           "bgcolor": "#E5ECF6",
           "radialaxis": {
            "gridcolor": "white",
            "linecolor": "white",
            "ticks": ""
           }
          },
          "scene": {
           "xaxis": {
            "backgroundcolor": "#E5ECF6",
            "gridcolor": "white",
            "gridwidth": 2,
            "linecolor": "white",
            "showbackground": true,
            "ticks": "",
            "zerolinecolor": "white"
           },
           "yaxis": {
            "backgroundcolor": "#E5ECF6",
            "gridcolor": "white",
            "gridwidth": 2,
            "linecolor": "white",
            "showbackground": true,
            "ticks": "",
            "zerolinecolor": "white"
           },
           "zaxis": {
            "backgroundcolor": "#E5ECF6",
            "gridcolor": "white",
            "gridwidth": 2,
            "linecolor": "white",
            "showbackground": true,
            "ticks": "",
            "zerolinecolor": "white"
           }
          },
          "shapedefaults": {
           "line": {
            "color": "#2a3f5f"
           }
          },
          "ternary": {
           "aaxis": {
            "gridcolor": "white",
            "linecolor": "white",
            "ticks": ""
           },
           "baxis": {
            "gridcolor": "white",
            "linecolor": "white",
            "ticks": ""
           },
           "bgcolor": "#E5ECF6",
           "caxis": {
            "gridcolor": "white",
            "linecolor": "white",
            "ticks": ""
           }
          },
          "title": {
           "x": 0.05
          },
          "xaxis": {
           "automargin": true,
           "gridcolor": "white",
           "linecolor": "white",
           "ticks": "",
           "title": {
            "standoff": 15
           },
           "zerolinecolor": "white",
           "zerolinewidth": 2
          },
          "yaxis": {
           "automargin": true,
           "gridcolor": "white",
           "linecolor": "white",
           "ticks": "",
           "title": {
            "standoff": 15
           },
           "zerolinecolor": "white",
           "zerolinewidth": 2
          }
         }
        },
        "title": {
         "text": "LSTM_AE-KUMAP_k10",
         "x": 0.5,
         "xanchor": "center"
        },
        "xaxis": {
         "anchor": "y",
         "autorange": false,
         "domain": [
          0,
          1
         ],
         "range": [
          0.31785714285714284,
          89
         ],
         "title": {
          "text": "day"
         },
         "type": "category"
        },
        "yaxis": {
         "anchor": "x",
         "autorange": false,
         "domain": [
          0,
          1
         ],
         "range": [
          -0.7072868296730839,
          1.5038140418973613
         ],
         "title": {
          "text": "value"
         },
         "type": "linear"
        }
       }
      },
      "image/png": "[encoded data removed]",
      "text/html": [
       "<div>                            <div id=\"d2a66be7-4592-45dd-aa32-ff376babafa0\" class=\"plotly-graph-div\" style=\"height:525px; width:100%;\"></div>            <script type=\"text/javascript\">                require([\"plotly\"], function(Plotly) {                    window.PLOTLYENV=window.PLOTLYENV || {};                                    if (document.getElementById(\"d2a66be7-4592-45dd-aa32-ff376babafa0\")) {                    Plotly.newPlot(                        \"d2a66be7-4592-45dd-aa32-ff376babafa0\",                        [{\"hovertemplate\":\"Clust_Sols=KUMAP_k10-c1<br>day=%{x}<br>value=%{y}<extra></extra>\",\"legendgroup\":\"KUMAP_k10-c1\",\"line\":{\"color\":\"#636efa\",\"dash\":\"solid\"},\"marker\":{\"symbol\":\"circle\"},\"mode\":\"lines\",\"name\":\"KUMAP_k10-c1\",\"orientation\":\"v\",\"showlegend\":true,\"x\":[\"d1\",\"d2\",\"d3\",\"d4\",\"d5\",\"d6\",\"d7\",\"d8\",\"d9\",\"d10\",\"d11\",\"d12\",\"d13\",\"d14\",\"d15\",\"d16\",\"d17\",\"d18\",\"d19\",\"d20\",\"d21\",\"d22\",\"d23\",\"d24\",\"d25\",\"d26\",\"d27\",\"d28\",\"d29\",\"d30\",\"d31\",\"d32\",\"d33\",\"d34\",\"d35\",\"d36\",\"d37\",\"d38\",\"d39\",\"d40\",\"d41\",\"d42\",\"d43\",\"d44\",\"d45\",\"d46\",\"d47\",\"d48\",\"d49\",\"d50\",\"d51\",\"d52\",\"d53\",\"d54\",\"d55\",\"d56\",\"d57\",\"d58\",\"d59\",\"d60\",\"d61\",\"d62\",\"d63\",\"d64\",\"d65\",\"d66\",\"d67\",\"d68\",\"d69\",\"d70\",\"d71\",\"d72\",\"d73\",\"d74\",\"d75\",\"d76\",\"d77\",\"d78\",\"d79\",\"d80\",\"d81\",\"d82\",\"d83\",\"d84\",\"d85\",\"d86\",\"d87\",\"d88\",\"d89\",\"d90\"],\"xaxis\":\"x\",\"y\":[0.3112730894478747,0.4037986205016334,0.40486144425032894,0.42647182516119847,0.4267295986707668,0.38130685184325613,0.25191430205726534,0.3330564087697985,0.3237332463769633,0.3261657461427047,0.2637736729950021,0.25493763311258455,0.26615243569826597,0.239812455322106,0.29171085641968403,0.29409044324537814,0.33944194680135326,0.29096350071162336,0.39014841374117615,0.39774283577033476,0.3733786693040572,0.47898039344503873,0.3817018590702854,0.4133501823383725,0.43334792672171885,0.43547960917403233,0.39593514109230293,0.4433526276864357,0.3657344087629499,0.3848911508491247,0.35384802211777344,0.2874641116300657,0.293858259180479,0.34370475168916276,0.29474930586141224,0.21327086746803467,0.24042929892158435,0.28306136147476013,0.24532394938661226,0.3005499219140247,0.41890132917881717,0.41457555729215506,0.40322084079133785,0.443595588399472,0.38301148227621223,0.3968128821437537,0.4401632364829774,0.4676866505627575,0.4523173726331996,0.4671133891567977,0.4040106198723444,0.35491528303906117,0.3570247473782184,0.3061995667281218,0.2476163570653004,0.3446122250050674,0.34304866338015844,0.313193731593025,0.3118293072758643,0.39838910931224825,0.4232068239923806,0.48643835491680154,0.4519732188463432,0.4642356170321408,0.48024117620430434,0.4798172723946541,0.3983692317924326,0.42164953790029625,0.3807773973966998,0.39736546798837835,0.34468772705589473,0.32320142992009426,0.2916541642190969,0.3701163102011483,0.3463609257840966,0.3671238201194196,0.40605927783693024,0.4254180528929349,0.3801072578797768,0.4620567395728943,0.34595407935194156,0.326095299639862,0.34811434457601304,0.4025164237254576,0.39335022861061136,0.3695509449343504,0.3552331833943927,0.3313487910164571,0.3281143096643474,0.3364036079677381],\"yaxis\":\"y\",\"type\":\"scatter\"},{\"hovertemplate\":\"Clust_Sols=KUMAP_k10-c2<br>day=%{x}<br>value=%{y}<extra></extra>\",\"legendgroup\":\"KUMAP_k10-c2\",\"line\":{\"color\":\"#EF553B\",\"dash\":\"solid\"},\"marker\":{\"symbol\":\"circle\"},\"mode\":\"lines\",\"name\":\"KUMAP_k10-c2\",\"orientation\":\"v\",\"showlegend\":true,\"x\":[\"d1\",\"d2\",\"d3\",\"d4\",\"d5\",\"d6\",\"d7\",\"d8\",\"d9\",\"d10\",\"d11\",\"d12\",\"d13\",\"d14\",\"d15\",\"d16\",\"d17\",\"d18\",\"d19\",\"d20\",\"d21\",\"d22\",\"d23\",\"d24\",\"d25\",\"d26\",\"d27\",\"d28\",\"d29\",\"d30\",\"d31\",\"d32\",\"d33\",\"d34\",\"d35\",\"d36\",\"d37\",\"d38\",\"d39\",\"d40\",\"d41\",\"d42\",\"d43\",\"d44\",\"d45\",\"d46\",\"d47\",\"d48\",\"d49\",\"d50\",\"d51\",\"d52\",\"d53\",\"d54\",\"d55\",\"d56\",\"d57\",\"d58\",\"d59\",\"d60\",\"d61\",\"d62\",\"d63\",\"d64\",\"d65\",\"d66\",\"d67\",\"d68\",\"d69\",\"d70\",\"d71\",\"d72\",\"d73\",\"d74\",\"d75\",\"d76\",\"d77\",\"d78\",\"d79\",\"d80\",\"d81\",\"d82\",\"d83\",\"d84\",\"d85\",\"d86\",\"d87\",\"d88\",\"d89\",\"d90\"],\"xaxis\":\"x\",\"y\":[-7.0,-7.0,-7.0,-7.0,-7.0,-7.0,-7.0,-7.0,-7.0,-7.0,-7.0,-7.0,-7.0,-7.0,-7.0,-7.0,-7.0,-7.0,-7.0,-7.0,-7.0,-7.0,-7.0,-7.0,-7.0,-7.0,-7.0,-7.0,-7.0,-7.0,-7.0,-7.0,-7.0,-7.0,-7.0,-7.0,-7.0,-7.0,-7.0,-7.0,-7.0,-7.0,-7.0,-7.0,-7.0,-7.0,-7.0,-7.0,-7.0,-7.0,-7.0,-7.0,-7.0,-7.0,-7.0,-7.0,-7.0,-7.0,-7.0,-7.0,-7.0,-7.0,-7.0,-7.0,-7.0,-7.0,-7.0,-7.0,-7.0,-7.0,-7.0,-7.0,-7.0,-7.0,-7.0,-7.0,-7.0,-7.0,-7.0,-7.0,-7.0,-7.0,-7.0,-7.0,-7.0,-7.0,-7.0,-7.0,-7.0,-7.0],\"yaxis\":\"y\",\"type\":\"scatter\"},{\"hovertemplate\":\"Clust_Sols=KUMAP_k10-c3<br>day=%{x}<br>value=%{y}<extra></extra>\",\"legendgroup\":\"KUMAP_k10-c3\",\"line\":{\"color\":\"#00cc96\",\"dash\":\"solid\"},\"marker\":{\"symbol\":\"circle\"},\"mode\":\"lines\",\"name\":\"KUMAP_k10-c3\",\"orientation\":\"v\",\"showlegend\":true,\"x\":[\"d1\",\"d2\",\"d3\",\"d4\",\"d5\",\"d6\",\"d7\",\"d8\",\"d9\",\"d10\",\"d11\",\"d12\",\"d13\",\"d14\",\"d15\",\"d16\",\"d17\",\"d18\",\"d19\",\"d20\",\"d21\",\"d22\",\"d23\",\"d24\",\"d25\",\"d26\",\"d27\",\"d28\",\"d29\",\"d30\",\"d31\",\"d32\",\"d33\",\"d34\",\"d35\",\"d36\",\"d37\",\"d38\",\"d39\",\"d40\",\"d41\",\"d42\",\"d43\",\"d44\",\"d45\",\"d46\",\"d47\",\"d48\",\"d49\",\"d50\",\"d51\",\"d52\",\"d53\",\"d54\",\"d55\",\"d56\",\"d57\",\"d58\",\"d59\",\"d60\",\"d61\",\"d62\",\"d63\",\"d64\",\"d65\",\"d66\",\"d67\",\"d68\",\"d69\",\"d70\",\"d71\",\"d72\",\"d73\",\"d74\",\"d75\",\"d76\",\"d77\",\"d78\",\"d79\",\"d80\",\"d81\",\"d82\",\"d83\",\"d84\",\"d85\",\"d86\",\"d87\",\"d88\",\"d89\",\"d90\"],\"xaxis\":\"x\",\"y\":[-0.1664028903940502,-0.1664317276711218,-0.18401301317787705,-0.1608871577573092,-0.14548767120508257,-0.15093698563746258,-0.1664001066226454,-0.21052147615594602,-0.1888933248133743,-0.19750714011169848,-0.21881066514452713,-0.2348596472999798,-0.2436423803280103,-0.1627647583826712,-0.16634870941807847,-0.19019805594695607,-0.20441621886957273,-0.23305907048777127,-0.22364108589893947,-0.25155082457259925,-0.24387870909697307,-0.24455550209695118,-0.22060104858122997,-0.24937283993455733,-0.26358306805177373,-0.22393898338981577,-0.22330252698140818,-0.2031079662758783,-0.22208814331707957,-0.2582931401108033,-0.2834756032358576,-0.29982531725517847,-0.3020933239023528,-0.28888466287604714,-0.3070468579332849,-0.31938210248357274,-0.27085144524585,-0.2720126744742627,-0.2923127904692986,-0.2999876630218138,-0.29649649490887914,-0.2955273718147763,-0.29573372304249207,-0.22480014459583714,-0.23034318456792852,-0.25882345098316556,-0.23077339960275564,-0.20651111006009604,-0.22233516428544162,-0.17867115870290412,-0.1940387239106615,-0.21277722841363567,-0.21952989151931612,-0.2517537682893709,-0.2596723543975976,-0.27412200669922065,-0.2751525802916011,-0.3066881839434736,-0.2984000726862895,-0.3411550824925428,-0.33067146521390356,-0.30335514936755575,-0.3178888223447579,-0.33620579591572647,-0.2745940945296663,-0.24910093534393715,-0.24634816753746513,-0.29201921170176814,-0.2967828436801865,-0.31783326947560414,-0.35398443514640004,-0.3389702610694783,-0.3784915720405614,-0.40688463398441127,-0.4162581819202507,-0.40233947117054125,-0.409522384697725,-0.4451492998588947,-0.48250236912822486,-0.4652319323269679,-0.4408885570818263,-0.40349037304067775,-0.4124699679930021,-0.3875213357069151,-0.39225170624979616,-0.369409698972535,-0.35123454984672203,-0.3346578988547855,-0.36158403666542915,-0.35990316713163606],\"yaxis\":\"y\",\"type\":\"scatter\"},{\"hovertemplate\":\"Clust_Sols=KUMAP_k10-c4<br>day=%{x}<br>value=%{y}<extra></extra>\",\"legendgroup\":\"KUMAP_k10-c4\",\"line\":{\"color\":\"#ab63fa\",\"dash\":\"solid\"},\"marker\":{\"symbol\":\"circle\"},\"mode\":\"lines\",\"name\":\"KUMAP_k10-c4\",\"orientation\":\"v\",\"showlegend\":true,\"x\":[\"d1\",\"d2\",\"d3\",\"d4\",\"d5\",\"d6\",\"d7\",\"d8\",\"d9\",\"d10\",\"d11\",\"d12\",\"d13\",\"d14\",\"d15\",\"d16\",\"d17\",\"d18\",\"d19\",\"d20\",\"d21\",\"d22\",\"d23\",\"d24\",\"d25\",\"d26\",\"d27\",\"d28\",\"d29\",\"d30\",\"d31\",\"d32\",\"d33\",\"d34\",\"d35\",\"d36\",\"d37\",\"d38\",\"d39\",\"d40\",\"d41\",\"d42\",\"d43\",\"d44\",\"d45\",\"d46\",\"d47\",\"d48\",\"d49\",\"d50\",\"d51\",\"d52\",\"d53\",\"d54\",\"d55\",\"d56\",\"d57\",\"d58\",\"d59\",\"d60\",\"d61\",\"d62\",\"d63\",\"d64\",\"d65\",\"d66\",\"d67\",\"d68\",\"d69\",\"d70\",\"d71\",\"d72\",\"d73\",\"d74\",\"d75\",\"d76\",\"d77\",\"d78\",\"d79\",\"d80\",\"d81\",\"d82\",\"d83\",\"d84\",\"d85\",\"d86\",\"d87\",\"d88\",\"d89\",\"d90\"],\"xaxis\":\"x\",\"y\":[1.082861216361571,1.1776183796988187,1.1052993513838762,1.0331525916446411,1.0292356644290193,1.0288103734730345,0.9570343314460501,1.0255634274305085,1.035160896207039,1.0628494845748337,0.998694468910164,0.8629108489705735,0.8711836870181092,0.7807013732369037,0.9546858130314265,0.8955167360856082,0.9950999995827868,0.9825230494477971,0.9511703182622057,0.9581365016345034,0.978608969191664,0.9785280440929703,1.01801833390619,0.9811972054235819,0.9271904002062592,0.8999064986613192,0.971869015891561,0.9688377270882824,1.0291412630255952,0.9490987053320323,0.959800318211612,0.9091587894759279,0.8606050753816561,0.9076997006165347,0.9005826218368411,0.9555093826454168,0.9145746633260892,0.9270596542229719,0.9537927071707906,0.8929431953335668,0.8326193164058787,0.8470081459415758,0.8326380787680282,0.8390671828519456,0.8141687817883506,0.8065886440405134,0.7928789354122385,0.8186504772462281,0.8044910912163029,0.8093524491325432,0.8443623953129827,0.854175495490431,0.8270333454985799,0.7703765082112435,0.7757617218290023,0.7570496626789668,0.748866413713737,0.8191884371313388,0.8200457373686709,0.8108286206043418,0.774399854219273,0.8361677860178613,0.8093531594103831,0.785763170932876,0.8402607021011892,0.8419760712098261,0.82132059248905,0.8362096894314272,0.7740631226775392,0.8841516964085365,0.8332920578857642,0.8961787599277264,0.8143638151901074,0.781694819919759,0.7882223983873615,0.7957341803547149,0.8066115447069779,0.7863710448973847,0.7438600545580514,0.8792576611204472,0.8737063878844181,0.8302159547839854,0.8579553749096358,0.7504766399697651,0.8482721136811228,0.747574663192967,0.773693071386294,0.8257800110897687,0.8024111122831405,0.8067433397157706],\"yaxis\":\"y\",\"type\":\"scatter\"},{\"hovertemplate\":\"Clust_Sols=KUMAP_k10-c5<br>day=%{x}<br>value=%{y}<extra></extra>\",\"legendgroup\":\"KUMAP_k10-c5\",\"line\":{\"color\":\"#FFA15A\",\"dash\":\"solid\"},\"marker\":{\"symbol\":\"circle\"},\"mode\":\"lines\",\"name\":\"KUMAP_k10-c5\",\"orientation\":\"v\",\"showlegend\":true,\"x\":[\"d1\",\"d2\",\"d3\",\"d4\",\"d5\",\"d6\",\"d7\",\"d8\",\"d9\",\"d10\",\"d11\",\"d12\",\"d13\",\"d14\",\"d15\",\"d16\",\"d17\",\"d18\",\"d19\",\"d20\",\"d21\",\"d22\",\"d23\",\"d24\",\"d25\",\"d26\",\"d27\",\"d28\",\"d29\",\"d30\",\"d31\",\"d32\",\"d33\",\"d34\",\"d35\",\"d36\",\"d37\",\"d38\",\"d39\",\"d40\",\"d41\",\"d42\",\"d43\",\"d44\",\"d45\",\"d46\",\"d47\",\"d48\",\"d49\",\"d50\",\"d51\",\"d52\",\"d53\",\"d54\",\"d55\",\"d56\",\"d57\",\"d58\",\"d59\",\"d60\",\"d61\",\"d62\",\"d63\",\"d64\",\"d65\",\"d66\",\"d67\",\"d68\",\"d69\",\"d70\",\"d71\",\"d72\",\"d73\",\"d74\",\"d75\",\"d76\",\"d77\",\"d78\",\"d79\",\"d80\",\"d81\",\"d82\",\"d83\",\"d84\",\"d85\",\"d86\",\"d87\",\"d88\",\"d89\",\"d90\"],\"xaxis\":\"x\",\"y\":[0.05894995480384282,0.06096549416851829,0.033657655227947524,0.08524080896052405,0.09223707764036893,0.04936114410681627,0.07321656697314333,0.06645048590591655,0.09255656125391572,0.12426792826731069,0.16750999583587045,0.13241098545668809,0.09504406728297332,0.1401759213600004,0.12822206838860495,0.1396385081524444,0.1111018758922049,0.11738861601206173,0.08262817831219187,0.08090451499689547,0.09250720130334446,0.044947590113338404,0.027574217493765055,0.026502890314144475,0.013567288673136429,0.045661929332578906,0.027380747973855247,-0.003275329016124818,-0.04932444791429681,-0.005915275035635879,0.038526653107546584,0.06002515742543533,0.05458999934113908,0.024622984518984516,0.008231019190003802,0.049725011826154006,0.07889929107565621,0.08860153375568683,0.08067596039137938,0.05615956294202204,0.05583959106480693,0.07169578662545556,0.10649791191553735,0.0561886933094217,0.11315840721052849,0.08931716567616174,-0.007369950954035695,0.03437628541073823,0.046641250328617066,0.013503902565626167,0.08726039009070038,0.0906133865304103,0.06554161629793331,0.05391061535526289,0.12558439752225534,0.11908626511920063,0.11921012098356491,0.12937619899176284,0.12777502119541523,0.12446409437952995,0.059156292420585996,0.0038843819393155608,-0.03856917605599895,-0.11818298609646409,-0.10410259706784762,-0.039419858168595376,-0.0335210595269608,0.009400961364671952,-0.01921807266181534,-0.008803847127212118,0.10918356311245342,0.1551109803782002,0.1480795207029068,0.174183008842864,0.18406518826832974,0.09258579457775025,0.09387445306149643,0.10600771985597714,0.18475857250942457,0.13192217067705464,0.10015113999832644,0.18950761049721232,0.12671295931323726,0.097433236630717,0.08992925630006134,0.12122248008377541,0.1098804192743716,0.08421779732898946,0.05986601469474442,0.08480040121110669],\"yaxis\":\"y\",\"type\":\"scatter\"},{\"hovertemplate\":\"Clust_Sols=KUMAP_k10-c6<br>day=%{x}<br>value=%{y}<extra></extra>\",\"legendgroup\":\"KUMAP_k10-c6\",\"line\":{\"color\":\"#19d3f3\",\"dash\":\"solid\"},\"marker\":{\"symbol\":\"circle\"},\"mode\":\"lines\",\"name\":\"KUMAP_k10-c6\",\"orientation\":\"v\",\"showlegend\":true,\"x\":[\"d1\",\"d2\",\"d3\",\"d4\",\"d5\",\"d6\",\"d7\",\"d8\",\"d9\",\"d10\",\"d11\",\"d12\",\"d13\",\"d14\",\"d15\",\"d16\",\"d17\",\"d18\",\"d19\",\"d20\",\"d21\",\"d22\",\"d23\",\"d24\",\"d25\",\"d26\",\"d27\",\"d28\",\"d29\",\"d30\",\"d31\",\"d32\",\"d33\",\"d34\",\"d35\",\"d36\",\"d37\",\"d38\",\"d39\",\"d40\",\"d41\",\"d42\",\"d43\",\"d44\",\"d45\",\"d46\",\"d47\",\"d48\",\"d49\",\"d50\",\"d51\",\"d52\",\"d53\",\"d54\",\"d55\",\"d56\",\"d57\",\"d58\",\"d59\",\"d60\",\"d61\",\"d62\",\"d63\",\"d64\",\"d65\",\"d66\",\"d67\",\"d68\",\"d69\",\"d70\",\"d71\",\"d72\",\"d73\",\"d74\",\"d75\",\"d76\",\"d77\",\"d78\",\"d79\",\"d80\",\"d81\",\"d82\",\"d83\",\"d84\",\"d85\",\"d86\",\"d87\",\"d88\",\"d89\",\"d90\"],\"xaxis\":\"x\",\"y\":[0.7653952046355794,0.7849582509052878,0.7793854070540921,0.7807328058868939,0.7789296062548673,0.7475431655317989,0.7061097968097008,0.6861211854568625,0.6703542026162433,0.6481093372922023,0.6230714246319076,0.5877670706787471,0.5504999612814845,0.5163398225032342,0.47935112052806156,0.43564753096989395,0.4215893715785141,0.4063453894095283,0.384073684219418,0.42243622758539934,0.4326233682372298,0.43610860820784986,0.408808055344629,0.4367431911545723,0.4642492865770196,0.593972950795318,0.6541604919468532,0.6612319680426132,0.6846113051244325,0.7186260768340862,0.7707675710006681,0.7871844010380915,0.8064660066445924,0.8400954935594784,0.7924192422932902,0.7977764632400631,0.7862172755507753,0.7585500017225044,0.7212734440813748,0.6956524986656362,0.6815886550390818,0.643268589532658,0.6657959754453466,0.6252537274925672,0.555373460962973,0.5267524583000124,0.49045184873382053,0.455719300544588,0.416573467638427,0.40064127822460677,0.38110373824835253,0.34921848392052235,0.32896013464051965,0.35411037549092184,0.3805349530452747,0.4312265683065081,0.4734682125679642,0.5005004969406109,0.5792297146437702,0.631974830536238,0.6798042814700193,0.8012267544269627,0.808664501094453,0.7988146359439086,0.825490841222706,0.8321402135190901,0.8521093009077418,0.8468894149172846,0.8101768566440681,0.779068815809263,0.742501753450827,0.7163881184035451,0.692546477685952,0.6574191136718927,0.6392775730959631,0.5965709305539948,0.5676657245424463,0.5341153439905364,0.5230314924193279,0.5144925879370824,0.4957409045630182,0.5111942896175664,0.4836196291934302,0.47747571628922225,0.4651299310201397,0.4564781813080172,0.5019487116456172,0.5425520098421337,0.5349473312012595,0.5761914136205994],\"yaxis\":\"y\",\"type\":\"scatter\"},{\"hovertemplate\":\"Clust_Sols=KUMAP_k10-c7<br>day=%{x}<br>value=%{y}<extra></extra>\",\"legendgroup\":\"KUMAP_k10-c7\",\"line\":{\"color\":\"#FF6692\",\"dash\":\"solid\"},\"marker\":{\"symbol\":\"circle\"},\"mode\":\"lines\",\"name\":\"KUMAP_k10-c7\",\"orientation\":\"v\",\"showlegend\":true,\"x\":[\"d1\",\"d2\",\"d3\",\"d4\",\"d5\",\"d6\",\"d7\",\"d8\",\"d9\",\"d10\",\"d11\",\"d12\",\"d13\",\"d14\",\"d15\",\"d16\",\"d17\",\"d18\",\"d19\",\"d20\",\"d21\",\"d22\",\"d23\",\"d24\",\"d25\",\"d26\",\"d27\",\"d28\",\"d29\",\"d30\",\"d31\",\"d32\",\"d33\",\"d34\",\"d35\",\"d36\",\"d37\",\"d38\",\"d39\",\"d40\",\"d41\",\"d42\",\"d43\",\"d44\",\"d45\",\"d46\",\"d47\",\"d48\",\"d49\",\"d50\",\"d51\",\"d52\",\"d53\",\"d54\",\"d55\",\"d56\",\"d57\",\"d58\",\"d59\",\"d60\",\"d61\",\"d62\",\"d63\",\"d64\",\"d65\",\"d66\",\"d67\",\"d68\",\"d69\",\"d70\",\"d71\",\"d72\",\"d73\",\"d74\",\"d75\",\"d76\",\"d77\",\"d78\",\"d79\",\"d80\",\"d81\",\"d82\",\"d83\",\"d84\",\"d85\",\"d86\",\"d87\",\"d88\",\"d89\",\"d90\"],\"xaxis\":\"x\",\"y\":[0.6271713597643147,0.6193502616075885,0.5589248394868673,0.574502174393883,0.5862684617586551,0.5852363069397932,0.5701060538599899,0.6678951115985101,0.6276611078353374,0.6194709928744756,0.5822628470149851,0.6137634065936826,0.6211150281453554,0.5762369580173146,0.5458933141577712,0.5021774510007984,0.46651464905688617,0.5243940614001996,0.45276323841326127,0.5041606633778267,0.4371028171331783,0.46730478525902386,0.5414927897302295,0.49042288943246687,0.5715790695080967,0.6703827612704031,0.6568257938604138,0.528283822623723,0.6097363622770048,0.6167040688449568,0.5897257321758992,0.6673792986646904,0.5326195361135525,0.5277198001418862,0.38150409723112877,0.5158309638791883,0.5321106756818949,0.6063108644955617,0.5682195381599733,0.5172123087692047,0.5161168922308923,0.46481817604346376,0.3354969833463554,0.5188856510514192,0.5037700678174518,0.50074496344393,0.6367881092506306,0.6126653728521707,0.6116048729396021,0.5929218127049097,0.6650352241273947,0.582347874023323,0.6102528731421708,0.5564927861810218,0.6523743899503495,0.631400254031877,0.5725405995872357,0.4857050970694582,0.4499502085375402,0.5074830154139334,0.3823085150469895,0.551001201684748,0.5742643280196688,0.3783397227972282,0.528067424503906,0.5602821042387685,0.6337380209362602,0.5248690761769355,0.5436984038873441,0.5677870705163655,0.6176111660022633,0.6141848285625022,0.5198011519825847,0.5725210234041771,0.563799196189299,0.6140599040920188,0.5019478060621703,0.5209313757877595,0.6304098633248036,0.5910347628517406,0.5771309089384864,0.523825650994916,0.5616212689119702,0.5943611088048872,0.6328637588833477,0.5830344315036837,0.6403639192679269,0.5372830890146958,0.5667758976861375,0.43736250868667825],\"yaxis\":\"y\",\"type\":\"scatter\"},{\"hovertemplate\":\"Clust_Sols=KUMAP_k10-c8<br>day=%{x}<br>value=%{y}<extra></extra>\",\"legendgroup\":\"KUMAP_k10-c8\",\"line\":{\"color\":\"#B6E880\",\"dash\":\"solid\"},\"marker\":{\"symbol\":\"circle\"},\"mode\":\"lines\",\"name\":\"KUMAP_k10-c8\",\"orientation\":\"v\",\"showlegend\":true,\"x\":[\"d1\",\"d2\",\"d3\",\"d4\",\"d5\",\"d6\",\"d7\",\"d8\",\"d9\",\"d10\",\"d11\",\"d12\",\"d13\",\"d14\",\"d15\",\"d16\",\"d17\",\"d18\",\"d19\",\"d20\",\"d21\",\"d22\",\"d23\",\"d24\",\"d25\",\"d26\",\"d27\",\"d28\",\"d29\",\"d30\",\"d31\",\"d32\",\"d33\",\"d34\",\"d35\",\"d36\",\"d37\",\"d38\",\"d39\",\"d40\",\"d41\",\"d42\",\"d43\",\"d44\",\"d45\",\"d46\",\"d47\",\"d48\",\"d49\",\"d50\",\"d51\",\"d52\",\"d53\",\"d54\",\"d55\",\"d56\",\"d57\",\"d58\",\"d59\",\"d60\",\"d61\",\"d62\",\"d63\",\"d64\",\"d65\",\"d66\",\"d67\",\"d68\",\"d69\",\"d70\",\"d71\",\"d72\",\"d73\",\"d74\",\"d75\",\"d76\",\"d77\",\"d78\",\"d79\",\"d80\",\"d81\",\"d82\",\"d83\",\"d84\",\"d85\",\"d86\",\"d87\",\"d88\",\"d89\",\"d90\"],\"xaxis\":\"x\",\"y\":[0.5355305448392066,0.4630932064643597,0.44041942385339605,0.4553888874293052,0.44908133439287473,0.4030160683083176,0.4191812718722069,0.4986346166313705,0.4305416079365379,0.43251891415908933,0.4969718705962846,0.4932726392291352,0.5009359305974405,0.5306282967546783,0.5285549143399659,0.5520191079383835,0.54424852063255,0.4699794152291573,0.5200882201003201,0.5025316522826744,0.46891637256217933,0.4463084241904595,0.2999135175916715,0.3651392100873578,0.3448947699689096,0.33542771644448305,0.13219522806306885,0.21408216488927917,0.21598663973929552,0.41783247915328436,0.575454006896838,0.6062601764752964,0.5452844446784444,0.5456318775028174,0.6409267625544961,0.6356411430429171,0.6374259970729326,0.6005805375548827,0.5846460825278517,0.5406879788278625,0.5140257295298682,0.534139784570981,0.493645009772058,0.43818612371931215,0.5087280279201292,0.4991617039410699,0.4400622362234332,0.45608372789934687,0.4240718588652292,0.5081709011631138,0.5164496778974496,0.5079376227550471,0.48346758483512875,0.5350487689941942,0.42924841173079964,0.36620013084642455,0.45294965306214896,0.4537352079242298,0.47436061975924815,0.5114240291423809,0.5359848699556549,0.4957915408677083,0.48160867509756755,0.5141010588461763,0.49780187416284716,0.5053510556626654,0.4981861941887488,0.5279565227705179,0.46875901279294263,0.4494571361200278,0.4624960435809205,0.47798314808231523,0.5321266349584737,0.541382467968628,0.4861947903098177,0.4182083762254723,0.37100896101640485,0.3651635203702511,0.4189637250535122,0.45653478541174797,0.42457838812354315,0.39920337377595455,0.3881165298222005,0.44458891958812863,0.4984105392467643,0.5075808519153252,0.5145287011936399,0.5146243805618785,0.442174746612017,0.46071296269503614],\"yaxis\":\"y\",\"type\":\"scatter\"},{\"hovertemplate\":\"Clust_Sols=KUMAP_k10-c9<br>day=%{x}<br>value=%{y}<extra></extra>\",\"legendgroup\":\"KUMAP_k10-c9\",\"line\":{\"color\":\"#FF97FF\",\"dash\":\"solid\"},\"marker\":{\"symbol\":\"circle\"},\"mode\":\"lines\",\"name\":\"KUMAP_k10-c9\",\"orientation\":\"v\",\"showlegend\":true,\"x\":[\"d1\",\"d2\",\"d3\",\"d4\",\"d5\",\"d6\",\"d7\",\"d8\",\"d9\",\"d10\",\"d11\",\"d12\",\"d13\",\"d14\",\"d15\",\"d16\",\"d17\",\"d18\",\"d19\",\"d20\",\"d21\",\"d22\",\"d23\",\"d24\",\"d25\",\"d26\",\"d27\",\"d28\",\"d29\",\"d30\",\"d31\",\"d32\",\"d33\",\"d34\",\"d35\",\"d36\",\"d37\",\"d38\",\"d39\",\"d40\",\"d41\",\"d42\",\"d43\",\"d44\",\"d45\",\"d46\",\"d47\",\"d48\",\"d49\",\"d50\",\"d51\",\"d52\",\"d53\",\"d54\",\"d55\",\"d56\",\"d57\",\"d58\",\"d59\",\"d60\",\"d61\",\"d62\",\"d63\",\"d64\",\"d65\",\"d66\",\"d67\",\"d68\",\"d69\",\"d70\",\"d71\",\"d72\",\"d73\",\"d74\",\"d75\",\"d76\",\"d77\",\"d78\",\"d79\",\"d80\",\"d81\",\"d82\",\"d83\",\"d84\",\"d85\",\"d86\",\"d87\",\"d88\",\"d89\",\"d90\"],\"xaxis\":\"x\",\"y\":[-4.315424189814815,-4.365424189814815,-4.339589120370371,-4.006331018518519,-4.848046875,-5.34800925925926,-6.166704282407407,-6.55,-6.55,-6.567056134259259,-6.167056134259259,-6.564548611111111,-6.614548611111111,-7.0,-7.0,-7.0,-7.0,-6.55,-6.585185185185185,-6.635185185185184,-7.0,-7.0,-6.55,-6.55,-6.55,-6.55,-6.55,-6.580854166666667,-6.630854166666666,-7.0,-7.0,-7.0,-6.55,-6.562738425925926,-6.612738425925926,-7.0,-6.55,-6.55,-6.602171575856987,-6.602171575856987,-7.0,-7.0,-7.0,-7.0,-7.0,-7.0,-6.1,-6.114182291666667,-5.714182291666667,-5.714182291666667,-5.264182291666667,-5.675586805555556,-5.325586805555555,-6.125068865740741,-5.340603306668364,-5.678565972222222,-5.728565972222222,-6.1,-6.1,-6.1,-5.666168981481482,-5.266168981481481,-5.713721889544026,-5.65,-5.6684195601851854,-5.29912962962963,-5.749179398148148,-6.168469328703703,-6.55,-6.613122493142758,-7.0,-7.0,-7.0,-7.0,-7.0,-7.0,-7.0,-7.0,-7.0,-7.0,-7.0,-7.0,-7.0,-7.0,-7.0,-7.0,-7.0,-7.0,-6.55,-6.1],\"yaxis\":\"y\",\"type\":\"scatter\"},{\"hovertemplate\":\"Clust_Sols=KUMAP_k10-c10<br>day=%{x}<br>value=%{y}<extra></extra>\",\"legendgroup\":\"KUMAP_k10-c10\",\"line\":{\"color\":\"#FECB52\",\"dash\":\"solid\"},\"marker\":{\"symbol\":\"circle\"},\"mode\":\"lines\",\"name\":\"KUMAP_k10-c10\",\"orientation\":\"v\",\"showlegend\":true,\"x\":[\"d1\",\"d2\",\"d3\",\"d4\",\"d5\",\"d6\",\"d7\",\"d8\",\"d9\",\"d10\",\"d11\",\"d12\",\"d13\",\"d14\",\"d15\",\"d16\",\"d17\",\"d18\",\"d19\",\"d20\",\"d21\",\"d22\",\"d23\",\"d24\",\"d25\",\"d26\",\"d27\",\"d28\",\"d29\",\"d30\",\"d31\",\"d32\",\"d33\",\"d34\",\"d35\",\"d36\",\"d37\",\"d38\",\"d39\",\"d40\",\"d41\",\"d42\",\"d43\",\"d44\",\"d45\",\"d46\",\"d47\",\"d48\",\"d49\",\"d50\",\"d51\",\"d52\",\"d53\",\"d54\",\"d55\",\"d56\",\"d57\",\"d58\",\"d59\",\"d60\",\"d61\",\"d62\",\"d63\",\"d64\",\"d65\",\"d66\",\"d67\",\"d68\",\"d69\",\"d70\",\"d71\",\"d72\",\"d73\",\"d74\",\"d75\",\"d76\",\"d77\",\"d78\",\"d79\",\"d80\",\"d81\",\"d82\",\"d83\",\"d84\",\"d85\",\"d86\",\"d87\",\"d88\",\"d89\",\"d90\"],\"xaxis\":\"x\",\"y\":[0.6126639929486003,0.5983603374200269,0.6055270753613935,0.5792332909696775,0.5408367762275555,0.5498396090423122,0.5226643703990747,0.4972416730517139,0.4815541330855892,0.4799487568778598,0.4747575846282147,0.5062600795820511,0.548464386093368,0.5563619816329742,0.5477841210485195,0.525547646866969,0.5115588619782164,0.4849887149288585,0.4938414863862754,0.48347736006510444,0.4938979894465477,0.4931106898414754,0.4719502864300284,0.4476736746422044,0.41887157661996294,0.43220424558448556,0.40734104759039996,0.3902295736384931,0.3763857984892345,0.3600405186707515,0.3373967015905145,0.31409878278131426,0.296456701443327,0.29968947965212145,0.2784290109134317,0.25070595183581873,0.25154551469428166,0.27783466722694367,0.26365124756193653,0.29035962633874507,0.33029300435009157,0.35069699621422856,0.32788162456338715,0.38613594290439074,0.39238421886345465,0.35571324780523716,0.36237774725009664,0.42700077855259894,0.46612348007210563,0.4460703253083514,0.4327114507013054,0.4746192174288911,0.44348791557649075,0.4319733196445745,0.4332153790033462,0.4068441802106591,0.42014878892126245,0.3871850316850586,0.37830445307796967,0.3685009595097008,0.353379632855443,0.3589868265419469,0.3385406423342633,0.33583357629384836,0.3299648555434893,0.3121523755910346,0.28268791379495817,0.2480675280065986,0.259820211638249,0.29747115083291936,0.2975417689056109,0.3137675658774688,0.31219537181871404,0.3488546548564738,0.32657477616192376,0.3039190642702688,0.28225455603137667,0.29328146327568366,0.3015703861734209,0.34069316565875646,0.31905954352482346,0.3262220952736599,0.32246062495623284,0.3169460380253095,0.29212242964193597,0.3061723049488428,0.28846327270230204,0.30426359625226634,0.3195668045061143,0.3360891427002404],\"yaxis\":\"y\",\"type\":\"scatter\"}],                        {\"template\":{\"data\":{\"histogram2dcontour\":[{\"type\":\"histogram2dcontour\",\"colorbar\":{\"outlinewidth\":0,\"ticks\":\"\"},\"colorscale\":[[0.0,\"#0d0887\"],[0.1111111111111111,\"#46039f\"],[0.2222222222222222,\"#7201a8\"],[0.3333333333333333,\"#9c179e\"],[0.4444444444444444,\"#bd3786\"],[0.5555555555555556,\"#d8576b\"],[0.6666666666666666,\"#ed7953\"],[0.7777777777777778,\"#fb9f3a\"],[0.8888888888888888,\"#fdca26\"],[1.0,\"#f0f921\"]]}],\"choropleth\":[{\"type\":\"choropleth\",\"colorbar\":{\"outlinewidth\":0,\"ticks\":\"\"}}],\"histogram2d\":[{\"type\":\"histogram2d\",\"colorbar\":{\"outlinewidth\":0,\"ticks\":\"\"},\"colorscale\":[[0.0,\"#0d0887\"],[0.1111111111111111,\"#46039f\"],[0.2222222222222222,\"#7201a8\"],[0.3333333333333333,\"#9c179e\"],[0.4444444444444444,\"#bd3786\"],[0.5555555555555556,\"#d8576b\"],[0.6666666666666666,\"#ed7953\"],[0.7777777777777778,\"#fb9f3a\"],[0.8888888888888888,\"#fdca26\"],[1.0,\"#f0f921\"]]}],\"heatmap\":[{\"type\":\"heatmap\",\"colorbar\":{\"outlinewidth\":0,\"ticks\":\"\"},\"colorscale\":[[0.0,\"#0d0887\"],[0.1111111111111111,\"#46039f\"],[0.2222222222222222,\"#7201a8\"],[0.3333333333333333,\"#9c179e\"],[0.4444444444444444,\"#bd3786\"],[0.5555555555555556,\"#d8576b\"],[0.6666666666666666,\"#ed7953\"],[0.7777777777777778,\"#fb9f3a\"],[0.8888888888888888,\"#fdca26\"],[1.0,\"#f0f921\"]]}],\"heatmapgl\":[{\"type\":\"heatmapgl\",\"colorbar\":{\"outlinewidth\":0,\"ticks\":\"\"},\"colorscale\":[[0.0,\"#0d0887\"],[0.1111111111111111,\"#46039f\"],[0.2222222222222222,\"#7201a8\"],[0.3333333333333333,\"#9c179e\"],[0.4444444444444444,\"#bd3786\"],[0.5555555555555556,\"#d8576b\"],[0.6666666666666666,\"#ed7953\"],[0.7777777777777778,\"#fb9f3a\"],[0.8888888888888888,\"#fdca26\"],[1.0,\"#f0f921\"]]}],\"contourcarpet\":[{\"type\":\"contourcarpet\",\"colorbar\":{\"outlinewidth\":0,\"ticks\":\"\"}}],\"contour\":[{\"type\":\"contour\",\"colorbar\":{\"outlinewidth\":0,\"ticks\":\"\"},\"colorscale\":[[0.0,\"#0d0887\"],[0.1111111111111111,\"#46039f\"],[0.2222222222222222,\"#7201a8\"],[0.3333333333333333,\"#9c179e\"],[0.4444444444444444,\"#bd3786\"],[0.5555555555555556,\"#d8576b\"],[0.6666666666666666,\"#ed7953\"],[0.7777777777777778,\"#fb9f3a\"],[0.8888888888888888,\"#fdca26\"],[1.0,\"#f0f921\"]]}],\"surface\":[{\"type\":\"surface\",\"colorbar\":{\"outlinewidth\":0,\"ticks\":\"\"},\"colorscale\":[[0.0,\"#0d0887\"],[0.1111111111111111,\"#46039f\"],[0.2222222222222222,\"#7201a8\"],[0.3333333333333333,\"#9c179e\"],[0.4444444444444444,\"#bd3786\"],[0.5555555555555556,\"#d8576b\"],[0.6666666666666666,\"#ed7953\"],[0.7777777777777778,\"#fb9f3a\"],[0.8888888888888888,\"#fdca26\"],[1.0,\"#f0f921\"]]}],\"mesh3d\":[{\"type\":\"mesh3d\",\"colorbar\":{\"outlinewidth\":0,\"ticks\":\"\"}}],\"scatter\":[{\"fillpattern\":{\"fillmode\":\"overlay\",\"size\":10,\"solidity\":0.2},\"type\":\"scatter\"}],\"parcoords\":[{\"type\":\"parcoords\",\"line\":{\"colorbar\":{\"outlinewidth\":0,\"ticks\":\"\"}}}],\"scatterpolargl\":[{\"type\":\"scatterpolargl\",\"marker\":{\"colorbar\":{\"outlinewidth\":0,\"ticks\":\"\"}}}],\"bar\":[{\"error_x\":{\"color\":\"#2a3f5f\"},\"error_y\":{\"color\":\"#2a3f5f\"},\"marker\":{\"line\":{\"color\":\"#E5ECF6\",\"width\":0.5},\"pattern\":{\"fillmode\":\"overlay\",\"size\":10,\"solidity\":0.2}},\"type\":\"bar\"}],\"scattergeo\":[{\"type\":\"scattergeo\",\"marker\":{\"colorbar\":{\"outlinewidth\":0,\"ticks\":\"\"}}}],\"scatterpolar\":[{\"type\":\"scatterpolar\",\"marker\":{\"colorbar\":{\"outlinewidth\":0,\"ticks\":\"\"}}}],\"histogram\":[{\"marker\":{\"pattern\":{\"fillmode\":\"overlay\",\"size\":10,\"solidity\":0.2}},\"type\":\"histogram\"}],\"scattergl\":[{\"type\":\"scattergl\",\"marker\":{\"colorbar\":{\"outlinewidth\":0,\"ticks\":\"\"}}}],\"scatter3d\":[{\"type\":\"scatter3d\",\"line\":{\"colorbar\":{\"outlinewidth\":0,\"ticks\":\"\"}},\"marker\":{\"colorbar\":{\"outlinewidth\":0,\"ticks\":\"\"}}}],\"scattermapbox\":[{\"type\":\"scattermapbox\",\"marker\":{\"colorbar\":{\"outlinewidth\":0,\"ticks\":\"\"}}}],\"scatterternary\":[{\"type\":\"scatterternary\",\"marker\":{\"colorbar\":{\"outlinewidth\":0,\"ticks\":\"\"}}}],\"scattercarpet\":[{\"type\":\"scattercarpet\",\"marker\":{\"colorbar\":{\"outlinewidth\":0,\"ticks\":\"\"}}}],\"carpet\":[{\"aaxis\":{\"endlinecolor\":\"#2a3f5f\",\"gridcolor\":\"white\",\"linecolor\":\"white\",\"minorgridcolor\":\"white\",\"startlinecolor\":\"#2a3f5f\"},\"baxis\":{\"endlinecolor\":\"#2a3f5f\",\"gridcolor\":\"white\",\"linecolor\":\"white\",\"minorgridcolor\":\"white\",\"startlinecolor\":\"#2a3f5f\"},\"type\":\"carpet\"}],\"table\":[{\"cells\":{\"fill\":{\"color\":\"#EBF0F8\"},\"line\":{\"color\":\"white\"}},\"header\":{\"fill\":{\"color\":\"#C8D4E3\"},\"line\":{\"color\":\"white\"}},\"type\":\"table\"}],\"barpolar\":[{\"marker\":{\"line\":{\"color\":\"#E5ECF6\",\"width\":0.5},\"pattern\":{\"fillmode\":\"overlay\",\"size\":10,\"solidity\":0.2}},\"type\":\"barpolar\"}],\"pie\":[{\"automargin\":true,\"type\":\"pie\"}]},\"layout\":{\"autotypenumbers\":\"strict\",\"colorway\":[\"#636efa\",\"#EF553B\",\"#00cc96\",\"#ab63fa\",\"#FFA15A\",\"#19d3f3\",\"#FF6692\",\"#B6E880\",\"#FF97FF\",\"#FECB52\"],\"font\":{\"color\":\"#2a3f5f\"},\"hovermode\":\"closest\",\"hoverlabel\":{\"align\":\"left\"},\"paper_bgcolor\":\"white\",\"plot_bgcolor\":\"#E5ECF6\",\"polar\":{\"bgcolor\":\"#E5ECF6\",\"angularaxis\":{\"gridcolor\":\"white\",\"linecolor\":\"white\",\"ticks\":\"\"},\"radialaxis\":{\"gridcolor\":\"white\",\"linecolor\":\"white\",\"ticks\":\"\"}},\"ternary\":{\"bgcolor\":\"#E5ECF6\",\"aaxis\":{\"gridcolor\":\"white\",\"linecolor\":\"white\",\"ticks\":\"\"},\"baxis\":{\"gridcolor\":\"white\",\"linecolor\":\"white\",\"ticks\":\"\"},\"caxis\":{\"gridcolor\":\"white\",\"linecolor\":\"white\",\"ticks\":\"\"}},\"coloraxis\":{\"colorbar\":{\"outlinewidth\":0,\"ticks\":\"\"}},\"colorscale\":{\"sequential\":[[0.0,\"#0d0887\"],[0.1111111111111111,\"#46039f\"],[0.2222222222222222,\"#7201a8\"],[0.3333333333333333,\"#9c179e\"],[0.4444444444444444,\"#bd3786\"],[0.5555555555555556,\"#d8576b\"],[0.6666666666666666,\"#ed7953\"],[0.7777777777777778,\"#fb9f3a\"],[0.8888888888888888,\"#fdca26\"],[1.0,\"#f0f921\"]],\"sequentialminus\":[[0.0,\"#0d0887\"],[0.1111111111111111,\"#46039f\"],[0.2222222222222222,\"#7201a8\"],[0.3333333333333333,\"#9c179e\"],[0.4444444444444444,\"#bd3786\"],[0.5555555555555556,\"#d8576b\"],[0.6666666666666666,\"#ed7953\"],[0.7777777777777778,\"#fb9f3a\"],[0.8888888888888888,\"#fdca26\"],[1.0,\"#f0f921\"]],\"diverging\":[[0,\"#8e0152\"],[0.1,\"#c51b7d\"],[0.2,\"#de77ae\"],[0.3,\"#f1b6da\"],[0.4,\"#fde0ef\"],[0.5,\"#f7f7f7\"],[0.6,\"#e6f5d0\"],[0.7,\"#b8e186\"],[0.8,\"#7fbc41\"],[0.9,\"#4d9221\"],[1,\"#276419\"]]},\"xaxis\":{\"gridcolor\":\"white\",\"linecolor\":\"white\",\"ticks\":\"\",\"title\":{\"standoff\":15},\"zerolinecolor\":\"white\",\"automargin\":true,\"zerolinewidth\":2},\"yaxis\":{\"gridcolor\":\"white\",\"linecolor\":\"white\",\"ticks\":\"\",\"title\":{\"standoff\":15},\"zerolinecolor\":\"white\",\"automargin\":true,\"zerolinewidth\":2},\"scene\":{\"xaxis\":{\"backgroundcolor\":\"#E5ECF6\",\"gridcolor\":\"white\",\"linecolor\":\"white\",\"showbackground\":true,\"ticks\":\"\",\"zerolinecolor\":\"white\",\"gridwidth\":2},\"yaxis\":{\"backgroundcolor\":\"#E5ECF6\",\"gridcolor\":\"white\",\"linecolor\":\"white\",\"showbackground\":true,\"ticks\":\"\",\"zerolinecolor\":\"white\",\"gridwidth\":2},\"zaxis\":{\"backgroundcolor\":\"#E5ECF6\",\"gridcolor\":\"white\",\"linecolor\":\"white\",\"showbackground\":true,\"ticks\":\"\",\"zerolinecolor\":\"white\",\"gridwidth\":2}},\"shapedefaults\":{\"line\":{\"color\":\"#2a3f5f\"}},\"annotationdefaults\":{\"arrowcolor\":\"#2a3f5f\",\"arrowhead\":0,\"arrowwidth\":1},\"geo\":{\"bgcolor\":\"white\",\"landcolor\":\"#E5ECF6\",\"subunitcolor\":\"white\",\"showland\":true,\"showlakes\":true,\"lakecolor\":\"white\"},\"title\":{\"x\":0.05},\"mapbox\":{\"style\":\"light\"}}},\"xaxis\":{\"anchor\":\"y\",\"domain\":[0.0,1.0],\"title\":{\"text\":\"day\"}},\"yaxis\":{\"anchor\":\"x\",\"domain\":[0.0,1.0],\"title\":{\"text\":\"value\"}},\"legend\":{\"title\":{\"text\":\"Clust_Sols\"},\"tracegroupgap\":0},\"margin\":{\"t\":30,\"l\":20,\"r\":20,\"b\":20},\"title\":{\"text\":\"LSTM_AE-KUMAP_k10\",\"xanchor\":\"center\",\"x\":0.5}},                        {\"responsive\": true}                    ).then(function(){\n",
       "                            \n",
       "var gd = document.getElementById('d2a66be7-4592-45dd-aa32-ff376babafa0');\n",
       "var x = new MutationObserver(function (mutations, observer) {{\n",
       "        var display = window.getComputedStyle(gd).display;\n",
       "        if (!display || display === 'none') {{\n",
       "            console.log([gd, 'removed!']);\n",
       "            Plotly.purge(gd);\n",
       "            observer.disconnect();\n",
       "        }}\n",
       "}});\n",
       "\n",
       "// Listen for the removal of the full notebook cells\n",
       "var notebookContainer = gd.closest('#notebook-container');\n",
       "if (notebookContainer) {{\n",
       "    x.observe(notebookContainer, {childList: true});\n",
       "}}\n",
       "\n",
       "// Listen for the clearing of the current output cell\n",
       "var outputEl = gd.closest('.output');\n",
       "if (outputEl) {{\n",
       "    x.observe(outputEl, {childList: true});\n",
       "}}\n",
       "\n",
       "                        })                };                });            </script>        </div>"
      ]
     },
     "metadata": {},
     "output_type": "display_data"
    }
   ],
   "source": [
    "sol = 'KUMAP_k10'\n",
    "sol_rows = []\n",
    "for name in sol_names:\n",
    "    n = name.split('-')[0]\n",
    "    if n == sol:\n",
    "        sol_rows.append(name)\n",
    "        \n",
    "df_centroids_melt = df_centroids[df_centroids['Clust_Sols'].isin(sol_rows)]\n",
    "df_centroids_melt = pd.melt(df_centroids_melt, id_vars=['Clust_Sols'], value_vars=window_cols,\n",
    "        var_name='day', value_name='value')\n",
    "\n",
    "fig = px.line(df_centroids_melt, x=\"day\", y=\"value\", color='Clust_Sols')\n",
    "fig.update_layout(margin=dict(l=20, r=20, t=30, b=20),\n",
    "                 title={'text':f'{Model_Name}-{sol}', 'xanchor':'center', 'x':0.5})\n",
    "fig.show()"
   ]
  },
  {
   "cell_type": "markdown",
   "id": "e79a6361-ae14-425a-89ba-6867df31e7c4",
   "metadata": {},
   "source": [
    "---\n",
    "---\n",
    "# Saving Outputs"
   ]
  },
  {
   "cell_type": "code",
   "execution_count": null,
   "id": "4f1d9622-17d9-4eed-9412-3e2e0e089d46",
   "metadata": {},
   "outputs": [],
   "source": [
    "if on_gradient == True:\n",
    "    os.makedirs(f'/notebooks/{dataset_name}', exist_ok=True)  "
   ]
  },
  {
   "cell_type": "markdown",
   "id": "77bac7b0-22fe-4934-80fd-e5d40ff020a9",
   "metadata": {},
   "source": [
    "---\n",
    "## Clustering"
   ]
  },
  {
   "cell_type": "markdown",
   "id": "6ff755f8-cb1c-4f49-baad-f6ec64ed2fae",
   "metadata": {},
   "source": [
    "### Solutions"
   ]
  },
  {
   "cell_type": "code",
   "execution_count": 72,
   "id": "23b38f58-0dbf-4b66-88e0-f0d11937e99e",
   "metadata": {},
   "outputs": [
    {
     "data": {
      "text/html": [
       "<div>\n",
       "<style scoped>\n",
       "    .dataframe tbody tr th:only-of-type {\n",
       "        vertical-align: middle;\n",
       "    }\n",
       "\n",
       "    .dataframe tbody tr th {\n",
       "        vertical-align: top;\n",
       "    }\n",
       "\n",
       "    .dataframe thead th {\n",
       "        text-align: right;\n",
       "    }\n",
       "</style>\n",
       "<table border=\"1\" class=\"dataframe\">\n",
       "  <thead>\n",
       "    <tr style=\"text-align: right;\">\n",
       "      <th></th>\n",
       "      <th>short_ID</th>\n",
       "      <th>window_ID</th>\n",
       "      <th>window_start_date</th>\n",
       "      <th>UMAP_V1</th>\n",
       "      <th>UMAP_V2</th>\n",
       "      <th>kMeans_k2</th>\n",
       "      <th>kMeans_k3</th>\n",
       "      <th>kMeans_k4</th>\n",
       "      <th>kMeans_k5</th>\n",
       "      <th>kMeans_k6</th>\n",
       "      <th>...</th>\n",
       "      <th>KUMAP_k16</th>\n",
       "      <th>KUMAP_k17</th>\n",
       "      <th>KUMAP_k18</th>\n",
       "      <th>KUMAP_k19</th>\n",
       "      <th>KUMAP_k20</th>\n",
       "      <th>KUMAP_k21</th>\n",
       "      <th>KUMAP_k22</th>\n",
       "      <th>KUMAP_k23</th>\n",
       "      <th>KUMAP_k24</th>\n",
       "      <th>KUMAP_k25</th>\n",
       "    </tr>\n",
       "  </thead>\n",
       "  <tbody>\n",
       "    <tr>\n",
       "      <th>0</th>\n",
       "      <td>127</td>\n",
       "      <td>0</td>\n",
       "      <td>2018-01-20</td>\n",
       "      <td>14.730165</td>\n",
       "      <td>14.922711</td>\n",
       "      <td>1</td>\n",
       "      <td>3</td>\n",
       "      <td>1</td>\n",
       "      <td>4</td>\n",
       "      <td>6</td>\n",
       "      <td>...</td>\n",
       "      <td>3</td>\n",
       "      <td>4</td>\n",
       "      <td>13</td>\n",
       "      <td>14</td>\n",
       "      <td>6</td>\n",
       "      <td>13</td>\n",
       "      <td>9</td>\n",
       "      <td>7</td>\n",
       "      <td>11</td>\n",
       "      <td>18</td>\n",
       "    </tr>\n",
       "    <tr>\n",
       "      <th>1</th>\n",
       "      <td>127</td>\n",
       "      <td>1</td>\n",
       "      <td>2018-04-20</td>\n",
       "      <td>14.456367</td>\n",
       "      <td>15.064330</td>\n",
       "      <td>1</td>\n",
       "      <td>3</td>\n",
       "      <td>1</td>\n",
       "      <td>4</td>\n",
       "      <td>6</td>\n",
       "      <td>...</td>\n",
       "      <td>3</td>\n",
       "      <td>4</td>\n",
       "      <td>13</td>\n",
       "      <td>14</td>\n",
       "      <td>6</td>\n",
       "      <td>13</td>\n",
       "      <td>9</td>\n",
       "      <td>7</td>\n",
       "      <td>11</td>\n",
       "      <td>18</td>\n",
       "    </tr>\n",
       "    <tr>\n",
       "      <th>2</th>\n",
       "      <td>127</td>\n",
       "      <td>2</td>\n",
       "      <td>2018-07-19</td>\n",
       "      <td>14.490791</td>\n",
       "      <td>14.844275</td>\n",
       "      <td>1</td>\n",
       "      <td>3</td>\n",
       "      <td>1</td>\n",
       "      <td>4</td>\n",
       "      <td>6</td>\n",
       "      <td>...</td>\n",
       "      <td>16</td>\n",
       "      <td>13</td>\n",
       "      <td>3</td>\n",
       "      <td>3</td>\n",
       "      <td>3</td>\n",
       "      <td>8</td>\n",
       "      <td>17</td>\n",
       "      <td>12</td>\n",
       "      <td>18</td>\n",
       "      <td>12</td>\n",
       "    </tr>\n",
       "    <tr>\n",
       "      <th>3</th>\n",
       "      <td>127</td>\n",
       "      <td>3</td>\n",
       "      <td>2018-10-17</td>\n",
       "      <td>13.377369</td>\n",
       "      <td>15.922905</td>\n",
       "      <td>1</td>\n",
       "      <td>3</td>\n",
       "      <td>1</td>\n",
       "      <td>4</td>\n",
       "      <td>6</td>\n",
       "      <td>...</td>\n",
       "      <td>16</td>\n",
       "      <td>10</td>\n",
       "      <td>14</td>\n",
       "      <td>15</td>\n",
       "      <td>5</td>\n",
       "      <td>15</td>\n",
       "      <td>17</td>\n",
       "      <td>17</td>\n",
       "      <td>15</td>\n",
       "      <td>10</td>\n",
       "    </tr>\n",
       "    <tr>\n",
       "      <th>4</th>\n",
       "      <td>127</td>\n",
       "      <td>4</td>\n",
       "      <td>2019-01-15</td>\n",
       "      <td>14.862516</td>\n",
       "      <td>16.851736</td>\n",
       "      <td>1</td>\n",
       "      <td>3</td>\n",
       "      <td>1</td>\n",
       "      <td>4</td>\n",
       "      <td>6</td>\n",
       "      <td>...</td>\n",
       "      <td>16</td>\n",
       "      <td>10</td>\n",
       "      <td>14</td>\n",
       "      <td>15</td>\n",
       "      <td>5</td>\n",
       "      <td>15</td>\n",
       "      <td>17</td>\n",
       "      <td>17</td>\n",
       "      <td>15</td>\n",
       "      <td>10</td>\n",
       "    </tr>\n",
       "  </tbody>\n",
       "</table>\n",
       "<p>5 rows × 53 columns</p>\n",
       "</div>"
      ],
      "text/plain": [
       "   short_ID  window_ID window_start_date    UMAP_V1    UMAP_V2  kMeans_k2  \\\n",
       "0       127          0        2018-01-20  14.730165  14.922711          1   \n",
       "1       127          1        2018-04-20  14.456367  15.064330          1   \n",
       "2       127          2        2018-07-19  14.490791  14.844275          1   \n",
       "3       127          3        2018-10-17  13.377369  15.922905          1   \n",
       "4       127          4        2019-01-15  14.862516  16.851736          1   \n",
       "\n",
       "   kMeans_k3  kMeans_k4  kMeans_k5  kMeans_k6  ...  KUMAP_k16  KUMAP_k17  \\\n",
       "0          3          1          4          6  ...          3          4   \n",
       "1          3          1          4          6  ...          3          4   \n",
       "2          3          1          4          6  ...         16         13   \n",
       "3          3          1          4          6  ...         16         10   \n",
       "4          3          1          4          6  ...         16         10   \n",
       "\n",
       "   KUMAP_k18  KUMAP_k19  KUMAP_k20  KUMAP_k21  KUMAP_k22  KUMAP_k23  \\\n",
       "0         13         14          6         13          9          7   \n",
       "1         13         14          6         13          9          7   \n",
       "2          3          3          3          8         17         12   \n",
       "3         14         15          5         15         17         17   \n",
       "4         14         15          5         15         17         17   \n",
       "\n",
       "   KUMAP_k24  KUMAP_k25  \n",
       "0         11         18  \n",
       "1         11         18  \n",
       "2         18         12  \n",
       "3         15         10  \n",
       "4         15         10  \n",
       "\n",
       "[5 rows x 53 columns]"
      ]
     },
     "execution_count": 72,
     "metadata": {},
     "output_type": "execute_result"
    }
   ],
   "source": [
    "df_sols.head()"
   ]
  },
  {
   "cell_type": "code",
   "execution_count": null,
   "id": "e940065f-de5c-4a35-a7b2-2c4a9844eb7a",
   "metadata": {},
   "outputs": [],
   "source": [
    "solution_fileName = solution_name.replace(\":\", \"-\" ).replace(\"-\", \"_\" )\n",
    "solution_fileName = f'{Model_Name}-{solution_fileName}.csv'\n",
    "solution_fileName"
   ]
  },
  {
   "cell_type": "code",
   "execution_count": 73,
   "id": "e5071ec6-efb1-4235-8f4b-c6407677510f",
   "metadata": {},
   "outputs": [],
   "source": [
    "if on_gradient == False:\n",
    "    os.makedirs(f'../ModelResults/Clustering/Solutions/{dataset_name}', exist_ok=True)  \n",
    "    df_sols.to_csv(f'../ModelResults/Clustering/Solutions/{dataset_name}/{solution_fileName}', index=False)\n",
    "else:\n",
    "    gradient_fileName = f'/notebooks/{dataset_name}/Solutions-{solution_fileName}'    #df_centroids.to_csv(f'solution_fileName', index=False)\n",
    "    df_sols.to_csv(gradient_fileName, index=False)    "
   ]
  },
  {
   "cell_type": "markdown",
   "id": "5dbbe35d-88e3-486b-b95e-622e8256890f",
   "metadata": {},
   "source": [
    "### Centroids"
   ]
  },
  {
   "cell_type": "code",
   "execution_count": 80,
   "id": "ff81e58f-a97a-4b49-a82d-d8861548c3c8",
   "metadata": {},
   "outputs": [
    {
     "data": {
      "text/html": [
       "<div>\n",
       "<style scoped>\n",
       "    .dataframe tbody tr th:only-of-type {\n",
       "        vertical-align: middle;\n",
       "    }\n",
       "\n",
       "    .dataframe tbody tr th {\n",
       "        vertical-align: top;\n",
       "    }\n",
       "\n",
       "    .dataframe thead th {\n",
       "        text-align: right;\n",
       "    }\n",
       "</style>\n",
       "<table border=\"1\" class=\"dataframe\">\n",
       "  <thead>\n",
       "    <tr style=\"text-align: right;\">\n",
       "      <th></th>\n",
       "      <th>Clust_Sols</th>\n",
       "      <th>d1</th>\n",
       "      <th>d2</th>\n",
       "      <th>d3</th>\n",
       "      <th>d4</th>\n",
       "      <th>d5</th>\n",
       "      <th>d6</th>\n",
       "      <th>d7</th>\n",
       "      <th>d8</th>\n",
       "      <th>d9</th>\n",
       "      <th>...</th>\n",
       "      <th>d81</th>\n",
       "      <th>d82</th>\n",
       "      <th>d83</th>\n",
       "      <th>d84</th>\n",
       "      <th>d85</th>\n",
       "      <th>d86</th>\n",
       "      <th>d87</th>\n",
       "      <th>d88</th>\n",
       "      <th>d89</th>\n",
       "      <th>d90</th>\n",
       "    </tr>\n",
       "  </thead>\n",
       "  <tbody>\n",
       "    <tr>\n",
       "      <th>0</th>\n",
       "      <td>kMeans_k2-c1</td>\n",
       "      <td>0.334658</td>\n",
       "      <td>0.343587</td>\n",
       "      <td>0.322109</td>\n",
       "      <td>0.333589</td>\n",
       "      <td>0.312088</td>\n",
       "      <td>0.282053</td>\n",
       "      <td>0.235207</td>\n",
       "      <td>0.250145</td>\n",
       "      <td>0.240007</td>\n",
       "      <td>...</td>\n",
       "      <td>0.131280</td>\n",
       "      <td>0.135520</td>\n",
       "      <td>0.130736</td>\n",
       "      <td>0.134626</td>\n",
       "      <td>0.148448</td>\n",
       "      <td>0.140359</td>\n",
       "      <td>0.150217</td>\n",
       "      <td>0.148680</td>\n",
       "      <td>0.143069</td>\n",
       "      <td>0.154236</td>\n",
       "    </tr>\n",
       "    <tr>\n",
       "      <th>1</th>\n",
       "      <td>kMeans_k2-c2</td>\n",
       "      <td>-7.000000</td>\n",
       "      <td>-7.000000</td>\n",
       "      <td>-7.000000</td>\n",
       "      <td>-7.000000</td>\n",
       "      <td>-7.000000</td>\n",
       "      <td>-7.000000</td>\n",
       "      <td>-7.000000</td>\n",
       "      <td>-7.000000</td>\n",
       "      <td>-7.000000</td>\n",
       "      <td>...</td>\n",
       "      <td>-7.000000</td>\n",
       "      <td>-7.000000</td>\n",
       "      <td>-7.000000</td>\n",
       "      <td>-7.000000</td>\n",
       "      <td>-7.000000</td>\n",
       "      <td>-7.000000</td>\n",
       "      <td>-7.000000</td>\n",
       "      <td>-7.000000</td>\n",
       "      <td>-7.000000</td>\n",
       "      <td>-7.000000</td>\n",
       "    </tr>\n",
       "    <tr>\n",
       "      <th>2</th>\n",
       "      <td>kMeans_k3-c1</td>\n",
       "      <td>-4.315424</td>\n",
       "      <td>-4.365424</td>\n",
       "      <td>-4.339589</td>\n",
       "      <td>-4.006331</td>\n",
       "      <td>-4.848047</td>\n",
       "      <td>-5.348009</td>\n",
       "      <td>-6.166704</td>\n",
       "      <td>-6.550000</td>\n",
       "      <td>-6.550000</td>\n",
       "      <td>...</td>\n",
       "      <td>-7.000000</td>\n",
       "      <td>-7.000000</td>\n",
       "      <td>-7.000000</td>\n",
       "      <td>-7.000000</td>\n",
       "      <td>-7.000000</td>\n",
       "      <td>-7.000000</td>\n",
       "      <td>-7.000000</td>\n",
       "      <td>-7.000000</td>\n",
       "      <td>-6.550000</td>\n",
       "      <td>-6.100000</td>\n",
       "    </tr>\n",
       "    <tr>\n",
       "      <th>3</th>\n",
       "      <td>kMeans_k3-c2</td>\n",
       "      <td>-7.000000</td>\n",
       "      <td>-7.000000</td>\n",
       "      <td>-7.000000</td>\n",
       "      <td>-7.000000</td>\n",
       "      <td>-7.000000</td>\n",
       "      <td>-7.000000</td>\n",
       "      <td>-7.000000</td>\n",
       "      <td>-7.000000</td>\n",
       "      <td>-7.000000</td>\n",
       "      <td>...</td>\n",
       "      <td>-7.000000</td>\n",
       "      <td>-7.000000</td>\n",
       "      <td>-7.000000</td>\n",
       "      <td>-7.000000</td>\n",
       "      <td>-7.000000</td>\n",
       "      <td>-7.000000</td>\n",
       "      <td>-7.000000</td>\n",
       "      <td>-7.000000</td>\n",
       "      <td>-7.000000</td>\n",
       "      <td>-7.000000</td>\n",
       "    </tr>\n",
       "    <tr>\n",
       "      <th>4</th>\n",
       "      <td>kMeans_k3-c3</td>\n",
       "      <td>0.438339</td>\n",
       "      <td>0.448582</td>\n",
       "      <td>0.426048</td>\n",
       "      <td>0.430355</td>\n",
       "      <td>0.427141</td>\n",
       "      <td>0.407584</td>\n",
       "      <td>0.377947</td>\n",
       "      <td>0.401765</td>\n",
       "      <td>0.391400</td>\n",
       "      <td>...</td>\n",
       "      <td>0.290283</td>\n",
       "      <td>0.294618</td>\n",
       "      <td>0.289727</td>\n",
       "      <td>0.293704</td>\n",
       "      <td>0.307834</td>\n",
       "      <td>0.299564</td>\n",
       "      <td>0.309642</td>\n",
       "      <td>0.308071</td>\n",
       "      <td>0.292301</td>\n",
       "      <td>0.293684</td>\n",
       "    </tr>\n",
       "  </tbody>\n",
       "</table>\n",
       "<p>5 rows × 91 columns</p>\n",
       "</div>"
      ],
      "text/plain": [
       "     Clust_Sols        d1        d2        d3        d4        d5        d6  \\\n",
       "0  kMeans_k2-c1  0.334658  0.343587  0.322109  0.333589  0.312088  0.282053   \n",
       "1  kMeans_k2-c2 -7.000000 -7.000000 -7.000000 -7.000000 -7.000000 -7.000000   \n",
       "2  kMeans_k3-c1 -4.315424 -4.365424 -4.339589 -4.006331 -4.848047 -5.348009   \n",
       "3  kMeans_k3-c2 -7.000000 -7.000000 -7.000000 -7.000000 -7.000000 -7.000000   \n",
       "4  kMeans_k3-c3  0.438339  0.448582  0.426048  0.430355  0.427141  0.407584   \n",
       "\n",
       "         d7        d8        d9  ...       d81       d82       d83       d84  \\\n",
       "0  0.235207  0.250145  0.240007  ...  0.131280  0.135520  0.130736  0.134626   \n",
       "1 -7.000000 -7.000000 -7.000000  ... -7.000000 -7.000000 -7.000000 -7.000000   \n",
       "2 -6.166704 -6.550000 -6.550000  ... -7.000000 -7.000000 -7.000000 -7.000000   \n",
       "3 -7.000000 -7.000000 -7.000000  ... -7.000000 -7.000000 -7.000000 -7.000000   \n",
       "4  0.377947  0.401765  0.391400  ...  0.290283  0.294618  0.289727  0.293704   \n",
       "\n",
       "        d85       d86       d87       d88       d89       d90  \n",
       "0  0.148448  0.140359  0.150217  0.148680  0.143069  0.154236  \n",
       "1 -7.000000 -7.000000 -7.000000 -7.000000 -7.000000 -7.000000  \n",
       "2 -7.000000 -7.000000 -7.000000 -7.000000 -6.550000 -6.100000  \n",
       "3 -7.000000 -7.000000 -7.000000 -7.000000 -7.000000 -7.000000  \n",
       "4  0.307834  0.299564  0.309642  0.308071  0.292301  0.293684  \n",
       "\n",
       "[5 rows x 91 columns]"
      ]
     },
     "execution_count": 80,
     "metadata": {},
     "output_type": "execute_result"
    }
   ],
   "source": [
    "df_centroids.head()"
   ]
  },
  {
   "cell_type": "code",
   "execution_count": 74,
   "id": "ba0fa4fd-c979-4092-abd1-956566f24b19",
   "metadata": {},
   "outputs": [],
   "source": [
    "if on_gradient == False:\n",
    "    os.makedirs(f'../ModelResults/Clustering/Centroids/{dataset_name}', exist_ok=True)  \n",
    "    df_centroids.to_csv(f'../ModelResults/Clustering/Centroids/{dataset_name}/{solution_fileName}', index=False)\n",
    "else:\n",
    "    gradient_fileName = f'/notebooks/{dataset_name}/Centroids-{solution_fileName}'\n",
    "    df_centroids.to_csv(gradient_fileName, index=False)    "
   ]
  },
  {
   "cell_type": "markdown",
   "id": "a4bffb3d-7db9-4de9-b451-ea42169bf376",
   "metadata": {},
   "source": [
    "---\n",
    "## Auto-Encoder Recontruction"
   ]
  },
  {
   "cell_type": "code",
   "execution_count": 75,
   "id": "1a564ca6-67af-43f6-ae9f-c8e8e38e4c11",
   "metadata": {},
   "outputs": [
    {
     "data": {
      "text/html": [
       "<div>\n",
       "<style scoped>\n",
       "    .dataframe tbody tr th:only-of-type {\n",
       "        vertical-align: middle;\n",
       "    }\n",
       "\n",
       "    .dataframe tbody tr th {\n",
       "        vertical-align: top;\n",
       "    }\n",
       "\n",
       "    .dataframe thead th {\n",
       "        text-align: right;\n",
       "    }\n",
       "</style>\n",
       "<table border=\"1\" class=\"dataframe\">\n",
       "  <thead>\n",
       "    <tr style=\"text-align: right;\">\n",
       "      <th></th>\n",
       "      <th>short_ID</th>\n",
       "      <th>window_ID</th>\n",
       "      <th>UMAP_V1</th>\n",
       "      <th>UMAP_V2</th>\n",
       "      <th>MSE</th>\n",
       "      <th>d1</th>\n",
       "      <th>d2</th>\n",
       "      <th>d3</th>\n",
       "      <th>d4</th>\n",
       "      <th>d5</th>\n",
       "      <th>...</th>\n",
       "      <th>d81</th>\n",
       "      <th>d82</th>\n",
       "      <th>d83</th>\n",
       "      <th>d84</th>\n",
       "      <th>d85</th>\n",
       "      <th>d86</th>\n",
       "      <th>d87</th>\n",
       "      <th>d88</th>\n",
       "      <th>d89</th>\n",
       "      <th>d90</th>\n",
       "    </tr>\n",
       "  </thead>\n",
       "  <tbody>\n",
       "    <tr>\n",
       "      <th>0</th>\n",
       "      <td>127</td>\n",
       "      <td>0</td>\n",
       "      <td>14.730165</td>\n",
       "      <td>14.922711</td>\n",
       "      <td>0.036224</td>\n",
       "      <td>0.551866</td>\n",
       "      <td>0.511525</td>\n",
       "      <td>0.418921</td>\n",
       "      <td>0.393570</td>\n",
       "      <td>0.376943</td>\n",
       "      <td>...</td>\n",
       "      <td>0.918718</td>\n",
       "      <td>0.906462</td>\n",
       "      <td>0.890662</td>\n",
       "      <td>0.858993</td>\n",
       "      <td>0.806989</td>\n",
       "      <td>0.740205</td>\n",
       "      <td>0.668449</td>\n",
       "      <td>0.601423</td>\n",
       "      <td>0.551958</td>\n",
       "      <td>0.541089</td>\n",
       "    </tr>\n",
       "    <tr>\n",
       "      <th>1</th>\n",
       "      <td>127</td>\n",
       "      <td>1</td>\n",
       "      <td>14.456367</td>\n",
       "      <td>15.064330</td>\n",
       "      <td>0.001781</td>\n",
       "      <td>0.511137</td>\n",
       "      <td>0.535627</td>\n",
       "      <td>0.456171</td>\n",
       "      <td>0.430780</td>\n",
       "      <td>0.399154</td>\n",
       "      <td>...</td>\n",
       "      <td>1.020759</td>\n",
       "      <td>0.995790</td>\n",
       "      <td>0.969248</td>\n",
       "      <td>0.935301</td>\n",
       "      <td>0.888822</td>\n",
       "      <td>0.829687</td>\n",
       "      <td>0.764942</td>\n",
       "      <td>0.704779</td>\n",
       "      <td>0.660446</td>\n",
       "      <td>0.643842</td>\n",
       "    </tr>\n",
       "    <tr>\n",
       "      <th>2</th>\n",
       "      <td>127</td>\n",
       "      <td>2</td>\n",
       "      <td>14.490791</td>\n",
       "      <td>14.844275</td>\n",
       "      <td>0.008751</td>\n",
       "      <td>0.540324</td>\n",
       "      <td>0.648341</td>\n",
       "      <td>0.572467</td>\n",
       "      <td>0.494882</td>\n",
       "      <td>0.453017</td>\n",
       "      <td>...</td>\n",
       "      <td>0.935303</td>\n",
       "      <td>0.903605</td>\n",
       "      <td>0.875646</td>\n",
       "      <td>0.850747</td>\n",
       "      <td>0.823421</td>\n",
       "      <td>0.788953</td>\n",
       "      <td>0.749272</td>\n",
       "      <td>0.711617</td>\n",
       "      <td>0.685288</td>\n",
       "      <td>0.679950</td>\n",
       "    </tr>\n",
       "    <tr>\n",
       "      <th>3</th>\n",
       "      <td>127</td>\n",
       "      <td>3</td>\n",
       "      <td>13.377369</td>\n",
       "      <td>15.922905</td>\n",
       "      <td>0.003819</td>\n",
       "      <td>0.503273</td>\n",
       "      <td>0.541258</td>\n",
       "      <td>0.460892</td>\n",
       "      <td>0.437429</td>\n",
       "      <td>0.392647</td>\n",
       "      <td>...</td>\n",
       "      <td>0.443012</td>\n",
       "      <td>0.411199</td>\n",
       "      <td>0.390286</td>\n",
       "      <td>0.376721</td>\n",
       "      <td>0.359625</td>\n",
       "      <td>0.327530</td>\n",
       "      <td>0.277821</td>\n",
       "      <td>0.214182</td>\n",
       "      <td>0.147162</td>\n",
       "      <td>0.123559</td>\n",
       "    </tr>\n",
       "    <tr>\n",
       "      <th>4</th>\n",
       "      <td>127</td>\n",
       "      <td>4</td>\n",
       "      <td>14.862516</td>\n",
       "      <td>16.851736</td>\n",
       "      <td>0.057101</td>\n",
       "      <td>1.141542</td>\n",
       "      <td>0.830329</td>\n",
       "      <td>0.652757</td>\n",
       "      <td>0.551421</td>\n",
       "      <td>0.494866</td>\n",
       "      <td>...</td>\n",
       "      <td>0.576964</td>\n",
       "      <td>0.515441</td>\n",
       "      <td>0.453450</td>\n",
       "      <td>0.377552</td>\n",
       "      <td>0.284933</td>\n",
       "      <td>0.226393</td>\n",
       "      <td>0.501658</td>\n",
       "      <td>1.006430</td>\n",
       "      <td>0.971729</td>\n",
       "      <td>0.888564</td>\n",
       "    </tr>\n",
       "  </tbody>\n",
       "</table>\n",
       "<p>5 rows × 95 columns</p>\n",
       "</div>"
      ],
      "text/plain": [
       "   short_ID  window_ID    UMAP_V1    UMAP_V2       MSE        d1        d2  \\\n",
       "0       127          0  14.730165  14.922711  0.036224  0.551866  0.511525   \n",
       "1       127          1  14.456367  15.064330  0.001781  0.511137  0.535627   \n",
       "2       127          2  14.490791  14.844275  0.008751  0.540324  0.648341   \n",
       "3       127          3  13.377369  15.922905  0.003819  0.503273  0.541258   \n",
       "4       127          4  14.862516  16.851736  0.057101  1.141542  0.830329   \n",
       "\n",
       "         d3        d4        d5  ...       d81       d82       d83       d84  \\\n",
       "0  0.418921  0.393570  0.376943  ...  0.918718  0.906462  0.890662  0.858993   \n",
       "1  0.456171  0.430780  0.399154  ...  1.020759  0.995790  0.969248  0.935301   \n",
       "2  0.572467  0.494882  0.453017  ...  0.935303  0.903605  0.875646  0.850747   \n",
       "3  0.460892  0.437429  0.392647  ...  0.443012  0.411199  0.390286  0.376721   \n",
       "4  0.652757  0.551421  0.494866  ...  0.576964  0.515441  0.453450  0.377552   \n",
       "\n",
       "        d85       d86       d87       d88       d89       d90  \n",
       "0  0.806989  0.740205  0.668449  0.601423  0.551958  0.541089  \n",
       "1  0.888822  0.829687  0.764942  0.704779  0.660446  0.643842  \n",
       "2  0.823421  0.788953  0.749272  0.711617  0.685288  0.679950  \n",
       "3  0.359625  0.327530  0.277821  0.214182  0.147162  0.123559  \n",
       "4  0.284933  0.226393  0.501658  1.006430  0.971729  0.888564  \n",
       "\n",
       "[5 rows x 95 columns]"
      ]
     },
     "execution_count": 75,
     "metadata": {},
     "output_type": "execute_result"
    }
   ],
   "source": [
    "df_reconstruct.head()"
   ]
  },
  {
   "cell_type": "markdown",
   "id": "a06ec571-7800-4c40-8675-d6b820f8fb3f",
   "metadata": {},
   "source": [
    "### Reconstructed Data"
   ]
  },
  {
   "cell_type": "code",
   "execution_count": 76,
   "id": "2b53873a-6281-4334-a967-5cc36411ae82",
   "metadata": {},
   "outputs": [
    {
     "data": {
      "text/html": [
       "<div>\n",
       "<style scoped>\n",
       "    .dataframe tbody tr th:only-of-type {\n",
       "        vertical-align: middle;\n",
       "    }\n",
       "\n",
       "    .dataframe tbody tr th {\n",
       "        vertical-align: top;\n",
       "    }\n",
       "\n",
       "    .dataframe thead th {\n",
       "        text-align: right;\n",
       "    }\n",
       "</style>\n",
       "<table border=\"1\" class=\"dataframe\">\n",
       "  <thead>\n",
       "    <tr style=\"text-align: right;\">\n",
       "      <th></th>\n",
       "      <th>short_ID</th>\n",
       "      <th>window_ID</th>\n",
       "      <th>window_start_date</th>\n",
       "      <th>d1</th>\n",
       "      <th>d2</th>\n",
       "      <th>d3</th>\n",
       "      <th>d4</th>\n",
       "      <th>d5</th>\n",
       "      <th>d6</th>\n",
       "      <th>d7</th>\n",
       "      <th>...</th>\n",
       "      <th>d81</th>\n",
       "      <th>d82</th>\n",
       "      <th>d83</th>\n",
       "      <th>d84</th>\n",
       "      <th>d85</th>\n",
       "      <th>d86</th>\n",
       "      <th>d87</th>\n",
       "      <th>d88</th>\n",
       "      <th>d89</th>\n",
       "      <th>d90</th>\n",
       "    </tr>\n",
       "  </thead>\n",
       "  <tbody>\n",
       "    <tr>\n",
       "      <th>0</th>\n",
       "      <td>127</td>\n",
       "      <td>0</td>\n",
       "      <td>2018-01-20</td>\n",
       "      <td>0.551866</td>\n",
       "      <td>0.511525</td>\n",
       "      <td>0.418921</td>\n",
       "      <td>0.393570</td>\n",
       "      <td>0.376943</td>\n",
       "      <td>0.354484</td>\n",
       "      <td>0.342850</td>\n",
       "      <td>...</td>\n",
       "      <td>0.918718</td>\n",
       "      <td>0.906462</td>\n",
       "      <td>0.890662</td>\n",
       "      <td>0.858993</td>\n",
       "      <td>0.806989</td>\n",
       "      <td>0.740205</td>\n",
       "      <td>0.668449</td>\n",
       "      <td>0.601423</td>\n",
       "      <td>0.551958</td>\n",
       "      <td>0.541089</td>\n",
       "    </tr>\n",
       "    <tr>\n",
       "      <th>1</th>\n",
       "      <td>127</td>\n",
       "      <td>1</td>\n",
       "      <td>2018-04-20</td>\n",
       "      <td>0.511137</td>\n",
       "      <td>0.535627</td>\n",
       "      <td>0.456171</td>\n",
       "      <td>0.430780</td>\n",
       "      <td>0.399154</td>\n",
       "      <td>0.356051</td>\n",
       "      <td>0.327404</td>\n",
       "      <td>...</td>\n",
       "      <td>1.020759</td>\n",
       "      <td>0.995790</td>\n",
       "      <td>0.969248</td>\n",
       "      <td>0.935301</td>\n",
       "      <td>0.888822</td>\n",
       "      <td>0.829687</td>\n",
       "      <td>0.764942</td>\n",
       "      <td>0.704779</td>\n",
       "      <td>0.660446</td>\n",
       "      <td>0.643842</td>\n",
       "    </tr>\n",
       "    <tr>\n",
       "      <th>2</th>\n",
       "      <td>127</td>\n",
       "      <td>2</td>\n",
       "      <td>2018-07-19</td>\n",
       "      <td>0.540324</td>\n",
       "      <td>0.648341</td>\n",
       "      <td>0.572467</td>\n",
       "      <td>0.494882</td>\n",
       "      <td>0.453017</td>\n",
       "      <td>0.394184</td>\n",
       "      <td>0.348231</td>\n",
       "      <td>...</td>\n",
       "      <td>0.935303</td>\n",
       "      <td>0.903605</td>\n",
       "      <td>0.875646</td>\n",
       "      <td>0.850747</td>\n",
       "      <td>0.823421</td>\n",
       "      <td>0.788953</td>\n",
       "      <td>0.749272</td>\n",
       "      <td>0.711617</td>\n",
       "      <td>0.685288</td>\n",
       "      <td>0.679950</td>\n",
       "    </tr>\n",
       "    <tr>\n",
       "      <th>3</th>\n",
       "      <td>127</td>\n",
       "      <td>3</td>\n",
       "      <td>2018-10-17</td>\n",
       "      <td>0.503273</td>\n",
       "      <td>0.541258</td>\n",
       "      <td>0.460892</td>\n",
       "      <td>0.437429</td>\n",
       "      <td>0.392647</td>\n",
       "      <td>0.366842</td>\n",
       "      <td>0.359645</td>\n",
       "      <td>...</td>\n",
       "      <td>0.443012</td>\n",
       "      <td>0.411199</td>\n",
       "      <td>0.390286</td>\n",
       "      <td>0.376721</td>\n",
       "      <td>0.359625</td>\n",
       "      <td>0.327530</td>\n",
       "      <td>0.277821</td>\n",
       "      <td>0.214182</td>\n",
       "      <td>0.147162</td>\n",
       "      <td>0.123559</td>\n",
       "    </tr>\n",
       "    <tr>\n",
       "      <th>4</th>\n",
       "      <td>127</td>\n",
       "      <td>4</td>\n",
       "      <td>2019-01-15</td>\n",
       "      <td>1.141542</td>\n",
       "      <td>0.830329</td>\n",
       "      <td>0.652757</td>\n",
       "      <td>0.551421</td>\n",
       "      <td>0.494866</td>\n",
       "      <td>0.487153</td>\n",
       "      <td>0.502427</td>\n",
       "      <td>...</td>\n",
       "      <td>0.576964</td>\n",
       "      <td>0.515441</td>\n",
       "      <td>0.453450</td>\n",
       "      <td>0.377552</td>\n",
       "      <td>0.284933</td>\n",
       "      <td>0.226393</td>\n",
       "      <td>0.501658</td>\n",
       "      <td>1.006430</td>\n",
       "      <td>0.971729</td>\n",
       "      <td>0.888564</td>\n",
       "    </tr>\n",
       "  </tbody>\n",
       "</table>\n",
       "<p>5 rows × 93 columns</p>\n",
       "</div>"
      ],
      "text/plain": [
       "   short_ID  window_ID window_start_date        d1        d2        d3  \\\n",
       "0       127          0        2018-01-20  0.551866  0.511525  0.418921   \n",
       "1       127          1        2018-04-20  0.511137  0.535627  0.456171   \n",
       "2       127          2        2018-07-19  0.540324  0.648341  0.572467   \n",
       "3       127          3        2018-10-17  0.503273  0.541258  0.460892   \n",
       "4       127          4        2019-01-15  1.141542  0.830329  0.652757   \n",
       "\n",
       "         d4        d5        d6        d7  ...       d81       d82       d83  \\\n",
       "0  0.393570  0.376943  0.354484  0.342850  ...  0.918718  0.906462  0.890662   \n",
       "1  0.430780  0.399154  0.356051  0.327404  ...  1.020759  0.995790  0.969248   \n",
       "2  0.494882  0.453017  0.394184  0.348231  ...  0.935303  0.903605  0.875646   \n",
       "3  0.437429  0.392647  0.366842  0.359645  ...  0.443012  0.411199  0.390286   \n",
       "4  0.551421  0.494866  0.487153  0.502427  ...  0.576964  0.515441  0.453450   \n",
       "\n",
       "        d84       d85       d86       d87       d88       d89       d90  \n",
       "0  0.858993  0.806989  0.740205  0.668449  0.601423  0.551958  0.541089  \n",
       "1  0.935301  0.888822  0.829687  0.764942  0.704779  0.660446  0.643842  \n",
       "2  0.850747  0.823421  0.788953  0.749272  0.711617  0.685288  0.679950  \n",
       "3  0.376721  0.359625  0.327530  0.277821  0.214182  0.147162  0.123559  \n",
       "4  0.377552  0.284933  0.226393  0.501658  1.006430  0.971729  0.888564  \n",
       "\n",
       "[5 rows x 93 columns]"
      ]
     },
     "execution_count": 76,
     "metadata": {},
     "output_type": "execute_result"
    }
   ],
   "source": [
    "df_reconstructed_data = pd.DataFrame()\n",
    "df_reconstructed_data[['short_ID', 'window_ID']] = df_reconstruct[['short_ID', 'window_ID']]\n",
    "df_reconstructed_data['window_start_date'] = Data['window_start_date']\n",
    "df_reconstructed_data[window_cols] = df_reconstruct[window_cols]\n",
    "df_reconstructed_data.head()"
   ]
  },
  {
   "cell_type": "code",
   "execution_count": 77,
   "id": "ef96b56f-1f3f-4535-aa51-f22ed342cad3",
   "metadata": {},
   "outputs": [],
   "source": [
    "if on_gradient == False:\n",
    "    os.makedirs(f'../ModelResults/AE_Reconstruction/Reconstructed_Data/{dataset_name}', exist_ok=True)  \n",
    "    df_reconstructed_data.to_csv(f'../ModelResults/AE_Reconstruction/Reconstructed_Data/{dataset_name}/{solution_fileName}', index=False)  \n",
    "else:\n",
    "    gradient_fileName = f'/notebooks/{dataset_name}/Reconstructed_Data-{solution_fileName}'\n",
    "    df_reconstructed_data.to_csv(gradient_fileName, index=False)        "
   ]
  },
  {
   "cell_type": "markdown",
   "id": "21334567-5ceb-43ab-b014-a8e6c10a99fe",
   "metadata": {},
   "source": [
    "### MSE"
   ]
  },
  {
   "cell_type": "code",
   "execution_count": 78,
   "id": "6e5630a7-38e6-469f-a73e-6f1a246b0ef7",
   "metadata": {},
   "outputs": [
    {
     "data": {
      "text/html": [
       "<div>\n",
       "<style scoped>\n",
       "    .dataframe tbody tr th:only-of-type {\n",
       "        vertical-align: middle;\n",
       "    }\n",
       "\n",
       "    .dataframe tbody tr th {\n",
       "        vertical-align: top;\n",
       "    }\n",
       "\n",
       "    .dataframe thead th {\n",
       "        text-align: right;\n",
       "    }\n",
       "</style>\n",
       "<table border=\"1\" class=\"dataframe\">\n",
       "  <thead>\n",
       "    <tr style=\"text-align: right;\">\n",
       "      <th></th>\n",
       "      <th>short_ID</th>\n",
       "      <th>window_ID</th>\n",
       "      <th>MSE</th>\n",
       "    </tr>\n",
       "  </thead>\n",
       "  <tbody>\n",
       "    <tr>\n",
       "      <th>0</th>\n",
       "      <td>127</td>\n",
       "      <td>0</td>\n",
       "      <td>0.036224</td>\n",
       "    </tr>\n",
       "    <tr>\n",
       "      <th>1</th>\n",
       "      <td>127</td>\n",
       "      <td>1</td>\n",
       "      <td>0.001781</td>\n",
       "    </tr>\n",
       "    <tr>\n",
       "      <th>2</th>\n",
       "      <td>127</td>\n",
       "      <td>2</td>\n",
       "      <td>0.008751</td>\n",
       "    </tr>\n",
       "    <tr>\n",
       "      <th>3</th>\n",
       "      <td>127</td>\n",
       "      <td>3</td>\n",
       "      <td>0.003819</td>\n",
       "    </tr>\n",
       "    <tr>\n",
       "      <th>4</th>\n",
       "      <td>127</td>\n",
       "      <td>4</td>\n",
       "      <td>0.057101</td>\n",
       "    </tr>\n",
       "  </tbody>\n",
       "</table>\n",
       "</div>"
      ],
      "text/plain": [
       "   short_ID  window_ID       MSE\n",
       "0       127          0  0.036224\n",
       "1       127          1  0.001781\n",
       "2       127          2  0.008751\n",
       "3       127          3  0.003819\n",
       "4       127          4  0.057101"
      ]
     },
     "execution_count": 78,
     "metadata": {},
     "output_type": "execute_result"
    }
   ],
   "source": [
    "df_mse = pd.DataFrame()\n",
    "df_mse[['short_ID', 'window_ID']] = df_reconstruct[['short_ID', 'window_ID']]\n",
    "df_mse['MSE'] = df_reconstruct['MSE']\n",
    "df_mse.head()"
   ]
  },
  {
   "cell_type": "code",
   "execution_count": 79,
   "id": "4cca44ae-024e-4f1a-82ab-2eccd7789aa1",
   "metadata": {},
   "outputs": [],
   "source": [
    "if on_gradient == False:\n",
    "    os.makedirs(f'../ModelResults/AE_Reconstruction/MSE/{dataset_name}', exist_ok=True)  \n",
    "    df_mse.to_csv(f'../ModelResults/AE_Reconstruction/MSE/{dataset_name}/{solution_fileName}', index=False)  \n",
    "else:\n",
    "    gradient_fileName = f'/notebooks/{dataset_name}/MSE-{solution_fileName}'\n",
    "    df_mse.to_csv(gradient_fileName, index=False)        "
   ]
  }
 ],
 "metadata": {
  "kernelspec": {
   "display_name": "Python 3 (ipykernel)",
   "language": "python",
   "name": "python3"
  },
  "language_info": {
   "codemirror_mode": {
    "name": "ipython",
    "version": 3
   },
   "file_extension": ".py",
   "mimetype": "text/x-python",
   "name": "python",
   "nbconvert_exporter": "python",
   "pygments_lexer": "ipython3",
   "version": "3.9.15"
  }
 },
 "nbformat": 4,
 "nbformat_minor": 5
}
