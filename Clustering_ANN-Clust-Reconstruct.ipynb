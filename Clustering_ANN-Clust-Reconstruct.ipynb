{
 "cells": [
  {
   "cell_type": "markdown",
   "id": "24a40a92-afe1-4cc1-9412-9a18fdac6c1d",
   "metadata": {},
   "source": [
    "# Clustering Solution Generator\n",
    "### $Time$ $Series$ $4th$ $Test$\n",
    "\n",
    "$Vasco$ $Mergulhão$ $-$ $April$ $2023$\n",
    "\n",
    "### Version 1:\n",
    "This script loads a model and outputs a CSV ready to be analysed on the Dashboard"
   ]
  },
  {
   "cell_type": "code",
   "execution_count": 188,
   "id": "5f75a73b-02c6-4cc7-86e5-b97cebb2ea0c",
   "metadata": {},
   "outputs": [],
   "source": [
    "import os  \n",
    "\n",
    "import pandas as pd\n",
    "import numpy as np\n",
    "import matplotlib.pyplot as plt\n",
    "from itertools import groupby\n",
    "from datetime import timedelta, date\n",
    "import plotly.graph_objects as go\n",
    "import scipy\n",
    "import math\n",
    "from sklearn.cluster import KMeans\n",
    "\n",
    "import random\n",
    "\n",
    "import time\n",
    "import datetime\n",
    "\n",
    "import umap # UMAP library is responsible for ipywidgets warning!\n",
    "\n",
    "import tensorflow as tf\n",
    "from tensorflow import keras\n",
    "from keras import models\n",
    "\n",
    "import wandb\n",
    "from wandb.keras import WandbCallback\n",
    "\n",
    "import Transform"
   ]
  },
  {
   "cell_type": "code",
   "execution_count": 189,
   "id": "e1ddf4cb-7e90-4bf3-95dc-08d2ed0710c5",
   "metadata": {},
   "outputs": [],
   "source": [
    "# Set Random Seeds\n",
    "os.environ['TF_CUDNN_DETERMINISTIC'] = '1'\n",
    "random.seed(42)\n",
    "np.random.seed(42)\n",
    "tf.random.set_seed(42)"
   ]
  },
  {
   "cell_type": "markdown",
   "id": "f608df01-2742-4595-9579-731e32617de3",
   "metadata": {},
   "source": [
    "---\n",
    "# Script Variables"
   ]
  },
  {
   "cell_type": "code",
   "execution_count": 190,
   "id": "3abc4438-3888-4999-bbbd-b8cbcbc5fc6d",
   "metadata": {},
   "outputs": [],
   "source": [
    "# MANUAL INPUTS\n",
    "# MAKE SURE THEY ARE CORRECT\n",
    "# Everything else is automated\n",
    "dataset_name = 'Kenya_90k_Set_1_w90_pW'\n",
    "Model_Name = 'LSTM_AE' # Options: FC_N2D, LSTM_AE, CNN_AE, CNN_ConvEmb\n",
    "solution_name = 'efficient-sweep-2:v49'\n",
    "\n",
    "# This loads model by name.\n",
    "# Identify the best model by navigating the WandB Sweeps page.\n",
    "# Find link to best model (and version)  in Artifacts -> Usage, and copy directory.\n",
    "# .pb format is only accepted by Tensorflow, NOT Keras.\n",
    "##############################################################################\n",
    "\n"
   ]
  },
  {
   "cell_type": "code",
   "execution_count": 191,
   "id": "b2415bb2-576d-431f-9e79-6055d3424bf8",
   "metadata": {},
   "outputs": [],
   "source": [
    "# Uses name to navigate folders\n",
    "window_cols, window_len = Transform.retrive_window_col_names(dataset_name)\n",
    "dataset_folder = \"_\".join(dataset_name.split('_')[:-2]) \n",
    "dataset_location = f'../Data_Storage_Processing/Data/{dataset_folder}/{dataset_name}.csv'\n",
    "\n",
    "\n",
    "# Project Name\n",
    "scaler_dict = {'Orig':'OriginalScale',\n",
    "               'pW':'pWindow',\n",
    "               'G':'Gobal'}\n",
    "dataset_name_base = \"_\".join(dataset_name.split('_')[:-1])\n",
    "scaler_used = dataset_name.split('_')[-1]\n",
    "\n",
    "Project_Name = f'DeepClust--{dataset_name_base}--{scaler_dict[scaler_used]}'"
   ]
  },
  {
   "cell_type": "markdown",
   "id": "03c2eda3-3535-4a55-b4b7-87a86570baa2",
   "metadata": {
    "tags": []
   },
   "source": [
    "---\n",
    "# Data Imports"
   ]
  },
  {
   "cell_type": "code",
   "execution_count": 192,
   "id": "0a1cc872-de0e-48b7-b201-9d554065c6b8",
   "metadata": {},
   "outputs": [],
   "source": [
    "Data = pd.read_csv(dataset_location)"
   ]
  },
  {
   "cell_type": "code",
   "execution_count": 193,
   "id": "37f28e58-b3f3-4e7d-9a72-b4aa9be14a1c",
   "metadata": {},
   "outputs": [],
   "source": [
    "Data = Data[:1000]"
   ]
  },
  {
   "cell_type": "code",
   "execution_count": 194,
   "id": "206a7a76-b4cd-4ac2-bbf5-9735e2649c09",
   "metadata": {},
   "outputs": [
    {
     "data": {
      "text/html": [
       "<div>\n",
       "<style scoped>\n",
       "    .dataframe tbody tr th:only-of-type {\n",
       "        vertical-align: middle;\n",
       "    }\n",
       "\n",
       "    .dataframe tbody tr th {\n",
       "        vertical-align: top;\n",
       "    }\n",
       "\n",
       "    .dataframe thead th {\n",
       "        text-align: right;\n",
       "    }\n",
       "</style>\n",
       "<table border=\"1\" class=\"dataframe\">\n",
       "  <thead>\n",
       "    <tr style=\"text-align: right;\">\n",
       "      <th></th>\n",
       "      <th>short_ID</th>\n",
       "      <th>window_ID</th>\n",
       "      <th>window_start_date</th>\n",
       "      <th>d1</th>\n",
       "      <th>d2</th>\n",
       "      <th>d3</th>\n",
       "      <th>d4</th>\n",
       "      <th>d5</th>\n",
       "      <th>d6</th>\n",
       "      <th>d7</th>\n",
       "      <th>...</th>\n",
       "      <th>d81</th>\n",
       "      <th>d82</th>\n",
       "      <th>d83</th>\n",
       "      <th>d84</th>\n",
       "      <th>d85</th>\n",
       "      <th>d86</th>\n",
       "      <th>d87</th>\n",
       "      <th>d88</th>\n",
       "      <th>d89</th>\n",
       "      <th>d90</th>\n",
       "    </tr>\n",
       "  </thead>\n",
       "  <tbody>\n",
       "    <tr>\n",
       "      <th>0</th>\n",
       "      <td>127</td>\n",
       "      <td>0</td>\n",
       "      <td>2018-01-20</td>\n",
       "      <td>0.543805</td>\n",
       "      <td>0.503693</td>\n",
       "      <td>0.463580</td>\n",
       "      <td>0.423467</td>\n",
       "      <td>0.383355</td>\n",
       "      <td>0.343242</td>\n",
       "      <td>0.303129</td>\n",
       "      <td>...</td>\n",
       "      <td>0.906409</td>\n",
       "      <td>0.904819</td>\n",
       "      <td>0.864707</td>\n",
       "      <td>0.786444</td>\n",
       "      <td>0.784481</td>\n",
       "      <td>0.706456</td>\n",
       "      <td>0.666459</td>\n",
       "      <td>0.626384</td>\n",
       "      <td>0.586360</td>\n",
       "      <td>0.583918</td>\n",
       "    </tr>\n",
       "    <tr>\n",
       "      <th>1</th>\n",
       "      <td>127</td>\n",
       "      <td>1</td>\n",
       "      <td>2018-04-20</td>\n",
       "      <td>0.525359</td>\n",
       "      <td>0.522565</td>\n",
       "      <td>0.480950</td>\n",
       "      <td>0.439334</td>\n",
       "      <td>0.397718</td>\n",
       "      <td>0.317612</td>\n",
       "      <td>0.314487</td>\n",
       "      <td>...</td>\n",
       "      <td>1.019053</td>\n",
       "      <td>0.977438</td>\n",
       "      <td>0.935822</td>\n",
       "      <td>0.894206</td>\n",
       "      <td>0.852591</td>\n",
       "      <td>0.810975</td>\n",
       "      <td>0.769359</td>\n",
       "      <td>0.727744</td>\n",
       "      <td>0.686128</td>\n",
       "      <td>0.644512</td>\n",
       "    </tr>\n",
       "    <tr>\n",
       "      <th>2</th>\n",
       "      <td>127</td>\n",
       "      <td>2</td>\n",
       "      <td>2018-07-19</td>\n",
       "      <td>0.651208</td>\n",
       "      <td>0.606258</td>\n",
       "      <td>0.561307</td>\n",
       "      <td>0.516357</td>\n",
       "      <td>0.471407</td>\n",
       "      <td>0.426456</td>\n",
       "      <td>0.381506</td>\n",
       "      <td>...</td>\n",
       "      <td>1.013146</td>\n",
       "      <td>0.968196</td>\n",
       "      <td>0.923246</td>\n",
       "      <td>0.878295</td>\n",
       "      <td>0.833345</td>\n",
       "      <td>0.788395</td>\n",
       "      <td>0.743444</td>\n",
       "      <td>0.698494</td>\n",
       "      <td>0.653543</td>\n",
       "      <td>0.608593</td>\n",
       "    </tr>\n",
       "    <tr>\n",
       "      <th>3</th>\n",
       "      <td>127</td>\n",
       "      <td>3</td>\n",
       "      <td>2018-10-17</td>\n",
       "      <td>0.594276</td>\n",
       "      <td>0.546883</td>\n",
       "      <td>0.499489</td>\n",
       "      <td>0.452096</td>\n",
       "      <td>0.404703</td>\n",
       "      <td>0.357309</td>\n",
       "      <td>0.309916</td>\n",
       "      <td>...</td>\n",
       "      <td>0.499489</td>\n",
       "      <td>0.452096</td>\n",
       "      <td>0.404703</td>\n",
       "      <td>0.357309</td>\n",
       "      <td>0.309916</td>\n",
       "      <td>0.262522</td>\n",
       "      <td>0.215129</td>\n",
       "      <td>0.167736</td>\n",
       "      <td>0.120342</td>\n",
       "      <td>0.072949</td>\n",
       "    </tr>\n",
       "    <tr>\n",
       "      <th>4</th>\n",
       "      <td>127</td>\n",
       "      <td>4</td>\n",
       "      <td>2019-01-15</td>\n",
       "      <td>0.953922</td>\n",
       "      <td>0.853922</td>\n",
       "      <td>0.753922</td>\n",
       "      <td>0.653922</td>\n",
       "      <td>0.553922</td>\n",
       "      <td>0.453922</td>\n",
       "      <td>0.353922</td>\n",
       "      <td>...</td>\n",
       "      <td>0.453922</td>\n",
       "      <td>0.353922</td>\n",
       "      <td>0.253922</td>\n",
       "      <td>0.153922</td>\n",
       "      <td>0.753922</td>\n",
       "      <td>0.653922</td>\n",
       "      <td>0.553922</td>\n",
       "      <td>0.453922</td>\n",
       "      <td>0.353922</td>\n",
       "      <td>2.000000</td>\n",
       "    </tr>\n",
       "  </tbody>\n",
       "</table>\n",
       "<p>5 rows × 93 columns</p>\n",
       "</div>"
      ],
      "text/plain": [
       "   short_ID  window_ID window_start_date        d1        d2        d3  \\\n",
       "0       127          0        2018-01-20  0.543805  0.503693  0.463580   \n",
       "1       127          1        2018-04-20  0.525359  0.522565  0.480950   \n",
       "2       127          2        2018-07-19  0.651208  0.606258  0.561307   \n",
       "3       127          3        2018-10-17  0.594276  0.546883  0.499489   \n",
       "4       127          4        2019-01-15  0.953922  0.853922  0.753922   \n",
       "\n",
       "         d4        d5        d6        d7  ...       d81       d82       d83  \\\n",
       "0  0.423467  0.383355  0.343242  0.303129  ...  0.906409  0.904819  0.864707   \n",
       "1  0.439334  0.397718  0.317612  0.314487  ...  1.019053  0.977438  0.935822   \n",
       "2  0.516357  0.471407  0.426456  0.381506  ...  1.013146  0.968196  0.923246   \n",
       "3  0.452096  0.404703  0.357309  0.309916  ...  0.499489  0.452096  0.404703   \n",
       "4  0.653922  0.553922  0.453922  0.353922  ...  0.453922  0.353922  0.253922   \n",
       "\n",
       "        d84       d85       d86       d87       d88       d89       d90  \n",
       "0  0.786444  0.784481  0.706456  0.666459  0.626384  0.586360  0.583918  \n",
       "1  0.894206  0.852591  0.810975  0.769359  0.727744  0.686128  0.644512  \n",
       "2  0.878295  0.833345  0.788395  0.743444  0.698494  0.653543  0.608593  \n",
       "3  0.357309  0.309916  0.262522  0.215129  0.167736  0.120342  0.072949  \n",
       "4  0.153922  0.753922  0.653922  0.553922  0.453922  0.353922  2.000000  \n",
       "\n",
       "[5 rows x 93 columns]"
      ]
     },
     "execution_count": 194,
     "metadata": {},
     "output_type": "execute_result"
    }
   ],
   "source": [
    "Data.head()"
   ]
  },
  {
   "cell_type": "markdown",
   "id": "1f73cc33-99f0-4f75-9591-4c8383566bf7",
   "metadata": {},
   "source": [
    "## Reshaping Data"
   ]
  },
  {
   "cell_type": "code",
   "execution_count": 195,
   "id": "104f3a32-06bb-49d3-8613-59e5bda5da9f",
   "metadata": {},
   "outputs": [],
   "source": [
    "if Model_Name == 'FC_N2D':\n",
    "    predict_data =  Data[window_cols].to_numpy()\n",
    "else:\n",
    "    predict_data =  Data[window_cols].to_numpy().reshape(-1, window_len, 1)"
   ]
  },
  {
   "cell_type": "code",
   "execution_count": 196,
   "id": "543b9260-d5ee-414c-9dea-81ddb5360106",
   "metadata": {},
   "outputs": [
    {
     "data": {
      "text/plain": [
       "(1000, 90, 1)"
      ]
     },
     "execution_count": 196,
     "metadata": {},
     "output_type": "execute_result"
    }
   ],
   "source": [
    "predict_data.shape"
   ]
  },
  {
   "cell_type": "markdown",
   "id": "e9418b97-d49a-4f38-96ec-cdb821c173a9",
   "metadata": {},
   "source": [
    "---\n",
    "---\n",
    "# Loading Model"
   ]
  },
  {
   "cell_type": "code",
   "execution_count": 197,
   "id": "c4d07c57-4cf1-45b2-84ab-27abf8f8f1bf",
   "metadata": {
    "tags": []
   },
   "outputs": [
    {
     "data": {
      "text/html": [
       "wandb version 0.14.0 is available!  To upgrade, please run:\n",
       " $ pip install wandb --upgrade"
      ],
      "text/plain": [
       "<IPython.core.display.HTML object>"
      ]
     },
     "metadata": {},
     "output_type": "display_data"
    },
    {
     "data": {
      "text/html": [
       "Tracking run with wandb version 0.13.6"
      ],
      "text/plain": [
       "<IPython.core.display.HTML object>"
      ]
     },
     "metadata": {},
     "output_type": "display_data"
    },
    {
     "data": {
      "text/html": [
       "Run data is saved locally in <code>C:\\Users\\ucesvpm\\OneDrive - University College London\\PhD Project\\Data Analytics\\Time Series Clustering\\Time Series Clustering\\SHS-DeepClustering\\wandb\\run-20230405_161027-1e4fisog</code>"
      ],
      "text/plain": [
       "<IPython.core.display.HTML object>"
      ]
     },
     "metadata": {},
     "output_type": "display_data"
    },
    {
     "data": {
      "text/html": [
       "Syncing run <strong><a href=\"https://wandb.ai/vasco-phd/SHS-DeepClustering/runs/1e4fisog\" target=\"_blank\">changeling-daedalus-4</a></strong> to <a href=\"https://wandb.ai/vasco-phd/SHS-DeepClustering\" target=\"_blank\">Weights & Biases</a> (<a href=\"https://wandb.me/run\" target=\"_blank\">docs</a>)<br/>"
      ],
      "text/plain": [
       "<IPython.core.display.HTML object>"
      ]
     },
     "metadata": {},
     "output_type": "display_data"
    },
    {
     "name": "stderr",
     "output_type": "stream",
     "text": [
      "\u001b[34m\u001b[1mwandb\u001b[0m:   4 of 4 files downloaded.  \n"
     ]
    },
    {
     "data": {
      "text/html": [
       "Waiting for W&B process to finish... <strong style=\"color:green\">(success).</strong>"
      ],
      "text/plain": [
       "<IPython.core.display.HTML object>"
      ]
     },
     "metadata": {},
     "output_type": "display_data"
    },
    {
     "data": {
      "text/html": [
       "Synced <strong style=\"color:#cdcd00\">changeling-daedalus-4</strong>: <a href=\"https://wandb.ai/vasco-phd/SHS-DeepClustering/runs/1e4fisog\" target=\"_blank\">https://wandb.ai/vasco-phd/SHS-DeepClustering/runs/1e4fisog</a><br/>Synced 6 W&B file(s), 0 media file(s), 0 artifact file(s) and 0 other file(s)"
      ],
      "text/plain": [
       "<IPython.core.display.HTML object>"
      ]
     },
     "metadata": {},
     "output_type": "display_data"
    },
    {
     "data": {
      "text/html": [
       "Find logs at: <code>.\\wandb\\run-20230405_161027-1e4fisog\\logs</code>"
      ],
      "text/plain": [
       "<IPython.core.display.HTML object>"
      ]
     },
     "metadata": {},
     "output_type": "display_data"
    }
   ],
   "source": [
    "run = wandb.init()\n",
    "model_artifact = run.use_artifact(f'vasco-phd/{Project_Name}/model-{solution_name}', type='model')\n",
    "model_dir = model_artifact.download()\n",
    "# local_model_dir = 'C:/Users/ucesvpm/OneDrive - University College London/PhD Project/Data Analytics/Time Series Clustering/Second Test/wandb/run-20221213_173041-jc918077'\n",
    "loaded_autoencoder = tf.keras.models.load_model(model_dir)\n",
    "run.finish()"
   ]
  },
  {
   "cell_type": "code",
   "execution_count": 198,
   "id": "44ca30ce-2541-4971-8c2c-a98bad403084",
   "metadata": {},
   "outputs": [
    {
     "name": "stdout",
     "output_type": "stream",
     "text": [
      "Model: \"LSTM_AE\"\n",
      "_________________________________________________________________\n",
      " Layer (type)                Output Shape              Param #   \n",
      "=================================================================\n",
      " input_1 (InputLayer)        [(None, 90, 1)]           0         \n",
      "                                                                 \n",
      " Encoder (LSTM)              (None, 90, 100)           40800     \n",
      "                                                                 \n",
      " Lantent_Space (LSTM)        (None, 25)                12600     \n",
      "                                                                 \n",
      " Reshape_Embeding (RepeatVec  (None, 90, 25)           0         \n",
      " tor)                                                            \n",
      "                                                                 \n",
      " Decoder_1 (LSTM)            (None, 90, 25)            5100      \n",
      "                                                                 \n",
      " Decoder_2 (LSTM)            (None, 90, 100)           50400     \n",
      "                                                                 \n",
      " Reshape_Output (TimeDistrib  (None, 90, 1)            101       \n",
      " uted)                                                           \n",
      "                                                                 \n",
      "=================================================================\n",
      "Total params: 109,001\n",
      "Trainable params: 109,001\n",
      "Non-trainable params: 0\n",
      "_________________________________________________________________\n"
     ]
    }
   ],
   "source": [
    "loaded_autoencoder.summary()"
   ]
  },
  {
   "cell_type": "code",
   "execution_count": 199,
   "id": "117e45ed-f95a-4018-b31b-bcc0f3adb914",
   "metadata": {},
   "outputs": [
    {
     "name": "stdout",
     "output_type": "stream",
     "text": [
      "Model: \"LSTM_AE_encoder\"\n",
      "_________________________________________________________________\n",
      " Layer (type)                Output Shape              Param #   \n",
      "=================================================================\n",
      " input_1 (InputLayer)        [(None, 90, 1)]           0         \n",
      "                                                                 \n",
      " Encoder (LSTM)              (None, 90, 100)           40800     \n",
      "                                                                 \n",
      " Lantent_Space (LSTM)        (None, 25)                12600     \n",
      "                                                                 \n",
      "=================================================================\n",
      "Total params: 53,400\n",
      "Trainable params: 53,400\n",
      "Non-trainable params: 0\n",
      "_________________________________________________________________\n"
     ]
    }
   ],
   "source": [
    "# bottleneck model\n",
    "encoder_output = loaded_autoencoder.get_layer('Lantent_Space').output\n",
    "encoder = models.Model(inputs = loaded_autoencoder.input, outputs = encoder_output, name = f'{Model_Name}_encoder')\n",
    "encoder.summary()"
   ]
  },
  {
   "cell_type": "markdown",
   "id": "c072ef8f-0032-4215-a400-d1ba68d9fbe6",
   "metadata": {},
   "source": [
    "---\n",
    "# Saving Encoder"
   ]
  },
  {
   "cell_type": "code",
   "execution_count": 200,
   "id": "549440bb-6cb4-4943-9044-4d00d0b1e1dd",
   "metadata": {},
   "outputs": [],
   "source": [
    "solution_fileName = solution_name.replace(\":\", \"-\" ).replace(\"-\", \"_\" )\n",
    "Encoder_Name = f'{Model_Name}-{solution_fileName}'\n",
    "# encoder.save(f'SavedModels/{Encoder_Name}')"
   ]
  },
  {
   "cell_type": "markdown",
   "id": "a72b5def-8995-4d4e-a178-bcd08fe39219",
   "metadata": {
    "tags": []
   },
   "source": [
    "---\n",
    "#  Reconstruction Error"
   ]
  },
  {
   "cell_type": "code",
   "execution_count": 201,
   "id": "4743c1fd-8128-490c-8514-2b413dc75b7e",
   "metadata": {},
   "outputs": [
    {
     "name": "stdout",
     "output_type": "stream",
     "text": [
      "32/32 [==============================] - 3s 44ms/step\n"
     ]
    }
   ],
   "source": [
    "# Calculates the RModelontruction Profiles (Predictions)\n",
    "reconstruct_data = loaded_autoencoder.predict(predict_data)"
   ]
  },
  {
   "cell_type": "code",
   "execution_count": 202,
   "id": "9b6522ca-0ad5-48c6-a2ad-562277ae0a85",
   "metadata": {},
   "outputs": [],
   "source": [
    "# Saves the Reconstructect windows\n",
    "df_reconstruct = Data[['short_ID', 'window_ID']].copy(deep=True)\n",
    "if Model_Name == 'FC_N2D':\n",
    "    df_reconstruct[window_cols] = reconstruct_data\n",
    "else:\n",
    "    df_reconstruct[window_cols] = reconstruct_data.reshape(-1, window_len)"
   ]
  },
  {
   "cell_type": "code",
   "execution_count": 203,
   "id": "2cbaaa0b-93da-4881-a626-6ed9ca304582",
   "metadata": {},
   "outputs": [],
   "source": [
    "# Calculating MSE per window\n",
    "MSE = tf.keras.losses.MeanSquaredError(reduction='none')\n",
    "if Model_Name == 'FC_N2D':\n",
    "    MSE_values = MSE(predict_data, reconstruct_data).numpy()\n",
    "else:\n",
    "    MSE_values = MSE(predict_data.reshape(-1, window_len), reconstruct_data.reshape(-1, window_len)).numpy()\n",
    "#Adding to reconstructed dataframe\n",
    "df_reconstruct.insert(loc=2, column='MSE', value=MSE_values)"
   ]
  },
  {
   "cell_type": "code",
   "execution_count": 204,
   "id": "e15733b3-8802-45f4-86cc-873fb6f48f03",
   "metadata": {},
   "outputs": [
    {
     "data": {
      "text/html": [
       "<div>\n",
       "<style scoped>\n",
       "    .dataframe tbody tr th:only-of-type {\n",
       "        vertical-align: middle;\n",
       "    }\n",
       "\n",
       "    .dataframe tbody tr th {\n",
       "        vertical-align: top;\n",
       "    }\n",
       "\n",
       "    .dataframe thead th {\n",
       "        text-align: right;\n",
       "    }\n",
       "</style>\n",
       "<table border=\"1\" class=\"dataframe\">\n",
       "  <thead>\n",
       "    <tr style=\"text-align: right;\">\n",
       "      <th></th>\n",
       "      <th>short_ID</th>\n",
       "      <th>window_ID</th>\n",
       "      <th>MSE</th>\n",
       "      <th>d1</th>\n",
       "      <th>d2</th>\n",
       "      <th>d3</th>\n",
       "      <th>d4</th>\n",
       "      <th>d5</th>\n",
       "      <th>d6</th>\n",
       "      <th>d7</th>\n",
       "      <th>...</th>\n",
       "      <th>d81</th>\n",
       "      <th>d82</th>\n",
       "      <th>d83</th>\n",
       "      <th>d84</th>\n",
       "      <th>d85</th>\n",
       "      <th>d86</th>\n",
       "      <th>d87</th>\n",
       "      <th>d88</th>\n",
       "      <th>d89</th>\n",
       "      <th>d90</th>\n",
       "    </tr>\n",
       "  </thead>\n",
       "  <tbody>\n",
       "    <tr>\n",
       "      <th>0</th>\n",
       "      <td>127</td>\n",
       "      <td>0</td>\n",
       "      <td>0.036224</td>\n",
       "      <td>0.551866</td>\n",
       "      <td>0.511525</td>\n",
       "      <td>0.418921</td>\n",
       "      <td>0.393570</td>\n",
       "      <td>0.376943</td>\n",
       "      <td>0.354484</td>\n",
       "      <td>0.342850</td>\n",
       "      <td>...</td>\n",
       "      <td>0.918718</td>\n",
       "      <td>0.906462</td>\n",
       "      <td>0.890662</td>\n",
       "      <td>0.858993</td>\n",
       "      <td>0.806989</td>\n",
       "      <td>0.740205</td>\n",
       "      <td>0.668449</td>\n",
       "      <td>0.601423</td>\n",
       "      <td>0.551958</td>\n",
       "      <td>0.541089</td>\n",
       "    </tr>\n",
       "    <tr>\n",
       "      <th>1</th>\n",
       "      <td>127</td>\n",
       "      <td>1</td>\n",
       "      <td>0.001781</td>\n",
       "      <td>0.511137</td>\n",
       "      <td>0.535627</td>\n",
       "      <td>0.456171</td>\n",
       "      <td>0.430780</td>\n",
       "      <td>0.399154</td>\n",
       "      <td>0.356051</td>\n",
       "      <td>0.327404</td>\n",
       "      <td>...</td>\n",
       "      <td>1.020759</td>\n",
       "      <td>0.995790</td>\n",
       "      <td>0.969248</td>\n",
       "      <td>0.935301</td>\n",
       "      <td>0.888822</td>\n",
       "      <td>0.829687</td>\n",
       "      <td>0.764942</td>\n",
       "      <td>0.704779</td>\n",
       "      <td>0.660446</td>\n",
       "      <td>0.643842</td>\n",
       "    </tr>\n",
       "    <tr>\n",
       "      <th>2</th>\n",
       "      <td>127</td>\n",
       "      <td>2</td>\n",
       "      <td>0.008751</td>\n",
       "      <td>0.540324</td>\n",
       "      <td>0.648341</td>\n",
       "      <td>0.572467</td>\n",
       "      <td>0.494882</td>\n",
       "      <td>0.453017</td>\n",
       "      <td>0.394184</td>\n",
       "      <td>0.348231</td>\n",
       "      <td>...</td>\n",
       "      <td>0.935303</td>\n",
       "      <td>0.903605</td>\n",
       "      <td>0.875646</td>\n",
       "      <td>0.850747</td>\n",
       "      <td>0.823421</td>\n",
       "      <td>0.788953</td>\n",
       "      <td>0.749272</td>\n",
       "      <td>0.711617</td>\n",
       "      <td>0.685288</td>\n",
       "      <td>0.679950</td>\n",
       "    </tr>\n",
       "    <tr>\n",
       "      <th>3</th>\n",
       "      <td>127</td>\n",
       "      <td>3</td>\n",
       "      <td>0.003819</td>\n",
       "      <td>0.503273</td>\n",
       "      <td>0.541258</td>\n",
       "      <td>0.460892</td>\n",
       "      <td>0.437429</td>\n",
       "      <td>0.392647</td>\n",
       "      <td>0.366842</td>\n",
       "      <td>0.359645</td>\n",
       "      <td>...</td>\n",
       "      <td>0.443012</td>\n",
       "      <td>0.411199</td>\n",
       "      <td>0.390286</td>\n",
       "      <td>0.376721</td>\n",
       "      <td>0.359625</td>\n",
       "      <td>0.327530</td>\n",
       "      <td>0.277821</td>\n",
       "      <td>0.214182</td>\n",
       "      <td>0.147162</td>\n",
       "      <td>0.123559</td>\n",
       "    </tr>\n",
       "    <tr>\n",
       "      <th>4</th>\n",
       "      <td>127</td>\n",
       "      <td>4</td>\n",
       "      <td>0.057101</td>\n",
       "      <td>1.141542</td>\n",
       "      <td>0.830329</td>\n",
       "      <td>0.652757</td>\n",
       "      <td>0.551421</td>\n",
       "      <td>0.494866</td>\n",
       "      <td>0.487153</td>\n",
       "      <td>0.502427</td>\n",
       "      <td>...</td>\n",
       "      <td>0.576964</td>\n",
       "      <td>0.515441</td>\n",
       "      <td>0.453450</td>\n",
       "      <td>0.377552</td>\n",
       "      <td>0.284933</td>\n",
       "      <td>0.226393</td>\n",
       "      <td>0.501658</td>\n",
       "      <td>1.006430</td>\n",
       "      <td>0.971729</td>\n",
       "      <td>0.888564</td>\n",
       "    </tr>\n",
       "  </tbody>\n",
       "</table>\n",
       "<p>5 rows × 93 columns</p>\n",
       "</div>"
      ],
      "text/plain": [
       "   short_ID  window_ID       MSE        d1        d2        d3        d4  \\\n",
       "0       127          0  0.036224  0.551866  0.511525  0.418921  0.393570   \n",
       "1       127          1  0.001781  0.511137  0.535627  0.456171  0.430780   \n",
       "2       127          2  0.008751  0.540324  0.648341  0.572467  0.494882   \n",
       "3       127          3  0.003819  0.503273  0.541258  0.460892  0.437429   \n",
       "4       127          4  0.057101  1.141542  0.830329  0.652757  0.551421   \n",
       "\n",
       "         d5        d6        d7  ...       d81       d82       d83       d84  \\\n",
       "0  0.376943  0.354484  0.342850  ...  0.918718  0.906462  0.890662  0.858993   \n",
       "1  0.399154  0.356051  0.327404  ...  1.020759  0.995790  0.969248  0.935301   \n",
       "2  0.453017  0.394184  0.348231  ...  0.935303  0.903605  0.875646  0.850747   \n",
       "3  0.392647  0.366842  0.359645  ...  0.443012  0.411199  0.390286  0.376721   \n",
       "4  0.494866  0.487153  0.502427  ...  0.576964  0.515441  0.453450  0.377552   \n",
       "\n",
       "        d85       d86       d87       d88       d89       d90  \n",
       "0  0.806989  0.740205  0.668449  0.601423  0.551958  0.541089  \n",
       "1  0.888822  0.829687  0.764942  0.704779  0.660446  0.643842  \n",
       "2  0.823421  0.788953  0.749272  0.711617  0.685288  0.679950  \n",
       "3  0.359625  0.327530  0.277821  0.214182  0.147162  0.123559  \n",
       "4  0.284933  0.226393  0.501658  1.006430  0.971729  0.888564  \n",
       "\n",
       "[5 rows x 93 columns]"
      ]
     },
     "execution_count": 204,
     "metadata": {},
     "output_type": "execute_result"
    }
   ],
   "source": [
    "df_reconstruct.head()"
   ]
  },
  {
   "cell_type": "markdown",
   "id": "28a859f9-18b0-4f90-9a5d-360802f37eda",
   "metadata": {},
   "source": [
    "---\n",
    "---\n",
    "# 2D UMAP"
   ]
  },
  {
   "cell_type": "code",
   "execution_count": 205,
   "id": "5ed34355-0a57-401c-9f2b-a5a162c199b8",
   "metadata": {},
   "outputs": [],
   "source": [
    "def UMAP_funct (data, dims = 2, mode = 'visualisation'):\n",
    "    # this function allows you to switch from the settings optimazed from visualisation to clustering more easily\n",
    "    start_time = time.time()\n",
    "    if mode == 'visualisation':\n",
    "        print(f'Processing UMAP {dims}D-Viz')\n",
    "        umap_model = umap.UMAP(random_state=42, n_components = dims).fit(data)\n",
    "        umap_data = umap_model.transform(data)\n",
    "        print(f'Time: {np.round(time.time() - start_time,2)}[s]') \n",
    "        \n",
    "        return umap_data, umap_model\n",
    "    \n",
    "    elif mode == 'clustering':\n",
    "        \n",
    "        print(f'Processing UMAP {dims}D-Clust')\n",
    "        # Settings from https://umap-learn.readthedocs.io/en/latest/clustering.html\n",
    "        # General idea is larger n_neighbors to capture wider relationships, and smaller min_dist to keep points closer (better for density alg)   \n",
    "        umap_model = umap.UMAP(random_state=42,\n",
    "                               n_components = dims,\n",
    "                               n_neighbors=30,\n",
    "                               min_dist=0.0\n",
    "                              ).fit(data)\n",
    "        \n",
    "        umap_data = umap_model.transform(data)\n",
    "\n",
    "        \n",
    "        print(f' UMAP Time: {np.round(time.time() - start_time,2)}[s]') \n",
    "        \n",
    "        return umap_data, umap_model\n",
    "    else:\n",
    "        print(f'UMAP mode {mode} NOT recognized.')"
   ]
  },
  {
   "cell_type": "code",
   "execution_count": 206,
   "id": "c8f54084-28ca-4b22-87d9-9b117dc7fc88",
   "metadata": {},
   "outputs": [
    {
     "name": "stdout",
     "output_type": "stream",
     "text": [
      "32/32 [==============================] - 2s 32ms/step\n"
     ]
    }
   ],
   "source": [
    "# Calculating Latent Space Projection\n",
    "encoded_data = encoder.predict(predict_data)"
   ]
  },
  {
   "cell_type": "code",
   "execution_count": 207,
   "id": "000a69b1-60e5-4ed4-b98c-27688ff7f562",
   "metadata": {},
   "outputs": [],
   "source": [
    " # encoded_data = encoded_data.numpy()\n",
    "df_encoded = pd.DataFrame(encoded_data)"
   ]
  },
  {
   "cell_type": "code",
   "execution_count": 208,
   "id": "25ae8362-0a05-4d87-b80d-fb9ac4cacbaf",
   "metadata": {},
   "outputs": [
    {
     "name": "stdout",
     "output_type": "stream",
     "text": [
      "Processing UMAP 2D-Viz\n",
      "Time: 10.17[s]\n"
     ]
    }
   ],
   "source": [
    "#Calcs UMAP for Visual Purposes  \n",
    "v_2D_umap, umap_model = UMAP_funct (encoded_data, dims = 2, mode = 'visualisation')"
   ]
  },
  {
   "cell_type": "code",
   "execution_count": 209,
   "id": "823344cf-5015-4b13-8343-cfc24ca1f07c",
   "metadata": {},
   "outputs": [],
   "source": [
    "# Creates DF for Clustering Solutions\n",
    "df_sols  = Data.copy(deep=True)\n",
    "df_sols.drop(window_cols, axis=1, inplace=True)"
   ]
  },
  {
   "cell_type": "code",
   "execution_count": 210,
   "id": "10524f88-ffc1-4731-90c8-c9e0244c9346",
   "metadata": {},
   "outputs": [],
   "source": [
    "#Adds Dims to Dataframes\n",
    "df_sols['UMAP_V1'] = v_2D_umap[:, 0]\n",
    "df_sols['UMAP_V2'] = v_2D_umap[:, 1]\n",
    "\n",
    "df_reconstruct.insert(loc=2, column='UMAP_V2', value=v_2D_umap[:, 1])\n",
    "df_reconstruct.insert(loc=2, column='UMAP_V1', value=v_2D_umap[:, 0])"
   ]
  },
  {
   "cell_type": "markdown",
   "id": "6203ec7d-1b21-4dd1-a187-c4c8ef2ec5bf",
   "metadata": {},
   "source": [
    "---\n",
    "---\n",
    "# Clustering Solutions"
   ]
  },
  {
   "cell_type": "markdown",
   "id": "2902f83d-f4a4-4e9f-822b-7e53864822a1",
   "metadata": {},
   "source": [
    "### kMeans"
   ]
  },
  {
   "cell_type": "code",
   "execution_count": 215,
   "id": "df10e435-bd8a-449a-bb6f-7162f36bcaab",
   "metadata": {},
   "outputs": [],
   "source": [
    "def kMeans_cluster(Encoded_Data, UMAP_mode = False, Max_k = 25):\n",
    "    # Uses kMeans on encoded dataset.\n",
    "    # UMAP_mode uses N2D-paper recomendation of UMAP encoded data to where k = Dims.\n",
    "    \n",
    "    # Output DF, only has solution columns\n",
    "    df_kMeans_sols = pd.DataFrame()\n",
    "    # df_kMeans_centroids = pd.DataFrame()\n",
    "    start_time = time.time()\n",
    "    \n",
    "    \n",
    "    # k-Means on Embeded Space\n",
    "    kmeans = [KMeans(n_clusters=k, random_state=42).fit(Encoded_Data)\n",
    "              for k in range(2, Max_k + 1)]\n",
    "\n",
    "    # Saving Centroid, in Clustering Space Dimensions\n",
    "    clust_sol_names = []\n",
    "    centroids = []\n",
    "    centroid_dim_cols = None\n",
    "    for partition in kmeans:\n",
    "        cluster_k = partition.labels_.max() + 1\n",
    "        sol_name = f'kMeans_k{cluster_k}'\n",
    "        df_kMeans_sols[sol_name] = partition.labels_ + 1\n",
    "    \n",
    "    # kMeans in UMAP projection, a.k.a KUMAP\n",
    "    if UMAP_mode == True:\n",
    "        print('Clustering on UMAP of Encoded Space')\n",
    "        for k in range(2, Max_k + 1):\n",
    "            # UMAPing to macthed k=dims with cluster friendly settings\n",
    "            clust_umap, umap_model = UMAP_funct (Encoded_Data, dims = k, mode = 'clustering')\n",
    "            print(f'Processing kMeans for k={k}\\n')\n",
    "            partition = KMeans(n_clusters=k, random_state=42).fit(clust_umap)\n",
    "            col_name = f'KUMAP_k{k}'\n",
    "            df_kMeans_sols[col_name] = partition.labels_ + 1\n",
    " \n",
    "    print(f'Total Time: {np.round(time.time() - start_time,2)}[s]')         \n",
    "    return df_kMeans_sols"
   ]
  },
  {
   "cell_type": "code",
   "execution_count": 214,
   "id": "ffb4857d-465c-44b5-85c8-0bcbf7ac1e3c",
   "metadata": {
    "collapsed": true,
    "jupyter": {
     "outputs_hidden": true
    },
    "tags": []
   },
   "outputs": [
    {
     "name": "stderr",
     "output_type": "stream",
     "text": [
      "C:\\Users\\ucesvpm\\Anaconda3\\envs\\TensorFlow_PhD\\lib\\site-packages\\sklearn\\cluster\\_kmeans.py:1334: UserWarning: KMeans is known to have a memory leak on Windows with MKL, when there are less chunks than available threads. You can avoid it by setting the environment variable OMP_NUM_THREADS=4.\n",
      "  warnings.warn(\n",
      "C:\\Users\\ucesvpm\\Anaconda3\\envs\\TensorFlow_PhD\\lib\\site-packages\\sklearn\\cluster\\_kmeans.py:1334: UserWarning: KMeans is known to have a memory leak on Windows with MKL, when there are less chunks than available threads. You can avoid it by setting the environment variable OMP_NUM_THREADS=4.\n",
      "  warnings.warn(\n",
      "C:\\Users\\ucesvpm\\Anaconda3\\envs\\TensorFlow_PhD\\lib\\site-packages\\sklearn\\cluster\\_kmeans.py:1334: UserWarning: KMeans is known to have a memory leak on Windows with MKL, when there are less chunks than available threads. You can avoid it by setting the environment variable OMP_NUM_THREADS=4.\n",
      "  warnings.warn(\n",
      "C:\\Users\\ucesvpm\\Anaconda3\\envs\\TensorFlow_PhD\\lib\\site-packages\\sklearn\\cluster\\_kmeans.py:1334: UserWarning: KMeans is known to have a memory leak on Windows with MKL, when there are less chunks than available threads. You can avoid it by setting the environment variable OMP_NUM_THREADS=4.\n",
      "  warnings.warn(\n",
      "C:\\Users\\ucesvpm\\Anaconda3\\envs\\TensorFlow_PhD\\lib\\site-packages\\sklearn\\cluster\\_kmeans.py:1334: UserWarning: KMeans is known to have a memory leak on Windows with MKL, when there are less chunks than available threads. You can avoid it by setting the environment variable OMP_NUM_THREADS=4.\n",
      "  warnings.warn(\n",
      "C:\\Users\\ucesvpm\\Anaconda3\\envs\\TensorFlow_PhD\\lib\\site-packages\\sklearn\\cluster\\_kmeans.py:1334: UserWarning: KMeans is known to have a memory leak on Windows with MKL, when there are less chunks than available threads. You can avoid it by setting the environment variable OMP_NUM_THREADS=4.\n",
      "  warnings.warn(\n",
      "C:\\Users\\ucesvpm\\Anaconda3\\envs\\TensorFlow_PhD\\lib\\site-packages\\sklearn\\cluster\\_kmeans.py:1334: UserWarning: KMeans is known to have a memory leak on Windows with MKL, when there are less chunks than available threads. You can avoid it by setting the environment variable OMP_NUM_THREADS=4.\n",
      "  warnings.warn(\n",
      "C:\\Users\\ucesvpm\\Anaconda3\\envs\\TensorFlow_PhD\\lib\\site-packages\\sklearn\\cluster\\_kmeans.py:1334: UserWarning: KMeans is known to have a memory leak on Windows with MKL, when there are less chunks than available threads. You can avoid it by setting the environment variable OMP_NUM_THREADS=4.\n",
      "  warnings.warn(\n",
      "C:\\Users\\ucesvpm\\Anaconda3\\envs\\TensorFlow_PhD\\lib\\site-packages\\sklearn\\cluster\\_kmeans.py:1334: UserWarning: KMeans is known to have a memory leak on Windows with MKL, when there are less chunks than available threads. You can avoid it by setting the environment variable OMP_NUM_THREADS=4.\n",
      "  warnings.warn(\n",
      "C:\\Users\\ucesvpm\\Anaconda3\\envs\\TensorFlow_PhD\\lib\\site-packages\\sklearn\\cluster\\_kmeans.py:1334: UserWarning: KMeans is known to have a memory leak on Windows with MKL, when there are less chunks than available threads. You can avoid it by setting the environment variable OMP_NUM_THREADS=4.\n",
      "  warnings.warn(\n",
      "C:\\Users\\ucesvpm\\Anaconda3\\envs\\TensorFlow_PhD\\lib\\site-packages\\sklearn\\cluster\\_kmeans.py:1334: UserWarning: KMeans is known to have a memory leak on Windows with MKL, when there are less chunks than available threads. You can avoid it by setting the environment variable OMP_NUM_THREADS=4.\n",
      "  warnings.warn(\n",
      "C:\\Users\\ucesvpm\\Anaconda3\\envs\\TensorFlow_PhD\\lib\\site-packages\\sklearn\\cluster\\_kmeans.py:1334: UserWarning: KMeans is known to have a memory leak on Windows with MKL, when there are less chunks than available threads. You can avoid it by setting the environment variable OMP_NUM_THREADS=4.\n",
      "  warnings.warn(\n",
      "C:\\Users\\ucesvpm\\Anaconda3\\envs\\TensorFlow_PhD\\lib\\site-packages\\sklearn\\cluster\\_kmeans.py:1334: UserWarning: KMeans is known to have a memory leak on Windows with MKL, when there are less chunks than available threads. You can avoid it by setting the environment variable OMP_NUM_THREADS=4.\n",
      "  warnings.warn(\n",
      "C:\\Users\\ucesvpm\\Anaconda3\\envs\\TensorFlow_PhD\\lib\\site-packages\\sklearn\\cluster\\_kmeans.py:1334: UserWarning: KMeans is known to have a memory leak on Windows with MKL, when there are less chunks than available threads. You can avoid it by setting the environment variable OMP_NUM_THREADS=4.\n",
      "  warnings.warn(\n",
      "C:\\Users\\ucesvpm\\Anaconda3\\envs\\TensorFlow_PhD\\lib\\site-packages\\sklearn\\cluster\\_kmeans.py:1334: UserWarning: KMeans is known to have a memory leak on Windows with MKL, when there are less chunks than available threads. You can avoid it by setting the environment variable OMP_NUM_THREADS=4.\n",
      "  warnings.warn(\n",
      "C:\\Users\\ucesvpm\\Anaconda3\\envs\\TensorFlow_PhD\\lib\\site-packages\\sklearn\\cluster\\_kmeans.py:1334: UserWarning: KMeans is known to have a memory leak on Windows with MKL, when there are less chunks than available threads. You can avoid it by setting the environment variable OMP_NUM_THREADS=4.\n",
      "  warnings.warn(\n",
      "C:\\Users\\ucesvpm\\Anaconda3\\envs\\TensorFlow_PhD\\lib\\site-packages\\sklearn\\cluster\\_kmeans.py:1334: UserWarning: KMeans is known to have a memory leak on Windows with MKL, when there are less chunks than available threads. You can avoid it by setting the environment variable OMP_NUM_THREADS=4.\n",
      "  warnings.warn(\n",
      "C:\\Users\\ucesvpm\\Anaconda3\\envs\\TensorFlow_PhD\\lib\\site-packages\\sklearn\\cluster\\_kmeans.py:1334: UserWarning: KMeans is known to have a memory leak on Windows with MKL, when there are less chunks than available threads. You can avoid it by setting the environment variable OMP_NUM_THREADS=4.\n",
      "  warnings.warn(\n",
      "C:\\Users\\ucesvpm\\Anaconda3\\envs\\TensorFlow_PhD\\lib\\site-packages\\sklearn\\cluster\\_kmeans.py:1334: UserWarning: KMeans is known to have a memory leak on Windows with MKL, when there are less chunks than available threads. You can avoid it by setting the environment variable OMP_NUM_THREADS=4.\n",
      "  warnings.warn(\n",
      "C:\\Users\\ucesvpm\\Anaconda3\\envs\\TensorFlow_PhD\\lib\\site-packages\\sklearn\\cluster\\_kmeans.py:1334: UserWarning: KMeans is known to have a memory leak on Windows with MKL, when there are less chunks than available threads. You can avoid it by setting the environment variable OMP_NUM_THREADS=4.\n",
      "  warnings.warn(\n",
      "C:\\Users\\ucesvpm\\Anaconda3\\envs\\TensorFlow_PhD\\lib\\site-packages\\sklearn\\cluster\\_kmeans.py:1334: UserWarning: KMeans is known to have a memory leak on Windows with MKL, when there are less chunks than available threads. You can avoid it by setting the environment variable OMP_NUM_THREADS=4.\n",
      "  warnings.warn(\n",
      "C:\\Users\\ucesvpm\\Anaconda3\\envs\\TensorFlow_PhD\\lib\\site-packages\\sklearn\\cluster\\_kmeans.py:1334: UserWarning: KMeans is known to have a memory leak on Windows with MKL, when there are less chunks than available threads. You can avoid it by setting the environment variable OMP_NUM_THREADS=4.\n",
      "  warnings.warn(\n",
      "C:\\Users\\ucesvpm\\Anaconda3\\envs\\TensorFlow_PhD\\lib\\site-packages\\sklearn\\cluster\\_kmeans.py:1334: UserWarning: KMeans is known to have a memory leak on Windows with MKL, when there are less chunks than available threads. You can avoid it by setting the environment variable OMP_NUM_THREADS=4.\n",
      "  warnings.warn(\n",
      "C:\\Users\\ucesvpm\\Anaconda3\\envs\\TensorFlow_PhD\\lib\\site-packages\\sklearn\\cluster\\_kmeans.py:1334: UserWarning: KMeans is known to have a memory leak on Windows with MKL, when there are less chunks than available threads. You can avoid it by setting the environment variable OMP_NUM_THREADS=4.\n",
      "  warnings.warn(\n"
     ]
    },
    {
     "name": "stdout",
     "output_type": "stream",
     "text": [
      "Clustering on UMAP of Encoded Space\n",
      "Processing UMAP 2D-Clust\n",
      " UMAP Time: 3.93[s]\n",
      "Processing kMeans for k=2\n",
      "\n"
     ]
    },
    {
     "name": "stderr",
     "output_type": "stream",
     "text": [
      "C:\\Users\\ucesvpm\\Anaconda3\\envs\\TensorFlow_PhD\\lib\\site-packages\\sklearn\\cluster\\_kmeans.py:1334: UserWarning: KMeans is known to have a memory leak on Windows with MKL, when there are less chunks than available threads. You can avoid it by setting the environment variable OMP_NUM_THREADS=4.\n",
      "  warnings.warn(\n"
     ]
    },
    {
     "name": "stdout",
     "output_type": "stream",
     "text": [
      "Processing UMAP 3D-Clust\n",
      " UMAP Time: 4.04[s]\n",
      "Processing kMeans for k=3\n",
      "\n"
     ]
    },
    {
     "name": "stderr",
     "output_type": "stream",
     "text": [
      "C:\\Users\\ucesvpm\\Anaconda3\\envs\\TensorFlow_PhD\\lib\\site-packages\\sklearn\\cluster\\_kmeans.py:1334: UserWarning: KMeans is known to have a memory leak on Windows with MKL, when there are less chunks than available threads. You can avoid it by setting the environment variable OMP_NUM_THREADS=4.\n",
      "  warnings.warn(\n"
     ]
    },
    {
     "name": "stdout",
     "output_type": "stream",
     "text": [
      "Processing UMAP 4D-Clust\n",
      " UMAP Time: 6.08[s]\n",
      "Processing kMeans for k=4\n",
      "\n"
     ]
    },
    {
     "name": "stderr",
     "output_type": "stream",
     "text": [
      "C:\\Users\\ucesvpm\\Anaconda3\\envs\\TensorFlow_PhD\\lib\\site-packages\\sklearn\\cluster\\_kmeans.py:1334: UserWarning: KMeans is known to have a memory leak on Windows with MKL, when there are less chunks than available threads. You can avoid it by setting the environment variable OMP_NUM_THREADS=4.\n",
      "  warnings.warn(\n"
     ]
    },
    {
     "name": "stdout",
     "output_type": "stream",
     "text": [
      "Processing UMAP 5D-Clust\n",
      " UMAP Time: 4.56[s]\n",
      "Processing kMeans for k=5\n",
      "\n"
     ]
    },
    {
     "name": "stderr",
     "output_type": "stream",
     "text": [
      "C:\\Users\\ucesvpm\\Anaconda3\\envs\\TensorFlow_PhD\\lib\\site-packages\\sklearn\\cluster\\_kmeans.py:1334: UserWarning: KMeans is known to have a memory leak on Windows with MKL, when there are less chunks than available threads. You can avoid it by setting the environment variable OMP_NUM_THREADS=4.\n",
      "  warnings.warn(\n"
     ]
    },
    {
     "name": "stdout",
     "output_type": "stream",
     "text": [
      "Processing UMAP 6D-Clust\n",
      " UMAP Time: 5.93[s]\n",
      "Processing kMeans for k=6\n",
      "\n"
     ]
    },
    {
     "name": "stderr",
     "output_type": "stream",
     "text": [
      "C:\\Users\\ucesvpm\\Anaconda3\\envs\\TensorFlow_PhD\\lib\\site-packages\\sklearn\\cluster\\_kmeans.py:1334: UserWarning: KMeans is known to have a memory leak on Windows with MKL, when there are less chunks than available threads. You can avoid it by setting the environment variable OMP_NUM_THREADS=4.\n",
      "  warnings.warn(\n"
     ]
    },
    {
     "name": "stdout",
     "output_type": "stream",
     "text": [
      "Processing UMAP 7D-Clust\n",
      " UMAP Time: 5.7[s]\n",
      "Processing kMeans for k=7\n",
      "\n"
     ]
    },
    {
     "name": "stderr",
     "output_type": "stream",
     "text": [
      "C:\\Users\\ucesvpm\\Anaconda3\\envs\\TensorFlow_PhD\\lib\\site-packages\\sklearn\\cluster\\_kmeans.py:1334: UserWarning: KMeans is known to have a memory leak on Windows with MKL, when there are less chunks than available threads. You can avoid it by setting the environment variable OMP_NUM_THREADS=4.\n",
      "  warnings.warn(\n"
     ]
    },
    {
     "name": "stdout",
     "output_type": "stream",
     "text": [
      "Processing UMAP 8D-Clust\n",
      " UMAP Time: 5.02[s]\n",
      "Processing kMeans for k=8\n",
      "\n"
     ]
    },
    {
     "name": "stderr",
     "output_type": "stream",
     "text": [
      "C:\\Users\\ucesvpm\\Anaconda3\\envs\\TensorFlow_PhD\\lib\\site-packages\\sklearn\\cluster\\_kmeans.py:1334: UserWarning: KMeans is known to have a memory leak on Windows with MKL, when there are less chunks than available threads. You can avoid it by setting the environment variable OMP_NUM_THREADS=4.\n",
      "  warnings.warn(\n"
     ]
    },
    {
     "name": "stdout",
     "output_type": "stream",
     "text": [
      "Processing UMAP 9D-Clust\n",
      " UMAP Time: 4.84[s]\n",
      "Processing kMeans for k=9\n",
      "\n"
     ]
    },
    {
     "name": "stderr",
     "output_type": "stream",
     "text": [
      "C:\\Users\\ucesvpm\\Anaconda3\\envs\\TensorFlow_PhD\\lib\\site-packages\\sklearn\\cluster\\_kmeans.py:1334: UserWarning: KMeans is known to have a memory leak on Windows with MKL, when there are less chunks than available threads. You can avoid it by setting the environment variable OMP_NUM_THREADS=4.\n",
      "  warnings.warn(\n"
     ]
    },
    {
     "name": "stdout",
     "output_type": "stream",
     "text": [
      "Processing UMAP 10D-Clust\n",
      " UMAP Time: 5.46[s]\n",
      "Processing kMeans for k=10\n",
      "\n"
     ]
    },
    {
     "name": "stderr",
     "output_type": "stream",
     "text": [
      "C:\\Users\\ucesvpm\\Anaconda3\\envs\\TensorFlow_PhD\\lib\\site-packages\\sklearn\\cluster\\_kmeans.py:1334: UserWarning: KMeans is known to have a memory leak on Windows with MKL, when there are less chunks than available threads. You can avoid it by setting the environment variable OMP_NUM_THREADS=4.\n",
      "  warnings.warn(\n"
     ]
    },
    {
     "name": "stdout",
     "output_type": "stream",
     "text": [
      "Processing UMAP 11D-Clust\n",
      " UMAP Time: 5.22[s]\n",
      "Processing kMeans for k=11\n",
      "\n"
     ]
    },
    {
     "name": "stderr",
     "output_type": "stream",
     "text": [
      "C:\\Users\\ucesvpm\\Anaconda3\\envs\\TensorFlow_PhD\\lib\\site-packages\\sklearn\\cluster\\_kmeans.py:1334: UserWarning: KMeans is known to have a memory leak on Windows with MKL, when there are less chunks than available threads. You can avoid it by setting the environment variable OMP_NUM_THREADS=4.\n",
      "  warnings.warn(\n"
     ]
    },
    {
     "name": "stdout",
     "output_type": "stream",
     "text": [
      "Processing UMAP 12D-Clust\n",
      " UMAP Time: 5.55[s]\n",
      "Processing kMeans for k=12\n",
      "\n"
     ]
    },
    {
     "name": "stderr",
     "output_type": "stream",
     "text": [
      "C:\\Users\\ucesvpm\\Anaconda3\\envs\\TensorFlow_PhD\\lib\\site-packages\\sklearn\\cluster\\_kmeans.py:1334: UserWarning: KMeans is known to have a memory leak on Windows with MKL, when there are less chunks than available threads. You can avoid it by setting the environment variable OMP_NUM_THREADS=4.\n",
      "  warnings.warn(\n"
     ]
    },
    {
     "name": "stdout",
     "output_type": "stream",
     "text": [
      "Processing UMAP 13D-Clust\n",
      " UMAP Time: 6.08[s]\n",
      "Processing kMeans for k=13\n",
      "\n"
     ]
    },
    {
     "name": "stderr",
     "output_type": "stream",
     "text": [
      "C:\\Users\\ucesvpm\\Anaconda3\\envs\\TensorFlow_PhD\\lib\\site-packages\\sklearn\\cluster\\_kmeans.py:1334: UserWarning: KMeans is known to have a memory leak on Windows with MKL, when there are less chunks than available threads. You can avoid it by setting the environment variable OMP_NUM_THREADS=4.\n",
      "  warnings.warn(\n"
     ]
    },
    {
     "name": "stdout",
     "output_type": "stream",
     "text": [
      "Processing UMAP 14D-Clust\n",
      " UMAP Time: 5.83[s]\n",
      "Processing kMeans for k=14\n",
      "\n"
     ]
    },
    {
     "name": "stderr",
     "output_type": "stream",
     "text": [
      "C:\\Users\\ucesvpm\\Anaconda3\\envs\\TensorFlow_PhD\\lib\\site-packages\\sklearn\\cluster\\_kmeans.py:1334: UserWarning: KMeans is known to have a memory leak on Windows with MKL, when there are less chunks than available threads. You can avoid it by setting the environment variable OMP_NUM_THREADS=4.\n",
      "  warnings.warn(\n"
     ]
    },
    {
     "name": "stdout",
     "output_type": "stream",
     "text": [
      "Processing UMAP 15D-Clust\n",
      " UMAP Time: 6.08[s]\n",
      "Processing kMeans for k=15\n",
      "\n"
     ]
    },
    {
     "name": "stderr",
     "output_type": "stream",
     "text": [
      "C:\\Users\\ucesvpm\\Anaconda3\\envs\\TensorFlow_PhD\\lib\\site-packages\\sklearn\\cluster\\_kmeans.py:1334: UserWarning: KMeans is known to have a memory leak on Windows with MKL, when there are less chunks than available threads. You can avoid it by setting the environment variable OMP_NUM_THREADS=4.\n",
      "  warnings.warn(\n"
     ]
    },
    {
     "name": "stdout",
     "output_type": "stream",
     "text": [
      "Processing UMAP 16D-Clust\n",
      " UMAP Time: 6.4[s]\n",
      "Processing kMeans for k=16\n",
      "\n"
     ]
    },
    {
     "name": "stderr",
     "output_type": "stream",
     "text": [
      "C:\\Users\\ucesvpm\\Anaconda3\\envs\\TensorFlow_PhD\\lib\\site-packages\\sklearn\\cluster\\_kmeans.py:1334: UserWarning: KMeans is known to have a memory leak on Windows with MKL, when there are less chunks than available threads. You can avoid it by setting the environment variable OMP_NUM_THREADS=4.\n",
      "  warnings.warn(\n"
     ]
    },
    {
     "name": "stdout",
     "output_type": "stream",
     "text": [
      "Processing UMAP 17D-Clust\n",
      " UMAP Time: 6.22[s]\n",
      "Processing kMeans for k=17\n",
      "\n"
     ]
    },
    {
     "name": "stderr",
     "output_type": "stream",
     "text": [
      "C:\\Users\\ucesvpm\\Anaconda3\\envs\\TensorFlow_PhD\\lib\\site-packages\\sklearn\\cluster\\_kmeans.py:1334: UserWarning: KMeans is known to have a memory leak on Windows with MKL, when there are less chunks than available threads. You can avoid it by setting the environment variable OMP_NUM_THREADS=4.\n",
      "  warnings.warn(\n"
     ]
    },
    {
     "name": "stdout",
     "output_type": "stream",
     "text": [
      "Processing UMAP 18D-Clust\n",
      " UMAP Time: 7.57[s]\n",
      "Processing kMeans for k=18\n",
      "\n"
     ]
    },
    {
     "name": "stderr",
     "output_type": "stream",
     "text": [
      "C:\\Users\\ucesvpm\\Anaconda3\\envs\\TensorFlow_PhD\\lib\\site-packages\\sklearn\\cluster\\_kmeans.py:1334: UserWarning: KMeans is known to have a memory leak on Windows with MKL, when there are less chunks than available threads. You can avoid it by setting the environment variable OMP_NUM_THREADS=4.\n",
      "  warnings.warn(\n"
     ]
    },
    {
     "name": "stdout",
     "output_type": "stream",
     "text": [
      "Processing UMAP 19D-Clust\n",
      " UMAP Time: 7.25[s]\n",
      "Processing kMeans for k=19\n",
      "\n"
     ]
    },
    {
     "name": "stderr",
     "output_type": "stream",
     "text": [
      "C:\\Users\\ucesvpm\\Anaconda3\\envs\\TensorFlow_PhD\\lib\\site-packages\\sklearn\\cluster\\_kmeans.py:1334: UserWarning: KMeans is known to have a memory leak on Windows with MKL, when there are less chunks than available threads. You can avoid it by setting the environment variable OMP_NUM_THREADS=4.\n",
      "  warnings.warn(\n"
     ]
    },
    {
     "name": "stdout",
     "output_type": "stream",
     "text": [
      "Processing UMAP 20D-Clust\n",
      " UMAP Time: 6.79[s]\n",
      "Processing kMeans for k=20\n",
      "\n"
     ]
    },
    {
     "name": "stderr",
     "output_type": "stream",
     "text": [
      "C:\\Users\\ucesvpm\\Anaconda3\\envs\\TensorFlow_PhD\\lib\\site-packages\\sklearn\\cluster\\_kmeans.py:1334: UserWarning: KMeans is known to have a memory leak on Windows with MKL, when there are less chunks than available threads. You can avoid it by setting the environment variable OMP_NUM_THREADS=4.\n",
      "  warnings.warn(\n"
     ]
    },
    {
     "name": "stdout",
     "output_type": "stream",
     "text": [
      "Processing UMAP 21D-Clust\n",
      " UMAP Time: 9.46[s]\n",
      "Processing kMeans for k=21\n",
      "\n"
     ]
    },
    {
     "name": "stderr",
     "output_type": "stream",
     "text": [
      "C:\\Users\\ucesvpm\\Anaconda3\\envs\\TensorFlow_PhD\\lib\\site-packages\\sklearn\\cluster\\_kmeans.py:1334: UserWarning: KMeans is known to have a memory leak on Windows with MKL, when there are less chunks than available threads. You can avoid it by setting the environment variable OMP_NUM_THREADS=4.\n",
      "  warnings.warn(\n"
     ]
    },
    {
     "name": "stdout",
     "output_type": "stream",
     "text": [
      "Processing UMAP 22D-Clust\n",
      " UMAP Time: 9.04[s]\n",
      "Processing kMeans for k=22\n",
      "\n"
     ]
    },
    {
     "name": "stderr",
     "output_type": "stream",
     "text": [
      "C:\\Users\\ucesvpm\\Anaconda3\\envs\\TensorFlow_PhD\\lib\\site-packages\\sklearn\\cluster\\_kmeans.py:1334: UserWarning: KMeans is known to have a memory leak on Windows with MKL, when there are less chunks than available threads. You can avoid it by setting the environment variable OMP_NUM_THREADS=4.\n",
      "  warnings.warn(\n"
     ]
    },
    {
     "name": "stdout",
     "output_type": "stream",
     "text": [
      "Processing UMAP 23D-Clust\n",
      " UMAP Time: 7.14[s]\n",
      "Processing kMeans for k=23\n",
      "\n"
     ]
    },
    {
     "name": "stderr",
     "output_type": "stream",
     "text": [
      "C:\\Users\\ucesvpm\\Anaconda3\\envs\\TensorFlow_PhD\\lib\\site-packages\\sklearn\\cluster\\_kmeans.py:1334: UserWarning: KMeans is known to have a memory leak on Windows with MKL, when there are less chunks than available threads. You can avoid it by setting the environment variable OMP_NUM_THREADS=4.\n",
      "  warnings.warn(\n"
     ]
    },
    {
     "name": "stdout",
     "output_type": "stream",
     "text": [
      "Processing UMAP 24D-Clust\n",
      " UMAP Time: 10.08[s]\n",
      "Processing kMeans for k=24\n",
      "\n"
     ]
    },
    {
     "name": "stderr",
     "output_type": "stream",
     "text": [
      "C:\\Users\\ucesvpm\\Anaconda3\\envs\\TensorFlow_PhD\\lib\\site-packages\\sklearn\\cluster\\_kmeans.py:1334: UserWarning: KMeans is known to have a memory leak on Windows with MKL, when there are less chunks than available threads. You can avoid it by setting the environment variable OMP_NUM_THREADS=4.\n",
      "  warnings.warn(\n"
     ]
    },
    {
     "name": "stdout",
     "output_type": "stream",
     "text": [
      "Processing UMAP 25D-Clust\n",
      " UMAP Time: 9.47[s]\n",
      "Processing kMeans for k=25\n",
      "\n"
     ]
    },
    {
     "name": "stderr",
     "output_type": "stream",
     "text": [
      "C:\\Users\\ucesvpm\\Anaconda3\\envs\\TensorFlow_PhD\\lib\\site-packages\\sklearn\\cluster\\_kmeans.py:1334: UserWarning: KMeans is known to have a memory leak on Windows with MKL, when there are less chunks than available threads. You can avoid it by setting the environment variable OMP_NUM_THREADS=4.\n",
      "  warnings.warn(\n"
     ]
    },
    {
     "name": "stdout",
     "output_type": "stream",
     "text": [
      "Total Time: 169.91[s]\n"
     ]
    }
   ],
   "source": [
    "kMeans_sols = kMeans_cluster(df_encoded, UMAP_mode = True, Max_k = 25)"
   ]
  },
  {
   "cell_type": "code",
   "execution_count": 217,
   "id": "20453c86-4fcf-4746-abc2-dc1c2f1e2dca",
   "metadata": {},
   "outputs": [],
   "source": [
    "df_sols = pd.concat([df_sols, kMeans_sols], axis=1)"
   ]
  },
  {
   "cell_type": "code",
   "execution_count": 220,
   "id": "218d8e1a-8575-4846-ad1d-36c818291a4a",
   "metadata": {},
   "outputs": [
    {
     "data": {
      "text/html": [
       "<div>\n",
       "<style scoped>\n",
       "    .dataframe tbody tr th:only-of-type {\n",
       "        vertical-align: middle;\n",
       "    }\n",
       "\n",
       "    .dataframe tbody tr th {\n",
       "        vertical-align: top;\n",
       "    }\n",
       "\n",
       "    .dataframe thead th {\n",
       "        text-align: right;\n",
       "    }\n",
       "</style>\n",
       "<table border=\"1\" class=\"dataframe\">\n",
       "  <thead>\n",
       "    <tr style=\"text-align: right;\">\n",
       "      <th></th>\n",
       "      <th>short_ID</th>\n",
       "      <th>window_ID</th>\n",
       "      <th>window_start_date</th>\n",
       "      <th>UMAP_V1</th>\n",
       "      <th>UMAP_V2</th>\n",
       "      <th>kMeans_k2</th>\n",
       "      <th>kMeans_k3</th>\n",
       "      <th>kMeans_k4</th>\n",
       "      <th>kMeans_k5</th>\n",
       "      <th>kMeans_k6</th>\n",
       "      <th>...</th>\n",
       "      <th>KUMAP_k=16</th>\n",
       "      <th>KUMAP_k=17</th>\n",
       "      <th>KUMAP_k=18</th>\n",
       "      <th>KUMAP_k=19</th>\n",
       "      <th>KUMAP_k=20</th>\n",
       "      <th>KUMAP_k=21</th>\n",
       "      <th>KUMAP_k=22</th>\n",
       "      <th>KUMAP_k=23</th>\n",
       "      <th>KUMAP_k=24</th>\n",
       "      <th>KUMAP_k=25</th>\n",
       "    </tr>\n",
       "  </thead>\n",
       "  <tbody>\n",
       "    <tr>\n",
       "      <th>0</th>\n",
       "      <td>127</td>\n",
       "      <td>0</td>\n",
       "      <td>2018-01-20</td>\n",
       "      <td>13.215649</td>\n",
       "      <td>10.688394</td>\n",
       "      <td>1</td>\n",
       "      <td>3</td>\n",
       "      <td>1</td>\n",
       "      <td>4</td>\n",
       "      <td>6</td>\n",
       "      <td>...</td>\n",
       "      <td>3</td>\n",
       "      <td>10</td>\n",
       "      <td>13</td>\n",
       "      <td>7</td>\n",
       "      <td>9</td>\n",
       "      <td>8</td>\n",
       "      <td>12</td>\n",
       "      <td>17</td>\n",
       "      <td>12</td>\n",
       "      <td>9</td>\n",
       "    </tr>\n",
       "    <tr>\n",
       "      <th>1</th>\n",
       "      <td>127</td>\n",
       "      <td>1</td>\n",
       "      <td>2018-04-20</td>\n",
       "      <td>13.076130</td>\n",
       "      <td>10.641882</td>\n",
       "      <td>1</td>\n",
       "      <td>3</td>\n",
       "      <td>1</td>\n",
       "      <td>4</td>\n",
       "      <td>6</td>\n",
       "      <td>...</td>\n",
       "      <td>3</td>\n",
       "      <td>10</td>\n",
       "      <td>13</td>\n",
       "      <td>7</td>\n",
       "      <td>9</td>\n",
       "      <td>8</td>\n",
       "      <td>12</td>\n",
       "      <td>17</td>\n",
       "      <td>12</td>\n",
       "      <td>9</td>\n",
       "    </tr>\n",
       "    <tr>\n",
       "      <th>2</th>\n",
       "      <td>127</td>\n",
       "      <td>2</td>\n",
       "      <td>2018-07-19</td>\n",
       "      <td>14.080730</td>\n",
       "      <td>10.173175</td>\n",
       "      <td>1</td>\n",
       "      <td>3</td>\n",
       "      <td>1</td>\n",
       "      <td>4</td>\n",
       "      <td>6</td>\n",
       "      <td>...</td>\n",
       "      <td>16</td>\n",
       "      <td>1</td>\n",
       "      <td>11</td>\n",
       "      <td>3</td>\n",
       "      <td>20</td>\n",
       "      <td>11</td>\n",
       "      <td>15</td>\n",
       "      <td>6</td>\n",
       "      <td>17</td>\n",
       "      <td>12</td>\n",
       "    </tr>\n",
       "    <tr>\n",
       "      <th>3</th>\n",
       "      <td>127</td>\n",
       "      <td>3</td>\n",
       "      <td>2018-10-17</td>\n",
       "      <td>14.164723</td>\n",
       "      <td>9.808705</td>\n",
       "      <td>1</td>\n",
       "      <td>3</td>\n",
       "      <td>1</td>\n",
       "      <td>4</td>\n",
       "      <td>6</td>\n",
       "      <td>...</td>\n",
       "      <td>16</td>\n",
       "      <td>17</td>\n",
       "      <td>10</td>\n",
       "      <td>11</td>\n",
       "      <td>6</td>\n",
       "      <td>2</td>\n",
       "      <td>13</td>\n",
       "      <td>19</td>\n",
       "      <td>17</td>\n",
       "      <td>5</td>\n",
       "    </tr>\n",
       "    <tr>\n",
       "      <th>4</th>\n",
       "      <td>127</td>\n",
       "      <td>4</td>\n",
       "      <td>2019-01-15</td>\n",
       "      <td>14.392631</td>\n",
       "      <td>10.203107</td>\n",
       "      <td>1</td>\n",
       "      <td>3</td>\n",
       "      <td>1</td>\n",
       "      <td>4</td>\n",
       "      <td>6</td>\n",
       "      <td>...</td>\n",
       "      <td>16</td>\n",
       "      <td>17</td>\n",
       "      <td>10</td>\n",
       "      <td>11</td>\n",
       "      <td>6</td>\n",
       "      <td>2</td>\n",
       "      <td>13</td>\n",
       "      <td>19</td>\n",
       "      <td>17</td>\n",
       "      <td>5</td>\n",
       "    </tr>\n",
       "  </tbody>\n",
       "</table>\n",
       "<p>5 rows × 53 columns</p>\n",
       "</div>"
      ],
      "text/plain": [
       "   short_ID  window_ID window_start_date    UMAP_V1    UMAP_V2  kMeans_k2  \\\n",
       "0       127          0        2018-01-20  13.215649  10.688394          1   \n",
       "1       127          1        2018-04-20  13.076130  10.641882          1   \n",
       "2       127          2        2018-07-19  14.080730  10.173175          1   \n",
       "3       127          3        2018-10-17  14.164723   9.808705          1   \n",
       "4       127          4        2019-01-15  14.392631  10.203107          1   \n",
       "\n",
       "   kMeans_k3  kMeans_k4  kMeans_k5  kMeans_k6  ...  KUMAP_k=16  KUMAP_k=17  \\\n",
       "0          3          1          4          6  ...           3          10   \n",
       "1          3          1          4          6  ...           3          10   \n",
       "2          3          1          4          6  ...          16           1   \n",
       "3          3          1          4          6  ...          16          17   \n",
       "4          3          1          4          6  ...          16          17   \n",
       "\n",
       "   KUMAP_k=18  KUMAP_k=19  KUMAP_k=20  KUMAP_k=21  KUMAP_k=22  KUMAP_k=23  \\\n",
       "0          13           7           9           8          12          17   \n",
       "1          13           7           9           8          12          17   \n",
       "2          11           3          20          11          15           6   \n",
       "3          10          11           6           2          13          19   \n",
       "4          10          11           6           2          13          19   \n",
       "\n",
       "   KUMAP_k=24  KUMAP_k=25  \n",
       "0          12           9  \n",
       "1          12           9  \n",
       "2          17          12  \n",
       "3          17           5  \n",
       "4          17           5  \n",
       "\n",
       "[5 rows x 53 columns]"
      ]
     },
     "execution_count": 220,
     "metadata": {},
     "output_type": "execute_result"
    }
   ],
   "source": [
    "df_sols.head()"
   ]
  },
  {
   "cell_type": "markdown",
   "id": "e865e221-200b-4167-b858-b5ae3f128a77",
   "metadata": {},
   "source": [
    "## kMeans Centroids"
   ]
  },
  {
   "cell_type": "markdown",
   "id": "a965b1d6-53e2-412d-bf50-5c1336039737",
   "metadata": {},
   "source": [
    "> ***Note***:  \n",
    "> These are calculated **a posteriori**.  \n",
    "> Because the definition of centroid is the mean of all points, for an Eucledian space.  \n",
    "> Plus, with the several inverse transformations, there is a lot of error amplification potential if <code>kmeans.cluster_centers_</code> is used."
   ]
  },
  {
   "cell_type": "code",
   "execution_count": 246,
   "id": "ff09653f-d470-4933-9314-8d5b3e5f41c3",
   "metadata": {},
   "outputs": [],
   "source": [
    "def kmeans_centroids (df_orig, df_kmeans_sols):\n",
    "    \n",
    "    clust_sol_cols = df_kmeans_sols.columns[5:]    \n",
    "    df_centroids = pd.DataFrame()\n",
    "    \n",
    "    centroids = []\n",
    "    sol_names = []\n",
    "    for clust_sol in clust_sol_cols:\n",
    "        n_clusters = df_kmeans_sols[clust_sol].max()\n",
    "        \n",
    "        for c in range(1, n_clusters +1):\n",
    "            clust_idx = df_kmeans_sols[df_kmeans_sols[clust_sol] == c].index\n",
    "            centroid = df_orig[window_cols].iloc[clust_idx].mean()\n",
    "            centroids.append(centroid)\n",
    "            \n",
    "            sol_name = clust_sol + f'-c{c}'\n",
    "            sol_names.append(sol_name)\n",
    "    \n",
    "    df_centroids['Clust_Sols'] = sol_names\n",
    "    df_centroids[window_cols] = centroids\n",
    "        \n",
    "    return df_centroids #clust_idx, centroid"
   ]
  },
  {
   "cell_type": "code",
   "execution_count": 247,
   "id": "7625b514-5268-43ff-b1d5-d66d25371910",
   "metadata": {},
   "outputs": [],
   "source": [
    "df_centroids = kmeans_centroids (Data, df_sols)"
   ]
  },
  {
   "cell_type": "code",
   "execution_count": 267,
   "id": "365617e8-5e20-4742-bd06-ec20b1444030",
   "metadata": {},
   "outputs": [
    {
     "data": {
      "text/plain": [
       "<Axes: >"
      ]
     },
     "execution_count": 267,
     "metadata": {},
     "output_type": "execute_result"
    },
    {
     "data": {
      "image/png": "[encoded data removed]",
      "text/plain": [
       "<Figure size 640x480 with 1 Axes>"
      ]
     },
     "metadata": {},
     "output_type": "display_data"
    }
   ],
   "source": [
    "sol = 'KUMAP_k=15'\n",
    "sol_rows = df_centroids['Clust_Sols'][df_centroids['Clust_Sols'].str.contains(sol)]\n",
    "df_centroids[window_cols][df_centroids['Clust_Sols'].isin(sol_rows)].T.plot()"
   ]
  },
  {
   "cell_type": "code",
   "execution_count": 268,
   "id": "3ed89948-112d-43ab-988f-b99ffe76dbc9",
   "metadata": {},
   "outputs": [
    {
     "data": {
      "text/plain": [
       "<Axes: >"
      ]
     },
     "execution_count": 268,
     "metadata": {},
     "output_type": "execute_result"
    },
    {
     "data": {
      "image/png": "[encoded data removed]",
      "text/plain": [
       "<Figure size 640x480 with 1 Axes>"
      ]
     },
     "metadata": {},
     "output_type": "display_data"
    }
   ],
   "source": [
    "sol = 'kMeans_k15'\n",
    "sol_rows = df_centroids['Clust_Sols'][df_centroids['Clust_Sols'].str.contains(sol)]\n",
    "df_centroids[window_cols][df_centroids['Clust_Sols'].isin(sol_rows)].T.plot()"
   ]
  },
  {
   "cell_type": "code",
   "execution_count": 259,
   "id": "a9280565-f8c2-4fa7-94b4-068972116e77",
   "metadata": {},
   "outputs": [
    {
     "data": {
      "text/html": [
       "<div>\n",
       "<style scoped>\n",
       "    .dataframe tbody tr th:only-of-type {\n",
       "        vertical-align: middle;\n",
       "    }\n",
       "\n",
       "    .dataframe tbody tr th {\n",
       "        vertical-align: top;\n",
       "    }\n",
       "\n",
       "    .dataframe thead th {\n",
       "        text-align: right;\n",
       "    }\n",
       "</style>\n",
       "<table border=\"1\" class=\"dataframe\">\n",
       "  <thead>\n",
       "    <tr style=\"text-align: right;\">\n",
       "      <th></th>\n",
       "      <th>Clust_Sols</th>\n",
       "      <th>d1</th>\n",
       "      <th>d2</th>\n",
       "      <th>d3</th>\n",
       "      <th>d4</th>\n",
       "      <th>d5</th>\n",
       "      <th>d6</th>\n",
       "      <th>d7</th>\n",
       "      <th>d8</th>\n",
       "      <th>d9</th>\n",
       "      <th>...</th>\n",
       "      <th>d81</th>\n",
       "      <th>d82</th>\n",
       "      <th>d83</th>\n",
       "      <th>d84</th>\n",
       "      <th>d85</th>\n",
       "      <th>d86</th>\n",
       "      <th>d87</th>\n",
       "      <th>d88</th>\n",
       "      <th>d89</th>\n",
       "      <th>d90</th>\n",
       "    </tr>\n",
       "  </thead>\n",
       "  <tbody>\n",
       "    <tr>\n",
       "      <th>0</th>\n",
       "      <td>kMeans_k2-c1</td>\n",
       "      <td>0.334658</td>\n",
       "      <td>0.343587</td>\n",
       "      <td>0.322109</td>\n",
       "      <td>0.333589</td>\n",
       "      <td>0.312088</td>\n",
       "      <td>0.282053</td>\n",
       "      <td>0.235207</td>\n",
       "      <td>0.250145</td>\n",
       "      <td>0.240007</td>\n",
       "      <td>...</td>\n",
       "      <td>0.131280</td>\n",
       "      <td>0.135520</td>\n",
       "      <td>0.130736</td>\n",
       "      <td>0.134626</td>\n",
       "      <td>0.148448</td>\n",
       "      <td>0.140359</td>\n",
       "      <td>0.150217</td>\n",
       "      <td>0.148680</td>\n",
       "      <td>0.143069</td>\n",
       "      <td>0.154236</td>\n",
       "    </tr>\n",
       "    <tr>\n",
       "      <th>1</th>\n",
       "      <td>kMeans_k2-c2</td>\n",
       "      <td>-7.000000</td>\n",
       "      <td>-7.000000</td>\n",
       "      <td>-7.000000</td>\n",
       "      <td>-7.000000</td>\n",
       "      <td>-7.000000</td>\n",
       "      <td>-7.000000</td>\n",
       "      <td>-7.000000</td>\n",
       "      <td>-7.000000</td>\n",
       "      <td>-7.000000</td>\n",
       "      <td>...</td>\n",
       "      <td>-7.000000</td>\n",
       "      <td>-7.000000</td>\n",
       "      <td>-7.000000</td>\n",
       "      <td>-7.000000</td>\n",
       "      <td>-7.000000</td>\n",
       "      <td>-7.000000</td>\n",
       "      <td>-7.000000</td>\n",
       "      <td>-7.000000</td>\n",
       "      <td>-7.000000</td>\n",
       "      <td>-7.000000</td>\n",
       "    </tr>\n",
       "    <tr>\n",
       "      <th>2</th>\n",
       "      <td>kMeans_k3-c1</td>\n",
       "      <td>-4.315424</td>\n",
       "      <td>-4.365424</td>\n",
       "      <td>-4.339589</td>\n",
       "      <td>-4.006331</td>\n",
       "      <td>-4.848047</td>\n",
       "      <td>-5.348009</td>\n",
       "      <td>-6.166704</td>\n",
       "      <td>-6.550000</td>\n",
       "      <td>-6.550000</td>\n",
       "      <td>...</td>\n",
       "      <td>-7.000000</td>\n",
       "      <td>-7.000000</td>\n",
       "      <td>-7.000000</td>\n",
       "      <td>-7.000000</td>\n",
       "      <td>-7.000000</td>\n",
       "      <td>-7.000000</td>\n",
       "      <td>-7.000000</td>\n",
       "      <td>-7.000000</td>\n",
       "      <td>-6.550000</td>\n",
       "      <td>-6.100000</td>\n",
       "    </tr>\n",
       "    <tr>\n",
       "      <th>3</th>\n",
       "      <td>kMeans_k3-c2</td>\n",
       "      <td>-7.000000</td>\n",
       "      <td>-7.000000</td>\n",
       "      <td>-7.000000</td>\n",
       "      <td>-7.000000</td>\n",
       "      <td>-7.000000</td>\n",
       "      <td>-7.000000</td>\n",
       "      <td>-7.000000</td>\n",
       "      <td>-7.000000</td>\n",
       "      <td>-7.000000</td>\n",
       "      <td>...</td>\n",
       "      <td>-7.000000</td>\n",
       "      <td>-7.000000</td>\n",
       "      <td>-7.000000</td>\n",
       "      <td>-7.000000</td>\n",
       "      <td>-7.000000</td>\n",
       "      <td>-7.000000</td>\n",
       "      <td>-7.000000</td>\n",
       "      <td>-7.000000</td>\n",
       "      <td>-7.000000</td>\n",
       "      <td>-7.000000</td>\n",
       "    </tr>\n",
       "    <tr>\n",
       "      <th>4</th>\n",
       "      <td>kMeans_k3-c3</td>\n",
       "      <td>0.438339</td>\n",
       "      <td>0.448582</td>\n",
       "      <td>0.426048</td>\n",
       "      <td>0.430355</td>\n",
       "      <td>0.427141</td>\n",
       "      <td>0.407584</td>\n",
       "      <td>0.377947</td>\n",
       "      <td>0.401765</td>\n",
       "      <td>0.391400</td>\n",
       "      <td>...</td>\n",
       "      <td>0.290283</td>\n",
       "      <td>0.294618</td>\n",
       "      <td>0.289727</td>\n",
       "      <td>0.293704</td>\n",
       "      <td>0.307834</td>\n",
       "      <td>0.299564</td>\n",
       "      <td>0.309642</td>\n",
       "      <td>0.308071</td>\n",
       "      <td>0.292301</td>\n",
       "      <td>0.293684</td>\n",
       "    </tr>\n",
       "    <tr>\n",
       "      <th>...</th>\n",
       "      <td>...</td>\n",
       "      <td>...</td>\n",
       "      <td>...</td>\n",
       "      <td>...</td>\n",
       "      <td>...</td>\n",
       "      <td>...</td>\n",
       "      <td>...</td>\n",
       "      <td>...</td>\n",
       "      <td>...</td>\n",
       "      <td>...</td>\n",
       "      <td>...</td>\n",
       "      <td>...</td>\n",
       "      <td>...</td>\n",
       "      <td>...</td>\n",
       "      <td>...</td>\n",
       "      <td>...</td>\n",
       "      <td>...</td>\n",
       "      <td>...</td>\n",
       "      <td>...</td>\n",
       "      <td>...</td>\n",
       "      <td>...</td>\n",
       "    </tr>\n",
       "    <tr>\n",
       "      <th>643</th>\n",
       "      <td>KUMAP_k=25-c21</td>\n",
       "      <td>1.674720</td>\n",
       "      <td>1.770362</td>\n",
       "      <td>1.667970</td>\n",
       "      <td>1.670204</td>\n",
       "      <td>1.709288</td>\n",
       "      <td>1.734242</td>\n",
       "      <td>1.701776</td>\n",
       "      <td>1.721131</td>\n",
       "      <td>1.864677</td>\n",
       "      <td>...</td>\n",
       "      <td>1.623079</td>\n",
       "      <td>1.604249</td>\n",
       "      <td>1.638835</td>\n",
       "      <td>1.595709</td>\n",
       "      <td>1.688036</td>\n",
       "      <td>1.562982</td>\n",
       "      <td>1.593954</td>\n",
       "      <td>1.523091</td>\n",
       "      <td>1.553571</td>\n",
       "      <td>1.526097</td>\n",
       "    </tr>\n",
       "    <tr>\n",
       "      <th>644</th>\n",
       "      <td>KUMAP_k=25-c22</td>\n",
       "      <td>0.411492</td>\n",
       "      <td>0.251419</td>\n",
       "      <td>0.380235</td>\n",
       "      <td>0.307541</td>\n",
       "      <td>0.263617</td>\n",
       "      <td>0.223087</td>\n",
       "      <td>0.074923</td>\n",
       "      <td>-0.000242</td>\n",
       "      <td>-0.043543</td>\n",
       "      <td>...</td>\n",
       "      <td>0.435286</td>\n",
       "      <td>0.381125</td>\n",
       "      <td>0.453459</td>\n",
       "      <td>0.529400</td>\n",
       "      <td>0.489061</td>\n",
       "      <td>0.462053</td>\n",
       "      <td>0.317579</td>\n",
       "      <td>0.436525</td>\n",
       "      <td>0.428585</td>\n",
       "      <td>0.366577</td>\n",
       "    </tr>\n",
       "    <tr>\n",
       "      <th>645</th>\n",
       "      <td>KUMAP_k=25-c23</td>\n",
       "      <td>0.121630</td>\n",
       "      <td>0.143466</td>\n",
       "      <td>0.014131</td>\n",
       "      <td>-0.048842</td>\n",
       "      <td>0.003282</td>\n",
       "      <td>-0.083537</td>\n",
       "      <td>-0.089820</td>\n",
       "      <td>-0.075872</td>\n",
       "      <td>-0.009362</td>\n",
       "      <td>...</td>\n",
       "      <td>-0.090372</td>\n",
       "      <td>-0.003546</td>\n",
       "      <td>-0.066316</td>\n",
       "      <td>-0.026164</td>\n",
       "      <td>0.028090</td>\n",
       "      <td>0.104497</td>\n",
       "      <td>-0.001459</td>\n",
       "      <td>0.021199</td>\n",
       "      <td>0.025292</td>\n",
       "      <td>0.017763</td>\n",
       "    </tr>\n",
       "    <tr>\n",
       "      <th>646</th>\n",
       "      <td>KUMAP_k=25-c24</td>\n",
       "      <td>0.486370</td>\n",
       "      <td>0.712061</td>\n",
       "      <td>0.616816</td>\n",
       "      <td>0.676865</td>\n",
       "      <td>0.621006</td>\n",
       "      <td>0.677565</td>\n",
       "      <td>0.625289</td>\n",
       "      <td>0.572126</td>\n",
       "      <td>0.606150</td>\n",
       "      <td>...</td>\n",
       "      <td>0.728031</td>\n",
       "      <td>0.783138</td>\n",
       "      <td>0.639943</td>\n",
       "      <td>0.640770</td>\n",
       "      <td>0.584598</td>\n",
       "      <td>0.593145</td>\n",
       "      <td>0.697958</td>\n",
       "      <td>0.571559</td>\n",
       "      <td>0.476062</td>\n",
       "      <td>0.202521</td>\n",
       "    </tr>\n",
       "    <tr>\n",
       "      <th>647</th>\n",
       "      <td>KUMAP_k=25-c25</td>\n",
       "      <td>0.123304</td>\n",
       "      <td>0.145121</td>\n",
       "      <td>0.101670</td>\n",
       "      <td>0.041894</td>\n",
       "      <td>0.064351</td>\n",
       "      <td>0.060593</td>\n",
       "      <td>0.010847</td>\n",
       "      <td>0.093030</td>\n",
       "      <td>0.109199</td>\n",
       "      <td>...</td>\n",
       "      <td>-0.291316</td>\n",
       "      <td>-0.261332</td>\n",
       "      <td>-0.319035</td>\n",
       "      <td>-0.263400</td>\n",
       "      <td>-0.281680</td>\n",
       "      <td>-0.284380</td>\n",
       "      <td>-0.335523</td>\n",
       "      <td>-0.244473</td>\n",
       "      <td>-0.184842</td>\n",
       "      <td>-0.118102</td>\n",
       "    </tr>\n",
       "  </tbody>\n",
       "</table>\n",
       "<p>648 rows × 91 columns</p>\n",
       "</div>"
      ],
      "text/plain": [
       "         Clust_Sols        d1        d2        d3        d4        d5  \\\n",
       "0      kMeans_k2-c1  0.334658  0.343587  0.322109  0.333589  0.312088   \n",
       "1      kMeans_k2-c2 -7.000000 -7.000000 -7.000000 -7.000000 -7.000000   \n",
       "2      kMeans_k3-c1 -4.315424 -4.365424 -4.339589 -4.006331 -4.848047   \n",
       "3      kMeans_k3-c2 -7.000000 -7.000000 -7.000000 -7.000000 -7.000000   \n",
       "4      kMeans_k3-c3  0.438339  0.448582  0.426048  0.430355  0.427141   \n",
       "..              ...       ...       ...       ...       ...       ...   \n",
       "643  KUMAP_k=25-c21  1.674720  1.770362  1.667970  1.670204  1.709288   \n",
       "644  KUMAP_k=25-c22  0.411492  0.251419  0.380235  0.307541  0.263617   \n",
       "645  KUMAP_k=25-c23  0.121630  0.143466  0.014131 -0.048842  0.003282   \n",
       "646  KUMAP_k=25-c24  0.486370  0.712061  0.616816  0.676865  0.621006   \n",
       "647  KUMAP_k=25-c25  0.123304  0.145121  0.101670  0.041894  0.064351   \n",
       "\n",
       "           d6        d7        d8        d9  ...       d81       d82  \\\n",
       "0    0.282053  0.235207  0.250145  0.240007  ...  0.131280  0.135520   \n",
       "1   -7.000000 -7.000000 -7.000000 -7.000000  ... -7.000000 -7.000000   \n",
       "2   -5.348009 -6.166704 -6.550000 -6.550000  ... -7.000000 -7.000000   \n",
       "3   -7.000000 -7.000000 -7.000000 -7.000000  ... -7.000000 -7.000000   \n",
       "4    0.407584  0.377947  0.401765  0.391400  ...  0.290283  0.294618   \n",
       "..        ...       ...       ...       ...  ...       ...       ...   \n",
       "643  1.734242  1.701776  1.721131  1.864677  ...  1.623079  1.604249   \n",
       "644  0.223087  0.074923 -0.000242 -0.043543  ...  0.435286  0.381125   \n",
       "645 -0.083537 -0.089820 -0.075872 -0.009362  ... -0.090372 -0.003546   \n",
       "646  0.677565  0.625289  0.572126  0.606150  ...  0.728031  0.783138   \n",
       "647  0.060593  0.010847  0.093030  0.109199  ... -0.291316 -0.261332   \n",
       "\n",
       "          d83       d84       d85       d86       d87       d88       d89  \\\n",
       "0    0.130736  0.134626  0.148448  0.140359  0.150217  0.148680  0.143069   \n",
       "1   -7.000000 -7.000000 -7.000000 -7.000000 -7.000000 -7.000000 -7.000000   \n",
       "2   -7.000000 -7.000000 -7.000000 -7.000000 -7.000000 -7.000000 -6.550000   \n",
       "3   -7.000000 -7.000000 -7.000000 -7.000000 -7.000000 -7.000000 -7.000000   \n",
       "4    0.289727  0.293704  0.307834  0.299564  0.309642  0.308071  0.292301   \n",
       "..        ...       ...       ...       ...       ...       ...       ...   \n",
       "643  1.638835  1.595709  1.688036  1.562982  1.593954  1.523091  1.553571   \n",
       "644  0.453459  0.529400  0.489061  0.462053  0.317579  0.436525  0.428585   \n",
       "645 -0.066316 -0.026164  0.028090  0.104497 -0.001459  0.021199  0.025292   \n",
       "646  0.639943  0.640770  0.584598  0.593145  0.697958  0.571559  0.476062   \n",
       "647 -0.319035 -0.263400 -0.281680 -0.284380 -0.335523 -0.244473 -0.184842   \n",
       "\n",
       "          d90  \n",
       "0    0.154236  \n",
       "1   -7.000000  \n",
       "2   -6.100000  \n",
       "3   -7.000000  \n",
       "4    0.293684  \n",
       "..        ...  \n",
       "643  1.526097  \n",
       "644  0.366577  \n",
       "645  0.017763  \n",
       "646  0.202521  \n",
       "647 -0.118102  \n",
       "\n",
       "[648 rows x 91 columns]"
      ]
     },
     "execution_count": 259,
     "metadata": {},
     "output_type": "execute_result"
    }
   ],
   "source": [
    "df_centroids"
   ]
  },
  {
   "cell_type": "markdown",
   "id": "ba0adf88-8a5d-42fc-bf5e-400d1c001f6d",
   "metadata": {},
   "source": [
    "### HDBSCAN\n",
    "TBC"
   ]
  },
  {
   "cell_type": "markdown",
   "id": "e79a6361-ae14-425a-89ba-6867df31e7c4",
   "metadata": {},
   "source": [
    "---\n",
    "---\n",
    "# Saving Outputs"
   ]
  },
  {
   "cell_type": "markdown",
   "id": "77bac7b0-22fe-4934-80fd-e5d40ff020a9",
   "metadata": {},
   "source": [
    "### Clustering Solutions"
   ]
  },
  {
   "cell_type": "code",
   "execution_count": 27,
   "id": "23b38f58-0dbf-4b66-88e0-f0d11937e99e",
   "metadata": {},
   "outputs": [
    {
     "data": {
      "text/html": [
       "<div>\n",
       "<style scoped>\n",
       "    .dataframe tbody tr th:only-of-type {\n",
       "        vertical-align: middle;\n",
       "    }\n",
       "\n",
       "    .dataframe tbody tr th {\n",
       "        vertical-align: top;\n",
       "    }\n",
       "\n",
       "    .dataframe thead th {\n",
       "        text-align: right;\n",
       "    }\n",
       "</style>\n",
       "<table border=\"1\" class=\"dataframe\">\n",
       "  <thead>\n",
       "    <tr style=\"text-align: right;\">\n",
       "      <th></th>\n",
       "      <th>short_ID</th>\n",
       "      <th>window_ID</th>\n",
       "      <th>window_start_date</th>\n",
       "      <th>UMAP_V1</th>\n",
       "      <th>UMAP_V2</th>\n",
       "      <th>kMeans_k=2</th>\n",
       "      <th>kMeans_k=3</th>\n",
       "      <th>kMeans_k=4</th>\n",
       "      <th>kMeans_k=5</th>\n",
       "      <th>kMeans_k=6</th>\n",
       "      <th>kMeans_k=7</th>\n",
       "      <th>kMeans_k=8</th>\n",
       "      <th>kMeans_k=9</th>\n",
       "      <th>kMeans_k=10</th>\n",
       "    </tr>\n",
       "  </thead>\n",
       "  <tbody>\n",
       "    <tr>\n",
       "      <th>0</th>\n",
       "      <td>127</td>\n",
       "      <td>0</td>\n",
       "      <td>2018-01-20</td>\n",
       "      <td>10.871482</td>\n",
       "      <td>2.438664</td>\n",
       "      <td>1</td>\n",
       "      <td>1</td>\n",
       "      <td>3</td>\n",
       "      <td>4</td>\n",
       "      <td>2</td>\n",
       "      <td>1</td>\n",
       "      <td>7</td>\n",
       "      <td>9</td>\n",
       "      <td>4</td>\n",
       "    </tr>\n",
       "    <tr>\n",
       "      <th>1</th>\n",
       "      <td>127</td>\n",
       "      <td>1</td>\n",
       "      <td>2018-04-20</td>\n",
       "      <td>10.872495</td>\n",
       "      <td>2.421228</td>\n",
       "      <td>1</td>\n",
       "      <td>1</td>\n",
       "      <td>3</td>\n",
       "      <td>4</td>\n",
       "      <td>2</td>\n",
       "      <td>1</td>\n",
       "      <td>7</td>\n",
       "      <td>9</td>\n",
       "      <td>4</td>\n",
       "    </tr>\n",
       "    <tr>\n",
       "      <th>2</th>\n",
       "      <td>127</td>\n",
       "      <td>2</td>\n",
       "      <td>2018-07-19</td>\n",
       "      <td>6.726967</td>\n",
       "      <td>2.628829</td>\n",
       "      <td>1</td>\n",
       "      <td>1</td>\n",
       "      <td>3</td>\n",
       "      <td>4</td>\n",
       "      <td>2</td>\n",
       "      <td>1</td>\n",
       "      <td>7</td>\n",
       "      <td>1</td>\n",
       "      <td>8</td>\n",
       "    </tr>\n",
       "    <tr>\n",
       "      <th>3</th>\n",
       "      <td>127</td>\n",
       "      <td>3</td>\n",
       "      <td>2018-10-17</td>\n",
       "      <td>6.605581</td>\n",
       "      <td>2.937758</td>\n",
       "      <td>1</td>\n",
       "      <td>1</td>\n",
       "      <td>3</td>\n",
       "      <td>4</td>\n",
       "      <td>2</td>\n",
       "      <td>1</td>\n",
       "      <td>7</td>\n",
       "      <td>1</td>\n",
       "      <td>4</td>\n",
       "    </tr>\n",
       "    <tr>\n",
       "      <th>4</th>\n",
       "      <td>127</td>\n",
       "      <td>4</td>\n",
       "      <td>2019-01-15</td>\n",
       "      <td>7.054455</td>\n",
       "      <td>2.544774</td>\n",
       "      <td>1</td>\n",
       "      <td>1</td>\n",
       "      <td>3</td>\n",
       "      <td>4</td>\n",
       "      <td>2</td>\n",
       "      <td>1</td>\n",
       "      <td>7</td>\n",
       "      <td>1</td>\n",
       "      <td>8</td>\n",
       "    </tr>\n",
       "  </tbody>\n",
       "</table>\n",
       "</div>"
      ],
      "text/plain": [
       "   short_ID  window_ID window_start_date    UMAP_V1   UMAP_V2  kMeans_k=2  \\\n",
       "0       127          0        2018-01-20  10.871482  2.438664           1   \n",
       "1       127          1        2018-04-20  10.872495  2.421228           1   \n",
       "2       127          2        2018-07-19   6.726967  2.628829           1   \n",
       "3       127          3        2018-10-17   6.605581  2.937758           1   \n",
       "4       127          4        2019-01-15   7.054455  2.544774           1   \n",
       "\n",
       "   kMeans_k=3  kMeans_k=4  kMeans_k=5  kMeans_k=6  kMeans_k=7  kMeans_k=8  \\\n",
       "0           1           3           4           2           1           7   \n",
       "1           1           3           4           2           1           7   \n",
       "2           1           3           4           2           1           7   \n",
       "3           1           3           4           2           1           7   \n",
       "4           1           3           4           2           1           7   \n",
       "\n",
       "   kMeans_k=9  kMeans_k=10  \n",
       "0           9            4  \n",
       "1           9            4  \n",
       "2           1            8  \n",
       "3           1            4  \n",
       "4           1            8  "
      ]
     },
     "execution_count": 27,
     "metadata": {},
     "output_type": "execute_result"
    }
   ],
   "source": [
    "df_sols.head()"
   ]
  },
  {
   "cell_type": "code",
   "execution_count": 28,
   "id": "e5071ec6-efb1-4235-8f4b-c6407677510f",
   "metadata": {},
   "outputs": [],
   "source": [
    "os.makedirs(f'../ModelResults/Clustering/{dataset_name}', exist_ok=True)  \n",
    "solution_fileName = solution_name.replace(\":\", \"-\" ).replace(\"-\", \"_\" )\n",
    "solution_fileName = f'{Model_Name}-{solution_fileName}.csv'\n",
    "# df_sols.to_csv(f'../ModelResults/Clustering/{dataset_name}/{solution_fileName}', index=False)  \n"
   ]
  },
  {
   "cell_type": "code",
   "execution_count": 29,
   "id": "538ede6c-d6da-4566-b451-9f77f537266b",
   "metadata": {},
   "outputs": [
    {
     "data": {
      "text/plain": [
       "'LSTM_AE-efficient_sweep_2_v49.csv'"
      ]
     },
     "execution_count": 29,
     "metadata": {},
     "output_type": "execute_result"
    }
   ],
   "source": [
    "solution_fileName"
   ]
  },
  {
   "cell_type": "markdown",
   "id": "a4bffb3d-7db9-4de9-b451-ea42169bf376",
   "metadata": {},
   "source": [
    "### Auto-Encoder Recontruction"
   ]
  },
  {
   "cell_type": "code",
   "execution_count": 30,
   "id": "2b53873a-6281-4334-a967-5cc36411ae82",
   "metadata": {},
   "outputs": [
    {
     "data": {
      "text/html": [
       "<div>\n",
       "<style scoped>\n",
       "    .dataframe tbody tr th:only-of-type {\n",
       "        vertical-align: middle;\n",
       "    }\n",
       "\n",
       "    .dataframe tbody tr th {\n",
       "        vertical-align: top;\n",
       "    }\n",
       "\n",
       "    .dataframe thead th {\n",
       "        text-align: right;\n",
       "    }\n",
       "</style>\n",
       "<table border=\"1\" class=\"dataframe\">\n",
       "  <thead>\n",
       "    <tr style=\"text-align: right;\">\n",
       "      <th></th>\n",
       "      <th>short_ID</th>\n",
       "      <th>window_ID</th>\n",
       "      <th>UMAP_V1</th>\n",
       "      <th>UMAP_V2</th>\n",
       "      <th>MSE</th>\n",
       "      <th>d1</th>\n",
       "      <th>d2</th>\n",
       "      <th>d3</th>\n",
       "      <th>d4</th>\n",
       "      <th>d5</th>\n",
       "      <th>...</th>\n",
       "      <th>d81</th>\n",
       "      <th>d82</th>\n",
       "      <th>d83</th>\n",
       "      <th>d84</th>\n",
       "      <th>d85</th>\n",
       "      <th>d86</th>\n",
       "      <th>d87</th>\n",
       "      <th>d88</th>\n",
       "      <th>d89</th>\n",
       "      <th>d90</th>\n",
       "    </tr>\n",
       "  </thead>\n",
       "  <tbody>\n",
       "    <tr>\n",
       "      <th>0</th>\n",
       "      <td>127</td>\n",
       "      <td>0</td>\n",
       "      <td>10.871482</td>\n",
       "      <td>2.438664</td>\n",
       "      <td>0.036224</td>\n",
       "      <td>0.551866</td>\n",
       "      <td>0.511525</td>\n",
       "      <td>0.418921</td>\n",
       "      <td>0.393570</td>\n",
       "      <td>0.376943</td>\n",
       "      <td>...</td>\n",
       "      <td>0.918718</td>\n",
       "      <td>0.906462</td>\n",
       "      <td>0.890662</td>\n",
       "      <td>0.858993</td>\n",
       "      <td>0.806989</td>\n",
       "      <td>0.740205</td>\n",
       "      <td>0.668449</td>\n",
       "      <td>0.601423</td>\n",
       "      <td>0.551958</td>\n",
       "      <td>0.541089</td>\n",
       "    </tr>\n",
       "    <tr>\n",
       "      <th>1</th>\n",
       "      <td>127</td>\n",
       "      <td>1</td>\n",
       "      <td>10.872495</td>\n",
       "      <td>2.421228</td>\n",
       "      <td>0.001781</td>\n",
       "      <td>0.511137</td>\n",
       "      <td>0.535627</td>\n",
       "      <td>0.456171</td>\n",
       "      <td>0.430780</td>\n",
       "      <td>0.399154</td>\n",
       "      <td>...</td>\n",
       "      <td>1.020759</td>\n",
       "      <td>0.995790</td>\n",
       "      <td>0.969248</td>\n",
       "      <td>0.935301</td>\n",
       "      <td>0.888822</td>\n",
       "      <td>0.829687</td>\n",
       "      <td>0.764942</td>\n",
       "      <td>0.704779</td>\n",
       "      <td>0.660446</td>\n",
       "      <td>0.643842</td>\n",
       "    </tr>\n",
       "    <tr>\n",
       "      <th>2</th>\n",
       "      <td>127</td>\n",
       "      <td>2</td>\n",
       "      <td>6.726967</td>\n",
       "      <td>2.628829</td>\n",
       "      <td>0.008751</td>\n",
       "      <td>0.540324</td>\n",
       "      <td>0.648341</td>\n",
       "      <td>0.572467</td>\n",
       "      <td>0.494882</td>\n",
       "      <td>0.453017</td>\n",
       "      <td>...</td>\n",
       "      <td>0.935303</td>\n",
       "      <td>0.903605</td>\n",
       "      <td>0.875646</td>\n",
       "      <td>0.850747</td>\n",
       "      <td>0.823421</td>\n",
       "      <td>0.788953</td>\n",
       "      <td>0.749272</td>\n",
       "      <td>0.711617</td>\n",
       "      <td>0.685288</td>\n",
       "      <td>0.679950</td>\n",
       "    </tr>\n",
       "    <tr>\n",
       "      <th>3</th>\n",
       "      <td>127</td>\n",
       "      <td>3</td>\n",
       "      <td>6.605581</td>\n",
       "      <td>2.937758</td>\n",
       "      <td>0.003819</td>\n",
       "      <td>0.503273</td>\n",
       "      <td>0.541258</td>\n",
       "      <td>0.460892</td>\n",
       "      <td>0.437429</td>\n",
       "      <td>0.392647</td>\n",
       "      <td>...</td>\n",
       "      <td>0.443012</td>\n",
       "      <td>0.411199</td>\n",
       "      <td>0.390286</td>\n",
       "      <td>0.376721</td>\n",
       "      <td>0.359625</td>\n",
       "      <td>0.327530</td>\n",
       "      <td>0.277821</td>\n",
       "      <td>0.214182</td>\n",
       "      <td>0.147162</td>\n",
       "      <td>0.123559</td>\n",
       "    </tr>\n",
       "    <tr>\n",
       "      <th>4</th>\n",
       "      <td>127</td>\n",
       "      <td>4</td>\n",
       "      <td>7.054455</td>\n",
       "      <td>2.544774</td>\n",
       "      <td>0.057101</td>\n",
       "      <td>1.141542</td>\n",
       "      <td>0.830329</td>\n",
       "      <td>0.652757</td>\n",
       "      <td>0.551421</td>\n",
       "      <td>0.494866</td>\n",
       "      <td>...</td>\n",
       "      <td>0.576964</td>\n",
       "      <td>0.515441</td>\n",
       "      <td>0.453450</td>\n",
       "      <td>0.377552</td>\n",
       "      <td>0.284933</td>\n",
       "      <td>0.226393</td>\n",
       "      <td>0.501658</td>\n",
       "      <td>1.006430</td>\n",
       "      <td>0.971729</td>\n",
       "      <td>0.888564</td>\n",
       "    </tr>\n",
       "  </tbody>\n",
       "</table>\n",
       "<p>5 rows × 95 columns</p>\n",
       "</div>"
      ],
      "text/plain": [
       "   short_ID  window_ID    UMAP_V1   UMAP_V2       MSE        d1        d2  \\\n",
       "0       127          0  10.871482  2.438664  0.036224  0.551866  0.511525   \n",
       "1       127          1  10.872495  2.421228  0.001781  0.511137  0.535627   \n",
       "2       127          2   6.726967  2.628829  0.008751  0.540324  0.648341   \n",
       "3       127          3   6.605581  2.937758  0.003819  0.503273  0.541258   \n",
       "4       127          4   7.054455  2.544774  0.057101  1.141542  0.830329   \n",
       "\n",
       "         d3        d4        d5  ...       d81       d82       d83       d84  \\\n",
       "0  0.418921  0.393570  0.376943  ...  0.918718  0.906462  0.890662  0.858993   \n",
       "1  0.456171  0.430780  0.399154  ...  1.020759  0.995790  0.969248  0.935301   \n",
       "2  0.572467  0.494882  0.453017  ...  0.935303  0.903605  0.875646  0.850747   \n",
       "3  0.460892  0.437429  0.392647  ...  0.443012  0.411199  0.390286  0.376721   \n",
       "4  0.652757  0.551421  0.494866  ...  0.576964  0.515441  0.453450  0.377552   \n",
       "\n",
       "        d85       d86       d87       d88       d89       d90  \n",
       "0  0.806989  0.740205  0.668449  0.601423  0.551958  0.541089  \n",
       "1  0.888822  0.829687  0.764942  0.704779  0.660446  0.643842  \n",
       "2  0.823421  0.788953  0.749272  0.711617  0.685288  0.679950  \n",
       "3  0.359625  0.327530  0.277821  0.214182  0.147162  0.123559  \n",
       "4  0.284933  0.226393  0.501658  1.006430  0.971729  0.888564  \n",
       "\n",
       "[5 rows x 95 columns]"
      ]
     },
     "execution_count": 30,
     "metadata": {},
     "output_type": "execute_result"
    }
   ],
   "source": [
    "df_reconstruct.head()"
   ]
  },
  {
   "cell_type": "code",
   "execution_count": 31,
   "id": "ef96b56f-1f3f-4535-aa51-f22ed342cad3",
   "metadata": {},
   "outputs": [],
   "source": [
    "os.makedirs(f'../ModelResults/AE_Reconstruction/{dataset_name}', exist_ok=True)  \n",
    "# df_reconstruct.to_csv(f'../ModelResults/AE_Reconstruction/{dataset_name}/{solution_fileName}', index=False)  "
   ]
  }
 ],
 "metadata": {
  "kernelspec": {
   "display_name": "Python 3 (ipykernel)",
   "language": "python",
   "name": "python3"
  },
  "language_info": {
   "codemirror_mode": {
    "name": "ipython",
    "version": 3
   },
   "file_extension": ".py",
   "mimetype": "text/x-python",
   "name": "python",
   "nbconvert_exporter": "python",
   "pygments_lexer": "ipython3",
   "version": "3.9.15"
  }
 },
 "nbformat": 4,
 "nbformat_minor": 5
}
