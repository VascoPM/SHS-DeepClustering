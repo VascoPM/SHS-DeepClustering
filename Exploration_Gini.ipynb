{
 "cells": [
  {
   "cell_type": "markdown",
   "id": "8057dce8-c9fd-4a08-b03e-ae4cedcd0a3b",
   "metadata": {},
   "source": [
    "# Gini Index\n",
    "### <I>Exploring different implementations of the Gini Index</I> \n",
    "There is no standardized implementation in Python.  \n",
    "Therefore, three methods were compared:  \n",
    "- Standard: book reference, and anywhere https://en.wikipedia.org/wiki/Gini_coefficient#cite_note-23\n",
    "- Code simplification: https://www.statology.org/gini-coefficient-python/\n",
    "- Alternative eq: https://en.wikipedia.org/wiki/Gini_coefficient#cite_note-23"
   ]
  },
  {
   "cell_type": "code",
   "execution_count": 1,
   "id": "35e4d9f9-41c7-4fd6-bc70-cd21fc37143f",
   "metadata": {},
   "outputs": [],
   "source": [
    "import numpy as np\n",
    "import time"
   ]
  },
  {
   "cell_type": "code",
   "execution_count": 103,
   "id": "84d8bb4d-66c5-4043-afcb-e2ab088a6d37",
   "metadata": {},
   "outputs": [],
   "source": [
    "x = [1000,2000,3000,4000,5000,6000,7000,8000,9000,10000]\n",
    "x2 = [100,110,120,200,210,230,300,330,360,500]\n",
    "unequal = [0, 0, 0, 0, 0, 0, 0, 0, 0, 1]\n",
    "equal = [1, 1, 1, 1, 1, 1, 1, 1, 1, 1, 1]\n",
    "large_x = list(range(1, 10001))"
   ]
  },
  {
   "cell_type": "markdown",
   "id": "8b5d27f3-3ade-48b9-bc0e-800830de5116",
   "metadata": {},
   "source": [
    "## Conclusion\n",
    "The function <code>gini_alternative</code> is the *best*.  \n",
    "It is by far the fastest, and provides results consistent with:  \n",
    "https://goodcalculators.com/gini-coefficient-calculator/  "
   ]
  },
  {
   "cell_type": "markdown",
   "id": "dac70c2a-c5a0-4ebe-ac4d-39762bd75b78",
   "metadata": {},
   "source": [
    "## Standard Eq"
   ]
  },
  {
   "cell_type": "markdown",
   "id": "285e4dc0-5bb2-48ff-b9de-d4542fc453f8",
   "metadata": {},
   "source": [
    "> ***Note***:\n",
    "The standard equation is:\n",
    "$$\\frac{\\sum_{i=1}^n \\sum_{j=1}^n\\left|x_i-x_j\\right|}{2 n^2 \\bar{x}}$$  \n",
    "This is what's referenced in the book reference.  \n",
    "Which applied directly in python logic is:"
   ]
  },
  {
   "cell_type": "code",
   "execution_count": 106,
   "id": "7cd3cf65-d8e6-46c4-b537-21385febe512",
   "metadata": {},
   "outputs": [],
   "source": [
    "def gini_book(x):\n",
    "    # x = np.sort(x) #  sort not needed\n",
    "    x = np.float64(x)\n",
    "    total = 0 \n",
    "    for i, xi in enumerate(x[:-1], 1):\n",
    "        for j, xj in enumerate(x[:-1], 1):\n",
    "            total += np.abs(xi - xj)\n",
    "            \n",
    "    return total / (2*(len(x)**2) * np.mean(x))"
   ]
  },
  {
   "cell_type": "code",
   "execution_count": 107,
   "id": "e9988969-153c-4cc6-b4fc-732e2ea54edd",
   "metadata": {},
   "outputs": [
    {
     "name": "stdout",
     "output_type": "stream",
     "text": [
      "gini Book: 0.3332000199980002\n",
      "Book Time: 149.62[s]\n"
     ]
    }
   ],
   "source": [
    "start_time = time.time()\n",
    "print(f'gini Book: {gini_book(large_x)}')\n",
    "print(f'Book Time: {np.round(time.time() - start_time,2)}[s]')  "
   ]
  },
  {
   "cell_type": "markdown",
   "id": "d1a0ea19-77cb-4b8f-acb3-87b6f7778d10",
   "metadata": {},
   "source": [
    "## Statology Python simplification"
   ]
  },
  {
   "cell_type": "markdown",
   "id": "d0bb2c02-b4e7-4dcf-891a-8d17c375d71c",
   "metadata": {},
   "source": [
    "> ***Note***:\n",
    "This implementes the standard formula,  \n",
    "but applies <code>numpy</code> vectorisation tricks to speed up calculation."
   ]
  },
  {
   "cell_type": "code",
   "execution_count": 108,
   "id": "40ddfb63-fadd-44c9-9358-88ce69f6051e",
   "metadata": {},
   "outputs": [],
   "source": [
    "# From:\n",
    "# https://www.statology.org/gini-coefficient-python/\n",
    "def gini(x):\n",
    "    x = np.float64(x)\n",
    "    # x = np.sort(x) # sort was added, but not needed\n",
    "    total = 0\n",
    "    for i, xi in enumerate(x[:-1],1):\n",
    "        total += np.sum(np.abs(xi - x[i:]))\n",
    "    return total / (len(x)**2 * np.mean(x))"
   ]
  },
  {
   "cell_type": "code",
   "execution_count": 109,
   "id": "ab5abbb4-7ef4-439c-bd97-fce4d1832c81",
   "metadata": {},
   "outputs": [
    {
     "name": "stdout",
     "output_type": "stream",
     "text": [
      "gini Statology: 0.3333\n",
      "Statology Time: 0.13[s]\n"
     ]
    }
   ],
   "source": [
    "start_time = time.time()\n",
    "print(f'gini Statology: {gini(large_x)}')\n",
    "print(f'Statology Time: {np.round(time.time() - start_time,2)}[s]')  "
   ]
  },
  {
   "cell_type": "markdown",
   "id": "b820bc50-60e2-43b6-85d1-586acd771c14",
   "metadata": {},
   "source": [
    "## Alternative Formula"
   ]
  },
  {
   "cell_type": "markdown",
   "id": "3058e9d5-eb8d-4146-bfde-ce63ad41ad0b",
   "metadata": {},
   "source": [
    "> ***Note***:\n",
    "Adding the assumption that <code>x</code> is in ascending order,  \n",
    "allows for the following simplification:  \n",
    "$$\\frac{2 \\sum_{i=1}^n i x_i}{n \\sum_{i=1}^n x_i}-\\frac{n+1}{n}$$  \n",
    "This is already a simplication from the formulas in:  \n",
    "https://www.statsdirect.com/help/nonparametric_methods/gini_coefficient.htm  \n",
    "https://goodcalculators.com/gini-coefficient-calculator/  \n",
    "which is derived in the wikipedia page:  \n",
    "https://en.wikipedia.org/wiki/Gini_coefficient#cite_note-23  \n",
    "\n",
    "*Note* that there is a further simplication in the function.  \n",
    "The estimated Gini, should be even faster, but doesn't provide a good approximation for small sample sizes <code>n</code>"
   ]
  },
  {
   "cell_type": "code",
   "execution_count": 110,
   "id": "93992d0c-13c8-4ffb-b5fb-3fa534b35a81",
   "metadata": {},
   "outputs": [],
   "source": [
    "def gini_alternative (x):\n",
    "    # https://en.wikipedia.org/wiki/Gini_coefficient#cite_note-23\n",
    "    # last in: Alternative expressions\n",
    "    x = np.float64(x)\n",
    "    x = np.sort(x)\n",
    "    sum_x = x.cumsum()[-1]\n",
    "    \n",
    "    ix = x * np.arange(1, len(x)+1)\n",
    "    sum_ix = ix.cumsum()[-1]\n",
    "\n",
    "    n = len(x)\n",
    "    \n",
    "    # estimated_total = 1 - (2/(n - 1)) * (n - (sum_ix / sum_x))\n",
    "    \n",
    "    total = ((2 * sum_ix) / (n * sum_x)) - (n+1)/n\n",
    "    \n",
    "    # print(f'Diff: {abs(total-estimated_total)}')\n",
    "    \n",
    "    return total"
   ]
  },
  {
   "cell_type": "code",
   "execution_count": 113,
   "id": "7f60dd80-eb24-4f22-affa-e87bd988851d",
   "metadata": {},
   "outputs": [
    {
     "name": "stdout",
     "output_type": "stream",
     "text": [
      "gini Wiki: 0.33329999999999993\n",
      "Wiki Time: 0.0009973049[s]\n"
     ]
    }
   ],
   "source": [
    "start_time = time.time()\n",
    "print(f'gini Wiki: {gini_alternative(large_x)}')\n",
    "print(f'Wiki Time: {np.round(time.time() - start_time,10)}[s]')  "
   ]
  },
  {
   "cell_type": "code",
   "execution_count": null,
   "id": "91384f92-bbeb-4d93-af71-6cd41641877f",
   "metadata": {},
   "outputs": [],
   "source": []
  }
 ],
 "metadata": {
  "kernelspec": {
   "display_name": "Python 3 (ipykernel)",
   "language": "python",
   "name": "python3"
  },
  "language_info": {
   "codemirror_mode": {
    "name": "ipython",
    "version": 3
   },
   "file_extension": ".py",
   "mimetype": "text/x-python",
   "name": "python",
   "nbconvert_exporter": "python",
   "pygments_lexer": "ipython3",
   "version": "3.9.15"
  }
 },
 "nbformat": 4,
 "nbformat_minor": 5
}
