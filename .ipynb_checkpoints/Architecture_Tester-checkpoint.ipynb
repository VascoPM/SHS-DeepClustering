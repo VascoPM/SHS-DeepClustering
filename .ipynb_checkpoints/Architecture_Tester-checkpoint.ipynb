{
 "cells": [
  {
   "cell_type": "code",
   "execution_count": 1,
   "id": "8a0a7f52-518d-459a-93cb-04444f8ef5d7",
   "metadata": {},
   "outputs": [],
   "source": [
    "from networks import lstm_ae, cnn_AE\n",
    "AE = cnn_AE"
   ]
  },
  {
   "cell_type": "code",
   "execution_count": 2,
   "id": "73f0d189-7428-4932-935e-ec9992e8d9cc",
   "metadata": {},
   "outputs": [],
   "source": [
    "import tensorflow as tf\n",
    "from tensorflow import keras"
   ]
  },
  {
   "cell_type": "code",
   "execution_count": 3,
   "id": "828d7d93-c4b2-4131-8bdd-62d758a4808b",
   "metadata": {},
   "outputs": [],
   "source": [
    "ann_network = AE.model()\n"
   ]
  },
  {
   "cell_type": "code",
   "execution_count": 4,
   "id": "4163c7fa-417e-4fe9-97f9-b08b99933b04",
   "metadata": {},
   "outputs": [
    {
     "name": "stdout",
     "output_type": "stream",
     "text": [
      "Model: \"CNN_AE\"\n",
      "_________________________________________________________________\n",
      " Layer (type)                Output Shape              Param #   \n",
      "=================================================================\n",
      " input_1 (InputLayer)        [(None, 90, 1)]           0         \n",
      "                                                                 \n",
      " 1BE_Conv (Conv1D)           (None, 90, 6)             36        \n",
      "                                                                 \n",
      " 1BE_BN (BatchNormalization)  (None, 90, 6)            24        \n",
      "                                                                 \n",
      " 1BE_Act (Activation)        (None, 90, 6)             0         \n",
      "                                                                 \n",
      " 1BE_MaxP (MaxPooling1D)     (None, 30, 6)             0         \n",
      "                                                                 \n",
      " 2BE_Conv (Conv1D)           (None, 30, 16)            304       \n",
      "                                                                 \n",
      " 2BE_BN (BatchNormalization)  (None, 30, 16)           64        \n",
      "                                                                 \n",
      " 2BE_Act (Activation)        (None, 30, 16)            0         \n",
      "                                                                 \n",
      " 2BE_MaxP (MaxPooling1D)     (None, 10, 16)            0         \n",
      "                                                                 \n",
      " 3BE_Conv (Conv1D)           (None, 10, 60)            2940      \n",
      "                                                                 \n",
      " 3BE_BN (BatchNormalization)  (None, 10, 60)           240       \n",
      "                                                                 \n",
      " 3BE_Act (Activation)        (None, 10, 60)            0         \n",
      "                                                                 \n",
      " 3BE_MaxP (MaxPooling1D)     (None, 5, 60)             0         \n",
      "                                                                 \n",
      " Encoder_Reshape (Flatten)   (None, 300)               0         \n",
      "                                                                 \n",
      " Latent_Space (Dense)        (None, 25)                7525      \n",
      "                                                                 \n",
      " Decoder_Reshape1 (Dense)    (None, 300)               7800      \n",
      "                                                                 \n",
      " Decoder_Reshape2 (Reshape)  (None, 5, 60)             0         \n",
      "                                                                 \n",
      " conv1d_transpose (Conv1DTra  (None, 10, 60)           10860     \n",
      " nspose)                                                         \n",
      "                                                                 \n",
      " batch_normalization (BatchN  (None, 10, 60)           240       \n",
      " ormalization)                                                   \n",
      "                                                                 \n",
      " activation_4 (Activation)   (None, 10, 60)            0         \n",
      "                                                                 \n",
      " conv1d_transpose_1 (Conv1DT  (None, 30, 16)           2896      \n",
      " ranspose)                                                       \n",
      "                                                                 \n",
      " batch_normalization_1 (Batc  (None, 30, 16)           64        \n",
      " hNormalization)                                                 \n",
      "                                                                 \n",
      " activation_6 (Activation)   (None, 30, 16)            0         \n",
      "                                                                 \n",
      " conv1d_transpose_2 (Conv1DT  (None, 90, 6)            486       \n",
      " ranspose)                                                       \n",
      "                                                                 \n",
      " batch_normalization_2 (Batc  (None, 90, 6)            24        \n",
      " hNormalization)                                                 \n",
      "                                                                 \n",
      " activation_8 (Activation)   (None, 90, 6)             0         \n",
      "                                                                 \n",
      " conv1d_transpose_3 (Conv1DT  (None, 90, 1)            31        \n",
      " ranspose)                                                       \n",
      "                                                                 \n",
      "=================================================================\n",
      "Total params: 33,534\n",
      "Trainable params: 33,206\n",
      "Non-trainable params: 328\n",
      "_________________________________________________________________\n"
     ]
    }
   ],
   "source": [
    "ann_network.summary()"
   ]
  },
  {
   "cell_type": "code",
   "execution_count": 5,
   "id": "8007e223-0a97-495c-b112-3f51cb049a20",
   "metadata": {},
   "outputs": [
    {
     "data": {
      "text/plain": [
       "'CNN_AE'"
      ]
     },
     "execution_count": 5,
     "metadata": {},
     "output_type": "execute_result"
    }
   ],
   "source": [
    "ann_network.name"
   ]
  },
  {
   "cell_type": "code",
   "execution_count": null,
   "id": "0aee6431-d4da-421e-8e29-39a1e35c8c75",
   "metadata": {},
   "outputs": [],
   "source": []
  }
 ],
 "metadata": {
  "kernelspec": {
   "display_name": "Python 3 (ipykernel)",
   "language": "python",
   "name": "python3"
  },
  "language_info": {
   "codemirror_mode": {
    "name": "ipython",
    "version": 3
   },
   "file_extension": ".py",
   "mimetype": "text/x-python",
   "name": "python",
   "nbconvert_exporter": "python",
   "pygments_lexer": "ipython3",
   "version": "3.9.15"
  }
 },
 "nbformat": 4,
 "nbformat_minor": 5
}
