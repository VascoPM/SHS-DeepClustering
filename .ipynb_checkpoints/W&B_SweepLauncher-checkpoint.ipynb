{
 "cells": [
  {
   "cell_type": "markdown",
   "id": "799e2b5a-775a-49d6-98af-53d20db4394f",
   "metadata": {},
   "source": [
    "# W&B Sweep Launcher\n",
    "### $Time$ $Series$ $4th$ $Test$\n",
    "\n",
    "$Vasco$ $Mergulhão$ $-$ $March$ $2023$\n",
    "\n",
    "### Version 1:\n",
    " - Applies Weights and Biases Sweeps on Full Sample (i.e., 90k per country).\n",
    " - Imports Custom Functions and Networks\n"
   ]
  },
  {
   "cell_type": "markdown",
   "id": "6f1205a3-bfeb-40f8-9106-b3598695acb6",
   "metadata": {},
   "source": [
    "---\n",
    "# Python Libraries & Custom Functions"
   ]
  },
  {
   "cell_type": "code",
   "execution_count": 1,
   "id": "9120b3d3-e71e-453e-93f4-a9c381aa9acb",
   "metadata": {},
   "outputs": [],
   "source": [
    "# Library scripts\n",
    "from networks import ann_train, fc_n2d, cnn_AE, cnn_ConvEmb, lstm_ae\n",
    "import Transform"
   ]
  },
  {
   "cell_type": "code",
   "execution_count": 2,
   "id": "f50a0cab-db27-40d4-be64-2087fe36b97b",
   "metadata": {},
   "outputs": [],
   "source": [
    "# Standard Libraries\n",
    "import pandas as pd\n",
    "import numpy as np\n",
    "import random\n",
    "import tensorflow as tf\n",
    "from tensorflow import keras\n",
    "from sklearn.model_selection import GroupShuffleSplit\n",
    "import wandb\n",
    "from wandb.keras import WandbCallback"
   ]
  },
  {
   "cell_type": "code",
   "execution_count": 3,
   "id": "9a5dd1e3-056c-4512-acfb-3ce3c13b1e04",
   "metadata": {},
   "outputs": [],
   "source": [
    "# Fixing random seeds to ensure the reproducibility \n",
    "seed = 42\n",
    "tf.random.set_seed(seed)\n",
    "np.random.seed(seed)\n",
    "random.seed(seed)"
   ]
  },
  {
   "cell_type": "markdown",
   "id": "41ea8c2c-b200-4b58-bff9-938f6724c9d8",
   "metadata": {},
   "source": [
    "---\n",
    "# Gradient Checks"
   ]
  },
  {
   "cell_type": "code",
   "execution_count": 4,
   "id": "558484cf-c998-4dbf-8c51-e92e013b67d4",
   "metadata": {},
   "outputs": [
    {
     "name": "stdout",
     "output_type": "stream",
     "text": [
      "No GPUs. On local Machine.\n"
     ]
    }
   ],
   "source": [
    "on_gradient = False\n",
    "# enable memory growth for gpu devices\n",
    "# source: https://stackoverflow.com/a/55541385/8849692\n",
    "gpu_devices = tf.config.experimental.list_physical_devices('GPU')\n",
    "if gpu_devices:\n",
    "    on_gradient = True\n",
    "    for device in gpu_devices:\n",
    "        tf.config.experimental.set_memory_growth(device, True)\n",
    "\n",
    "if on_gradient:\n",
    "    print(\"Num GPUs Available: \", len(tf.config.list_physical_devices('GPU')))\n",
    "    gradient_mountedfiles = ! ls /storage/data_w90 #! ls /datasets/s3_bucket #!ls /datasets/kenya-90k-set-1-w90\n",
    "    print(f'Datasets mounted: {gradient_mountedfiles}')\n",
    "else:\n",
    "    print('No GPUs. On local Machine.')\n"
   ]
  },
  {
   "cell_type": "markdown",
   "id": "c6c19390-b3cd-49c5-82dc-b0618be84be2",
   "metadata": {},
   "source": [
    "---\n",
    "# Script Variables"
   ]
  },
  {
   "cell_type": "code",
   "execution_count": 5,
   "id": "b3e07d23-de4a-4f84-8ce5-fcad4e8db1b3",
   "metadata": {},
   "outputs": [],
   "source": [
    "# Defines Dataset for the Sweep\n",
    "dataset_name = 'Kenya_90k_Set_1_w90_pW'\n",
    "# Model Name\n",
    "AE_Model = fc_n2d # Define Model Here. Options: fc_n2d, cnn_AE, cnn_ConvEmb, lstm_ae\n",
    "# Latent Layer Size\n",
    "latent_layer_size = 25\n",
    "# Number of Sweeps\n",
    "sweep_count = 1"
   ]
  },
  {
   "cell_type": "code",
   "execution_count": 6,
   "id": "6331cad2-e8d7-4beb-878f-d5843aa13123",
   "metadata": {},
   "outputs": [],
   "source": [
    "# First dependables from Script Variables\n",
    "\n",
    "# File name and navigation vars\n",
    "window_cols, window_len = Transform.retrive_window_col_names(dataset_name)\n",
    "if on_gradient == False:\n",
    "    # Uses name to navigate folders\n",
    "    dataset_folder = \"_\".join(dataset_name.split('_')[:-2]) \n",
    "    dataset_location = f'../Data_Storage_Processing/Data/{dataset_folder}/{dataset_name}.csv'\n",
    "    \n",
    "if  on_gradient == True:\n",
    "    dataset_location = f'/storage/data_w90/{dataset_name}.csv' #dataset_location = f'/datasets/s3_bucket/{dataset_name}.csv'# f'/datasets/kenya-90k-set-1-w90/{dataset_name}.csv'\n",
    "\n",
    "# Model Name and Variables\n",
    "ae_model = AE_Model.model()\n",
    "AE_Model_Name = ae_model.name \n",
    "\n",
    "# Sweep Names and Configurations\n",
    "scaler_dict = {'Orig':'OriginalScale',\n",
    "               'pW':'pWindow',\n",
    "               'G':'Global'}\n",
    "dataset_name_base = \"_\".join(dataset_name.split('_')[:-1])\n",
    "scaler_used = dataset_name.split('_')[-1]\n",
    "\n",
    "Project_Name = f'DeepClust--{dataset_name_base}--{scaler_dict[scaler_used]}'\n",
    "Sweep_Config = f'{AE_Model_Name}_sweepconfig'\n"
   ]
  },
  {
   "cell_type": "code",
   "execution_count": 7,
   "id": "403886e9-3f3d-4a87-9389-fc23f24fa10b",
   "metadata": {},
   "outputs": [
    {
     "data": {
      "text/plain": [
       "'FC_N2D_sweepconfig'"
      ]
     },
     "execution_count": 7,
     "metadata": {},
     "output_type": "execute_result"
    }
   ],
   "source": [
    "Sweep_Config"
   ]
  },
  {
   "cell_type": "code",
   "execution_count": 8,
   "id": "2ab6295e-6a69-4481-95d8-b3b12459df3c",
   "metadata": {},
   "outputs": [],
   "source": [
    "sweep_config = AE_Model.sweep_config(name=Sweep_Config, window_len=window_len, latent_layer_size=latent_layer_size)\n",
    "ann_network = AE_Model.model(window_length = window_len, latent_layer_size = latent_layer_size)"
   ]
  },
  {
   "cell_type": "code",
   "execution_count": 9,
   "id": "54c5fda8-275e-4cf8-8c69-c1dd506e093c",
   "metadata": {},
   "outputs": [
    {
     "data": {
      "text/plain": [
       "{'method': 'random',\n",
       " 'name': 'FC_N2D_sweepconfig',\n",
       " 'metric': {'name': 'mse', 'goal': 'minimize'},\n",
       " 'parameters': {'optimizer': {'values': ['nadam']},\n",
       "  'latent_layer_size': {'value': 25},\n",
       "  'epochs': {'value': 100},\n",
       "  'window_length': {'value': 90},\n",
       "  'activation_fn': {'values': ['LeakyReLU']},\n",
       "  'learning_rate': {'distribution': 'log_uniform_values',\n",
       "   'min': 1e-05,\n",
       "   'max': 0.0001},\n",
       "  'lr_decay': {'value': 0.01},\n",
       "  'batch_size': {'distribution': 'q_log_uniform_values',\n",
       "   'q': 2,\n",
       "   'min': 100,\n",
       "   'max': 300}}}"
      ]
     },
     "execution_count": 9,
     "metadata": {},
     "output_type": "execute_result"
    }
   ],
   "source": [
    "sweep_config"
   ]
  },
  {
   "cell_type": "code",
   "execution_count": 10,
   "id": "6c4a796f-f218-4158-8bc6-6c4ebb90fccb",
   "metadata": {},
   "outputs": [
    {
     "name": "stdout",
     "output_type": "stream",
     "text": [
      "Model: \"FC_N2D\"\n",
      "_________________________________________________________________\n",
      " Layer (type)                Output Shape              Param #   \n",
      "=================================================================\n",
      " Input (InputLayer)          [(None, 90)]              0         \n",
      "                                                                 \n",
      " l1_enc (Dense)              (None, 500)               45500     \n",
      "                                                                 \n",
      " l2_enc (Dense)              (None, 500)               250500    \n",
      "                                                                 \n",
      " l3_enc (Dense)              (None, 2000)              1002000   \n",
      "                                                                 \n",
      " Lantent_Space (Dense)       (None, 25)                50025     \n",
      "                                                                 \n",
      " l1_dec (Dense)              (None, 2000)              52000     \n",
      "                                                                 \n",
      " l2_dec (Dense)              (None, 500)               1000500   \n",
      "                                                                 \n",
      " l3_dec (Dense)              (None, 500)               250500    \n",
      "                                                                 \n",
      " Output (Dense)              (None, 90)                45090     \n",
      "                                                                 \n",
      "=================================================================\n",
      "Total params: 2,696,115\n",
      "Trainable params: 2,696,115\n",
      "Non-trainable params: 0\n",
      "_________________________________________________________________\n"
     ]
    }
   ],
   "source": [
    "ann_network.summary()"
   ]
  },
  {
   "cell_type": "markdown",
   "id": "7ca547fe-2021-407d-8320-d9ec73a568f4",
   "metadata": {},
   "source": [
    "---\n",
    "# Data Imports"
   ]
  },
  {
   "cell_type": "code",
   "execution_count": 11,
   "id": "e4d676bb-96d7-4a9f-aeaf-ef9075048f1a",
   "metadata": {},
   "outputs": [],
   "source": [
    "Data = pd.read_csv(dataset_location)"
   ]
  },
  {
   "cell_type": "code",
   "execution_count": 13,
   "id": "c2e44bea-432d-4334-8680-51ad57b071d3",
   "metadata": {},
   "outputs": [
    {
     "data": {
      "text/html": [
       "<div>\n",
       "<style scoped>\n",
       "    .dataframe tbody tr th:only-of-type {\n",
       "        vertical-align: middle;\n",
       "    }\n",
       "\n",
       "    .dataframe tbody tr th {\n",
       "        vertical-align: top;\n",
       "    }\n",
       "\n",
       "    .dataframe thead th {\n",
       "        text-align: right;\n",
       "    }\n",
       "</style>\n",
       "<table border=\"1\" class=\"dataframe\">\n",
       "  <thead>\n",
       "    <tr style=\"text-align: right;\">\n",
       "      <th></th>\n",
       "      <th>short_ID</th>\n",
       "      <th>window_ID</th>\n",
       "      <th>window_start_date</th>\n",
       "      <th>d1</th>\n",
       "      <th>d2</th>\n",
       "      <th>d3</th>\n",
       "      <th>d4</th>\n",
       "      <th>d5</th>\n",
       "      <th>d6</th>\n",
       "      <th>d7</th>\n",
       "      <th>...</th>\n",
       "      <th>d81</th>\n",
       "      <th>d82</th>\n",
       "      <th>d83</th>\n",
       "      <th>d84</th>\n",
       "      <th>d85</th>\n",
       "      <th>d86</th>\n",
       "      <th>d87</th>\n",
       "      <th>d88</th>\n",
       "      <th>d89</th>\n",
       "      <th>d90</th>\n",
       "    </tr>\n",
       "  </thead>\n",
       "  <tbody>\n",
       "    <tr>\n",
       "      <th>0</th>\n",
       "      <td>127</td>\n",
       "      <td>0</td>\n",
       "      <td>2018-01-20</td>\n",
       "      <td>0.543805</td>\n",
       "      <td>0.503693</td>\n",
       "      <td>0.463580</td>\n",
       "      <td>0.423467</td>\n",
       "      <td>0.383355</td>\n",
       "      <td>0.343242</td>\n",
       "      <td>0.303129</td>\n",
       "      <td>...</td>\n",
       "      <td>0.906409</td>\n",
       "      <td>0.904819</td>\n",
       "      <td>0.864707</td>\n",
       "      <td>0.786444</td>\n",
       "      <td>0.784481</td>\n",
       "      <td>0.706456</td>\n",
       "      <td>0.666459</td>\n",
       "      <td>0.626384</td>\n",
       "      <td>0.586360</td>\n",
       "      <td>0.583918</td>\n",
       "    </tr>\n",
       "    <tr>\n",
       "      <th>1</th>\n",
       "      <td>127</td>\n",
       "      <td>1</td>\n",
       "      <td>2018-04-20</td>\n",
       "      <td>0.525359</td>\n",
       "      <td>0.522565</td>\n",
       "      <td>0.480950</td>\n",
       "      <td>0.439334</td>\n",
       "      <td>0.397718</td>\n",
       "      <td>0.317612</td>\n",
       "      <td>0.314487</td>\n",
       "      <td>...</td>\n",
       "      <td>1.019053</td>\n",
       "      <td>0.977438</td>\n",
       "      <td>0.935822</td>\n",
       "      <td>0.894206</td>\n",
       "      <td>0.852591</td>\n",
       "      <td>0.810975</td>\n",
       "      <td>0.769359</td>\n",
       "      <td>0.727744</td>\n",
       "      <td>0.686128</td>\n",
       "      <td>0.644512</td>\n",
       "    </tr>\n",
       "    <tr>\n",
       "      <th>2</th>\n",
       "      <td>127</td>\n",
       "      <td>2</td>\n",
       "      <td>2018-07-19</td>\n",
       "      <td>0.651208</td>\n",
       "      <td>0.606258</td>\n",
       "      <td>0.561307</td>\n",
       "      <td>0.516357</td>\n",
       "      <td>0.471407</td>\n",
       "      <td>0.426456</td>\n",
       "      <td>0.381506</td>\n",
       "      <td>...</td>\n",
       "      <td>1.013146</td>\n",
       "      <td>0.968196</td>\n",
       "      <td>0.923246</td>\n",
       "      <td>0.878295</td>\n",
       "      <td>0.833345</td>\n",
       "      <td>0.788395</td>\n",
       "      <td>0.743444</td>\n",
       "      <td>0.698494</td>\n",
       "      <td>0.653543</td>\n",
       "      <td>0.608593</td>\n",
       "    </tr>\n",
       "    <tr>\n",
       "      <th>3</th>\n",
       "      <td>127</td>\n",
       "      <td>3</td>\n",
       "      <td>2018-10-17</td>\n",
       "      <td>0.594276</td>\n",
       "      <td>0.546883</td>\n",
       "      <td>0.499489</td>\n",
       "      <td>0.452096</td>\n",
       "      <td>0.404703</td>\n",
       "      <td>0.357309</td>\n",
       "      <td>0.309916</td>\n",
       "      <td>...</td>\n",
       "      <td>0.499489</td>\n",
       "      <td>0.452096</td>\n",
       "      <td>0.404703</td>\n",
       "      <td>0.357309</td>\n",
       "      <td>0.309916</td>\n",
       "      <td>0.262522</td>\n",
       "      <td>0.215129</td>\n",
       "      <td>0.167736</td>\n",
       "      <td>0.120342</td>\n",
       "      <td>0.072949</td>\n",
       "    </tr>\n",
       "    <tr>\n",
       "      <th>4</th>\n",
       "      <td>127</td>\n",
       "      <td>4</td>\n",
       "      <td>2019-01-15</td>\n",
       "      <td>0.953922</td>\n",
       "      <td>0.853922</td>\n",
       "      <td>0.753922</td>\n",
       "      <td>0.653922</td>\n",
       "      <td>0.553922</td>\n",
       "      <td>0.453922</td>\n",
       "      <td>0.353922</td>\n",
       "      <td>...</td>\n",
       "      <td>0.453922</td>\n",
       "      <td>0.353922</td>\n",
       "      <td>0.253922</td>\n",
       "      <td>0.153922</td>\n",
       "      <td>0.753922</td>\n",
       "      <td>0.653922</td>\n",
       "      <td>0.553922</td>\n",
       "      <td>0.453922</td>\n",
       "      <td>0.353922</td>\n",
       "      <td>2.000000</td>\n",
       "    </tr>\n",
       "  </tbody>\n",
       "</table>\n",
       "<p>5 rows × 93 columns</p>\n",
       "</div>"
      ],
      "text/plain": [
       "   short_ID  window_ID window_start_date        d1        d2        d3  \\\n",
       "0       127          0        2018-01-20  0.543805  0.503693  0.463580   \n",
       "1       127          1        2018-04-20  0.525359  0.522565  0.480950   \n",
       "2       127          2        2018-07-19  0.651208  0.606258  0.561307   \n",
       "3       127          3        2018-10-17  0.594276  0.546883  0.499489   \n",
       "4       127          4        2019-01-15  0.953922  0.853922  0.753922   \n",
       "\n",
       "         d4        d5        d6        d7  ...       d81       d82       d83  \\\n",
       "0  0.423467  0.383355  0.343242  0.303129  ...  0.906409  0.904819  0.864707   \n",
       "1  0.439334  0.397718  0.317612  0.314487  ...  1.019053  0.977438  0.935822   \n",
       "2  0.516357  0.471407  0.426456  0.381506  ...  1.013146  0.968196  0.923246   \n",
       "3  0.452096  0.404703  0.357309  0.309916  ...  0.499489  0.452096  0.404703   \n",
       "4  0.653922  0.553922  0.453922  0.353922  ...  0.453922  0.353922  0.253922   \n",
       "\n",
       "        d84       d85       d86       d87       d88       d89       d90  \n",
       "0  0.786444  0.784481  0.706456  0.666459  0.626384  0.586360  0.583918  \n",
       "1  0.894206  0.852591  0.810975  0.769359  0.727744  0.686128  0.644512  \n",
       "2  0.878295  0.833345  0.788395  0.743444  0.698494  0.653543  0.608593  \n",
       "3  0.357309  0.309916  0.262522  0.215129  0.167736  0.120342  0.072949  \n",
       "4  0.153922  0.753922  0.653922  0.553922  0.453922  0.353922  2.000000  \n",
       "\n",
       "[5 rows x 93 columns]"
      ]
     },
     "execution_count": 13,
     "metadata": {},
     "output_type": "execute_result"
    }
   ],
   "source": [
    "Data.head()"
   ]
  },
  {
   "cell_type": "code",
   "execution_count": 14,
   "id": "f0120cad-b471-44ca-98c2-7da2384c9b37",
   "metadata": {},
   "outputs": [
    {
     "data": {
      "text/html": [
       "<div>\n",
       "<style scoped>\n",
       "    .dataframe tbody tr th:only-of-type {\n",
       "        vertical-align: middle;\n",
       "    }\n",
       "\n",
       "    .dataframe tbody tr th {\n",
       "        vertical-align: top;\n",
       "    }\n",
       "\n",
       "    .dataframe thead th {\n",
       "        text-align: right;\n",
       "    }\n",
       "</style>\n",
       "<table border=\"1\" class=\"dataframe\">\n",
       "  <thead>\n",
       "    <tr style=\"text-align: right;\">\n",
       "      <th></th>\n",
       "      <th>short_ID</th>\n",
       "      <th>window_ID</th>\n",
       "      <th>d1</th>\n",
       "      <th>d2</th>\n",
       "      <th>d3</th>\n",
       "      <th>d4</th>\n",
       "      <th>d5</th>\n",
       "      <th>d6</th>\n",
       "      <th>d7</th>\n",
       "      <th>d8</th>\n",
       "      <th>...</th>\n",
       "      <th>d81</th>\n",
       "      <th>d82</th>\n",
       "      <th>d83</th>\n",
       "      <th>d84</th>\n",
       "      <th>d85</th>\n",
       "      <th>d86</th>\n",
       "      <th>d87</th>\n",
       "      <th>d88</th>\n",
       "      <th>d89</th>\n",
       "      <th>d90</th>\n",
       "    </tr>\n",
       "  </thead>\n",
       "  <tbody>\n",
       "    <tr>\n",
       "      <th>count</th>\n",
       "      <td>10000.000000</td>\n",
       "      <td>10000.000000</td>\n",
       "      <td>10000.000000</td>\n",
       "      <td>10000.000000</td>\n",
       "      <td>10000.000000</td>\n",
       "      <td>10000.000000</td>\n",
       "      <td>10000.000000</td>\n",
       "      <td>10000.000000</td>\n",
       "      <td>10000.000000</td>\n",
       "      <td>10000.000000</td>\n",
       "      <td>...</td>\n",
       "      <td>10000.000000</td>\n",
       "      <td>10000.000000</td>\n",
       "      <td>10000.000000</td>\n",
       "      <td>10000.000000</td>\n",
       "      <td>10000.000000</td>\n",
       "      <td>10000.000000</td>\n",
       "      <td>10000.000000</td>\n",
       "      <td>10000.000000</td>\n",
       "      <td>10000.000000</td>\n",
       "      <td>10000.000000</td>\n",
       "    </tr>\n",
       "    <tr>\n",
       "      <th>mean</th>\n",
       "      <td>1462.064600</td>\n",
       "      <td>8.534000</td>\n",
       "      <td>-0.340860</td>\n",
       "      <td>-0.352465</td>\n",
       "      <td>-0.357335</td>\n",
       "      <td>-0.363669</td>\n",
       "      <td>-0.370693</td>\n",
       "      <td>-0.375074</td>\n",
       "      <td>-0.387315</td>\n",
       "      <td>-0.391947</td>\n",
       "      <td>...</td>\n",
       "      <td>-0.503699</td>\n",
       "      <td>-0.505074</td>\n",
       "      <td>-0.505715</td>\n",
       "      <td>-0.499957</td>\n",
       "      <td>-0.493151</td>\n",
       "      <td>-0.483332</td>\n",
       "      <td>-0.484679</td>\n",
       "      <td>-0.487707</td>\n",
       "      <td>-0.485429</td>\n",
       "      <td>-0.479702</td>\n",
       "    </tr>\n",
       "    <tr>\n",
       "      <th>std</th>\n",
       "      <td>521.758227</td>\n",
       "      <td>5.606174</td>\n",
       "      <td>2.352696</td>\n",
       "      <td>2.364140</td>\n",
       "      <td>2.361437</td>\n",
       "      <td>2.359581</td>\n",
       "      <td>2.359209</td>\n",
       "      <td>2.361033</td>\n",
       "      <td>2.360093</td>\n",
       "      <td>2.362694</td>\n",
       "      <td>...</td>\n",
       "      <td>2.345195</td>\n",
       "      <td>2.346848</td>\n",
       "      <td>2.344717</td>\n",
       "      <td>2.343735</td>\n",
       "      <td>2.341251</td>\n",
       "      <td>2.337189</td>\n",
       "      <td>2.338230</td>\n",
       "      <td>2.339132</td>\n",
       "      <td>2.335395</td>\n",
       "      <td>2.332896</td>\n",
       "    </tr>\n",
       "    <tr>\n",
       "      <th>min</th>\n",
       "      <td>127.000000</td>\n",
       "      <td>0.000000</td>\n",
       "      <td>-7.000000</td>\n",
       "      <td>-7.000000</td>\n",
       "      <td>-7.000000</td>\n",
       "      <td>-7.000000</td>\n",
       "      <td>-7.000000</td>\n",
       "      <td>-7.000000</td>\n",
       "      <td>-7.000000</td>\n",
       "      <td>-7.000000</td>\n",
       "      <td>...</td>\n",
       "      <td>-7.000000</td>\n",
       "      <td>-7.000000</td>\n",
       "      <td>-7.000000</td>\n",
       "      <td>-7.000000</td>\n",
       "      <td>-7.000000</td>\n",
       "      <td>-7.000000</td>\n",
       "      <td>-7.000000</td>\n",
       "      <td>-7.000000</td>\n",
       "      <td>-7.000000</td>\n",
       "      <td>-7.000000</td>\n",
       "    </tr>\n",
       "    <tr>\n",
       "      <th>25%</th>\n",
       "      <td>1028.000000</td>\n",
       "      <td>4.000000</td>\n",
       "      <td>-0.338309</td>\n",
       "      <td>-0.372115</td>\n",
       "      <td>-0.344916</td>\n",
       "      <td>-0.344916</td>\n",
       "      <td>-0.348328</td>\n",
       "      <td>-0.323210</td>\n",
       "      <td>-0.362536</td>\n",
       "      <td>-0.324622</td>\n",
       "      <td>...</td>\n",
       "      <td>-0.513945</td>\n",
       "      <td>-0.515285</td>\n",
       "      <td>-0.521279</td>\n",
       "      <td>-0.516454</td>\n",
       "      <td>-0.513555</td>\n",
       "      <td>-0.511712</td>\n",
       "      <td>-0.511712</td>\n",
       "      <td>-0.514337</td>\n",
       "      <td>-0.525003</td>\n",
       "      <td>-0.522104</td>\n",
       "    </tr>\n",
       "    <tr>\n",
       "      <th>50%</th>\n",
       "      <td>1474.000000</td>\n",
       "      <td>8.000000</td>\n",
       "      <td>0.298080</td>\n",
       "      <td>0.300273</td>\n",
       "      <td>0.300487</td>\n",
       "      <td>0.302737</td>\n",
       "      <td>0.307860</td>\n",
       "      <td>0.307020</td>\n",
       "      <td>0.305829</td>\n",
       "      <td>0.306552</td>\n",
       "      <td>...</td>\n",
       "      <td>0.225718</td>\n",
       "      <td>0.220279</td>\n",
       "      <td>0.220161</td>\n",
       "      <td>0.217131</td>\n",
       "      <td>0.215551</td>\n",
       "      <td>0.220182</td>\n",
       "      <td>0.225124</td>\n",
       "      <td>0.214816</td>\n",
       "      <td>0.218008</td>\n",
       "      <td>0.223040</td>\n",
       "    </tr>\n",
       "    <tr>\n",
       "      <th>75%</th>\n",
       "      <td>1903.000000</td>\n",
       "      <td>13.000000</td>\n",
       "      <td>0.802053</td>\n",
       "      <td>0.816186</td>\n",
       "      <td>0.819935</td>\n",
       "      <td>0.807660</td>\n",
       "      <td>0.795930</td>\n",
       "      <td>0.786233</td>\n",
       "      <td>0.780636</td>\n",
       "      <td>0.763558</td>\n",
       "      <td>...</td>\n",
       "      <td>0.568954</td>\n",
       "      <td>0.568373</td>\n",
       "      <td>0.567729</td>\n",
       "      <td>0.575178</td>\n",
       "      <td>0.581575</td>\n",
       "      <td>0.601817</td>\n",
       "      <td>0.598421</td>\n",
       "      <td>0.603642</td>\n",
       "      <td>0.600142</td>\n",
       "      <td>0.587814</td>\n",
       "    </tr>\n",
       "    <tr>\n",
       "      <th>max</th>\n",
       "      <td>2370.000000</td>\n",
       "      <td>19.000000</td>\n",
       "      <td>2.000000</td>\n",
       "      <td>2.000000</td>\n",
       "      <td>2.000000</td>\n",
       "      <td>2.000000</td>\n",
       "      <td>2.000000</td>\n",
       "      <td>2.000000</td>\n",
       "      <td>2.000000</td>\n",
       "      <td>2.000000</td>\n",
       "      <td>...</td>\n",
       "      <td>2.000000</td>\n",
       "      <td>2.000000</td>\n",
       "      <td>2.000000</td>\n",
       "      <td>2.000000</td>\n",
       "      <td>2.000000</td>\n",
       "      <td>2.000000</td>\n",
       "      <td>2.000000</td>\n",
       "      <td>2.000000</td>\n",
       "      <td>2.000000</td>\n",
       "      <td>2.000000</td>\n",
       "    </tr>\n",
       "  </tbody>\n",
       "</table>\n",
       "<p>8 rows × 92 columns</p>\n",
       "</div>"
      ],
      "text/plain": [
       "           short_ID     window_ID            d1            d2            d3  \\\n",
       "count  10000.000000  10000.000000  10000.000000  10000.000000  10000.000000   \n",
       "mean    1462.064600      8.534000     -0.340860     -0.352465     -0.357335   \n",
       "std      521.758227      5.606174      2.352696      2.364140      2.361437   \n",
       "min      127.000000      0.000000     -7.000000     -7.000000     -7.000000   \n",
       "25%     1028.000000      4.000000     -0.338309     -0.372115     -0.344916   \n",
       "50%     1474.000000      8.000000      0.298080      0.300273      0.300487   \n",
       "75%     1903.000000     13.000000      0.802053      0.816186      0.819935   \n",
       "max     2370.000000     19.000000      2.000000      2.000000      2.000000   \n",
       "\n",
       "                 d4            d5            d6            d7            d8  \\\n",
       "count  10000.000000  10000.000000  10000.000000  10000.000000  10000.000000   \n",
       "mean      -0.363669     -0.370693     -0.375074     -0.387315     -0.391947   \n",
       "std        2.359581      2.359209      2.361033      2.360093      2.362694   \n",
       "min       -7.000000     -7.000000     -7.000000     -7.000000     -7.000000   \n",
       "25%       -0.344916     -0.348328     -0.323210     -0.362536     -0.324622   \n",
       "50%        0.302737      0.307860      0.307020      0.305829      0.306552   \n",
       "75%        0.807660      0.795930      0.786233      0.780636      0.763558   \n",
       "max        2.000000      2.000000      2.000000      2.000000      2.000000   \n",
       "\n",
       "       ...           d81           d82           d83           d84  \\\n",
       "count  ...  10000.000000  10000.000000  10000.000000  10000.000000   \n",
       "mean   ...     -0.503699     -0.505074     -0.505715     -0.499957   \n",
       "std    ...      2.345195      2.346848      2.344717      2.343735   \n",
       "min    ...     -7.000000     -7.000000     -7.000000     -7.000000   \n",
       "25%    ...     -0.513945     -0.515285     -0.521279     -0.516454   \n",
       "50%    ...      0.225718      0.220279      0.220161      0.217131   \n",
       "75%    ...      0.568954      0.568373      0.567729      0.575178   \n",
       "max    ...      2.000000      2.000000      2.000000      2.000000   \n",
       "\n",
       "                d85           d86           d87           d88           d89  \\\n",
       "count  10000.000000  10000.000000  10000.000000  10000.000000  10000.000000   \n",
       "mean      -0.493151     -0.483332     -0.484679     -0.487707     -0.485429   \n",
       "std        2.341251      2.337189      2.338230      2.339132      2.335395   \n",
       "min       -7.000000     -7.000000     -7.000000     -7.000000     -7.000000   \n",
       "25%       -0.513555     -0.511712     -0.511712     -0.514337     -0.525003   \n",
       "50%        0.215551      0.220182      0.225124      0.214816      0.218008   \n",
       "75%        0.581575      0.601817      0.598421      0.603642      0.600142   \n",
       "max        2.000000      2.000000      2.000000      2.000000      2.000000   \n",
       "\n",
       "                d90  \n",
       "count  10000.000000  \n",
       "mean      -0.479702  \n",
       "std        2.332896  \n",
       "min       -7.000000  \n",
       "25%       -0.522104  \n",
       "50%        0.223040  \n",
       "75%        0.587814  \n",
       "max        2.000000  \n",
       "\n",
       "[8 rows x 92 columns]"
      ]
     },
     "execution_count": 14,
     "metadata": {},
     "output_type": "execute_result"
    }
   ],
   "source": [
    "Data.describe()"
   ]
  },
  {
   "cell_type": "markdown",
   "id": "a1a22afd-629e-4f1b-94ef-1bb5ea216b97",
   "metadata": {
    "tags": []
   },
   "source": [
    "---\n",
    "# Pre-Processing"
   ]
  },
  {
   "cell_type": "markdown",
   "id": "9f32c5ba-c5cd-429f-83b1-04802f37c7aa",
   "metadata": {},
   "source": [
    "---\n",
    "## Train-Validation Split"
   ]
  },
  {
   "cell_type": "markdown",
   "id": "266dcfe8-1780-4bd3-846e-13f729b710ee",
   "metadata": {},
   "source": [
    "### Dimitrios Sphatis Suggestion\n",
    "Make sure not to have same IDs in test(valid) and train sets.<br>\n",
    "This will reduce test accuracy, but increase generability. "
   ]
  },
  {
   "cell_type": "code",
   "execution_count": 15,
   "id": "afbda3a2-beee-4395-b343-329b3d722a6c",
   "metadata": {},
   "outputs": [],
   "source": [
    "#As Dimitrios use:\n",
    "#https://stackoverflow.com/questions/44007496/random-sampling-with-pandas-data-frame-disjoint-groups\n",
    "# Initialize the GroupShuffleSplit.\n",
    "gss = GroupShuffleSplit(n_splits=1, test_size=0.1, random_state= seed)\n",
    "\n",
    "# Get the indexers for the split.\n",
    "idxTrain, idxTest = next(gss.split(Data, groups=Data.short_ID))\n",
    "\n",
    "# Get the split DataFrames.\n",
    "TrainData, ValidData = Data.iloc[idxTrain], Data.iloc[idxTest]\n",
    "\n",
    "# Ensuring the Valid and Train IDs are seperate \n",
    "assert len(set(TrainData['short_ID'].unique()).intersection(set(ValidData['short_ID'].unique()))) == 0\n",
    "\n",
    "# Converting to Numpy Array\n",
    "x_train, x_valid = TrainData[window_cols].to_numpy(), ValidData[window_cols].to_numpy()"
   ]
  },
  {
   "cell_type": "code",
   "execution_count": 16,
   "id": "9fe373fa-c589-484a-979f-7bb8f0a2674f",
   "metadata": {},
   "outputs": [
    {
     "data": {
      "text/plain": [
       "(9028, 90)"
      ]
     },
     "execution_count": 16,
     "metadata": {},
     "output_type": "execute_result"
    }
   ],
   "source": [
    "x_train.shape"
   ]
  },
  {
   "cell_type": "code",
   "execution_count": 17,
   "id": "47bfebc9-d9d1-44df-959d-946e3afdaf83",
   "metadata": {},
   "outputs": [
    {
     "data": {
      "text/plain": [
       "(972, 90)"
      ]
     },
     "execution_count": 17,
     "metadata": {},
     "output_type": "execute_result"
    }
   ],
   "source": [
    "x_valid.shape"
   ]
  },
  {
   "cell_type": "markdown",
   "id": "e72bc06f-26b7-4bc1-9200-b5a7b65a8e1e",
   "metadata": {
    "tags": []
   },
   "source": [
    "---\n",
    "---\n",
    "# WandB Sweep Log in\n",
    "https://github.com/wandb/examples/blob/master/colabs/keras/Keras_param_opti_using_sweeps.ipynb\n"
   ]
  },
  {
   "cell_type": "code",
   "execution_count": 18,
   "id": "f2e3e110-cecc-4b2e-ad62-a72a0932aa42",
   "metadata": {},
   "outputs": [
    {
     "name": "stderr",
     "output_type": "stream",
     "text": [
      "\u001b[34m\u001b[1mwandb\u001b[0m: Currently logged in as: \u001b[33mvasco-mergulhao\u001b[0m (\u001b[33mvasco-phd\u001b[0m). Use \u001b[1m`wandb login --relogin`\u001b[0m to force relogin\n"
     ]
    },
    {
     "data": {
      "text/plain": [
       "True"
      ]
     },
     "execution_count": 18,
     "metadata": {},
     "output_type": "execute_result"
    }
   ],
   "source": [
    "wandb.login()"
   ]
  },
  {
   "cell_type": "markdown",
   "id": "ba57bc94-c803-41bc-a1a8-c8b3be884590",
   "metadata": {},
   "source": [
    "# Sweep & Train Functions"
   ]
  },
  {
   "cell_type": "code",
   "execution_count": 19,
   "id": "596c3d61-c6f1-42a8-847f-a81cc5e73e47",
   "metadata": {},
   "outputs": [],
   "source": [
    "def train(model, batch_size= 32, epochs= 100, lr=0.001, lr_decay = 0.01, optimizer='nadam'):  \n",
    "    \n",
    "    tf.keras.backend.clear_session()\n",
    "    model.compile(loss=\"mse\", \n",
    "                  optimizer=ann_train.get_optimizer(lr, optimizer), \n",
    "                  metrics=[\"mse\", tf.keras.metrics.MeanAbsoluteError()])\n",
    "\n",
    "    early_stopping_cb = tf.keras.callbacks.EarlyStopping(patience=10, restore_best_weights=True)\n",
    "    # lr_scheduler_cb = keras.callbacks.ReduceLROnPlateau(factor=0.5, patience=5)\n",
    "    lr_scheduler_cb = keras.callbacks.LearningRateScheduler(ann_train.exponential_decay(lr, decay_rate = lr_decay, total_epochs = epochs))\n",
    "\n",
    "    model.fit(x_train, \n",
    "              x_train, \n",
    "              batch_size=batch_size, \n",
    "              epochs=epochs, \n",
    "              validation_data=(x_valid, x_valid), \n",
    "              callbacks=[WandbCallback(), early_stopping_cb, lr_scheduler_cb])\n",
    "    \n",
    "    "
   ]
  },
  {
   "cell_type": "code",
   "execution_count": 20,
   "id": "77e4713a-6b32-4bc1-8afd-4f93c9bd73a3",
   "metadata": {},
   "outputs": [],
   "source": [
    "def sweep_train(config_defaults=None):\n",
    "    # Initialize wandb with a sample project name\n",
    "    with wandb.init(config=config_defaults):  # this gets over-written in the Sweep\n",
    "\n",
    "        # Specify the other hyperparameters to the configuration\n",
    "        wandb.config.architecture_name = AE_Model_Name\n",
    "        wandb.config.dataset_name = dataset_name\n",
    "        ann_network = AE_Model.model(window_length = wandb.config.window_length,\n",
    "                                  latent_layer_size = wandb.config.latent_layer_size,\n",
    "                                  activation_fn = wandb.config.activation_fn)\n",
    "        train(ann_network, \n",
    "              wandb.config.batch_size, \n",
    "              wandb.config.epochs,\n",
    "              wandb.config.learning_rate,\n",
    "              wandb.config.lr_decay,\n",
    "              wandb.config.optimizer)\n",
    " \n"
   ]
  },
  {
   "cell_type": "markdown",
   "id": "e75e2102-26fb-4e24-978e-856983cbf259",
   "metadata": {},
   "source": [
    "---\n",
    "---\n",
    "# Run Sweep"
   ]
  },
  {
   "cell_type": "code",
   "execution_count": 21,
   "id": "be1f0f15-f71d-4da8-8319-4104432b20f0",
   "metadata": {},
   "outputs": [
    {
     "name": "stdout",
     "output_type": "stream",
     "text": [
      "Create sweep with ID: xtikvu7t\n",
      "Sweep URL: https://wandb.ai/vasco-phd/DeepClust--Kenya_90k_Set_1_w90--pWindow/sweeps/xtikvu7t\n"
     ]
    }
   ],
   "source": [
    "sweep_id = wandb.sweep(sweep_config, project = Project_Name)"
   ]
  },
  {
   "cell_type": "code",
   "execution_count": 22,
   "id": "5417746c-6cc3-4e07-9b8a-b8b9293d7017",
   "metadata": {
    "tags": []
   },
   "outputs": [
    {
     "name": "stderr",
     "output_type": "stream",
     "text": [
      "\u001b[34m\u001b[1mwandb\u001b[0m: Agent Starting Run: 5d15zy9t with config:\n",
      "\u001b[34m\u001b[1mwandb\u001b[0m: \tactivation_fn: LeakyReLU\n",
      "\u001b[34m\u001b[1mwandb\u001b[0m: \tbatch_size: 168\n",
      "\u001b[34m\u001b[1mwandb\u001b[0m: \tepochs: 100\n",
      "\u001b[34m\u001b[1mwandb\u001b[0m: \tlatent_layer_size: 25\n",
      "\u001b[34m\u001b[1mwandb\u001b[0m: \tlearning_rate: 2.943668334832754e-05\n",
      "\u001b[34m\u001b[1mwandb\u001b[0m: \tlr_decay: 0.01\n",
      "\u001b[34m\u001b[1mwandb\u001b[0m: \toptimizer: nadam\n",
      "\u001b[34m\u001b[1mwandb\u001b[0m: \twindow_length: 90\n"
     ]
    },
    {
     "data": {
      "text/html": [
       "wandb version 0.14.0 is available!  To upgrade, please run:\n",
       " $ pip install wandb --upgrade"
      ],
      "text/plain": [
       "<IPython.core.display.HTML object>"
      ]
     },
     "metadata": {},
     "output_type": "display_data"
    },
    {
     "data": {
      "text/html": [
       "Tracking run with wandb version 0.13.6"
      ],
      "text/plain": [
       "<IPython.core.display.HTML object>"
      ]
     },
     "metadata": {},
     "output_type": "display_data"
    },
    {
     "data": {
      "text/html": [
       "Run data is saved locally in <code>C:\\Users\\ucesvpm\\OneDrive - University College London\\PhD Project\\Data Analytics\\Time Series Clustering\\Time Series Clustering\\SHS-DeepClustering\\wandb\\run-20230403_153734-5d15zy9t</code>"
      ],
      "text/plain": [
       "<IPython.core.display.HTML object>"
      ]
     },
     "metadata": {},
     "output_type": "display_data"
    },
    {
     "data": {
      "text/html": [
       "Syncing run <strong><a href=\"https://wandb.ai/vasco-phd/DeepClust--Kenya_90k_Set_1_w90--pWindow/runs/5d15zy9t\" target=\"_blank\">splendid-sweep-1</a></strong> to <a href=\"https://wandb.ai/vasco-phd/DeepClust--Kenya_90k_Set_1_w90--pWindow\" target=\"_blank\">Weights & Biases</a> (<a href=\"https://wandb.me/run\" target=\"_blank\">docs</a>)<br/>Sweep page:  <a href=\"https://wandb.ai/vasco-phd/DeepClust--Kenya_90k_Set_1_w90--pWindow/sweeps/xtikvu7t\" target=\"_blank\">https://wandb.ai/vasco-phd/DeepClust--Kenya_90k_Set_1_w90--pWindow/sweeps/xtikvu7t</a>"
      ],
      "text/plain": [
       "<IPython.core.display.HTML object>"
      ]
     },
     "metadata": {},
     "output_type": "display_data"
    },
    {
     "name": "stderr",
     "output_type": "stream",
     "text": [
      "\u001b[34m\u001b[1mwandb\u001b[0m: \u001b[33mWARNING\u001b[0m The save_model argument by default saves the model in the HDF5 format that cannot save custom objects like subclassed models and custom layers. This behavior will be deprecated in a future release in favor of the SavedModel format. Meanwhile, the HDF5 model is saved as W&B files and the SavedModel as W&B Artifacts.\n"
     ]
    },
    {
     "name": "stdout",
     "output_type": "stream",
     "text": [
      "Epoch 1/100\n",
      "53/54 [============================>.] - ETA: 0s - loss: 3.8108 - mse: 3.8108 - mean_absolute_error: 0.9856"
     ]
    },
    {
     "name": "stderr",
     "output_type": "stream",
     "text": [
      "WARNING:absl:Function `_wrapped_model` contains input name(s) Input with unsupported characters which will be renamed to input in the SavedModel.\n",
      "WARNING:absl:Found untraced functions such as leaky_re_lu_layer_call_fn, leaky_re_lu_layer_call_and_return_conditional_losses, leaky_re_lu_1_layer_call_fn, leaky_re_lu_1_layer_call_and_return_conditional_losses, leaky_re_lu_2_layer_call_fn while saving (showing 5 of 12). These functions will not be directly callable after loading.\n"
     ]
    },
    {
     "name": "stdout",
     "output_type": "stream",
     "text": [
      "INFO:tensorflow:Assets written to: C:\\Users\\ucesvpm\\OneDrive - University College London\\PhD Project\\Data Analytics\\Time Series Clustering\\Time Series Clustering\\SHS-DeepClustering\\wandb\\run-20230403_153734-5d15zy9t\\files\\model-best\\assets\n"
     ]
    },
    {
     "name": "stderr",
     "output_type": "stream",
     "text": [
      "INFO:tensorflow:Assets written to: C:\\Users\\ucesvpm\\OneDrive - University College London\\PhD Project\\Data Analytics\\Time Series Clustering\\Time Series Clustering\\SHS-DeepClustering\\wandb\\run-20230403_153734-5d15zy9t\\files\\model-best\\assets\n",
      "\u001b[34m\u001b[1mwandb\u001b[0m: Adding directory to artifact (C:\\Users\\ucesvpm\\OneDrive - University College London\\PhD Project\\Data Analytics\\Time Series Clustering\\Time Series Clustering\\SHS-DeepClustering\\wandb\\run-20230403_153734-5d15zy9t\\files\\model-best)... Done. 0.2s\n"
     ]
    },
    {
     "name": "stdout",
     "output_type": "stream",
     "text": [
      "54/54 [==============================] - 9s 129ms/step - loss: 3.7717 - mse: 3.7717 - mean_absolute_error: 0.9808 - val_loss: 0.8825 - val_mse: 0.8825 - val_mean_absolute_error: 0.6091 - lr: 2.9437e-05\n",
      "Epoch 2/100\n",
      "54/54 [==============================] - ETA: 0s - loss: 0.6412 - mse: 0.6412 - mean_absolute_error: 0.5174"
     ]
    },
    {
     "name": "stderr",
     "output_type": "stream",
     "text": [
      "WARNING:absl:Function `_wrapped_model` contains input name(s) Input with unsupported characters which will be renamed to input in the SavedModel.\n",
      "WARNING:absl:Found untraced functions such as leaky_re_lu_layer_call_fn, leaky_re_lu_layer_call_and_return_conditional_losses, leaky_re_lu_1_layer_call_fn, leaky_re_lu_1_layer_call_and_return_conditional_losses, leaky_re_lu_2_layer_call_fn while saving (showing 5 of 12). These functions will not be directly callable after loading.\n"
     ]
    },
    {
     "name": "stdout",
     "output_type": "stream",
     "text": [
      "INFO:tensorflow:Assets written to: C:\\Users\\ucesvpm\\OneDrive - University College London\\PhD Project\\Data Analytics\\Time Series Clustering\\Time Series Clustering\\SHS-DeepClustering\\wandb\\run-20230403_153734-5d15zy9t\\files\\model-best\\assets\n"
     ]
    },
    {
     "name": "stderr",
     "output_type": "stream",
     "text": [
      "INFO:tensorflow:Assets written to: C:\\Users\\ucesvpm\\OneDrive - University College London\\PhD Project\\Data Analytics\\Time Series Clustering\\Time Series Clustering\\SHS-DeepClustering\\wandb\\run-20230403_153734-5d15zy9t\\files\\model-best\\assets\n",
      "\u001b[34m\u001b[1mwandb\u001b[0m: Adding directory to artifact (C:\\Users\\ucesvpm\\OneDrive - University College London\\PhD Project\\Data Analytics\\Time Series Clustering\\Time Series Clustering\\SHS-DeepClustering\\wandb\\run-20230403_153734-5d15zy9t\\files\\model-best)... Done. 0.2s\n"
     ]
    },
    {
     "name": "stdout",
     "output_type": "stream",
     "text": [
      "54/54 [==============================] - 6s 109ms/step - loss: 0.6412 - mse: 0.6412 - mean_absolute_error: 0.5174 - val_loss: 0.5892 - val_mse: 0.5892 - val_mean_absolute_error: 0.4840 - lr: 2.8112e-05\n",
      "Epoch 3/100\n",
      "53/54 [============================>.] - ETA: 0s - loss: 0.4855 - mse: 0.4855 - mean_absolute_error: 0.4476"
     ]
    },
    {
     "name": "stderr",
     "output_type": "stream",
     "text": [
      "WARNING:absl:Function `_wrapped_model` contains input name(s) Input with unsupported characters which will be renamed to input in the SavedModel.\n",
      "WARNING:absl:Found untraced functions such as leaky_re_lu_layer_call_fn, leaky_re_lu_layer_call_and_return_conditional_losses, leaky_re_lu_1_layer_call_fn, leaky_re_lu_1_layer_call_and_return_conditional_losses, leaky_re_lu_2_layer_call_fn while saving (showing 5 of 12). These functions will not be directly callable after loading.\n"
     ]
    },
    {
     "name": "stdout",
     "output_type": "stream",
     "text": [
      "INFO:tensorflow:Assets written to: C:\\Users\\ucesvpm\\OneDrive - University College London\\PhD Project\\Data Analytics\\Time Series Clustering\\Time Series Clustering\\SHS-DeepClustering\\wandb\\run-20230403_153734-5d15zy9t\\files\\model-best\\assets\n"
     ]
    },
    {
     "name": "stderr",
     "output_type": "stream",
     "text": [
      "INFO:tensorflow:Assets written to: C:\\Users\\ucesvpm\\OneDrive - University College London\\PhD Project\\Data Analytics\\Time Series Clustering\\Time Series Clustering\\SHS-DeepClustering\\wandb\\run-20230403_153734-5d15zy9t\\files\\model-best\\assets\n",
      "\u001b[34m\u001b[1mwandb\u001b[0m: Adding directory to artifact (C:\\Users\\ucesvpm\\OneDrive - University College London\\PhD Project\\Data Analytics\\Time Series Clustering\\Time Series Clustering\\SHS-DeepClustering\\wandb\\run-20230403_153734-5d15zy9t\\files\\model-best)... Done. 0.2s\n"
     ]
    },
    {
     "name": "stdout",
     "output_type": "stream",
     "text": [
      "54/54 [==============================] - 6s 109ms/step - loss: 0.4860 - mse: 0.4860 - mean_absolute_error: 0.4477 - val_loss: 0.4847 - val_mse: 0.4847 - val_mean_absolute_error: 0.4338 - lr: 2.6847e-05\n",
      "Epoch 4/100\n",
      "54/54 [==============================] - ETA: 0s - loss: 0.4153 - mse: 0.4153 - mean_absolute_error: 0.4141"
     ]
    },
    {
     "name": "stderr",
     "output_type": "stream",
     "text": [
      "WARNING:absl:Function `_wrapped_model` contains input name(s) Input with unsupported characters which will be renamed to input in the SavedModel.\n",
      "WARNING:absl:Found untraced functions such as leaky_re_lu_layer_call_fn, leaky_re_lu_layer_call_and_return_conditional_losses, leaky_re_lu_1_layer_call_fn, leaky_re_lu_1_layer_call_and_return_conditional_losses, leaky_re_lu_2_layer_call_fn while saving (showing 5 of 12). These functions will not be directly callable after loading.\n"
     ]
    },
    {
     "name": "stdout",
     "output_type": "stream",
     "text": [
      "INFO:tensorflow:Assets written to: C:\\Users\\ucesvpm\\OneDrive - University College London\\PhD Project\\Data Analytics\\Time Series Clustering\\Time Series Clustering\\SHS-DeepClustering\\wandb\\run-20230403_153734-5d15zy9t\\files\\model-best\\assets\n"
     ]
    },
    {
     "name": "stderr",
     "output_type": "stream",
     "text": [
      "INFO:tensorflow:Assets written to: C:\\Users\\ucesvpm\\OneDrive - University College London\\PhD Project\\Data Analytics\\Time Series Clustering\\Time Series Clustering\\SHS-DeepClustering\\wandb\\run-20230403_153734-5d15zy9t\\files\\model-best\\assets\n",
      "\u001b[34m\u001b[1mwandb\u001b[0m: Adding directory to artifact (C:\\Users\\ucesvpm\\OneDrive - University College London\\PhD Project\\Data Analytics\\Time Series Clustering\\Time Series Clustering\\SHS-DeepClustering\\wandb\\run-20230403_153734-5d15zy9t\\files\\model-best)... Done. 0.3s\n"
     ]
    },
    {
     "name": "stdout",
     "output_type": "stream",
     "text": [
      "54/54 [==============================] - 6s 113ms/step - loss: 0.4153 - mse: 0.4153 - mean_absolute_error: 0.4141 - val_loss: 0.4238 - val_mse: 0.4238 - val_mean_absolute_error: 0.3986 - lr: 2.5638e-05\n",
      "Epoch 5/100\n",
      "54/54 [==============================] - ETA: 0s - loss: 0.3730 - mse: 0.3730 - mean_absolute_error: 0.3928"
     ]
    },
    {
     "name": "stderr",
     "output_type": "stream",
     "text": [
      "WARNING:absl:Function `_wrapped_model` contains input name(s) Input with unsupported characters which will be renamed to input in the SavedModel.\n",
      "WARNING:absl:Found untraced functions such as leaky_re_lu_layer_call_fn, leaky_re_lu_layer_call_and_return_conditional_losses, leaky_re_lu_1_layer_call_fn, leaky_re_lu_1_layer_call_and_return_conditional_losses, leaky_re_lu_2_layer_call_fn while saving (showing 5 of 12). These functions will not be directly callable after loading.\n"
     ]
    },
    {
     "name": "stdout",
     "output_type": "stream",
     "text": [
      "INFO:tensorflow:Assets written to: C:\\Users\\ucesvpm\\OneDrive - University College London\\PhD Project\\Data Analytics\\Time Series Clustering\\Time Series Clustering\\SHS-DeepClustering\\wandb\\run-20230403_153734-5d15zy9t\\files\\model-best\\assets\n"
     ]
    },
    {
     "name": "stderr",
     "output_type": "stream",
     "text": [
      "INFO:tensorflow:Assets written to: C:\\Users\\ucesvpm\\OneDrive - University College London\\PhD Project\\Data Analytics\\Time Series Clustering\\Time Series Clustering\\SHS-DeepClustering\\wandb\\run-20230403_153734-5d15zy9t\\files\\model-best\\assets\n",
      "\u001b[34m\u001b[1mwandb\u001b[0m: Adding directory to artifact (C:\\Users\\ucesvpm\\OneDrive - University College London\\PhD Project\\Data Analytics\\Time Series Clustering\\Time Series Clustering\\SHS-DeepClustering\\wandb\\run-20230403_153734-5d15zy9t\\files\\model-best)... Done. 0.3s\n"
     ]
    },
    {
     "name": "stdout",
     "output_type": "stream",
     "text": [
      "54/54 [==============================] - 6s 114ms/step - loss: 0.3730 - mse: 0.3730 - mean_absolute_error: 0.3928 - val_loss: 0.3874 - val_mse: 0.3874 - val_mean_absolute_error: 0.3834 - lr: 2.4484e-05\n",
      "Epoch 6/100\n",
      "54/54 [==============================] - ETA: 0s - loss: 0.3436 - mse: 0.3436 - mean_absolute_error: 0.3768"
     ]
    },
    {
     "name": "stderr",
     "output_type": "stream",
     "text": [
      "WARNING:absl:Function `_wrapped_model` contains input name(s) Input with unsupported characters which will be renamed to input in the SavedModel.\n",
      "WARNING:absl:Found untraced functions such as leaky_re_lu_layer_call_fn, leaky_re_lu_layer_call_and_return_conditional_losses, leaky_re_lu_1_layer_call_fn, leaky_re_lu_1_layer_call_and_return_conditional_losses, leaky_re_lu_2_layer_call_fn while saving (showing 5 of 12). These functions will not be directly callable after loading.\n"
     ]
    },
    {
     "name": "stdout",
     "output_type": "stream",
     "text": [
      "INFO:tensorflow:Assets written to: C:\\Users\\ucesvpm\\OneDrive - University College London\\PhD Project\\Data Analytics\\Time Series Clustering\\Time Series Clustering\\SHS-DeepClustering\\wandb\\run-20230403_153734-5d15zy9t\\files\\model-best\\assets\n"
     ]
    },
    {
     "name": "stderr",
     "output_type": "stream",
     "text": [
      "INFO:tensorflow:Assets written to: C:\\Users\\ucesvpm\\OneDrive - University College London\\PhD Project\\Data Analytics\\Time Series Clustering\\Time Series Clustering\\SHS-DeepClustering\\wandb\\run-20230403_153734-5d15zy9t\\files\\model-best\\assets\n",
      "\u001b[34m\u001b[1mwandb\u001b[0m: Adding directory to artifact (C:\\Users\\ucesvpm\\OneDrive - University College London\\PhD Project\\Data Analytics\\Time Series Clustering\\Time Series Clustering\\SHS-DeepClustering\\wandb\\run-20230403_153734-5d15zy9t\\files\\model-best)... Done. 0.3s\n"
     ]
    },
    {
     "name": "stdout",
     "output_type": "stream",
     "text": [
      "54/54 [==============================] - 6s 120ms/step - loss: 0.3436 - mse: 0.3436 - mean_absolute_error: 0.3768 - val_loss: 0.3626 - val_mse: 0.3626 - val_mean_absolute_error: 0.3740 - lr: 2.3382e-05\n",
      "Epoch 7/100\n",
      "53/54 [============================>.] - ETA: 0s - loss: 0.3215 - mse: 0.3215 - mean_absolute_error: 0.3646"
     ]
    },
    {
     "name": "stderr",
     "output_type": "stream",
     "text": [
      "WARNING:absl:Function `_wrapped_model` contains input name(s) Input with unsupported characters which will be renamed to input in the SavedModel.\n",
      "WARNING:absl:Found untraced functions such as leaky_re_lu_layer_call_fn, leaky_re_lu_layer_call_and_return_conditional_losses, leaky_re_lu_1_layer_call_fn, leaky_re_lu_1_layer_call_and_return_conditional_losses, leaky_re_lu_2_layer_call_fn while saving (showing 5 of 12). These functions will not be directly callable after loading.\n"
     ]
    },
    {
     "name": "stdout",
     "output_type": "stream",
     "text": [
      "INFO:tensorflow:Assets written to: C:\\Users\\ucesvpm\\OneDrive - University College London\\PhD Project\\Data Analytics\\Time Series Clustering\\Time Series Clustering\\SHS-DeepClustering\\wandb\\run-20230403_153734-5d15zy9t\\files\\model-best\\assets\n"
     ]
    },
    {
     "name": "stderr",
     "output_type": "stream",
     "text": [
      "INFO:tensorflow:Assets written to: C:\\Users\\ucesvpm\\OneDrive - University College London\\PhD Project\\Data Analytics\\Time Series Clustering\\Time Series Clustering\\SHS-DeepClustering\\wandb\\run-20230403_153734-5d15zy9t\\files\\model-best\\assets\n",
      "\u001b[34m\u001b[1mwandb\u001b[0m: Adding directory to artifact (C:\\Users\\ucesvpm\\OneDrive - University College London\\PhD Project\\Data Analytics\\Time Series Clustering\\Time Series Clustering\\SHS-DeepClustering\\wandb\\run-20230403_153734-5d15zy9t\\files\\model-best)... Done. 0.3s\n"
     ]
    },
    {
     "name": "stdout",
     "output_type": "stream",
     "text": [
      "54/54 [==============================] - 6s 112ms/step - loss: 0.3219 - mse: 0.3219 - mean_absolute_error: 0.3650 - val_loss: 0.3454 - val_mse: 0.3454 - val_mean_absolute_error: 0.3698 - lr: 2.2330e-05\n",
      "Epoch 8/100\n",
      "54/54 [==============================] - ETA: 0s - loss: 0.3054 - mse: 0.3054 - mean_absolute_error: 0.3557"
     ]
    },
    {
     "name": "stderr",
     "output_type": "stream",
     "text": [
      "WARNING:absl:Function `_wrapped_model` contains input name(s) Input with unsupported characters which will be renamed to input in the SavedModel.\n",
      "WARNING:absl:Found untraced functions such as leaky_re_lu_layer_call_fn, leaky_re_lu_layer_call_and_return_conditional_losses, leaky_re_lu_1_layer_call_fn, leaky_re_lu_1_layer_call_and_return_conditional_losses, leaky_re_lu_2_layer_call_fn while saving (showing 5 of 12). These functions will not be directly callable after loading.\n"
     ]
    },
    {
     "name": "stdout",
     "output_type": "stream",
     "text": [
      "INFO:tensorflow:Assets written to: C:\\Users\\ucesvpm\\OneDrive - University College London\\PhD Project\\Data Analytics\\Time Series Clustering\\Time Series Clustering\\SHS-DeepClustering\\wandb\\run-20230403_153734-5d15zy9t\\files\\model-best\\assets\n"
     ]
    },
    {
     "name": "stderr",
     "output_type": "stream",
     "text": [
      "INFO:tensorflow:Assets written to: C:\\Users\\ucesvpm\\OneDrive - University College London\\PhD Project\\Data Analytics\\Time Series Clustering\\Time Series Clustering\\SHS-DeepClustering\\wandb\\run-20230403_153734-5d15zy9t\\files\\model-best\\assets\n",
      "\u001b[34m\u001b[1mwandb\u001b[0m: Adding directory to artifact (C:\\Users\\ucesvpm\\OneDrive - University College London\\PhD Project\\Data Analytics\\Time Series Clustering\\Time Series Clustering\\SHS-DeepClustering\\wandb\\run-20230403_153734-5d15zy9t\\files\\model-best)... Done. 0.3s\n"
     ]
    },
    {
     "name": "stdout",
     "output_type": "stream",
     "text": [
      "54/54 [==============================] - 9s 168ms/step - loss: 0.3054 - mse: 0.3054 - mean_absolute_error: 0.3557 - val_loss: 0.3257 - val_mse: 0.3257 - val_mean_absolute_error: 0.3521 - lr: 2.1325e-05\n",
      "Epoch 9/100\n",
      "53/54 [============================>.] - ETA: 0s - loss: 0.2902 - mse: 0.2902 - mean_absolute_error: 0.3472"
     ]
    },
    {
     "name": "stderr",
     "output_type": "stream",
     "text": [
      "WARNING:absl:Function `_wrapped_model` contains input name(s) Input with unsupported characters which will be renamed to input in the SavedModel.\n",
      "WARNING:absl:Found untraced functions such as leaky_re_lu_layer_call_fn, leaky_re_lu_layer_call_and_return_conditional_losses, leaky_re_lu_1_layer_call_fn, leaky_re_lu_1_layer_call_and_return_conditional_losses, leaky_re_lu_2_layer_call_fn while saving (showing 5 of 12). These functions will not be directly callable after loading.\n"
     ]
    },
    {
     "name": "stdout",
     "output_type": "stream",
     "text": [
      "INFO:tensorflow:Assets written to: C:\\Users\\ucesvpm\\OneDrive - University College London\\PhD Project\\Data Analytics\\Time Series Clustering\\Time Series Clustering\\SHS-DeepClustering\\wandb\\run-20230403_153734-5d15zy9t\\files\\model-best\\assets\n"
     ]
    },
    {
     "name": "stderr",
     "output_type": "stream",
     "text": [
      "INFO:tensorflow:Assets written to: C:\\Users\\ucesvpm\\OneDrive - University College London\\PhD Project\\Data Analytics\\Time Series Clustering\\Time Series Clustering\\SHS-DeepClustering\\wandb\\run-20230403_153734-5d15zy9t\\files\\model-best\\assets\n",
      "\u001b[34m\u001b[1mwandb\u001b[0m: Adding directory to artifact (C:\\Users\\ucesvpm\\OneDrive - University College London\\PhD Project\\Data Analytics\\Time Series Clustering\\Time Series Clustering\\SHS-DeepClustering\\wandb\\run-20230403_153734-5d15zy9t\\files\\model-best)... Done. 0.3s\n"
     ]
    },
    {
     "name": "stdout",
     "output_type": "stream",
     "text": [
      "54/54 [==============================] - 6s 118ms/step - loss: 0.2920 - mse: 0.2920 - mean_absolute_error: 0.3478 - val_loss: 0.3202 - val_mse: 0.3202 - val_mean_absolute_error: 0.3593 - lr: 2.0365e-05\n",
      "Epoch 10/100\n",
      "54/54 [==============================] - ETA: 0s - loss: 0.2807 - mse: 0.2807 - mean_absolute_error: 0.3409"
     ]
    },
    {
     "name": "stderr",
     "output_type": "stream",
     "text": [
      "WARNING:absl:Function `_wrapped_model` contains input name(s) Input with unsupported characters which will be renamed to input in the SavedModel.\n",
      "WARNING:absl:Found untraced functions such as leaky_re_lu_layer_call_fn, leaky_re_lu_layer_call_and_return_conditional_losses, leaky_re_lu_1_layer_call_fn, leaky_re_lu_1_layer_call_and_return_conditional_losses, leaky_re_lu_2_layer_call_fn while saving (showing 5 of 12). These functions will not be directly callable after loading.\n"
     ]
    },
    {
     "name": "stdout",
     "output_type": "stream",
     "text": [
      "INFO:tensorflow:Assets written to: C:\\Users\\ucesvpm\\OneDrive - University College London\\PhD Project\\Data Analytics\\Time Series Clustering\\Time Series Clustering\\SHS-DeepClustering\\wandb\\run-20230403_153734-5d15zy9t\\files\\model-best\\assets\n"
     ]
    },
    {
     "name": "stderr",
     "output_type": "stream",
     "text": [
      "INFO:tensorflow:Assets written to: C:\\Users\\ucesvpm\\OneDrive - University College London\\PhD Project\\Data Analytics\\Time Series Clustering\\Time Series Clustering\\SHS-DeepClustering\\wandb\\run-20230403_153734-5d15zy9t\\files\\model-best\\assets\n",
      "\u001b[34m\u001b[1mwandb\u001b[0m: Adding directory to artifact (C:\\Users\\ucesvpm\\OneDrive - University College London\\PhD Project\\Data Analytics\\Time Series Clustering\\Time Series Clustering\\SHS-DeepClustering\\wandb\\run-20230403_153734-5d15zy9t\\files\\model-best)... Done. 0.3s\n"
     ]
    },
    {
     "name": "stdout",
     "output_type": "stream",
     "text": [
      "54/54 [==============================] - 6s 118ms/step - loss: 0.2807 - mse: 0.2807 - mean_absolute_error: 0.3409 - val_loss: 0.3034 - val_mse: 0.3034 - val_mean_absolute_error: 0.3436 - lr: 1.9449e-05\n",
      "Epoch 11/100\n",
      "54/54 [==============================] - ETA: 0s - loss: 0.2714 - mse: 0.2714 - mean_absolute_error: 0.3352"
     ]
    },
    {
     "name": "stderr",
     "output_type": "stream",
     "text": [
      "WARNING:absl:Function `_wrapped_model` contains input name(s) Input with unsupported characters which will be renamed to input in the SavedModel.\n",
      "WARNING:absl:Found untraced functions such as leaky_re_lu_layer_call_fn, leaky_re_lu_layer_call_and_return_conditional_losses, leaky_re_lu_1_layer_call_fn, leaky_re_lu_1_layer_call_and_return_conditional_losses, leaky_re_lu_2_layer_call_fn while saving (showing 5 of 12). These functions will not be directly callable after loading.\n"
     ]
    },
    {
     "name": "stdout",
     "output_type": "stream",
     "text": [
      "INFO:tensorflow:Assets written to: C:\\Users\\ucesvpm\\OneDrive - University College London\\PhD Project\\Data Analytics\\Time Series Clustering\\Time Series Clustering\\SHS-DeepClustering\\wandb\\run-20230403_153734-5d15zy9t\\files\\model-best\\assets\n"
     ]
    },
    {
     "name": "stderr",
     "output_type": "stream",
     "text": [
      "INFO:tensorflow:Assets written to: C:\\Users\\ucesvpm\\OneDrive - University College London\\PhD Project\\Data Analytics\\Time Series Clustering\\Time Series Clustering\\SHS-DeepClustering\\wandb\\run-20230403_153734-5d15zy9t\\files\\model-best\\assets\n",
      "\u001b[34m\u001b[1mwandb\u001b[0m: Adding directory to artifact (C:\\Users\\ucesvpm\\OneDrive - University College London\\PhD Project\\Data Analytics\\Time Series Clustering\\Time Series Clustering\\SHS-DeepClustering\\wandb\\run-20230403_153734-5d15zy9t\\files\\model-best)... Done. 0.2s\n"
     ]
    },
    {
     "name": "stdout",
     "output_type": "stream",
     "text": [
      "54/54 [==============================] - 10s 183ms/step - loss: 0.2714 - mse: 0.2714 - mean_absolute_error: 0.3352 - val_loss: 0.2935 - val_mse: 0.2935 - val_mean_absolute_error: 0.3360 - lr: 1.8573e-05\n",
      "Epoch 12/100\n",
      "53/54 [============================>.] - ETA: 0s - loss: 0.2641 - mse: 0.2641 - mean_absolute_error: 0.3304"
     ]
    },
    {
     "name": "stderr",
     "output_type": "stream",
     "text": [
      "WARNING:absl:Function `_wrapped_model` contains input name(s) Input with unsupported characters which will be renamed to input in the SavedModel.\n",
      "WARNING:absl:Found untraced functions such as leaky_re_lu_layer_call_fn, leaky_re_lu_layer_call_and_return_conditional_losses, leaky_re_lu_1_layer_call_fn, leaky_re_lu_1_layer_call_and_return_conditional_losses, leaky_re_lu_2_layer_call_fn while saving (showing 5 of 12). These functions will not be directly callable after loading.\n"
     ]
    },
    {
     "name": "stdout",
     "output_type": "stream",
     "text": [
      "INFO:tensorflow:Assets written to: C:\\Users\\ucesvpm\\OneDrive - University College London\\PhD Project\\Data Analytics\\Time Series Clustering\\Time Series Clustering\\SHS-DeepClustering\\wandb\\run-20230403_153734-5d15zy9t\\files\\model-best\\assets\n"
     ]
    },
    {
     "name": "stderr",
     "output_type": "stream",
     "text": [
      "INFO:tensorflow:Assets written to: C:\\Users\\ucesvpm\\OneDrive - University College London\\PhD Project\\Data Analytics\\Time Series Clustering\\Time Series Clustering\\SHS-DeepClustering\\wandb\\run-20230403_153734-5d15zy9t\\files\\model-best\\assets\n",
      "\u001b[34m\u001b[1mwandb\u001b[0m: Adding directory to artifact (C:\\Users\\ucesvpm\\OneDrive - University College London\\PhD Project\\Data Analytics\\Time Series Clustering\\Time Series Clustering\\SHS-DeepClustering\\wandb\\run-20230403_153734-5d15zy9t\\files\\model-best)... Done. 0.2s\n"
     ]
    },
    {
     "name": "stdout",
     "output_type": "stream",
     "text": [
      "54/54 [==============================] - 6s 118ms/step - loss: 0.2634 - mse: 0.2634 - mean_absolute_error: 0.3301 - val_loss: 0.2868 - val_mse: 0.2868 - val_mean_absolute_error: 0.3334 - lr: 1.7737e-05\n",
      "Epoch 13/100\n",
      "53/54 [============================>.] - ETA: 0s - loss: 0.2577 - mse: 0.2577 - mean_absolute_error: 0.3263"
     ]
    },
    {
     "name": "stderr",
     "output_type": "stream",
     "text": [
      "WARNING:absl:Function `_wrapped_model` contains input name(s) Input with unsupported characters which will be renamed to input in the SavedModel.\n",
      "WARNING:absl:Found untraced functions such as leaky_re_lu_layer_call_fn, leaky_re_lu_layer_call_and_return_conditional_losses, leaky_re_lu_1_layer_call_fn, leaky_re_lu_1_layer_call_and_return_conditional_losses, leaky_re_lu_2_layer_call_fn while saving (showing 5 of 12). These functions will not be directly callable after loading.\n"
     ]
    },
    {
     "name": "stdout",
     "output_type": "stream",
     "text": [
      "INFO:tensorflow:Assets written to: C:\\Users\\ucesvpm\\OneDrive - University College London\\PhD Project\\Data Analytics\\Time Series Clustering\\Time Series Clustering\\SHS-DeepClustering\\wandb\\run-20230403_153734-5d15zy9t\\files\\model-best\\assets\n"
     ]
    },
    {
     "name": "stderr",
     "output_type": "stream",
     "text": [
      "INFO:tensorflow:Assets written to: C:\\Users\\ucesvpm\\OneDrive - University College London\\PhD Project\\Data Analytics\\Time Series Clustering\\Time Series Clustering\\SHS-DeepClustering\\wandb\\run-20230403_153734-5d15zy9t\\files\\model-best\\assets\n",
      "\u001b[34m\u001b[1mwandb\u001b[0m: Adding directory to artifact (C:\\Users\\ucesvpm\\OneDrive - University College London\\PhD Project\\Data Analytics\\Time Series Clustering\\Time Series Clustering\\SHS-DeepClustering\\wandb\\run-20230403_153734-5d15zy9t\\files\\model-best)... Done. 0.2s\n"
     ]
    },
    {
     "name": "stdout",
     "output_type": "stream",
     "text": [
      "54/54 [==============================] - 8s 150ms/step - loss: 0.2565 - mse: 0.2565 - mean_absolute_error: 0.3259 - val_loss: 0.2785 - val_mse: 0.2785 - val_mean_absolute_error: 0.3265 - lr: 1.6939e-05\n",
      "Epoch 14/100\n",
      "54/54 [==============================] - ETA: 0s - loss: 0.2504 - mse: 0.2504 - mean_absolute_error: 0.3219"
     ]
    },
    {
     "name": "stderr",
     "output_type": "stream",
     "text": [
      "WARNING:absl:Function `_wrapped_model` contains input name(s) Input with unsupported characters which will be renamed to input in the SavedModel.\n",
      "WARNING:absl:Found untraced functions such as leaky_re_lu_layer_call_fn, leaky_re_lu_layer_call_and_return_conditional_losses, leaky_re_lu_1_layer_call_fn, leaky_re_lu_1_layer_call_and_return_conditional_losses, leaky_re_lu_2_layer_call_fn while saving (showing 5 of 12). These functions will not be directly callable after loading.\n"
     ]
    },
    {
     "name": "stdout",
     "output_type": "stream",
     "text": [
      "INFO:tensorflow:Assets written to: C:\\Users\\ucesvpm\\OneDrive - University College London\\PhD Project\\Data Analytics\\Time Series Clustering\\Time Series Clustering\\SHS-DeepClustering\\wandb\\run-20230403_153734-5d15zy9t\\files\\model-best\\assets\n"
     ]
    },
    {
     "name": "stderr",
     "output_type": "stream",
     "text": [
      "INFO:tensorflow:Assets written to: C:\\Users\\ucesvpm\\OneDrive - University College London\\PhD Project\\Data Analytics\\Time Series Clustering\\Time Series Clustering\\SHS-DeepClustering\\wandb\\run-20230403_153734-5d15zy9t\\files\\model-best\\assets\n",
      "\u001b[34m\u001b[1mwandb\u001b[0m: Adding directory to artifact (C:\\Users\\ucesvpm\\OneDrive - University College London\\PhD Project\\Data Analytics\\Time Series Clustering\\Time Series Clustering\\SHS-DeepClustering\\wandb\\run-20230403_153734-5d15zy9t\\files\\model-best)... Done. 0.3s\n"
     ]
    },
    {
     "name": "stdout",
     "output_type": "stream",
     "text": [
      "54/54 [==============================] - 6s 116ms/step - loss: 0.2504 - mse: 0.2504 - mean_absolute_error: 0.3219 - val_loss: 0.2737 - val_mse: 0.2737 - val_mean_absolute_error: 0.3275 - lr: 1.6177e-05\n",
      "Epoch 15/100\n",
      "54/54 [==============================] - ETA: 0s - loss: 0.2451 - mse: 0.2451 - mean_absolute_error: 0.3185"
     ]
    },
    {
     "name": "stderr",
     "output_type": "stream",
     "text": [
      "WARNING:absl:Function `_wrapped_model` contains input name(s) Input with unsupported characters which will be renamed to input in the SavedModel.\n",
      "WARNING:absl:Found untraced functions such as leaky_re_lu_layer_call_fn, leaky_re_lu_layer_call_and_return_conditional_losses, leaky_re_lu_1_layer_call_fn, leaky_re_lu_1_layer_call_and_return_conditional_losses, leaky_re_lu_2_layer_call_fn while saving (showing 5 of 12). These functions will not be directly callable after loading.\n"
     ]
    },
    {
     "name": "stdout",
     "output_type": "stream",
     "text": [
      "INFO:tensorflow:Assets written to: C:\\Users\\ucesvpm\\OneDrive - University College London\\PhD Project\\Data Analytics\\Time Series Clustering\\Time Series Clustering\\SHS-DeepClustering\\wandb\\run-20230403_153734-5d15zy9t\\files\\model-best\\assets\n"
     ]
    },
    {
     "name": "stderr",
     "output_type": "stream",
     "text": [
      "INFO:tensorflow:Assets written to: C:\\Users\\ucesvpm\\OneDrive - University College London\\PhD Project\\Data Analytics\\Time Series Clustering\\Time Series Clustering\\SHS-DeepClustering\\wandb\\run-20230403_153734-5d15zy9t\\files\\model-best\\assets\n",
      "\u001b[34m\u001b[1mwandb\u001b[0m: Adding directory to artifact (C:\\Users\\ucesvpm\\OneDrive - University College London\\PhD Project\\Data Analytics\\Time Series Clustering\\Time Series Clustering\\SHS-DeepClustering\\wandb\\run-20230403_153734-5d15zy9t\\files\\model-best)... Done. 0.2s\n"
     ]
    },
    {
     "name": "stdout",
     "output_type": "stream",
     "text": [
      "54/54 [==============================] - 6s 114ms/step - loss: 0.2451 - mse: 0.2451 - mean_absolute_error: 0.3185 - val_loss: 0.2683 - val_mse: 0.2683 - val_mean_absolute_error: 0.3234 - lr: 1.5449e-05\n",
      "Epoch 16/100\n",
      "53/54 [============================>.] - ETA: 0s - loss: 0.2393 - mse: 0.2393 - mean_absolute_error: 0.3148"
     ]
    },
    {
     "name": "stderr",
     "output_type": "stream",
     "text": [
      "WARNING:absl:Function `_wrapped_model` contains input name(s) Input with unsupported characters which will be renamed to input in the SavedModel.\n",
      "WARNING:absl:Found untraced functions such as leaky_re_lu_layer_call_fn, leaky_re_lu_layer_call_and_return_conditional_losses, leaky_re_lu_1_layer_call_fn, leaky_re_lu_1_layer_call_and_return_conditional_losses, leaky_re_lu_2_layer_call_fn while saving (showing 5 of 12). These functions will not be directly callable after loading.\n"
     ]
    },
    {
     "name": "stdout",
     "output_type": "stream",
     "text": [
      "INFO:tensorflow:Assets written to: C:\\Users\\ucesvpm\\OneDrive - University College London\\PhD Project\\Data Analytics\\Time Series Clustering\\Time Series Clustering\\SHS-DeepClustering\\wandb\\run-20230403_153734-5d15zy9t\\files\\model-best\\assets\n"
     ]
    },
    {
     "name": "stderr",
     "output_type": "stream",
     "text": [
      "INFO:tensorflow:Assets written to: C:\\Users\\ucesvpm\\OneDrive - University College London\\PhD Project\\Data Analytics\\Time Series Clustering\\Time Series Clustering\\SHS-DeepClustering\\wandb\\run-20230403_153734-5d15zy9t\\files\\model-best\\assets\n",
      "\u001b[34m\u001b[1mwandb\u001b[0m: Adding directory to artifact (C:\\Users\\ucesvpm\\OneDrive - University College London\\PhD Project\\Data Analytics\\Time Series Clustering\\Time Series Clustering\\SHS-DeepClustering\\wandb\\run-20230403_153734-5d15zy9t\\files\\model-best)... Done. 0.3s\n"
     ]
    },
    {
     "name": "stdout",
     "output_type": "stream",
     "text": [
      "54/54 [==============================] - 6s 118ms/step - loss: 0.2399 - mse: 0.2399 - mean_absolute_error: 0.3150 - val_loss: 0.2633 - val_mse: 0.2633 - val_mean_absolute_error: 0.3210 - lr: 1.4753e-05\n",
      "Epoch 17/100\n",
      "54/54 [==============================] - ETA: 0s - loss: 0.2355 - mse: 0.2355 - mean_absolute_error: 0.3121"
     ]
    },
    {
     "name": "stderr",
     "output_type": "stream",
     "text": [
      "WARNING:absl:Function `_wrapped_model` contains input name(s) Input with unsupported characters which will be renamed to input in the SavedModel.\n",
      "WARNING:absl:Found untraced functions such as leaky_re_lu_layer_call_fn, leaky_re_lu_layer_call_and_return_conditional_losses, leaky_re_lu_1_layer_call_fn, leaky_re_lu_1_layer_call_and_return_conditional_losses, leaky_re_lu_2_layer_call_fn while saving (showing 5 of 12). These functions will not be directly callable after loading.\n"
     ]
    },
    {
     "name": "stdout",
     "output_type": "stream",
     "text": [
      "INFO:tensorflow:Assets written to: C:\\Users\\ucesvpm\\OneDrive - University College London\\PhD Project\\Data Analytics\\Time Series Clustering\\Time Series Clustering\\SHS-DeepClustering\\wandb\\run-20230403_153734-5d15zy9t\\files\\model-best\\assets\n"
     ]
    },
    {
     "name": "stderr",
     "output_type": "stream",
     "text": [
      "INFO:tensorflow:Assets written to: C:\\Users\\ucesvpm\\OneDrive - University College London\\PhD Project\\Data Analytics\\Time Series Clustering\\Time Series Clustering\\SHS-DeepClustering\\wandb\\run-20230403_153734-5d15zy9t\\files\\model-best\\assets\n",
      "\u001b[34m\u001b[1mwandb\u001b[0m: Adding directory to artifact (C:\\Users\\ucesvpm\\OneDrive - University College London\\PhD Project\\Data Analytics\\Time Series Clustering\\Time Series Clustering\\SHS-DeepClustering\\wandb\\run-20230403_153734-5d15zy9t\\files\\model-best)... Done. 0.2s\n"
     ]
    },
    {
     "name": "stdout",
     "output_type": "stream",
     "text": [
      "54/54 [==============================] - 6s 115ms/step - loss: 0.2355 - mse: 0.2355 - mean_absolute_error: 0.3121 - val_loss: 0.2577 - val_mse: 0.2577 - val_mean_absolute_error: 0.3128 - lr: 1.4089e-05\n",
      "Epoch 18/100\n",
      "54/54 [==============================] - ETA: 0s - loss: 0.2314 - mse: 0.2314 - mean_absolute_error: 0.3097"
     ]
    },
    {
     "name": "stderr",
     "output_type": "stream",
     "text": [
      "WARNING:absl:Function `_wrapped_model` contains input name(s) Input with unsupported characters which will be renamed to input in the SavedModel.\n",
      "WARNING:absl:Found untraced functions such as leaky_re_lu_layer_call_fn, leaky_re_lu_layer_call_and_return_conditional_losses, leaky_re_lu_1_layer_call_fn, leaky_re_lu_1_layer_call_and_return_conditional_losses, leaky_re_lu_2_layer_call_fn while saving (showing 5 of 12). These functions will not be directly callable after loading.\n"
     ]
    },
    {
     "name": "stdout",
     "output_type": "stream",
     "text": [
      "INFO:tensorflow:Assets written to: C:\\Users\\ucesvpm\\OneDrive - University College London\\PhD Project\\Data Analytics\\Time Series Clustering\\Time Series Clustering\\SHS-DeepClustering\\wandb\\run-20230403_153734-5d15zy9t\\files\\model-best\\assets\n"
     ]
    },
    {
     "name": "stderr",
     "output_type": "stream",
     "text": [
      "INFO:tensorflow:Assets written to: C:\\Users\\ucesvpm\\OneDrive - University College London\\PhD Project\\Data Analytics\\Time Series Clustering\\Time Series Clustering\\SHS-DeepClustering\\wandb\\run-20230403_153734-5d15zy9t\\files\\model-best\\assets\n",
      "\u001b[34m\u001b[1mwandb\u001b[0m: Adding directory to artifact (C:\\Users\\ucesvpm\\OneDrive - University College London\\PhD Project\\Data Analytics\\Time Series Clustering\\Time Series Clustering\\SHS-DeepClustering\\wandb\\run-20230403_153734-5d15zy9t\\files\\model-best)... Done. 0.2s\n"
     ]
    },
    {
     "name": "stdout",
     "output_type": "stream",
     "text": [
      "54/54 [==============================] - 6s 120ms/step - loss: 0.2314 - mse: 0.2314 - mean_absolute_error: 0.3097 - val_loss: 0.2537 - val_mse: 0.2537 - val_mean_absolute_error: 0.3108 - lr: 1.3455e-05\n",
      "Epoch 19/100\n",
      "54/54 [==============================] - ETA: 0s - loss: 0.2277 - mse: 0.2277 - mean_absolute_error: 0.3071"
     ]
    },
    {
     "name": "stderr",
     "output_type": "stream",
     "text": [
      "WARNING:absl:Function `_wrapped_model` contains input name(s) Input with unsupported characters which will be renamed to input in the SavedModel.\n",
      "WARNING:absl:Found untraced functions such as leaky_re_lu_layer_call_fn, leaky_re_lu_layer_call_and_return_conditional_losses, leaky_re_lu_1_layer_call_fn, leaky_re_lu_1_layer_call_and_return_conditional_losses, leaky_re_lu_2_layer_call_fn while saving (showing 5 of 12). These functions will not be directly callable after loading.\n"
     ]
    },
    {
     "name": "stdout",
     "output_type": "stream",
     "text": [
      "INFO:tensorflow:Assets written to: C:\\Users\\ucesvpm\\OneDrive - University College London\\PhD Project\\Data Analytics\\Time Series Clustering\\Time Series Clustering\\SHS-DeepClustering\\wandb\\run-20230403_153734-5d15zy9t\\files\\model-best\\assets\n"
     ]
    },
    {
     "name": "stderr",
     "output_type": "stream",
     "text": [
      "INFO:tensorflow:Assets written to: C:\\Users\\ucesvpm\\OneDrive - University College London\\PhD Project\\Data Analytics\\Time Series Clustering\\Time Series Clustering\\SHS-DeepClustering\\wandb\\run-20230403_153734-5d15zy9t\\files\\model-best\\assets\n",
      "\u001b[34m\u001b[1mwandb\u001b[0m: Adding directory to artifact (C:\\Users\\ucesvpm\\OneDrive - University College London\\PhD Project\\Data Analytics\\Time Series Clustering\\Time Series Clustering\\SHS-DeepClustering\\wandb\\run-20230403_153734-5d15zy9t\\files\\model-best)... Done. 0.2s\n"
     ]
    },
    {
     "name": "stdout",
     "output_type": "stream",
     "text": [
      "54/54 [==============================] - 5s 98ms/step - loss: 0.2277 - mse: 0.2277 - mean_absolute_error: 0.3071 - val_loss: 0.2499 - val_mse: 0.2499 - val_mean_absolute_error: 0.3081 - lr: 1.2850e-05\n",
      "Epoch 20/100\n",
      "54/54 [==============================] - ETA: 0s - loss: 0.2245 - mse: 0.2245 - mean_absolute_error: 0.3048"
     ]
    },
    {
     "name": "stderr",
     "output_type": "stream",
     "text": [
      "WARNING:absl:Function `_wrapped_model` contains input name(s) Input with unsupported characters which will be renamed to input in the SavedModel.\n",
      "WARNING:absl:Found untraced functions such as leaky_re_lu_layer_call_fn, leaky_re_lu_layer_call_and_return_conditional_losses, leaky_re_lu_1_layer_call_fn, leaky_re_lu_1_layer_call_and_return_conditional_losses, leaky_re_lu_2_layer_call_fn while saving (showing 5 of 12). These functions will not be directly callable after loading.\n"
     ]
    },
    {
     "name": "stdout",
     "output_type": "stream",
     "text": [
      "INFO:tensorflow:Assets written to: C:\\Users\\ucesvpm\\OneDrive - University College London\\PhD Project\\Data Analytics\\Time Series Clustering\\Time Series Clustering\\SHS-DeepClustering\\wandb\\run-20230403_153734-5d15zy9t\\files\\model-best\\assets\n"
     ]
    },
    {
     "name": "stderr",
     "output_type": "stream",
     "text": [
      "INFO:tensorflow:Assets written to: C:\\Users\\ucesvpm\\OneDrive - University College London\\PhD Project\\Data Analytics\\Time Series Clustering\\Time Series Clustering\\SHS-DeepClustering\\wandb\\run-20230403_153734-5d15zy9t\\files\\model-best\\assets\n",
      "\u001b[34m\u001b[1mwandb\u001b[0m: Adding directory to artifact (C:\\Users\\ucesvpm\\OneDrive - University College London\\PhD Project\\Data Analytics\\Time Series Clustering\\Time Series Clustering\\SHS-DeepClustering\\wandb\\run-20230403_153734-5d15zy9t\\files\\model-best)... Done. 0.2s\n"
     ]
    },
    {
     "name": "stdout",
     "output_type": "stream",
     "text": [
      "54/54 [==============================] - 6s 115ms/step - loss: 0.2245 - mse: 0.2245 - mean_absolute_error: 0.3048 - val_loss: 0.2467 - val_mse: 0.2467 - val_mean_absolute_error: 0.3061 - lr: 1.2271e-05\n",
      "Epoch 21/100\n",
      "54/54 [==============================] - ETA: 0s - loss: 0.2213 - mse: 0.2213 - mean_absolute_error: 0.3026"
     ]
    },
    {
     "name": "stderr",
     "output_type": "stream",
     "text": [
      "WARNING:absl:Function `_wrapped_model` contains input name(s) Input with unsupported characters which will be renamed to input in the SavedModel.\n",
      "WARNING:absl:Found untraced functions such as leaky_re_lu_layer_call_fn, leaky_re_lu_layer_call_and_return_conditional_losses, leaky_re_lu_1_layer_call_fn, leaky_re_lu_1_layer_call_and_return_conditional_losses, leaky_re_lu_2_layer_call_fn while saving (showing 5 of 12). These functions will not be directly callable after loading.\n"
     ]
    },
    {
     "name": "stdout",
     "output_type": "stream",
     "text": [
      "INFO:tensorflow:Assets written to: C:\\Users\\ucesvpm\\OneDrive - University College London\\PhD Project\\Data Analytics\\Time Series Clustering\\Time Series Clustering\\SHS-DeepClustering\\wandb\\run-20230403_153734-5d15zy9t\\files\\model-best\\assets\n"
     ]
    },
    {
     "name": "stderr",
     "output_type": "stream",
     "text": [
      "INFO:tensorflow:Assets written to: C:\\Users\\ucesvpm\\OneDrive - University College London\\PhD Project\\Data Analytics\\Time Series Clustering\\Time Series Clustering\\SHS-DeepClustering\\wandb\\run-20230403_153734-5d15zy9t\\files\\model-best\\assets\n",
      "\u001b[34m\u001b[1mwandb\u001b[0m: Adding directory to artifact (C:\\Users\\ucesvpm\\OneDrive - University College London\\PhD Project\\Data Analytics\\Time Series Clustering\\Time Series Clustering\\SHS-DeepClustering\\wandb\\run-20230403_153734-5d15zy9t\\files\\model-best)... Done. 0.2s\n"
     ]
    },
    {
     "name": "stdout",
     "output_type": "stream",
     "text": [
      "54/54 [==============================] - 6s 117ms/step - loss: 0.2213 - mse: 0.2213 - mean_absolute_error: 0.3026 - val_loss: 0.2441 - val_mse: 0.2441 - val_mean_absolute_error: 0.3076 - lr: 1.1719e-05\n",
      "Epoch 22/100\n",
      "54/54 [==============================] - ETA: 0s - loss: 0.2183 - mse: 0.2183 - mean_absolute_error: 0.3007"
     ]
    },
    {
     "name": "stderr",
     "output_type": "stream",
     "text": [
      "WARNING:absl:Function `_wrapped_model` contains input name(s) Input with unsupported characters which will be renamed to input in the SavedModel.\n",
      "WARNING:absl:Found untraced functions such as leaky_re_lu_layer_call_fn, leaky_re_lu_layer_call_and_return_conditional_losses, leaky_re_lu_1_layer_call_fn, leaky_re_lu_1_layer_call_and_return_conditional_losses, leaky_re_lu_2_layer_call_fn while saving (showing 5 of 12). These functions will not be directly callable after loading.\n"
     ]
    },
    {
     "name": "stdout",
     "output_type": "stream",
     "text": [
      "INFO:tensorflow:Assets written to: C:\\Users\\ucesvpm\\OneDrive - University College London\\PhD Project\\Data Analytics\\Time Series Clustering\\Time Series Clustering\\SHS-DeepClustering\\wandb\\run-20230403_153734-5d15zy9t\\files\\model-best\\assets\n"
     ]
    },
    {
     "name": "stderr",
     "output_type": "stream",
     "text": [
      "INFO:tensorflow:Assets written to: C:\\Users\\ucesvpm\\OneDrive - University College London\\PhD Project\\Data Analytics\\Time Series Clustering\\Time Series Clustering\\SHS-DeepClustering\\wandb\\run-20230403_153734-5d15zy9t\\files\\model-best\\assets\n",
      "\u001b[34m\u001b[1mwandb\u001b[0m: Adding directory to artifact (C:\\Users\\ucesvpm\\OneDrive - University College London\\PhD Project\\Data Analytics\\Time Series Clustering\\Time Series Clustering\\SHS-DeepClustering\\wandb\\run-20230403_153734-5d15zy9t\\files\\model-best)... Done. 0.2s\n"
     ]
    },
    {
     "name": "stdout",
     "output_type": "stream",
     "text": [
      "54/54 [==============================] - 6s 111ms/step - loss: 0.2183 - mse: 0.2183 - mean_absolute_error: 0.3007 - val_loss: 0.2405 - val_mse: 0.2405 - val_mean_absolute_error: 0.3016 - lr: 1.1192e-05\n",
      "Epoch 23/100\n",
      "54/54 [==============================] - ETA: 0s - loss: 0.2156 - mse: 0.2156 - mean_absolute_error: 0.2986"
     ]
    },
    {
     "name": "stderr",
     "output_type": "stream",
     "text": [
      "WARNING:absl:Function `_wrapped_model` contains input name(s) Input with unsupported characters which will be renamed to input in the SavedModel.\n",
      "WARNING:absl:Found untraced functions such as leaky_re_lu_layer_call_fn, leaky_re_lu_layer_call_and_return_conditional_losses, leaky_re_lu_1_layer_call_fn, leaky_re_lu_1_layer_call_and_return_conditional_losses, leaky_re_lu_2_layer_call_fn while saving (showing 5 of 12). These functions will not be directly callable after loading.\n"
     ]
    },
    {
     "name": "stdout",
     "output_type": "stream",
     "text": [
      "INFO:tensorflow:Assets written to: C:\\Users\\ucesvpm\\OneDrive - University College London\\PhD Project\\Data Analytics\\Time Series Clustering\\Time Series Clustering\\SHS-DeepClustering\\wandb\\run-20230403_153734-5d15zy9t\\files\\model-best\\assets\n"
     ]
    },
    {
     "name": "stderr",
     "output_type": "stream",
     "text": [
      "INFO:tensorflow:Assets written to: C:\\Users\\ucesvpm\\OneDrive - University College London\\PhD Project\\Data Analytics\\Time Series Clustering\\Time Series Clustering\\SHS-DeepClustering\\wandb\\run-20230403_153734-5d15zy9t\\files\\model-best\\assets\n",
      "\u001b[34m\u001b[1mwandb\u001b[0m: Adding directory to artifact (C:\\Users\\ucesvpm\\OneDrive - University College London\\PhD Project\\Data Analytics\\Time Series Clustering\\Time Series Clustering\\SHS-DeepClustering\\wandb\\run-20230403_153734-5d15zy9t\\files\\model-best)... Done. 0.3s\n"
     ]
    },
    {
     "name": "stdout",
     "output_type": "stream",
     "text": [
      "54/54 [==============================] - 7s 139ms/step - loss: 0.2156 - mse: 0.2156 - mean_absolute_error: 0.2986 - val_loss: 0.2387 - val_mse: 0.2387 - val_mean_absolute_error: 0.3038 - lr: 1.0688e-05\n",
      "Epoch 24/100\n",
      "53/54 [============================>.] - ETA: 0s - loss: 0.2143 - mse: 0.2143 - mean_absolute_error: 0.2977"
     ]
    },
    {
     "name": "stderr",
     "output_type": "stream",
     "text": [
      "WARNING:absl:Function `_wrapped_model` contains input name(s) Input with unsupported characters which will be renamed to input in the SavedModel.\n",
      "WARNING:absl:Found untraced functions such as leaky_re_lu_layer_call_fn, leaky_re_lu_layer_call_and_return_conditional_losses, leaky_re_lu_1_layer_call_fn, leaky_re_lu_1_layer_call_and_return_conditional_losses, leaky_re_lu_2_layer_call_fn while saving (showing 5 of 12). These functions will not be directly callable after loading.\n"
     ]
    },
    {
     "name": "stdout",
     "output_type": "stream",
     "text": [
      "INFO:tensorflow:Assets written to: C:\\Users\\ucesvpm\\OneDrive - University College London\\PhD Project\\Data Analytics\\Time Series Clustering\\Time Series Clustering\\SHS-DeepClustering\\wandb\\run-20230403_153734-5d15zy9t\\files\\model-best\\assets\n"
     ]
    },
    {
     "name": "stderr",
     "output_type": "stream",
     "text": [
      "INFO:tensorflow:Assets written to: C:\\Users\\ucesvpm\\OneDrive - University College London\\PhD Project\\Data Analytics\\Time Series Clustering\\Time Series Clustering\\SHS-DeepClustering\\wandb\\run-20230403_153734-5d15zy9t\\files\\model-best\\assets\n"
     ]
    },
    {
     "data": {
      "text/html": [
       "Waiting for W&B process to finish... <strong style=\"color:red\">(failed 1).</strong> Press Ctrl-C to abort syncing."
      ],
      "text/plain": [
       "<IPython.core.display.HTML object>"
      ]
     },
     "metadata": {},
     "output_type": "display_data"
    },
    {
     "data": {
      "text/html": [
       "<style>\n",
       "    table.wandb td:nth-child(1) { padding: 0 10px; text-align: left ; width: auto;} td:nth-child(2) {text-align: left ; width: 100%}\n",
       "    .wandb-row { display: flex; flex-direction: row; flex-wrap: wrap; justify-content: flex-start; width: 100% }\n",
       "    .wandb-col { display: flex; flex-direction: column; flex-basis: 100%; flex: 1; padding: 10px; }\n",
       "    </style>\n",
       "<div class=\"wandb-row\"><div class=\"wandb-col\"><h3>Run history:</h3><br/><table class=\"wandb\"><tr><td>epoch</td><td>▁▁▂▂▂▃▃▃▃▄▄▄▅▅▅▆▆▆▆▇▇▇██</td></tr><tr><td>loss</td><td>█▂▂▁▁▁▁▁▁▁▁▁▁▁▁▁▁▁▁▁▁▁▁▁</td></tr><tr><td>mean_absolute_error</td><td>█▃▃▂▂▂▂▂▂▁▁▁▁▁▁▁▁▁▁▁▁▁▁▁</td></tr><tr><td>mse</td><td>█▂▂▁▁▁▁▁▁▁▁▁▁▁▁▁▁▁▁▁▁▁▁▁</td></tr><tr><td>val_loss</td><td>█▅▄▃▃▂▂▂▂▂▂▂▁▁▁▁▁▁▁▁▁▁▁▁</td></tr><tr><td>val_mean_absolute_error</td><td>█▅▄▃▃▃▃▂▂▂▂▂▂▂▂▂▁▁▁▁▁▁▁▁</td></tr><tr><td>val_mse</td><td>█▅▄▃▃▂▂▂▂▂▂▂▁▁▁▁▁▁▁▁▁▁▁▁</td></tr></table><br/></div><div class=\"wandb-col\"><h3>Run summary:</h3><br/><table class=\"wandb\"><tr><td>best_epoch</td><td>23</td></tr><tr><td>best_val_loss</td><td>0.23505</td></tr><tr><td>epoch</td><td>23</td></tr><tr><td>loss</td><td>0.21311</td></tr><tr><td>mean_absolute_error</td><td>0.29713</td></tr><tr><td>mse</td><td>0.21311</td></tr><tr><td>val_loss</td><td>0.23505</td></tr><tr><td>val_mean_absolute_error</td><td>0.29815</td></tr><tr><td>val_mse</td><td>0.23505</td></tr></table><br/></div></div>"
      ],
      "text/plain": [
       "<IPython.core.display.HTML object>"
      ]
     },
     "metadata": {},
     "output_type": "display_data"
    },
    {
     "data": {
      "text/html": [
       "Synced <strong style=\"color:#cdcd00\">splendid-sweep-1</strong>: <a href=\"https://wandb.ai/vasco-phd/DeepClust--Kenya_90k_Set_1_w90--pWindow/runs/5d15zy9t\" target=\"_blank\">https://wandb.ai/vasco-phd/DeepClust--Kenya_90k_Set_1_w90--pWindow/runs/5d15zy9t</a><br/>Synced 6 W&B file(s), 1 media file(s), 92 artifact file(s) and 3 other file(s)"
      ],
      "text/plain": [
       "<IPython.core.display.HTML object>"
      ]
     },
     "metadata": {},
     "output_type": "display_data"
    },
    {
     "data": {
      "text/html": [
       "Find logs at: <code>.\\wandb\\run-20230403_153734-5d15zy9t\\logs</code>"
      ],
      "text/plain": [
       "<IPython.core.display.HTML object>"
      ]
     },
     "metadata": {},
     "output_type": "display_data"
    }
   ],
   "source": [
    "wandb.agent(sweep_id, function=sweep_train, count= sweep_count)"
   ]
  },
  {
   "cell_type": "code",
   "execution_count": 23,
   "id": "432abfaa-0e16-401c-8c4b-26bed42d3854",
   "metadata": {
    "tags": []
   },
   "outputs": [],
   "source": [
    "wandb.finish()"
   ]
  },
  {
   "cell_type": "code",
   "execution_count": null,
   "id": "942456f9-0613-4f2d-9a42-ade33bf07700",
   "metadata": {},
   "outputs": [],
   "source": []
  }
 ],
 "metadata": {
  "kernelspec": {
   "display_name": "Python 3 (ipykernel)",
   "language": "python",
   "name": "python3"
  },
  "language_info": {
   "codemirror_mode": {
    "name": "ipython",
    "version": 3
   },
   "file_extension": ".py",
   "mimetype": "text/x-python",
   "name": "python",
   "nbconvert_exporter": "python",
   "pygments_lexer": "ipython3",
   "version": "3.9.15"
  }
 },
 "nbformat": 4,
 "nbformat_minor": 5
}
